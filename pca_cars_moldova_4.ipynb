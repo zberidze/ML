{
  "nbformat": 4,
  "nbformat_minor": 0,
  "metadata": {
    "colab": {
      "provenance": []
    },
    "kernelspec": {
      "name": "python3",
      "display_name": "Python 3"
    },
    "language_info": {
      "name": "python"
    }
  },
  "cells": [
    {
      "cell_type": "code",
      "source": [
        "\n",
        "import pandas as pd\n",
        "import numpy as np\n",
        "import seaborn as sns\n",
        "import matplotlib.pyplot as plt\n",
        "%matplotlib inline \n",
        "\n",
        "from sklearn.pipeline import Pipeline\n",
        "from sklearn.preprocessing import PolynomialFeatures\n",
        "from sklearn.preprocessing import StandardScaler\n",
        "from sklearn.model_selection import train_test_split\n",
        "from sklearn.decomposition import PCA\n",
        "from sklearn import linear_model\n",
        "from sklearn import metrics\n",
        "\n",
        "from sklearn.linear_model import LogisticRegression\n",
        "from sklearn.metrics import classification_report\n",
        "from sklearn.model_selection import train_test_split\n",
        "from sklearn.model_selection import GridSearchCV\n",
        "from sklearn.multiclass import OneVsRestClassifier\n",
        "from sklearn.metrics import classification_report\n",
        "#from sklearn.model_selection import StratifiedKFold\n",
        "from sklearn.metrics import confusion_matrix\n",
        "from sklearn.metrics import accuracy_score as acc\n",
        "from sklearn.metrics import f1_score as f1\n",
        "from sklearn.impute import SimpleImputer\n",
        "from sklearn.compose import ColumnTransformer\n",
        "\n",
        "from sklearn.ensemble import GradientBoostingRegressor\n",
        "from sklearn.linear_model import LinearRegression\n",
        "from sklearn.linear_model import SGDRegressor\n",
        "\n",
        "from sklearn.metrics import mean_absolute_error, mean_squared_error, r2_score \n",
        "import scipy.stats as stats\n",
        "     "
      ],
      "metadata": {
        "id": "8jYdJPE0YBjR"
      },
      "execution_count": 1,
      "outputs": []
    },
    {
      "cell_type": "code",
      "source": [
        "\n",
        "!pip install category_encoders\n",
        "from category_encoders.ordinal import OrdinalEncoder\n",
        "from category_encoders.one_hot import OneHotEncoder\n",
        "from category_encoders.target_encoder import TargetEncoder"
      ],
      "metadata": {
        "colab": {
          "base_uri": "https://localhost:8080/"
        },
        "id": "HPQkkJBKYSsS",
        "outputId": "d5f58972-a06c-4126-d5da-a8af31f190d3"
      },
      "execution_count": 2,
      "outputs": [
        {
          "output_type": "stream",
          "name": "stdout",
          "text": [
            "Looking in indexes: https://pypi.org/simple, https://us-python.pkg.dev/colab-wheels/public/simple/\n",
            "Requirement already satisfied: category_encoders in /usr/local/lib/python3.8/dist-packages (2.6.0)\n",
            "Requirement already satisfied: numpy>=1.14.0 in /usr/local/lib/python3.8/dist-packages (from category_encoders) (1.21.6)\n",
            "Requirement already satisfied: pandas>=1.0.5 in /usr/local/lib/python3.8/dist-packages (from category_encoders) (1.3.5)\n",
            "Requirement already satisfied: scipy>=1.0.0 in /usr/local/lib/python3.8/dist-packages (from category_encoders) (1.7.3)\n",
            "Requirement already satisfied: scikit-learn>=0.20.0 in /usr/local/lib/python3.8/dist-packages (from category_encoders) (1.0.2)\n",
            "Requirement already satisfied: patsy>=0.5.1 in /usr/local/lib/python3.8/dist-packages (from category_encoders) (0.5.3)\n",
            "Requirement already satisfied: statsmodels>=0.9.0 in /usr/local/lib/python3.8/dist-packages (from category_encoders) (0.12.2)\n",
            "Requirement already satisfied: pytz>=2017.3 in /usr/local/lib/python3.8/dist-packages (from pandas>=1.0.5->category_encoders) (2022.7.1)\n",
            "Requirement already satisfied: python-dateutil>=2.7.3 in /usr/local/lib/python3.8/dist-packages (from pandas>=1.0.5->category_encoders) (2.8.2)\n",
            "Requirement already satisfied: six in /usr/local/lib/python3.8/dist-packages (from patsy>=0.5.1->category_encoders) (1.15.0)\n",
            "Requirement already satisfied: threadpoolctl>=2.0.0 in /usr/local/lib/python3.8/dist-packages (from scikit-learn>=0.20.0->category_encoders) (3.1.0)\n",
            "Requirement already satisfied: joblib>=0.11 in /usr/local/lib/python3.8/dist-packages (from scikit-learn>=0.20.0->category_encoders) (1.2.0)\n"
          ]
        }
      ]
    },
    {
      "cell_type": "code",
      "source": [
        "\n",
        "df = pd.read_csv('/content/df2.csv', delimiter = ',')\n",
        "df=df.drop(\"class\",axis=1)\n",
        "df.head()"
      ],
      "metadata": {
        "colab": {
          "base_uri": "https://localhost:8080/",
          "height": 206
        },
        "id": "TDg-KEHhYT7K",
        "outputId": "974139c4-ee94-4462-a1c5-74b9eee52972"
      },
      "execution_count": 3,
      "outputs": [
        {
          "output_type": "execute_result",
          "data": {
            "text/plain": [
              "       Make         Model      Style  Distance  Engine_capacity(cm3)  \\\n",
              "0    Toyota         Prius  Hatchback  195000.0                1800.0   \n",
              "1   Renault  Grand Scenic  Universal  135000.0                1500.0   \n",
              "2   Renault        Laguna  Universal  110000.0                1500.0   \n",
              "3      Opel         Astra  Universal  200000.0                1600.0   \n",
              "4  Mercedes          Vito   Microvan  300000.0                2200.0   \n",
              "\n",
              "      Fuel_type Transmission  Price(euro)  Age       km_year  prestige  \n",
              "0        Hybrid    Automatic       7750.0   11  17727.272727         2  \n",
              "1        Diesel       Manual       8550.0    8  16875.000000         2  \n",
              "2        Diesel       Manual       6550.0   10  11000.000000         3  \n",
              "3  Metan/Propan       Manual       4100.0   16  12500.000000         3  \n",
              "4        Diesel       Manual       3490.0   22  13636.363636         4  "
            ],
            "text/html": [
              "\n",
              "  <div id=\"df-118e9ac2-3306-45ae-9f9d-331baacb3b80\">\n",
              "    <div class=\"colab-df-container\">\n",
              "      <div>\n",
              "<style scoped>\n",
              "    .dataframe tbody tr th:only-of-type {\n",
              "        vertical-align: middle;\n",
              "    }\n",
              "\n",
              "    .dataframe tbody tr th {\n",
              "        vertical-align: top;\n",
              "    }\n",
              "\n",
              "    .dataframe thead th {\n",
              "        text-align: right;\n",
              "    }\n",
              "</style>\n",
              "<table border=\"1\" class=\"dataframe\">\n",
              "  <thead>\n",
              "    <tr style=\"text-align: right;\">\n",
              "      <th></th>\n",
              "      <th>Make</th>\n",
              "      <th>Model</th>\n",
              "      <th>Style</th>\n",
              "      <th>Distance</th>\n",
              "      <th>Engine_capacity(cm3)</th>\n",
              "      <th>Fuel_type</th>\n",
              "      <th>Transmission</th>\n",
              "      <th>Price(euro)</th>\n",
              "      <th>Age</th>\n",
              "      <th>km_year</th>\n",
              "      <th>prestige</th>\n",
              "    </tr>\n",
              "  </thead>\n",
              "  <tbody>\n",
              "    <tr>\n",
              "      <th>0</th>\n",
              "      <td>Toyota</td>\n",
              "      <td>Prius</td>\n",
              "      <td>Hatchback</td>\n",
              "      <td>195000.0</td>\n",
              "      <td>1800.0</td>\n",
              "      <td>Hybrid</td>\n",
              "      <td>Automatic</td>\n",
              "      <td>7750.0</td>\n",
              "      <td>11</td>\n",
              "      <td>17727.272727</td>\n",
              "      <td>2</td>\n",
              "    </tr>\n",
              "    <tr>\n",
              "      <th>1</th>\n",
              "      <td>Renault</td>\n",
              "      <td>Grand Scenic</td>\n",
              "      <td>Universal</td>\n",
              "      <td>135000.0</td>\n",
              "      <td>1500.0</td>\n",
              "      <td>Diesel</td>\n",
              "      <td>Manual</td>\n",
              "      <td>8550.0</td>\n",
              "      <td>8</td>\n",
              "      <td>16875.000000</td>\n",
              "      <td>2</td>\n",
              "    </tr>\n",
              "    <tr>\n",
              "      <th>2</th>\n",
              "      <td>Renault</td>\n",
              "      <td>Laguna</td>\n",
              "      <td>Universal</td>\n",
              "      <td>110000.0</td>\n",
              "      <td>1500.0</td>\n",
              "      <td>Diesel</td>\n",
              "      <td>Manual</td>\n",
              "      <td>6550.0</td>\n",
              "      <td>10</td>\n",
              "      <td>11000.000000</td>\n",
              "      <td>3</td>\n",
              "    </tr>\n",
              "    <tr>\n",
              "      <th>3</th>\n",
              "      <td>Opel</td>\n",
              "      <td>Astra</td>\n",
              "      <td>Universal</td>\n",
              "      <td>200000.0</td>\n",
              "      <td>1600.0</td>\n",
              "      <td>Metan/Propan</td>\n",
              "      <td>Manual</td>\n",
              "      <td>4100.0</td>\n",
              "      <td>16</td>\n",
              "      <td>12500.000000</td>\n",
              "      <td>3</td>\n",
              "    </tr>\n",
              "    <tr>\n",
              "      <th>4</th>\n",
              "      <td>Mercedes</td>\n",
              "      <td>Vito</td>\n",
              "      <td>Microvan</td>\n",
              "      <td>300000.0</td>\n",
              "      <td>2200.0</td>\n",
              "      <td>Diesel</td>\n",
              "      <td>Manual</td>\n",
              "      <td>3490.0</td>\n",
              "      <td>22</td>\n",
              "      <td>13636.363636</td>\n",
              "      <td>4</td>\n",
              "    </tr>\n",
              "  </tbody>\n",
              "</table>\n",
              "</div>\n",
              "      <button class=\"colab-df-convert\" onclick=\"convertToInteractive('df-118e9ac2-3306-45ae-9f9d-331baacb3b80')\"\n",
              "              title=\"Convert this dataframe to an interactive table.\"\n",
              "              style=\"display:none;\">\n",
              "        \n",
              "  <svg xmlns=\"http://www.w3.org/2000/svg\" height=\"24px\"viewBox=\"0 0 24 24\"\n",
              "       width=\"24px\">\n",
              "    <path d=\"M0 0h24v24H0V0z\" fill=\"none\"/>\n",
              "    <path d=\"M18.56 5.44l.94 2.06.94-2.06 2.06-.94-2.06-.94-.94-2.06-.94 2.06-2.06.94zm-11 1L8.5 8.5l.94-2.06 2.06-.94-2.06-.94L8.5 2.5l-.94 2.06-2.06.94zm10 10l.94 2.06.94-2.06 2.06-.94-2.06-.94-.94-2.06-.94 2.06-2.06.94z\"/><path d=\"M17.41 7.96l-1.37-1.37c-.4-.4-.92-.59-1.43-.59-.52 0-1.04.2-1.43.59L10.3 9.45l-7.72 7.72c-.78.78-.78 2.05 0 2.83L4 21.41c.39.39.9.59 1.41.59.51 0 1.02-.2 1.41-.59l7.78-7.78 2.81-2.81c.8-.78.8-2.07 0-2.86zM5.41 20L4 18.59l7.72-7.72 1.47 1.35L5.41 20z\"/>\n",
              "  </svg>\n",
              "      </button>\n",
              "      \n",
              "  <style>\n",
              "    .colab-df-container {\n",
              "      display:flex;\n",
              "      flex-wrap:wrap;\n",
              "      gap: 12px;\n",
              "    }\n",
              "\n",
              "    .colab-df-convert {\n",
              "      background-color: #E8F0FE;\n",
              "      border: none;\n",
              "      border-radius: 50%;\n",
              "      cursor: pointer;\n",
              "      display: none;\n",
              "      fill: #1967D2;\n",
              "      height: 32px;\n",
              "      padding: 0 0 0 0;\n",
              "      width: 32px;\n",
              "    }\n",
              "\n",
              "    .colab-df-convert:hover {\n",
              "      background-color: #E2EBFA;\n",
              "      box-shadow: 0px 1px 2px rgba(60, 64, 67, 0.3), 0px 1px 3px 1px rgba(60, 64, 67, 0.15);\n",
              "      fill: #174EA6;\n",
              "    }\n",
              "\n",
              "    [theme=dark] .colab-df-convert {\n",
              "      background-color: #3B4455;\n",
              "      fill: #D2E3FC;\n",
              "    }\n",
              "\n",
              "    [theme=dark] .colab-df-convert:hover {\n",
              "      background-color: #434B5C;\n",
              "      box-shadow: 0px 1px 3px 1px rgba(0, 0, 0, 0.15);\n",
              "      filter: drop-shadow(0px 1px 2px rgba(0, 0, 0, 0.3));\n",
              "      fill: #FFFFFF;\n",
              "    }\n",
              "  </style>\n",
              "\n",
              "      <script>\n",
              "        const buttonEl =\n",
              "          document.querySelector('#df-118e9ac2-3306-45ae-9f9d-331baacb3b80 button.colab-df-convert');\n",
              "        buttonEl.style.display =\n",
              "          google.colab.kernel.accessAllowed ? 'block' : 'none';\n",
              "\n",
              "        async function convertToInteractive(key) {\n",
              "          const element = document.querySelector('#df-118e9ac2-3306-45ae-9f9d-331baacb3b80');\n",
              "          const dataTable =\n",
              "            await google.colab.kernel.invokeFunction('convertToInteractive',\n",
              "                                                     [key], {});\n",
              "          if (!dataTable) return;\n",
              "\n",
              "          const docLinkHtml = 'Like what you see? Visit the ' +\n",
              "            '<a target=\"_blank\" href=https://colab.research.google.com/notebooks/data_table.ipynb>data table notebook</a>'\n",
              "            + ' to learn more about interactive tables.';\n",
              "          element.innerHTML = '';\n",
              "          dataTable['output_type'] = 'display_data';\n",
              "          await google.colab.output.renderOutput(dataTable, element);\n",
              "          const docLink = document.createElement('div');\n",
              "          docLink.innerHTML = docLinkHtml;\n",
              "          element.appendChild(docLink);\n",
              "        }\n",
              "      </script>\n",
              "    </div>\n",
              "  </div>\n",
              "  "
            ]
          },
          "metadata": {},
          "execution_count": 3
        }
      ]
    },
    {
      "cell_type": "code",
      "source": [
        "\n",
        "X = df.drop('Price(euro)', axis=1)\n",
        "y = df[\"Price(euro)\"] \n"
      ],
      "metadata": {
        "id": "jVli00dtohyg"
      },
      "execution_count": 4,
      "outputs": []
    },
    {
      "cell_type": "code",
      "source": [
        "numerical_features = X.select_dtypes(include=['int64', 'float64']).columns.tolist()\n",
        "categorical_features = X.select_dtypes(include=['object']).columns.tolist()"
      ],
      "metadata": {
        "id": "N4lchGDAZBPc"
      },
      "execution_count": 5,
      "outputs": []
    },
    {
      "cell_type": "code",
      "source": [
        "display(categorical_features)\n",
        "display(numerical_features)"
      ],
      "metadata": {
        "colab": {
          "base_uri": "https://localhost:8080/",
          "height": 52
        },
        "id": "MVxnq1bsZPfk",
        "outputId": "45606ea6-c280-4a7b-fb99-b91f1bdf5455"
      },
      "execution_count": 6,
      "outputs": [
        {
          "output_type": "display_data",
          "data": {
            "text/plain": [
              "['Make', 'Model', 'Style', 'Fuel_type', 'Transmission']"
            ]
          },
          "metadata": {}
        },
        {
          "output_type": "display_data",
          "data": {
            "text/plain": [
              "['Distance', 'Engine_capacity(cm3)', 'Age', 'km_year', 'prestige']"
            ]
          },
          "metadata": {}
        }
      ]
    },
    {
      "cell_type": "code",
      "source": [
        "numerical_transformer = Pipeline([('scaler',StandardScaler())])\n",
        "\n",
        "ct = ColumnTransformer([('num_transformer', numerical_transformer, numerical_features),\n",
        "                          ('encoder', OrdinalEncoder(), categorical_features)\n",
        "                         ])\n",
        "  # Main pipeline for fitting.\n",
        "pipeline = Pipeline([('column_transformer', ct)])"
      ],
      "metadata": {
        "id": "UxR1ZmNAmyp5"
      },
      "execution_count": 7,
      "outputs": []
    },
    {
      "cell_type": "code",
      "source": [
        "pipe_ful_for_pca = Pipeline([\n",
        "    ('one_hot_encoder_', OrdinalEncoder(cols=categorical_features)),\n",
        "    #('scaler_', CustomScaler(list(num_cols))),\n",
        "    ('scaler_', StandardScaler()),\n",
        "    ])"
      ],
      "metadata": {
        "id": "mZL-uof6HkPv"
      },
      "execution_count": 8,
      "outputs": []
    },
    {
      "cell_type": "code",
      "source": [
        "def fit_lineer_regersion(X, y, print_output=True):\n",
        "\n",
        "  X_train, X_test, y_train, y_test = train_test_split(X, y, test_size=0.25, random_state=42)\n",
        "\n",
        "  X_train=pipeline.fit_transform(X_train)\n",
        "  X_test=pipeline.transform(X_test)\n",
        "\n",
        "  regr = LinearRegression()\n",
        "  regr.fit(X_train, y_train)\n",
        "\n",
        "  y_preds = regr.predict(X_test)\n",
        "  R2=r2_score(y_test, y_preds)\n",
        "    \n",
        "  return R2"
      ],
      "metadata": {
        "id": "9gCdQpcDv5mF"
      },
      "execution_count": 9,
      "outputs": []
    },
    {
      "cell_type": "code",
      "source": [
        "fit_lineer_regersion(X,y)"
      ],
      "metadata": {
        "colab": {
          "base_uri": "https://localhost:8080/"
        },
        "id": "RABEcWvMN8EF",
        "outputId": "a2601969-b480-42af-89f0-4aaa31502200"
      },
      "execution_count": 10,
      "outputs": [
        {
          "output_type": "execute_result",
          "data": {
            "text/plain": [
              "0.5889841541981506"
            ]
          },
          "metadata": {},
          "execution_count": 10
        }
      ]
    },
    {
      "cell_type": "code",
      "source": [
        "numerical_transformer = Pipeline([('poly_features', PolynomialFeatures(degree=2)),\n",
        "                                  ('scaler',StandardScaler()) ])\n",
        "categorical_transformer = Pipeline(steps=[ ('onehot', OrdinalEncoder(handle_unknown='ignore'))])\n",
        "\n",
        "preprocessor_pipeline = ColumnTransformer(transformers=[\n",
        "    ('num', numerical_transformer, numerical_features),\n",
        "    ('cat', categorical_transformer, categorical_features)\n",
        "])\n"
      ],
      "metadata": {
        "id": "ck55ZyFU2_gu"
      },
      "execution_count": 11,
      "outputs": []
    },
    {
      "cell_type": "code",
      "source": [
        "def Polynom_lineer_regersion(X, y, print_output=True):\n",
        "\n",
        "  X_train, X_test, y_train, y_test = train_test_split(X, y, test_size=0.25, random_state=42)\n",
        "\n",
        "  X_train=preprocessor_pipeline.fit_transform(X_train)\n",
        "  X_test=preprocessor_pipeline.transform(X_test)\n",
        "\n",
        "  regr = LinearRegression()\n",
        "  regr.fit(X_train, y_train)\n",
        "\n",
        "  y_preds = regr.predict(X_test)\n",
        "  R2=r2_score(y_test, y_preds)\n",
        "    \n",
        "  return R2"
      ],
      "metadata": {
        "id": "fKlSYGJRPUae"
      },
      "execution_count": 12,
      "outputs": []
    },
    {
      "cell_type": "code",
      "source": [
        "Polynom_lineer_regersion(X,y)"
      ],
      "metadata": {
        "colab": {
          "base_uri": "https://localhost:8080/"
        },
        "id": "1ubP9WeFRXkZ",
        "outputId": "fdc5cf3c-5469-41d8-c5d8-0567f2fb7008"
      },
      "execution_count": 13,
      "outputs": [
        {
          "output_type": "execute_result",
          "data": {
            "text/plain": [
              "0.7458317695804152"
            ]
          },
          "metadata": {},
          "execution_count": 13
        }
      ]
    },
    {
      "cell_type": "code",
      "source": [
        "X.shape"
      ],
      "metadata": {
        "colab": {
          "base_uri": "https://localhost:8080/"
        },
        "id": "2uNIw6DHTWyB",
        "outputId": "fbc791cb-0cc4-4ab8-b8bf-26e6f5c864dc"
      },
      "execution_count": 14,
      "outputs": [
        {
          "output_type": "execute_result",
          "data": {
            "text/plain": [
              "(32074, 10)"
            ]
          },
          "metadata": {},
          "execution_count": 14
        }
      ]
    },
    {
      "cell_type": "code",
      "source": [
        "transformed=pipe_ful_for_pca.fit_transform(X)\n"
      ],
      "metadata": {
        "id": "pgm7vgqlTr0a"
      },
      "execution_count": 15,
      "outputs": []
    },
    {
      "cell_type": "code",
      "source": [
        "transformed.shape"
      ],
      "metadata": {
        "colab": {
          "base_uri": "https://localhost:8080/"
        },
        "id": "c8WBEGeICGRx",
        "outputId": "f9e9c179-7493-4dfb-9824-571d6c38d7ed"
      },
      "execution_count": 16,
      "outputs": [
        {
          "output_type": "execute_result",
          "data": {
            "text/plain": [
              "(32074, 10)"
            ]
          },
          "metadata": {},
          "execution_count": 16
        }
      ]
    },
    {
      "cell_type": "code",
      "source": [
        "pca=PCA(n_components=10)\n",
        "pca.fit(transformed)"
      ],
      "metadata": {
        "colab": {
          "base_uri": "https://localhost:8080/"
        },
        "id": "WdcxKuXXTNML",
        "outputId": "59a26a57-256f-4d28-cd53-06437d15d012"
      },
      "execution_count": 17,
      "outputs": [
        {
          "output_type": "execute_result",
          "data": {
            "text/plain": [
              "PCA(n_components=10)"
            ]
          },
          "metadata": {},
          "execution_count": 17
        }
      ]
    },
    {
      "cell_type": "code",
      "source": [
        "pca.explained_variance_ratio_.cumsum()"
      ],
      "metadata": {
        "colab": {
          "base_uri": "https://localhost:8080/"
        },
        "id": "LIjuTrre6lvn",
        "outputId": "54db426e-ce01-4dd8-9d02-527db07b2a51"
      },
      "execution_count": 18,
      "outputs": [
        {
          "output_type": "execute_result",
          "data": {
            "text/plain": [
              "array([0.2664222 , 0.43265486, 0.56563247, 0.67045264, 0.76432944,\n",
              "       0.84670663, 0.92272674, 0.96603999, 0.98844161, 1.        ])"
            ]
          },
          "metadata": {},
          "execution_count": 18
        }
      ]
    },
    {
      "cell_type": "code",
      "source": [
        "def scree_plot(pca):\n",
        "    num_components = len(pca.explained_variance_ratio_)\n",
        "    ind = np.arange(num_components)\n",
        "    vals = pca.explained_variance_ratio_\n",
        " \n",
        "    plt.figure(figsize=(20, 6))\n",
        "    ax = plt.subplot(111)\n",
        "    cumvals = np.cumsum(vals)\n",
        "    ax.bar(ind, vals)\n",
        "    ax.plot(ind, cumvals)\n",
        "    for i in range(num_components):\n",
        "        ax.annotate(r\"%s%%\" % ((str(round(vals[i]*100,1))[:3])), (ind[i]+0.2, vals[i]), \n",
        "                    va=\"bottom\", \n",
        "                    ha=\"center\", \n",
        "                    fontsize=12)\n",
        " \n",
        "    ax.xaxis.set_tick_params(width=0)\n",
        "    ax.yaxis.set_tick_params(width=1, length=6)\n",
        " \n",
        "    ax.set_xlabel(\"Principal Component\")\n",
        "    ax.set_ylabel(\"Variance Explained (%)\")\n",
        "    plt.title('Explained Variance Per Principal Component')\n",
        "scree_plot(pca)"
      ],
      "metadata": {
        "colab": {
          "base_uri": "https://localhost:8080/",
          "height": 404
        },
        "id": "aiT3GRwdS1mr",
        "outputId": "8ad55a6b-2286-425e-94b8-a9e2634a7d1e"
      },
      "execution_count": 19,
      "outputs": [
        {
          "output_type": "display_data",
          "data": {
            "text/plain": [
              "<Figure size 1440x432 with 1 Axes>"
            ],
            "image/png": "[encoded data removed]"
          },
          "metadata": {
            "needs_background": "light"
          }
        }
      ]
    },
    {
      "cell_type": "code",
      "source": [
        "cum_exp_var = []\n",
        "var_exp = 0\n",
        "for i in pca.explained_variance_ratio_:\n",
        "    var_exp += i\n",
        "    cum_exp_var.append(var_exp)\n",
        "\n",
        "# Plot cumulative explained variance for all PCs\n",
        "\n",
        "fig, ax = plt.subplots(figsize=(8,6))\n",
        "ax.bar(range(1,11), cum_exp_var)\n",
        "ax.set_xlabel('# Principal Components')\n",
        "ax.set_ylabel('% Cumulative Variance Explained');"
      ],
      "metadata": {
        "colab": {
          "base_uri": "https://localhost:8080/",
          "height": 388
        },
        "id": "B1r-Jt8BUoRw",
        "outputId": "93f234fb-b522-4b0e-ebcf-57b266b871f2"
      },
      "execution_count": 20,
      "outputs": [
        {
          "output_type": "display_data",
          "data": {
            "text/plain": [
              "<Figure size 576x432 with 1 Axes>"
            ],
            "image/png": "[encoded data removed]"
          },
          "metadata": {
            "needs_background": "light"
          }
        }
      ]
    },
    {
      "cell_type": "code",
      "source": [
        "#Selecting the Right Number of Dimensions\n",
        "def get_pca_components(pca, var):\n",
        "    cumm_var = pca.explained_variance_ratio_\n",
        "    total_var = 0.\n",
        "    N_COMPONENTS = 0\n",
        "    for i in cumm_var:\n",
        "        N_COMPONENTS += 1\n",
        "        total_var += i\n",
        "        if total_var >= var:\n",
        "            break\n",
        "    return N_COMPONENTS"
      ],
      "metadata": {
        "id": "mRU0_wWsU5BX"
      },
      "execution_count": 21,
      "outputs": []
    },
    {
      "cell_type": "code",
      "source": [
        "n_components = get_pca_components(pca, 0.95)\n",
        "n_components"
      ],
      "metadata": {
        "id": "04NG7niRU9Vk",
        "colab": {
          "base_uri": "https://localhost:8080/"
        },
        "outputId": "991f21a1-be5e-4c3d-cbfb-6e768f9f59be"
      },
      "execution_count": 22,
      "outputs": [
        {
          "output_type": "execute_result",
          "data": {
            "text/plain": [
              "8"
            ]
          },
          "metadata": {},
          "execution_count": 22
        }
      ]
    },
    {
      "cell_type": "code",
      "source": [
        "pca = PCA(n_components=n_components)\n",
        "X_d = pca.fit_transform(transformed)"
      ],
      "metadata": {
        "id": "qfTT2-JEVH3S"
      },
      "execution_count": 23,
      "outputs": []
    },
    {
      "cell_type": "code",
      "source": [
        "X_d.shape"
      ],
      "metadata": {
        "colab": {
          "base_uri": "https://localhost:8080/"
        },
        "id": "CNRvIo2pVN8-",
        "outputId": "8792099a-c4d3-47a3-8753-70f13ee9c4b7"
      },
      "execution_count": 24,
      "outputs": [
        {
          "output_type": "execute_result",
          "data": {
            "text/plain": [
              "(32074, 8)"
            ]
          },
          "metadata": {},
          "execution_count": 24
        }
      ]
    },
    {
      "cell_type": "code",
      "source": [
        "pca.explained_variance_ratio_"
      ],
      "metadata": {
        "colab": {
          "base_uri": "https://localhost:8080/"
        },
        "id": "RpZYnZo0ewJl",
        "outputId": "94a399b6-39b4-457c-8021-9f6c2fe34bd6"
      },
      "execution_count": 25,
      "outputs": [
        {
          "output_type": "execute_result",
          "data": {
            "text/plain": [
              "array([0.2664222 , 0.16623266, 0.13297761, 0.10482018, 0.09387679,\n",
              "       0.08237719, 0.07602011, 0.04331326])"
            ]
          },
          "metadata": {},
          "execution_count": 25
        }
      ]
    },
    {
      "cell_type": "code",
      "source": [
        " \n",
        "pca_df = pd.DataFrame(\n",
        "    data=X_d, \n",
        "    columns=['PC1', 'PC2','PC3','PC4','PC5','PC6','PC7','PC8'])\n",
        "pca_df['target'] = y\n",
        "pca_df['target'] = pca_df['target']\n",
        " \n",
        "pca_df"
      ],
      "metadata": {
        "colab": {
          "base_uri": "https://localhost:8080/",
          "height": 424
        },
        "id": "INmd67eNbzov",
        "outputId": "17b6f0be-000e-440e-e302-68e0058dd75f"
      },
      "execution_count": 26,
      "outputs": [
        {
          "output_type": "execute_result",
          "data": {
            "text/plain": [
              "            PC1       PC2       PC3       PC4       PC5       PC6       PC7  \\\n",
              "0     -0.973548  1.317095 -0.636101 -1.980815  0.218629 -0.264709 -0.993161   \n",
              "1     -0.178254  0.519045 -1.493168 -1.475158  0.431198  0.626769 -0.199949   \n",
              "2      0.620259 -0.017413 -1.181261 -1.593801  0.828765  0.659718 -0.493105   \n",
              "3      1.326404  0.384800 -0.574220 -1.269083  0.158589  0.024061  0.194956   \n",
              "4      1.933474  1.689995  0.734189 -0.823845  0.168727  0.111581 -0.603680   \n",
              "...         ...       ...       ...       ...       ...       ...       ...   \n",
              "32069 -1.169534 -1.091586 -0.125791 -1.236461 -0.451587  0.156345  1.213804   \n",
              "32070  1.218488 -0.508301  0.644972  1.905164 -0.584737  0.757221 -0.400188   \n",
              "32071 -0.490132 -0.862406 -1.739946  1.194683  1.297859 -0.535587 -1.107328   \n",
              "32072  0.467583  1.972302  1.095938  1.788049 -1.446667  2.138161  0.096732   \n",
              "32073  0.728920  1.851543  0.374959 -0.018246  0.180385  1.878821  0.846526   \n",
              "\n",
              "            PC8   target  \n",
              "0      0.786565   7750.0  \n",
              "1     -0.710062   8550.0  \n",
              "2     -0.406614   6550.0  \n",
              "3     -0.444906   4100.0  \n",
              "4     -0.265000   3490.0  \n",
              "...         ...      ...  \n",
              "32069  0.230461  11500.0  \n",
              "32070 -0.066924   4400.0  \n",
              "32071 -0.626156   7000.0  \n",
              "32072 -0.039726   4000.0  \n",
              "32073  0.176107   4000.0  \n",
              "\n",
              "[32074 rows x 9 columns]"
            ],
            "text/html": [
              "\n",
              "  <div id=\"df-4878a6f2-338b-4be7-8690-c623e686f5c2\">\n",
              "    <div class=\"colab-df-container\">\n",
              "      <div>\n",
              "<style scoped>\n",
              "    .dataframe tbody tr th:only-of-type {\n",
              "        vertical-align: middle;\n",
              "    }\n",
              "\n",
              "    .dataframe tbody tr th {\n",
              "        vertical-align: top;\n",
              "    }\n",
              "\n",
              "    .dataframe thead th {\n",
              "        text-align: right;\n",
              "    }\n",
              "</style>\n",
              "<table border=\"1\" class=\"dataframe\">\n",
              "  <thead>\n",
              "    <tr style=\"text-align: right;\">\n",
              "      <th></th>\n",
              "      <th>PC1</th>\n",
              "      <th>PC2</th>\n",
              "      <th>PC3</th>\n",
              "      <th>PC4</th>\n",
              "      <th>PC5</th>\n",
              "      <th>PC6</th>\n",
              "      <th>PC7</th>\n",
              "      <th>PC8</th>\n",
              "      <th>target</th>\n",
              "    </tr>\n",
              "  </thead>\n",
              "  <tbody>\n",
              "    <tr>\n",
              "      <th>0</th>\n",
              "      <td>-0.973548</td>\n",
              "      <td>1.317095</td>\n",
              "      <td>-0.636101</td>\n",
              "      <td>-1.980815</td>\n",
              "      <td>0.218629</td>\n",
              "      <td>-0.264709</td>\n",
              "      <td>-0.993161</td>\n",
              "      <td>0.786565</td>\n",
              "      <td>7750.0</td>\n",
              "    </tr>\n",
              "    <tr>\n",
              "      <th>1</th>\n",
              "      <td>-0.178254</td>\n",
              "      <td>0.519045</td>\n",
              "      <td>-1.493168</td>\n",
              "      <td>-1.475158</td>\n",
              "      <td>0.431198</td>\n",
              "      <td>0.626769</td>\n",
              "      <td>-0.199949</td>\n",
              "      <td>-0.710062</td>\n",
              "      <td>8550.0</td>\n",
              "    </tr>\n",
              "    <tr>\n",
              "      <th>2</th>\n",
              "      <td>0.620259</td>\n",
              "      <td>-0.017413</td>\n",
              "      <td>-1.181261</td>\n",
              "      <td>-1.593801</td>\n",
              "      <td>0.828765</td>\n",
              "      <td>0.659718</td>\n",
              "      <td>-0.493105</td>\n",
              "      <td>-0.406614</td>\n",
              "      <td>6550.0</td>\n",
              "    </tr>\n",
              "    <tr>\n",
              "      <th>3</th>\n",
              "      <td>1.326404</td>\n",
              "      <td>0.384800</td>\n",
              "      <td>-0.574220</td>\n",
              "      <td>-1.269083</td>\n",
              "      <td>0.158589</td>\n",
              "      <td>0.024061</td>\n",
              "      <td>0.194956</td>\n",
              "      <td>-0.444906</td>\n",
              "      <td>4100.0</td>\n",
              "    </tr>\n",
              "    <tr>\n",
              "      <th>4</th>\n",
              "      <td>1.933474</td>\n",
              "      <td>1.689995</td>\n",
              "      <td>0.734189</td>\n",
              "      <td>-0.823845</td>\n",
              "      <td>0.168727</td>\n",
              "      <td>0.111581</td>\n",
              "      <td>-0.603680</td>\n",
              "      <td>-0.265000</td>\n",
              "      <td>3490.0</td>\n",
              "    </tr>\n",
              "    <tr>\n",
              "      <th>...</th>\n",
              "      <td>...</td>\n",
              "      <td>...</td>\n",
              "      <td>...</td>\n",
              "      <td>...</td>\n",
              "      <td>...</td>\n",
              "      <td>...</td>\n",
              "      <td>...</td>\n",
              "      <td>...</td>\n",
              "      <td>...</td>\n",
              "    </tr>\n",
              "    <tr>\n",
              "      <th>32069</th>\n",
              "      <td>-1.169534</td>\n",
              "      <td>-1.091586</td>\n",
              "      <td>-0.125791</td>\n",
              "      <td>-1.236461</td>\n",
              "      <td>-0.451587</td>\n",
              "      <td>0.156345</td>\n",
              "      <td>1.213804</td>\n",
              "      <td>0.230461</td>\n",
              "      <td>11500.0</td>\n",
              "    </tr>\n",
              "    <tr>\n",
              "      <th>32070</th>\n",
              "      <td>1.218488</td>\n",
              "      <td>-0.508301</td>\n",
              "      <td>0.644972</td>\n",
              "      <td>1.905164</td>\n",
              "      <td>-0.584737</td>\n",
              "      <td>0.757221</td>\n",
              "      <td>-0.400188</td>\n",
              "      <td>-0.066924</td>\n",
              "      <td>4400.0</td>\n",
              "    </tr>\n",
              "    <tr>\n",
              "      <th>32071</th>\n",
              "      <td>-0.490132</td>\n",
              "      <td>-0.862406</td>\n",
              "      <td>-1.739946</td>\n",
              "      <td>1.194683</td>\n",
              "      <td>1.297859</td>\n",
              "      <td>-0.535587</td>\n",
              "      <td>-1.107328</td>\n",
              "      <td>-0.626156</td>\n",
              "      <td>7000.0</td>\n",
              "    </tr>\n",
              "    <tr>\n",
              "      <th>32072</th>\n",
              "      <td>0.467583</td>\n",
              "      <td>1.972302</td>\n",
              "      <td>1.095938</td>\n",
              "      <td>1.788049</td>\n",
              "      <td>-1.446667</td>\n",
              "      <td>2.138161</td>\n",
              "      <td>0.096732</td>\n",
              "      <td>-0.039726</td>\n",
              "      <td>4000.0</td>\n",
              "    </tr>\n",
              "    <tr>\n",
              "      <th>32073</th>\n",
              "      <td>0.728920</td>\n",
              "      <td>1.851543</td>\n",
              "      <td>0.374959</td>\n",
              "      <td>-0.018246</td>\n",
              "      <td>0.180385</td>\n",
              "      <td>1.878821</td>\n",
              "      <td>0.846526</td>\n",
              "      <td>0.176107</td>\n",
              "      <td>4000.0</td>\n",
              "    </tr>\n",
              "  </tbody>\n",
              "</table>\n",
              "<p>32074 rows × 9 columns</p>\n",
              "</div>\n",
              "      <button class=\"colab-df-convert\" onclick=\"convertToInteractive('df-4878a6f2-338b-4be7-8690-c623e686f5c2')\"\n",
              "              title=\"Convert this dataframe to an interactive table.\"\n",
              "              style=\"display:none;\">\n",
              "        \n",
              "  <svg xmlns=\"http://www.w3.org/2000/svg\" height=\"24px\"viewBox=\"0 0 24 24\"\n",
              "       width=\"24px\">\n",
              "    <path d=\"M0 0h24v24H0V0z\" fill=\"none\"/>\n",
              "    <path d=\"M18.56 5.44l.94 2.06.94-2.06 2.06-.94-2.06-.94-.94-2.06-.94 2.06-2.06.94zm-11 1L8.5 8.5l.94-2.06 2.06-.94-2.06-.94L8.5 2.5l-.94 2.06-2.06.94zm10 10l.94 2.06.94-2.06 2.06-.94-2.06-.94-.94-2.06-.94 2.06-2.06.94z\"/><path d=\"M17.41 7.96l-1.37-1.37c-.4-.4-.92-.59-1.43-.59-.52 0-1.04.2-1.43.59L10.3 9.45l-7.72 7.72c-.78.78-.78 2.05 0 2.83L4 21.41c.39.39.9.59 1.41.59.51 0 1.02-.2 1.41-.59l7.78-7.78 2.81-2.81c.8-.78.8-2.07 0-2.86zM5.41 20L4 18.59l7.72-7.72 1.47 1.35L5.41 20z\"/>\n",
              "  </svg>\n",
              "      </button>\n",
              "      \n",
              "  <style>\n",
              "    .colab-df-container {\n",
              "      display:flex;\n",
              "      flex-wrap:wrap;\n",
              "      gap: 12px;\n",
              "    }\n",
              "\n",
              "    .colab-df-convert {\n",
              "      background-color: #E8F0FE;\n",
              "      border: none;\n",
              "      border-radius: 50%;\n",
              "      cursor: pointer;\n",
              "      display: none;\n",
              "      fill: #1967D2;\n",
              "      height: 32px;\n",
              "      padding: 0 0 0 0;\n",
              "      width: 32px;\n",
              "    }\n",
              "\n",
              "    .colab-df-convert:hover {\n",
              "      background-color: #E2EBFA;\n",
              "      box-shadow: 0px 1px 2px rgba(60, 64, 67, 0.3), 0px 1px 3px 1px rgba(60, 64, 67, 0.15);\n",
              "      fill: #174EA6;\n",
              "    }\n",
              "\n",
              "    [theme=dark] .colab-df-convert {\n",
              "      background-color: #3B4455;\n",
              "      fill: #D2E3FC;\n",
              "    }\n",
              "\n",
              "    [theme=dark] .colab-df-convert:hover {\n",
              "      background-color: #434B5C;\n",
              "      box-shadow: 0px 1px 3px 1px rgba(0, 0, 0, 0.15);\n",
              "      filter: drop-shadow(0px 1px 2px rgba(0, 0, 0, 0.3));\n",
              "      fill: #FFFFFF;\n",
              "    }\n",
              "  </style>\n",
              "\n",
              "      <script>\n",
              "        const buttonEl =\n",
              "          document.querySelector('#df-4878a6f2-338b-4be7-8690-c623e686f5c2 button.colab-df-convert');\n",
              "        buttonEl.style.display =\n",
              "          google.colab.kernel.accessAllowed ? 'block' : 'none';\n",
              "\n",
              "        async function convertToInteractive(key) {\n",
              "          const element = document.querySelector('#df-4878a6f2-338b-4be7-8690-c623e686f5c2');\n",
              "          const dataTable =\n",
              "            await google.colab.kernel.invokeFunction('convertToInteractive',\n",
              "                                                     [key], {});\n",
              "          if (!dataTable) return;\n",
              "\n",
              "          const docLinkHtml = 'Like what you see? Visit the ' +\n",
              "            '<a target=\"_blank\" href=https://colab.research.google.com/notebooks/data_table.ipynb>data table notebook</a>'\n",
              "            + ' to learn more about interactive tables.';\n",
              "          element.innerHTML = '';\n",
              "          dataTable['output_type'] = 'display_data';\n",
              "          await google.colab.output.renderOutput(dataTable, element);\n",
              "          const docLink = document.createElement('div');\n",
              "          docLink.innerHTML = docLinkHtml;\n",
              "          element.appendChild(docLink);\n",
              "        }\n",
              "      </script>\n",
              "    </div>\n",
              "  </div>\n",
              "  "
            ]
          },
          "metadata": {},
          "execution_count": 26
        }
      ]
    },
    {
      "cell_type": "code",
      "source": [
        "\n",
        "plt.figure(figsize=(10,4))\n",
        "plt.scatter(X_d[:,0],X_d[:,1],X_d[:,2],c=pca_df['target'],cmap=\"plasma\")\n"
      ],
      "metadata": {
        "colab": {
          "base_uri": "https://localhost:8080/",
          "height": 317
        },
        "id": "XkXnbB6cbKPu",
        "outputId": "f22b2ced-b559-4c1b-f4f6-58d18955742a"
      },
      "execution_count": 27,
      "outputs": [
        {
          "output_type": "stream",
          "name": "stderr",
          "text": [
            "/usr/local/lib/python3.8/dist-packages/matplotlib/collections.py:885: RuntimeWarning: invalid value encountered in sqrt\n",
            "  scale = np.sqrt(self._sizes) * dpi / 72.0 * self._factor\n"
          ]
        },
        {
          "output_type": "execute_result",
          "data": {
            "text/plain": [
              "<matplotlib.collections.PathCollection at 0x7fc01c115fd0>"
            ]
          },
          "metadata": {},
          "execution_count": 27
        },
        {
          "output_type": "display_data",
          "data": {
            "text/plain": [
              "<Figure size 720x288 with 1 Axes>"
            ],
            "image/png": "[encoded data removed]"
          },
          "metadata": {
            "needs_background": "light"
          }
        }
      ]
    },
    {
      "cell_type": "code",
      "source": [
        "# Principal components correlation coefficients\n",
        "loadings = pca.components_\n",
        " \n",
        "# Number of features before PCA\n",
        "n_features = pca.n_features_\n",
        " \n",
        "# Feature names before PCA\n",
        "feature_names = X.columns\n",
        " \n",
        "# PC names\n",
        "pc_list = [f'PC{i}' for i in list(range(1, n_features + 1))]\n",
        " \n",
        "# Match PC names to loadings\n",
        "pc_loadings = dict(zip(pc_list, loadings))\n",
        " \n",
        "# Matrix of corr coefs between feature names and PCs\n",
        "loadings_df = pd.DataFrame.from_dict(pc_loadings)\n",
        "loadings_df['feature_names'] = feature_names\n",
        "loadings_df = loadings_df.set_index('feature_names')\n",
        "loadings_df"
      ],
      "metadata": {
        "colab": {
          "base_uri": "https://localhost:8080/",
          "height": 394
        },
        "id": "QaZwdpHGeD1r",
        "outputId": "23a56351-330b-478a-b430-340187a0b139"
      },
      "execution_count": 28,
      "outputs": [
        {
          "output_type": "execute_result",
          "data": {
            "text/plain": [
              "                           PC1       PC2       PC3       PC4       PC5  \\\n",
              "feature_names                                                            \n",
              "Make                  0.053987 -0.315017 -0.078848  0.496508 -0.638518   \n",
              "Model                -0.127903 -0.080212 -0.044256  0.696555  0.521744   \n",
              "Style                -0.171136 -0.045969  0.452647  0.390344  0.069139   \n",
              "Distance              0.199781  0.633556  0.171852  0.194193 -0.248987   \n",
              "Engine_capacity(cm3) -0.227150  0.061771  0.674686 -0.076210 -0.073211   \n",
              "Fuel_type             0.196779 -0.408929  0.056623  0.030569 -0.352521   \n",
              "Transmission          0.436828  0.094139 -0.253123  0.176809  0.171953   \n",
              "Age                   0.496856  0.081340  0.402679  0.004584  0.038289   \n",
              "km_year              -0.279443  0.547291 -0.267421  0.187124 -0.296244   \n",
              "prestige              0.552661  0.069134  0.035482  0.071914  0.069837   \n",
              "\n",
              "                           PC6       PC7       PC8  \n",
              "feature_names                                       \n",
              "Make                  0.076499 -0.474646  0.043086  \n",
              "Model                -0.465922  0.000605  0.012205  \n",
              "Style                 0.673896  0.361655  0.128012  \n",
              "Distance             -0.184000  0.126873  0.094411  \n",
              "Engine_capacity(cm3) -0.229177 -0.280722 -0.531964  \n",
              "Fuel_type            -0.344521  0.706573 -0.207162  \n",
              "Transmission          0.328609 -0.013342 -0.741875  \n",
              "Age                  -0.095167 -0.054382  0.196417  \n",
              "km_year              -0.028553  0.192707 -0.096128  \n",
              "prestige             -0.000250 -0.097453  0.220440  "
            ],
            "text/html": [
              "\n",
              "  <div id=\"df-fe7799e1-3df4-4a56-8697-957434fd1703\">\n",
              "    <div class=\"colab-df-container\">\n",
              "      <div>\n",
              "<style scoped>\n",
              "    .dataframe tbody tr th:only-of-type {\n",
              "        vertical-align: middle;\n",
              "    }\n",
              "\n",
              "    .dataframe tbody tr th {\n",
              "        vertical-align: top;\n",
              "    }\n",
              "\n",
              "    .dataframe thead th {\n",
              "        text-align: right;\n",
              "    }\n",
              "</style>\n",
              "<table border=\"1\" class=\"dataframe\">\n",
              "  <thead>\n",
              "    <tr style=\"text-align: right;\">\n",
              "      <th></th>\n",
              "      <th>PC1</th>\n",
              "      <th>PC2</th>\n",
              "      <th>PC3</th>\n",
              "      <th>PC4</th>\n",
              "      <th>PC5</th>\n",
              "      <th>PC6</th>\n",
              "      <th>PC7</th>\n",
              "      <th>PC8</th>\n",
              "    </tr>\n",
              "    <tr>\n",
              "      <th>feature_names</th>\n",
              "      <th></th>\n",
              "      <th></th>\n",
              "      <th></th>\n",
              "      <th></th>\n",
              "      <th></th>\n",
              "      <th></th>\n",
              "      <th></th>\n",
              "      <th></th>\n",
              "    </tr>\n",
              "  </thead>\n",
              "  <tbody>\n",
              "    <tr>\n",
              "      <th>Make</th>\n",
              "      <td>0.053987</td>\n",
              "      <td>-0.315017</td>\n",
              "      <td>-0.078848</td>\n",
              "      <td>0.496508</td>\n",
              "      <td>-0.638518</td>\n",
              "      <td>0.076499</td>\n",
              "      <td>-0.474646</td>\n",
              "      <td>0.043086</td>\n",
              "    </tr>\n",
              "    <tr>\n",
              "      <th>Model</th>\n",
              "      <td>-0.127903</td>\n",
              "      <td>-0.080212</td>\n",
              "      <td>-0.044256</td>\n",
              "      <td>0.696555</td>\n",
              "      <td>0.521744</td>\n",
              "      <td>-0.465922</td>\n",
              "      <td>0.000605</td>\n",
              "      <td>0.012205</td>\n",
              "    </tr>\n",
              "    <tr>\n",
              "      <th>Style</th>\n",
              "      <td>-0.171136</td>\n",
              "      <td>-0.045969</td>\n",
              "      <td>0.452647</td>\n",
              "      <td>0.390344</td>\n",
              "      <td>0.069139</td>\n",
              "      <td>0.673896</td>\n",
              "      <td>0.361655</td>\n",
              "      <td>0.128012</td>\n",
              "    </tr>\n",
              "    <tr>\n",
              "      <th>Distance</th>\n",
              "      <td>0.199781</td>\n",
              "      <td>0.633556</td>\n",
              "      <td>0.171852</td>\n",
              "      <td>0.194193</td>\n",
              "      <td>-0.248987</td>\n",
              "      <td>-0.184000</td>\n",
              "      <td>0.126873</td>\n",
              "      <td>0.094411</td>\n",
              "    </tr>\n",
              "    <tr>\n",
              "      <th>Engine_capacity(cm3)</th>\n",
              "      <td>-0.227150</td>\n",
              "      <td>0.061771</td>\n",
              "      <td>0.674686</td>\n",
              "      <td>-0.076210</td>\n",
              "      <td>-0.073211</td>\n",
              "      <td>-0.229177</td>\n",
              "      <td>-0.280722</td>\n",
              "      <td>-0.531964</td>\n",
              "    </tr>\n",
              "    <tr>\n",
              "      <th>Fuel_type</th>\n",
              "      <td>0.196779</td>\n",
              "      <td>-0.408929</td>\n",
              "      <td>0.056623</td>\n",
              "      <td>0.030569</td>\n",
              "      <td>-0.352521</td>\n",
              "      <td>-0.344521</td>\n",
              "      <td>0.706573</td>\n",
              "      <td>-0.207162</td>\n",
              "    </tr>\n",
              "    <tr>\n",
              "      <th>Transmission</th>\n",
              "      <td>0.436828</td>\n",
              "      <td>0.094139</td>\n",
              "      <td>-0.253123</td>\n",
              "      <td>0.176809</td>\n",
              "      <td>0.171953</td>\n",
              "      <td>0.328609</td>\n",
              "      <td>-0.013342</td>\n",
              "      <td>-0.741875</td>\n",
              "    </tr>\n",
              "    <tr>\n",
              "      <th>Age</th>\n",
              "      <td>0.496856</td>\n",
              "      <td>0.081340</td>\n",
              "      <td>0.402679</td>\n",
              "      <td>0.004584</td>\n",
              "      <td>0.038289</td>\n",
              "      <td>-0.095167</td>\n",
              "      <td>-0.054382</td>\n",
              "      <td>0.196417</td>\n",
              "    </tr>\n",
              "    <tr>\n",
              "      <th>km_year</th>\n",
              "      <td>-0.279443</td>\n",
              "      <td>0.547291</td>\n",
              "      <td>-0.267421</td>\n",
              "      <td>0.187124</td>\n",
              "      <td>-0.296244</td>\n",
              "      <td>-0.028553</td>\n",
              "      <td>0.192707</td>\n",
              "      <td>-0.096128</td>\n",
              "    </tr>\n",
              "    <tr>\n",
              "      <th>prestige</th>\n",
              "      <td>0.552661</td>\n",
              "      <td>0.069134</td>\n",
              "      <td>0.035482</td>\n",
              "      <td>0.071914</td>\n",
              "      <td>0.069837</td>\n",
              "      <td>-0.000250</td>\n",
              "      <td>-0.097453</td>\n",
              "      <td>0.220440</td>\n",
              "    </tr>\n",
              "  </tbody>\n",
              "</table>\n",
              "</div>\n",
              "      <button class=\"colab-df-convert\" onclick=\"convertToInteractive('df-fe7799e1-3df4-4a56-8697-957434fd1703')\"\n",
              "              title=\"Convert this dataframe to an interactive table.\"\n",
              "              style=\"display:none;\">\n",
              "        \n",
              "  <svg xmlns=\"http://www.w3.org/2000/svg\" height=\"24px\"viewBox=\"0 0 24 24\"\n",
              "       width=\"24px\">\n",
              "    <path d=\"M0 0h24v24H0V0z\" fill=\"none\"/>\n",
              "    <path d=\"M18.56 5.44l.94 2.06.94-2.06 2.06-.94-2.06-.94-.94-2.06-.94 2.06-2.06.94zm-11 1L8.5 8.5l.94-2.06 2.06-.94-2.06-.94L8.5 2.5l-.94 2.06-2.06.94zm10 10l.94 2.06.94-2.06 2.06-.94-2.06-.94-.94-2.06-.94 2.06-2.06.94z\"/><path d=\"M17.41 7.96l-1.37-1.37c-.4-.4-.92-.59-1.43-.59-.52 0-1.04.2-1.43.59L10.3 9.45l-7.72 7.72c-.78.78-.78 2.05 0 2.83L4 21.41c.39.39.9.59 1.41.59.51 0 1.02-.2 1.41-.59l7.78-7.78 2.81-2.81c.8-.78.8-2.07 0-2.86zM5.41 20L4 18.59l7.72-7.72 1.47 1.35L5.41 20z\"/>\n",
              "  </svg>\n",
              "      </button>\n",
              "      \n",
              "  <style>\n",
              "    .colab-df-container {\n",
              "      display:flex;\n",
              "      flex-wrap:wrap;\n",
              "      gap: 12px;\n",
              "    }\n",
              "\n",
              "    .colab-df-convert {\n",
              "      background-color: #E8F0FE;\n",
              "      border: none;\n",
              "      border-radius: 50%;\n",
              "      cursor: pointer;\n",
              "      display: none;\n",
              "      fill: #1967D2;\n",
              "      height: 32px;\n",
              "      padding: 0 0 0 0;\n",
              "      width: 32px;\n",
              "    }\n",
              "\n",
              "    .colab-df-convert:hover {\n",
              "      background-color: #E2EBFA;\n",
              "      box-shadow: 0px 1px 2px rgba(60, 64, 67, 0.3), 0px 1px 3px 1px rgba(60, 64, 67, 0.15);\n",
              "      fill: #174EA6;\n",
              "    }\n",
              "\n",
              "    [theme=dark] .colab-df-convert {\n",
              "      background-color: #3B4455;\n",
              "      fill: #D2E3FC;\n",
              "    }\n",
              "\n",
              "    [theme=dark] .colab-df-convert:hover {\n",
              "      background-color: #434B5C;\n",
              "      box-shadow: 0px 1px 3px 1px rgba(0, 0, 0, 0.15);\n",
              "      filter: drop-shadow(0px 1px 2px rgba(0, 0, 0, 0.3));\n",
              "      fill: #FFFFFF;\n",
              "    }\n",
              "  </style>\n",
              "\n",
              "      <script>\n",
              "        const buttonEl =\n",
              "          document.querySelector('#df-fe7799e1-3df4-4a56-8697-957434fd1703 button.colab-df-convert');\n",
              "        buttonEl.style.display =\n",
              "          google.colab.kernel.accessAllowed ? 'block' : 'none';\n",
              "\n",
              "        async function convertToInteractive(key) {\n",
              "          const element = document.querySelector('#df-fe7799e1-3df4-4a56-8697-957434fd1703');\n",
              "          const dataTable =\n",
              "            await google.colab.kernel.invokeFunction('convertToInteractive',\n",
              "                                                     [key], {});\n",
              "          if (!dataTable) return;\n",
              "\n",
              "          const docLinkHtml = 'Like what you see? Visit the ' +\n",
              "            '<a target=\"_blank\" href=https://colab.research.google.com/notebooks/data_table.ipynb>data table notebook</a>'\n",
              "            + ' to learn more about interactive tables.';\n",
              "          element.innerHTML = '';\n",
              "          dataTable['output_type'] = 'display_data';\n",
              "          await google.colab.output.renderOutput(dataTable, element);\n",
              "          const docLink = document.createElement('div');\n",
              "          docLink.innerHTML = docLinkHtml;\n",
              "          element.appendChild(docLink);\n",
              "        }\n",
              "      </script>\n",
              "    </div>\n",
              "  </div>\n",
              "  "
            ]
          },
          "metadata": {},
          "execution_count": 28
        }
      ]
    },
    {
      "cell_type": "code",
      "source": [
        "pca.components_.shape"
      ],
      "metadata": {
        "colab": {
          "base_uri": "https://localhost:8080/"
        },
        "id": "ZSXPxCt3avau",
        "outputId": "8c428aa4-2e34-49af-9a01-70a25c5f92e4"
      },
      "execution_count": 29,
      "outputs": [
        {
          "output_type": "execute_result",
          "data": {
            "text/plain": [
              "(8, 10)"
            ]
          },
          "metadata": {},
          "execution_count": 29
        }
      ]
    },
    {
      "cell_type": "code",
      "source": [
        "pca_data=pd.DataFrame(pca.components_,columns=feature_names)\n",
        "plt.figure(figsize=(10,4))\n",
        "sns.heatmap(pca_data,cmap='plasma')"
      ],
      "metadata": {
        "colab": {
          "base_uri": "https://localhost:8080/",
          "height": 383
        },
        "id": "ITfFg6CgYk3o",
        "outputId": "28dec10e-1c27-4229-8f56-cf3a98199bfd"
      },
      "execution_count": 30,
      "outputs": [
        {
          "output_type": "execute_result",
          "data": {
            "text/plain": [
              "<matplotlib.axes._subplots.AxesSubplot at 0x7fc01c0f2a60>"
            ]
          },
          "metadata": {},
          "execution_count": 30
        },
        {
          "output_type": "display_data",
          "data": {
            "text/plain": [
              "<Figure size 720x288 with 2 Axes>"
            ],
            "image/png": "[encoded data removed]"
          },
          "metadata": {
            "needs_background": "light"
          }
        }
      ]
    },
    {
      "cell_type": "code",
      "source": [
        "def lineer_regersion(X, y, print_output=True):\n",
        "  \n",
        "\n",
        "  X_train, X_test, y_train, y_test = train_test_split(X, y, test_size=0.25, random_state=42)\n",
        "\n",
        "  X_train=pipeline.fit_transform(X_train)\n",
        "  X_test=pipeline.transform(X_test)\n",
        "\n",
        "  pca = PCA(n_components=8)\n",
        "  pc_X_train = pca.fit_transform(X_train)\n",
        "  pc_X_test = pca.transform(X_test)\n",
        "\n",
        "  regr = LinearRegression()\n",
        "  regr.fit(pc_X_train, y_train)\n",
        "\n",
        "  y_preds = regr.predict(pc_X_test)\n",
        "  R2=r2_score(y_test, y_preds)\n",
        "    \n",
        "  return R2"
      ],
      "metadata": {
        "id": "kWF-ua8CgHkn"
      },
      "execution_count": 31,
      "outputs": []
    },
    {
      "cell_type": "code",
      "source": [
        "lineer_regersion(X,y)"
      ],
      "metadata": {
        "colab": {
          "base_uri": "https://localhost:8080/"
        },
        "id": "xttI3E1GVfjI",
        "outputId": "50f48422-c014-4945-887a-aec0079e3229"
      },
      "execution_count": 32,
      "outputs": [
        {
          "output_type": "execute_result",
          "data": {
            "text/plain": [
              "0.5869953543179595"
            ]
          },
          "metadata": {},
          "execution_count": 32
        }
      ]
    },
    {
      "cell_type": "code",
      "source": [
        "import warnings\n",
        "warnings.filterwarnings('ignore')"
      ],
      "metadata": {
        "id": "HQtmn9ivlHih"
      },
      "execution_count": 33,
      "outputs": []
    },
    {
      "cell_type": "code",
      "source": [
        "\n",
        "from sklearn.model_selection import cross_validate\n",
        "n_components = 2\n",
        "pipe_pca = Pipeline([\n",
        "    ('cat_encoder_', OrdinalEncoder(cols=categorical_features)),\n",
        "    ('poly_featurizer_', PolynomialFeatures(degree=1)),\n",
        "     ('scaler_', StandardScaler()),\n",
        "    ('selector_', PCA(n_components=n_components)), \n",
        "    ('model_', LinearRegression() )])\n",
        "\n",
        "cv_res5 = cross_validate(pipe_pca, X, y, cv=5, scoring='r2', return_train_score=True)\n",
        "cv_res5"
      ],
      "metadata": {
        "colab": {
          "base_uri": "https://localhost:8080/"
        },
        "id": "1MQDzhJOhzHX",
        "outputId": "11e194ac-1f78-49a9-8809-f23d4b0b550e"
      },
      "execution_count": 34,
      "outputs": [
        {
          "output_type": "execute_result",
          "data": {
            "text/plain": [
              "{'fit_time': array([0.36956549, 0.3499794 , 0.40620875, 0.54915667, 0.63775992]),\n",
              " 'score_time': array([0.07895255, 0.08432841, 0.09717059, 0.16837549, 0.09396982]),\n",
              " 'test_score': array([0.57405383, 0.49395271, 0.53282743, 0.49912256, 0.52459527]),\n",
              " 'train_score': array([0.52819348, 0.53802818, 0.53281677, 0.53796063, 0.53173387])}"
            ]
          },
          "metadata": {},
          "execution_count": 34
        }
      ]
    },
    {
      "cell_type": "code",
      "source": [
        "cv_res5['test_score'].mean()"
      ],
      "metadata": {
        "colab": {
          "base_uri": "https://localhost:8080/"
        },
        "id": "DsYVG_tsjWk6",
        "outputId": "d1cce4c8-4825-4180-9c13-799ea6c24573"
      },
      "execution_count": 35,
      "outputs": [
        {
          "output_type": "execute_result",
          "data": {
            "text/plain": [
              "0.5249103577367575"
            ]
          },
          "metadata": {},
          "execution_count": 35
        }
      ]
    },
    {
      "cell_type": "markdown",
      "source": [
        "Для простых моделей тренировочная и валидационная ошибка находятся где-то рядом, и они велики. Это говорит о том, что модель недообучилась: то есть она не имеет достаточное кол-во параметров."
      ],
      "metadata": {
        "id": "xnH5grf2oRtI"
      }
    },
    {
      "cell_type": "markdown",
      "source": [
        " для небольшого объема данных ошибки на обучающей выборке и в процессе кросс-валидации довольно сильно отличаются, что указывает на переобучение. Для той же модели, но с большим объемом данных ошибки \"сходятся\", что указывается на недообучение."
      ],
      "metadata": {
        "id": "IZtUVQaGoQUI"
      }
    },
    {
      "cell_type": "code",
      "source": [
        "numerical_transformer = Pipeline([('poly_features', PolynomialFeatures(degree=2)),\n",
        "                                  ('scaler',StandardScaler()) ])\n",
        "categorical_transformer = Pipeline(steps=[ ('onehot', OrdinalEncoder(handle_unknown='ignore'))])\n",
        "\n",
        "preprocessor_pipeline = ColumnTransformer(transformers=[\n",
        "    ('num', numerical_transformer, numerical_features),\n",
        "    ('cat', categorical_transformer, categorical_features)\n",
        "])\n"
      ],
      "metadata": {
        "id": "O7WVhfmmzZUy"
      },
      "execution_count": 36,
      "outputs": []
    },
    {
      "cell_type": "code",
      "source": [
        "def Polynom_regersion(X, y,n_components,print_output=True):\n",
        "\n",
        "  X_train, X_test, y_train, y_test = train_test_split(X, y, test_size=0.25, random_state=42)\n",
        "\n",
        "  pca = PCA(n_components=n_components)\n",
        "\n",
        "  X_train=preprocessor_pipeline.fit_transform(X_train)\n",
        "  X_test=preprocessor_pipeline.transform(X_test)\n",
        "\n",
        "  pc_X_train = pca.fit_transform(X_train)\n",
        "  pc_X_test = pca.transform(X_test)\n",
        "\n",
        "  regr = LinearRegression()\n",
        "  regr.fit(pc_X_train, y_train)\n",
        "\n",
        "  y_preds = regr.predict(pc_X_test)\n",
        "  R2=r2_score(y_test, y_preds)\n",
        "    \n",
        "  return R2"
      ],
      "metadata": {
        "id": "Ut8p3z5Ruhl-"
      },
      "execution_count": 37,
      "outputs": []
    },
    {
      "cell_type": "code",
      "source": [
        "numerical_transformer = Pipeline([('poly_featurizer_', PolynomialFeatures(degree=2))])\n",
        "\n",
        "ct = ColumnTransformer([('num_transformer', numerical_transformer, numerical_features),\n",
        "                          ('encoder', OrdinalEncoder(), categorical_features)\n",
        "                         ])\n",
        "pipe_ful_for_pca=Pipeline([('column_transformer', ct),\n",
        "                   ('scaler_', StandardScaler())])"
      ],
      "metadata": {
        "id": "PByjYTcs39vO"
      },
      "execution_count": 38,
      "outputs": []
    },
    {
      "cell_type": "code",
      "source": [
        "X_new=pipe_ful_for_pca.fit_transform(X)\n",
        "X_new.shape"
      ],
      "metadata": {
        "colab": {
          "base_uri": "https://localhost:8080/"
        },
        "id": "QaH10v0G2ERT",
        "outputId": "b87cf09a-27c8-4806-8a97-edfe37b9edc2"
      },
      "execution_count": 39,
      "outputs": [
        {
          "output_type": "execute_result",
          "data": {
            "text/plain": [
              "(32074, 26)"
            ]
          },
          "metadata": {},
          "execution_count": 39
        }
      ]
    },
    {
      "cell_type": "code",
      "source": [
        "\n",
        "pca=PCA(n_components=26)\n",
        "pca.fit(X_new)\n",
        "scree_plot(pca)"
      ],
      "metadata": {
        "colab": {
          "base_uri": "https://localhost:8080/",
          "height": 404
        },
        "id": "nwTClhoy1wdH",
        "outputId": "95578f3f-0418-4a7d-d8e1-3d45131b75d0"
      },
      "execution_count": 40,
      "outputs": [
        {
          "output_type": "display_data",
          "data": {
            "text/plain": [
              "<Figure size 1440x432 with 1 Axes>"
            ],
            "image/png": "[encoded data removed]"
          },
          "metadata": {
            "needs_background": "light"
          }
        }
      ]
    },
    {
      "cell_type": "code",
      "source": [
        "\n",
        "n_components = get_pca_components(pca, 0.95)\n",
        "n_components"
      ],
      "metadata": {
        "id": "phycKbpQ4XBg",
        "colab": {
          "base_uri": "https://localhost:8080/"
        },
        "outputId": "0a130f3a-674b-40d6-8471-a6ebc8c4131b"
      },
      "execution_count": 41,
      "outputs": [
        {
          "output_type": "execute_result",
          "data": {
            "text/plain": [
              "9"
            ]
          },
          "metadata": {},
          "execution_count": 41
        }
      ]
    },
    {
      "cell_type": "code",
      "source": [
        "Polynom_regersion(X,y,n_components)"
      ],
      "metadata": {
        "colab": {
          "base_uri": "https://localhost:8080/"
        },
        "id": "rH2Yxzv8ljxq",
        "outputId": "d8f0e6c8-836e-4b79-e761-ea840766a2af"
      },
      "execution_count": 42,
      "outputs": [
        {
          "output_type": "execute_result",
          "data": {
            "text/plain": [
              "0.5487226561071527"
            ]
          },
          "metadata": {},
          "execution_count": 42
        }
      ]
    },
    {
      "cell_type": "code",
      "source": [
        "n_components = 9\n",
        "pipe_pca = Pipeline([('column_transformer', ct),\n",
        "                     ('selector_', PCA(n_components=n_components)),\n",
        "                     ('linear_regression', LinearRegression() ) \n",
        "     ])\n",
        "\n",
        "cv_res5 = cross_validate(pipe_pca, X, y, cv=5, scoring='r2', return_train_score=True)\n",
        "cv_res5"
      ],
      "metadata": {
        "colab": {
          "base_uri": "https://localhost:8080/"
        },
        "id": "Kq50GQKkvjT6",
        "outputId": "0d825cd6-9a58-4dcd-9cf4-a3a3cd365c23"
      },
      "execution_count": 43,
      "outputs": [
        {
          "output_type": "execute_result",
          "data": {
            "text/plain": [
              "{'fit_time': array([0.69343209, 0.68324995, 0.63826823, 0.78329682, 0.54776788]),\n",
              " 'score_time': array([0.1216507 , 0.09171963, 0.09632707, 0.10333896, 0.05717373]),\n",
              " 'test_score': array([0.69975743, 0.59379216, 0.59989324, 0.60136052, 0.61569097]),\n",
              " 'train_score': array([0.61709595, 0.63967151, 0.64050549, 0.63857114, 0.63459634])}"
            ]
          },
          "metadata": {},
          "execution_count": 43
        }
      ]
    },
    {
      "cell_type": "code",
      "source": [
        "cv_res5['test_score'].mean()"
      ],
      "metadata": {
        "colab": {
          "base_uri": "https://localhost:8080/"
        },
        "id": "1QLBuPTAwbBP",
        "outputId": "6919e61b-de23-4499-d1c9-cb2e018c1a3c"
      },
      "execution_count": 44,
      "outputs": [
        {
          "output_type": "execute_result",
          "data": {
            "text/plain": [
              "0.6220988629213935"
            ]
          },
          "metadata": {},
          "execution_count": 44
        }
      ]
    },
    {
      "cell_type": "code",
      "source": [
        "\n",
        "n_component = [2,4,6,9,12,15,18]\n",
        "\n",
        "r2_score1=[]\n",
        "r2_score2=[]\n",
        "for num in n_component:\n",
        "  degree=num\n",
        "  pipe_pca = Pipeline([('column_transformer', ct),\n",
        "                     ('selector_', PCA(n_components=degree)),\n",
        "                     ('linear_regression', LinearRegression() ) \n",
        "     ])\n",
        "  cv_res5 = cross_validate(pipe_pca, X, y, cv=5, scoring='r2', return_train_score=True)\n",
        "  r2_score1.append(cv_res5[\"test_score\"].mean())\n",
        "  r2_score2.append(cv_res5[\"train_score\"].mean())"
      ],
      "metadata": {
        "id": "kv4SRdy1EQN7"
      },
      "execution_count": 45,
      "outputs": []
    },
    {
      "cell_type": "code",
      "source": [
        "r2_score1"
      ],
      "metadata": {
        "colab": {
          "base_uri": "https://localhost:8080/"
        },
        "id": "an2LCOxPFlJ7",
        "outputId": "27a6f957-08aa-4558-d8fe-be1f5beef93a"
      },
      "execution_count": 46,
      "outputs": [
        {
          "output_type": "execute_result",
          "data": {
            "text/plain": [
              "[0.11999027540042233,\n",
              " 0.16856907736367882,\n",
              " 0.5779285612781828,\n",
              " 0.622098862921389,\n",
              " 0.6719555579361944,\n",
              " 0.7139528285643092,\n",
              " 0.715829942929054]"
            ]
          },
          "metadata": {},
          "execution_count": 46
        }
      ]
    },
    {
      "cell_type": "code",
      "source": [
        "r2_score2"
      ],
      "metadata": {
        "colab": {
          "base_uri": "https://localhost:8080/"
        },
        "id": "yJLWXrEqaHOQ",
        "outputId": "071c1968-6194-4a47-b106-40b98842d351"
      },
      "execution_count": 47,
      "outputs": [
        {
          "output_type": "execute_result",
          "data": {
            "text/plain": [
              "[0.14550398381375754,\n",
              " 0.1948188534643958,\n",
              " 0.5909048614398176,\n",
              " 0.6340880862670074,\n",
              " 0.6830935095483686,\n",
              " 0.7231339641763587,\n",
              " 0.7251604928901726]"
            ]
          },
          "metadata": {},
          "execution_count": 47
        }
      ]
    },
    {
      "cell_type": "code",
      "source": [
        "plt.scatter(n_component,r2_score1, color=\"green\")\n",
        "plt.scatter(n_component,r2_score2, color=\"green\")\n",
        "plt.plot(n_component,r2_score1, color=\"red\") \n",
        "plt.plot(n_component,r2_score2, color=\"red\")\n",
        "plt.title('R_score',fontsize=20)\n",
        "plt.show()\n",
        "     "
      ],
      "metadata": {
        "colab": {
          "base_uri": "https://localhost:8080/",
          "height": 285
        },
        "id": "dchgJ4QOwf6p",
        "outputId": "1246c223-7485-4110-decf-50cb587dc07d"
      },
      "execution_count": 48,
      "outputs": [
        {
          "output_type": "display_data",
          "data": {
            "text/plain": [
              "<Figure size 432x288 with 1 Axes>"
            ],
            "image/png": "[encoded data removed]"
          },
          "metadata": {
            "needs_background": "light"
          }
        }
      ]
    },
    {
      "cell_type": "code",
      "source": [
        "n_components=16"
      ],
      "metadata": {
        "id": "lxB-QSqDqyKK"
      },
      "execution_count": 49,
      "outputs": []
    },
    {
      "cell_type": "code",
      "source": [
        "Polynom_regersion(X, y,n_components)"
      ],
      "metadata": {
        "colab": {
          "base_uri": "https://localhost:8080/"
        },
        "id": "WYXkxgihqq-4",
        "outputId": "550da61b-c168-44e2-b62a-e3e71f74172d"
      },
      "execution_count": 50,
      "outputs": [
        {
          "output_type": "execute_result",
          "data": {
            "text/plain": [
              "0.7367757183393366"
            ]
          },
          "metadata": {},
          "execution_count": 50
        }
      ]
    },
    {
      "cell_type": "code",
      "source": [
        "numerical_transformer = Pipeline([('poly_featurizer_', PolynomialFeatures(degree=4))])\n",
        "\n",
        "ct = ColumnTransformer([('num_transformer', numerical_transformer, numerical_features),\n",
        "                          ('encoder', OrdinalEncoder(), categorical_features)\n",
        "                         ])\n",
        "pipe_ful_for_pca=Pipeline([('column_transformer', ct),\n",
        "                   ('scaler_', StandardScaler())])"
      ],
      "metadata": {
        "id": "1kYERKd1YMPu"
      },
      "execution_count": 51,
      "outputs": []
    },
    {
      "cell_type": "code",
      "source": [
        "numerical_transformer = Pipeline([('poly_featurizer_', PolynomialFeatures(degree=4)),\n",
        "                                   ('scaler_', StandardScaler())])\n",
        "\n",
        "ct = ColumnTransformer([('num_transformer', numerical_transformer, numerical_features),\n",
        "                          ('encoder', OrdinalEncoder(), categorical_features)\n",
        "                         ])\n",
        "pipeline=Pipeline([('column_transformer', ct)])"
      ],
      "metadata": {
        "id": "c6EDXLEcM69T"
      },
      "execution_count": 52,
      "outputs": []
    },
    {
      "cell_type": "code",
      "source": [
        "def Polynom_regersion1(X, y, n,print_output=True):\n",
        "\n",
        "  X_train, X_test, y_train, y_test = train_test_split(X, y, test_size=0.25, random_state=42)\n",
        "\n",
        "  pca = PCA(n_components=n)\n",
        "\n",
        "  X_train=pipeline.fit_transform(X_train)\n",
        "  X_test=pipeline.transform(X_test)\n",
        "\n",
        "  pc_X_train = pca.fit_transform(X_train)\n",
        "  pc_X_test = pca.transform(X_test)\n",
        "\n",
        "  regr = LinearRegression()\n",
        "  regr.fit(pc_X_train, y_train)\n",
        "\n",
        "  y_preds = regr.predict(pc_X_test)\n",
        "  R2=r2_score(y_test, y_preds)\n",
        "    \n",
        "  return R2"
      ],
      "metadata": {
        "id": "dkmPj-YmX8y8"
      },
      "execution_count": 53,
      "outputs": []
    },
    {
      "cell_type": "code",
      "source": [
        "\n",
        "X_new=pipe_ful_for_pca.fit_transform(X)\n",
        "display(X_new.shape)\n"
      ],
      "metadata": {
        "colab": {
          "base_uri": "https://localhost:8080/",
          "height": 34
        },
        "id": "SMZYhmA2KTBj",
        "outputId": "0f1f3863-56d7-4af0-ae35-56057fc319fb"
      },
      "execution_count": 54,
      "outputs": [
        {
          "output_type": "display_data",
          "data": {
            "text/plain": [
              "(32074, 131)"
            ]
          },
          "metadata": {}
        }
      ]
    },
    {
      "cell_type": "code",
      "source": [
        "\n",
        "pca=PCA(n_components=30)\n",
        "pca.fit(X_new)\n",
        "plt.figure(figsize=(20,10))\n",
        "scree_plot(pca)"
      ],
      "metadata": {
        "colab": {
          "base_uri": "https://localhost:8080/",
          "height": 421
        },
        "id": "aIXidor7Kl9n",
        "outputId": "63907d61-0411-41ff-bd7d-b45a2a0835d9"
      },
      "execution_count": 55,
      "outputs": [
        {
          "output_type": "display_data",
          "data": {
            "text/plain": [
              "<Figure size 1440x720 with 0 Axes>"
            ]
          },
          "metadata": {}
        },
        {
          "output_type": "display_data",
          "data": {
            "text/plain": [
              "<Figure size 1440x432 with 1 Axes>"
            ],
            "image/png": "[encoded data removed]"
          },
          "metadata": {
            "needs_background": "light"
          }
        }
      ]
    },
    {
      "cell_type": "code",
      "source": [
        "n_components = get_pca_components(pca, 0.95)\n",
        "n_components"
      ],
      "metadata": {
        "id": "Xxl8HWlUKqks",
        "colab": {
          "base_uri": "https://localhost:8080/"
        },
        "outputId": "7ff2b4be-845c-4dcc-89b2-aa78b4a69334"
      },
      "execution_count": 56,
      "outputs": [
        {
          "output_type": "execute_result",
          "data": {
            "text/plain": [
              "11"
            ]
          },
          "metadata": {},
          "execution_count": 56
        }
      ]
    },
    {
      "cell_type": "code",
      "source": [
        "Polynom_regersion1(X,y,11)"
      ],
      "metadata": {
        "colab": {
          "base_uri": "https://localhost:8080/"
        },
        "id": "Hk-EYe4VMsD4",
        "outputId": "73fcbf59-167e-4237-e2bd-13b528c6db43"
      },
      "execution_count": 57,
      "outputs": [
        {
          "output_type": "execute_result",
          "data": {
            "text/plain": [
              "0.5603948704648638"
            ]
          },
          "metadata": {},
          "execution_count": 57
        }
      ]
    },
    {
      "cell_type": "code",
      "source": [
        "\n",
        "n_component = [16,18,23,27,30,35,40,45,50,55,60]\n",
        "\n",
        "r2_score1=[]\n",
        "r2_score2=[]\n",
        "for num in n_component:\n",
        "  degree=num\n",
        "  pipe_pca = Pipeline([('column_transformer', ct),\n",
        "                     ('selector_', PCA(n_components=degree)),\n",
        "                     ('linear_regression', LinearRegression() ) \n",
        "     ])\n",
        "  cv_res5 = cross_validate(pipe_pca, X, y, cv=5, scoring='r2', return_train_score=True)\n",
        "  r2_score1.append(cv_res5[\"test_score\"].mean())\n",
        "  r2_score2.append(cv_res5[\"train_score\"].mean())"
      ],
      "metadata": {
        "id": "ShtUMkfNK49p"
      },
      "execution_count": 58,
      "outputs": []
    },
    {
      "cell_type": "code",
      "source": [
        "plt.scatter(n_component,r2_score1, color=\"green\")\n",
        "plt.scatter(n_component,r2_score2, color=\"green\")\n",
        "plt.plot(n_component,r2_score1, color=\"red\") \n",
        "plt.plot(n_component,r2_score2, color=\"red\")\n",
        "plt.title('R_score',fontsize=20)\n",
        "plt.show()\n",
        "     "
      ],
      "metadata": {
        "colab": {
          "base_uri": "https://localhost:8080/",
          "height": 285
        },
        "id": "TScLGM_HLHE0",
        "outputId": "563aeeb3-4eab-4b18-ce61-da907f55a172"
      },
      "execution_count": 59,
      "outputs": [
        {
          "output_type": "display_data",
          "data": {
            "text/plain": [
              "<Figure size 432x288 with 1 Axes>"
            ],
            "image/png": "[encoded data removed]"
          },
          "metadata": {
            "needs_background": "light"
          }
        }
      ]
    },
    {
      "cell_type": "code",
      "source": [
        "Polynom_regersion1(X,y,60)"
      ],
      "metadata": {
        "colab": {
          "base_uri": "https://localhost:8080/"
        },
        "id": "LpI59NrdL2PN",
        "outputId": "c870de11-a6f7-48a1-f062-3d23cc4fdb52"
      },
      "execution_count": 60,
      "outputs": [
        {
          "output_type": "execute_result",
          "data": {
            "text/plain": [
              "0.8072837374437611"
            ]
          },
          "metadata": {},
          "execution_count": 60
        }
      ]
    },
    {
      "cell_type": "code",
      "source": [
        "X2=pipeline.fit_transform(X)\n",
        "X2=pd.DataFrame(X2)\n",
        "def do_pca(n_components,X):\n",
        "  pca=PCA(n_components)\n",
        "  X_pca=pca.fit_transform(X2)\n",
        "  return pca,X_pca\n"
      ],
      "metadata": {
        "id": "CSksfcsv5cGi"
      },
      "execution_count": 61,
      "outputs": []
    },
    {
      "cell_type": "code",
      "source": [
        "def fit_L_R(X, y, print_output=True):\n",
        "    X_train, X_test, y_train, y_test = train_test_split(X, y, \n",
        "                                                        test_size=0.2, \n",
        "                                                        random_state=42)\n",
        "\n",
        "    clf =LinearRegression()\n",
        "    clf.fit(X_train, y_train)\n",
        "\n",
        "    y_preds = clf.predict(X_test)\n",
        "\n",
        "    R2=r2_score(y_test, y_preds)\n",
        "    \n",
        "    return R2\n",
        "\n",
        "   \n",
        "acc_list, pc_list = [], []\n",
        "for pc in range(2,X2.shape[1]):\n",
        "    pca, X_pca = do_pca(pc,X2)\n",
        "    acc = fit_L_R(X_pca,y)\n",
        "    acc_list.append(acc)\n",
        "    pc_list.append(pc)\n",
        "\n",
        "plt.figure(figsize=[12,9])\n",
        "plt.scatter(pc_list, acc_list)\n",
        "plt.title(' Number of Principal Components')\n",
        "plt.xlabel('Principal Components')\n",
        "plt.ylabel('R2');\n"
      ],
      "metadata": {
        "colab": {
          "base_uri": "https://localhost:8080/",
          "height": 567
        },
        "id": "C7pKrADpwooT",
        "outputId": "883d5ada-b6f6-4bf7-be6f-5375c74bfd4f"
      },
      "execution_count": 62,
      "outputs": [
        {
          "output_type": "display_data",
          "data": {
            "text/plain": [
              "<Figure size 864x648 with 1 Axes>"
            ],
            "image/png": "[encoded data removed]"
          },
          "metadata": {
            "needs_background": "light"
          }
        }
      ]
    },
    {
      "cell_type": "code",
      "source": [
        "numerical_transformer = Pipeline([('poly_features', PolynomialFeatures(degree=2)),\n",
        "                                  ('scaler',StandardScaler()) ])\n",
        "categorical_transformer = Pipeline(steps=[ ('onehot', OrdinalEncoder(handle_unknown='ignore'))])\n",
        "\n",
        "preprocessor_pipeline = ColumnTransformer(transformers=[\n",
        "    ('num', numerical_transformer, numerical_features),\n",
        "    ('cat', categorical_transformer, categorical_features)\n",
        "])"
      ],
      "metadata": {
        "id": "3Rz6Xmzs6vf8"
      },
      "execution_count": 63,
      "outputs": []
    },
    {
      "cell_type": "code",
      "source": [
        "X2=preprocessor_pipeline.fit_transform(X)\n",
        "X2=pd.DataFrame(X2)\n",
        "   \n",
        "acc_list, pc_list = [], []\n",
        "for pc in range(2,X2.shape[1]):\n",
        "    pca, X_pca = do_pca(pc,X2)\n",
        "    acc = fit_L_R(X_pca,y)\n",
        "    acc_list.append(acc)\n",
        "    pc_list.append(pc)\n",
        "\n",
        "plt.figure(figsize=[12,9])\n",
        "plt.scatter(pc_list, acc_list)\n",
        "plt.title(' Number of Principal Components')\n",
        "plt.xlabel('Principal Components')\n",
        "plt.ylabel('R2');"
      ],
      "metadata": {
        "colab": {
          "base_uri": "https://localhost:8080/",
          "height": 567
        },
        "id": "EWbI7Gkf6y3j",
        "outputId": "243824b6-530d-4fb6-b59e-868d3daaa48b"
      },
      "execution_count": 64,
      "outputs": [
        {
          "output_type": "display_data",
          "data": {
            "text/plain": [
              "<Figure size 864x648 with 1 Axes>"
            ],
            "image/png": "[encoded data removed]"
          },
          "metadata": {
            "needs_background": "light"
          }
        }
      ]
    },
    {
      "cell_type": "code",
      "source": [
        "X2.shape[1]"
      ],
      "metadata": {
        "colab": {
          "base_uri": "https://localhost:8080/"
        },
        "id": "P7YvEbXJ60Iy",
        "outputId": "d79fbffa-de4f-4780-ea75-58ccfb83165a"
      },
      "execution_count": 65,
      "outputs": [
        {
          "output_type": "execute_result",
          "data": {
            "text/plain": [
              "26"
            ]
          },
          "metadata": {},
          "execution_count": 65
        }
      ]
    },
    {
      "cell_type": "code",
      "source": [
        "numerical_transformer = Pipeline([('poly_features', PolynomialFeatures(degree=1)),\n",
        "                                  ('scaler',StandardScaler()) ])\n",
        "categorical_transformer = Pipeline(steps=[ ('onehot', OrdinalEncoder(handle_unknown='ignore'))])\n",
        "\n",
        "preprocessor_pipeline = ColumnTransformer(transformers=[\n",
        "    ('num', numerical_transformer, numerical_features),\n",
        "    ('cat', categorical_transformer, categorical_features)\n",
        "])"
      ],
      "metadata": {
        "id": "DM_yTS0MBqlE"
      },
      "execution_count": 66,
      "outputs": []
    },
    {
      "cell_type": "code",
      "source": [
        "X2=preprocessor_pipeline.fit_transform(X)\n",
        "X2=pd.DataFrame(X2)\n",
        "X2.shape"
      ],
      "metadata": {
        "colab": {
          "base_uri": "https://localhost:8080/"
        },
        "id": "YoqeiEmb7bbL",
        "outputId": "a4d6dc7d-7d62-43fd-f413-313a8e804132"
      },
      "execution_count": 67,
      "outputs": [
        {
          "output_type": "execute_result",
          "data": {
            "text/plain": [
              "(32074, 11)"
            ]
          },
          "metadata": {},
          "execution_count": 67
        }
      ]
    },
    {
      "cell_type": "code",
      "source": [
        "acc_list=[]\n",
        "pc_list = []\n",
        "for pc in range(2,X2.shape[1]):\n",
        "  pca, X_pca = do_pca(pc,X2)\n",
        "  acc = fit_L_R(X_pca,y)\n",
        "  acc_list.append(acc)\n",
        "  pc_list.append(pc)\n",
        "\n",
        "plt.figure(figsize=[12,9])\n",
        "plt.scatter(pc_list, acc_list)\n",
        "plt.title(' Number of Principal Components')\n",
        "plt.xlabel('Principal Components')\n",
        "plt.ylabel('R2');"
      ],
      "metadata": {
        "colab": {
          "base_uri": "https://localhost:8080/",
          "height": 567
        },
        "outputId": "81a900a9-1608-4b73-f8aa-7ea182887b7f",
        "id": "3uC98NlPCvsM"
      },
      "execution_count": 73,
      "outputs": [
        {
          "output_type": "display_data",
          "data": {
            "text/plain": [
              "<Figure size 864x648 with 1 Axes>"
            ],
            "image/png": "[encoded data removed]"
          },
          "metadata": {
            "needs_background": "light"
          }
        }
      ]
    },
    {
      "cell_type": "code",
      "source": [
        "\n",
        "df1 = pd.read_csv('/content/df2_cat.csv', delimiter = ',')\n",
        "df1.head()"
      ],
      "metadata": {
        "colab": {
          "base_uri": "https://localhost:8080/",
          "height": 206
        },
        "id": "wnp8WfKNfnKB",
        "outputId": "630b19d3-450d-4ded-9b28-3e193378fe12"
      },
      "execution_count": 74,
      "outputs": [
        {
          "output_type": "execute_result",
          "data": {
            "text/plain": [
              "   Make  Model  Style  Distance  Engine_capacity(cm3)  Fuel_type  \\\n",
              "0    40     82      4  195000.0                1800.0          2   \n",
              "1    32     52     11  135000.0                1500.0          0   \n",
              "2    32     61     11  110000.0                1500.0          0   \n",
              "3    28     13     11  200000.0                1600.0          3   \n",
              "4    23    116      5  300000.0                2200.0          0   \n",
              "\n",
              "   Transmission  Price(euro)  Age       km_year  class  prestige  \n",
              "0             1       7750.0   11  17727.272727      4         2  \n",
              "1             0       8550.0    8  16875.000000      4         2  \n",
              "2             0       6550.0   10  11000.000000      3         3  \n",
              "3             0       4100.0   16  12500.000000      3         3  \n",
              "4             0       3490.0   22  13636.363636      3         4  "
            ],
            "text/html": [
              "\n",
              "  <div id=\"df-163fba7c-4cb1-4e94-a4fc-b7e6e2c7a4ff\">\n",
              "    <div class=\"colab-df-container\">\n",
              "      <div>\n",
              "<style scoped>\n",
              "    .dataframe tbody tr th:only-of-type {\n",
              "        vertical-align: middle;\n",
              "    }\n",
              "\n",
              "    .dataframe tbody tr th {\n",
              "        vertical-align: top;\n",
              "    }\n",
              "\n",
              "    .dataframe thead th {\n",
              "        text-align: right;\n",
              "    }\n",
              "</style>\n",
              "<table border=\"1\" class=\"dataframe\">\n",
              "  <thead>\n",
              "    <tr style=\"text-align: right;\">\n",
              "      <th></th>\n",
              "      <th>Make</th>\n",
              "      <th>Model</th>\n",
              "      <th>Style</th>\n",
              "      <th>Distance</th>\n",
              "      <th>Engine_capacity(cm3)</th>\n",
              "      <th>Fuel_type</th>\n",
              "      <th>Transmission</th>\n",
              "      <th>Price(euro)</th>\n",
              "      <th>Age</th>\n",
              "      <th>km_year</th>\n",
              "      <th>class</th>\n",
              "      <th>prestige</th>\n",
              "    </tr>\n",
              "  </thead>\n",
              "  <tbody>\n",
              "    <tr>\n",
              "      <th>0</th>\n",
              "      <td>40</td>\n",
              "      <td>82</td>\n",
              "      <td>4</td>\n",
              "      <td>195000.0</td>\n",
              "      <td>1800.0</td>\n",
              "      <td>2</td>\n",
              "      <td>1</td>\n",
              "      <td>7750.0</td>\n",
              "      <td>11</td>\n",
              "      <td>17727.272727</td>\n",
              "      <td>4</td>\n",
              "      <td>2</td>\n",
              "    </tr>\n",
              "    <tr>\n",
              "      <th>1</th>\n",
              "      <td>32</td>\n",
              "      <td>52</td>\n",
              "      <td>11</td>\n",
              "      <td>135000.0</td>\n",
              "      <td>1500.0</td>\n",
              "      <td>0</td>\n",
              "      <td>0</td>\n",
              "      <td>8550.0</td>\n",
              "      <td>8</td>\n",
              "      <td>16875.000000</td>\n",
              "      <td>4</td>\n",
              "      <td>2</td>\n",
              "    </tr>\n",
              "    <tr>\n",
              "      <th>2</th>\n",
              "      <td>32</td>\n",
              "      <td>61</td>\n",
              "      <td>11</td>\n",
              "      <td>110000.0</td>\n",
              "      <td>1500.0</td>\n",
              "      <td>0</td>\n",
              "      <td>0</td>\n",
              "      <td>6550.0</td>\n",
              "      <td>10</td>\n",
              "      <td>11000.000000</td>\n",
              "      <td>3</td>\n",
              "      <td>3</td>\n",
              "    </tr>\n",
              "    <tr>\n",
              "      <th>3</th>\n",
              "      <td>28</td>\n",
              "      <td>13</td>\n",
              "      <td>11</td>\n",
              "      <td>200000.0</td>\n",
              "      <td>1600.0</td>\n",
              "      <td>3</td>\n",
              "      <td>0</td>\n",
              "      <td>4100.0</td>\n",
              "      <td>16</td>\n",
              "      <td>12500.000000</td>\n",
              "      <td>3</td>\n",
              "      <td>3</td>\n",
              "    </tr>\n",
              "    <tr>\n",
              "      <th>4</th>\n",
              "      <td>23</td>\n",
              "      <td>116</td>\n",
              "      <td>5</td>\n",
              "      <td>300000.0</td>\n",
              "      <td>2200.0</td>\n",
              "      <td>0</td>\n",
              "      <td>0</td>\n",
              "      <td>3490.0</td>\n",
              "      <td>22</td>\n",
              "      <td>13636.363636</td>\n",
              "      <td>3</td>\n",
              "      <td>4</td>\n",
              "    </tr>\n",
              "  </tbody>\n",
              "</table>\n",
              "</div>\n",
              "      <button class=\"colab-df-convert\" onclick=\"convertToInteractive('df-163fba7c-4cb1-4e94-a4fc-b7e6e2c7a4ff')\"\n",
              "              title=\"Convert this dataframe to an interactive table.\"\n",
              "              style=\"display:none;\">\n",
              "        \n",
              "  <svg xmlns=\"http://www.w3.org/2000/svg\" height=\"24px\"viewBox=\"0 0 24 24\"\n",
              "       width=\"24px\">\n",
              "    <path d=\"M0 0h24v24H0V0z\" fill=\"none\"/>\n",
              "    <path d=\"M18.56 5.44l.94 2.06.94-2.06 2.06-.94-2.06-.94-.94-2.06-.94 2.06-2.06.94zm-11 1L8.5 8.5l.94-2.06 2.06-.94-2.06-.94L8.5 2.5l-.94 2.06-2.06.94zm10 10l.94 2.06.94-2.06 2.06-.94-2.06-.94-.94-2.06-.94 2.06-2.06.94z\"/><path d=\"M17.41 7.96l-1.37-1.37c-.4-.4-.92-.59-1.43-.59-.52 0-1.04.2-1.43.59L10.3 9.45l-7.72 7.72c-.78.78-.78 2.05 0 2.83L4 21.41c.39.39.9.59 1.41.59.51 0 1.02-.2 1.41-.59l7.78-7.78 2.81-2.81c.8-.78.8-2.07 0-2.86zM5.41 20L4 18.59l7.72-7.72 1.47 1.35L5.41 20z\"/>\n",
              "  </svg>\n",
              "      </button>\n",
              "      \n",
              "  <style>\n",
              "    .colab-df-container {\n",
              "      display:flex;\n",
              "      flex-wrap:wrap;\n",
              "      gap: 12px;\n",
              "    }\n",
              "\n",
              "    .colab-df-convert {\n",
              "      background-color: #E8F0FE;\n",
              "      border: none;\n",
              "      border-radius: 50%;\n",
              "      cursor: pointer;\n",
              "      display: none;\n",
              "      fill: #1967D2;\n",
              "      height: 32px;\n",
              "      padding: 0 0 0 0;\n",
              "      width: 32px;\n",
              "    }\n",
              "\n",
              "    .colab-df-convert:hover {\n",
              "      background-color: #E2EBFA;\n",
              "      box-shadow: 0px 1px 2px rgba(60, 64, 67, 0.3), 0px 1px 3px 1px rgba(60, 64, 67, 0.15);\n",
              "      fill: #174EA6;\n",
              "    }\n",
              "\n",
              "    [theme=dark] .colab-df-convert {\n",
              "      background-color: #3B4455;\n",
              "      fill: #D2E3FC;\n",
              "    }\n",
              "\n",
              "    [theme=dark] .colab-df-convert:hover {\n",
              "      background-color: #434B5C;\n",
              "      box-shadow: 0px 1px 3px 1px rgba(0, 0, 0, 0.15);\n",
              "      filter: drop-shadow(0px 1px 2px rgba(0, 0, 0, 0.3));\n",
              "      fill: #FFFFFF;\n",
              "    }\n",
              "  </style>\n",
              "\n",
              "      <script>\n",
              "        const buttonEl =\n",
              "          document.querySelector('#df-163fba7c-4cb1-4e94-a4fc-b7e6e2c7a4ff button.colab-df-convert');\n",
              "        buttonEl.style.display =\n",
              "          google.colab.kernel.accessAllowed ? 'block' : 'none';\n",
              "\n",
              "        async function convertToInteractive(key) {\n",
              "          const element = document.querySelector('#df-163fba7c-4cb1-4e94-a4fc-b7e6e2c7a4ff');\n",
              "          const dataTable =\n",
              "            await google.colab.kernel.invokeFunction('convertToInteractive',\n",
              "                                                     [key], {});\n",
              "          if (!dataTable) return;\n",
              "\n",
              "          const docLinkHtml = 'Like what you see? Visit the ' +\n",
              "            '<a target=\"_blank\" href=https://colab.research.google.com/notebooks/data_table.ipynb>data table notebook</a>'\n",
              "            + ' to learn more about interactive tables.';\n",
              "          element.innerHTML = '';\n",
              "          dataTable['output_type'] = 'display_data';\n",
              "          await google.colab.output.renderOutput(dataTable, element);\n",
              "          const docLink = document.createElement('div');\n",
              "          docLink.innerHTML = docLinkHtml;\n",
              "          element.appendChild(docLink);\n",
              "        }\n",
              "      </script>\n",
              "    </div>\n",
              "  </div>\n",
              "  "
            ]
          },
          "metadata": {},
          "execution_count": 74
        }
      ]
    },
    {
      "cell_type": "code",
      "source": [
        "df1=df1.drop(\"Age\",axis=1)\n",
        "df1=df1.drop(\"class\",axis=1)\n",
        "df1.head()"
      ],
      "metadata": {
        "colab": {
          "base_uri": "https://localhost:8080/",
          "height": 206
        },
        "id": "5Q6Bmf2IgIHL",
        "outputId": "dd902af7-fbb8-406d-90e9-bcafa873cc0a"
      },
      "execution_count": 75,
      "outputs": [
        {
          "output_type": "execute_result",
          "data": {
            "text/plain": [
              "   Make  Model  Style  Distance  Engine_capacity(cm3)  Fuel_type  \\\n",
              "0    40     82      4  195000.0                1800.0          2   \n",
              "1    32     52     11  135000.0                1500.0          0   \n",
              "2    32     61     11  110000.0                1500.0          0   \n",
              "3    28     13     11  200000.0                1600.0          3   \n",
              "4    23    116      5  300000.0                2200.0          0   \n",
              "\n",
              "   Transmission  Price(euro)       km_year  prestige  \n",
              "0             1       7750.0  17727.272727         2  \n",
              "1             0       8550.0  16875.000000         2  \n",
              "2             0       6550.0  11000.000000         3  \n",
              "3             0       4100.0  12500.000000         3  \n",
              "4             0       3490.0  13636.363636         4  "
            ],
            "text/html": [
              "\n",
              "  <div id=\"df-34625459-e921-44f7-9d9a-2b5ce4e4d43f\">\n",
              "    <div class=\"colab-df-container\">\n",
              "      <div>\n",
              "<style scoped>\n",
              "    .dataframe tbody tr th:only-of-type {\n",
              "        vertical-align: middle;\n",
              "    }\n",
              "\n",
              "    .dataframe tbody tr th {\n",
              "        vertical-align: top;\n",
              "    }\n",
              "\n",
              "    .dataframe thead th {\n",
              "        text-align: right;\n",
              "    }\n",
              "</style>\n",
              "<table border=\"1\" class=\"dataframe\">\n",
              "  <thead>\n",
              "    <tr style=\"text-align: right;\">\n",
              "      <th></th>\n",
              "      <th>Make</th>\n",
              "      <th>Model</th>\n",
              "      <th>Style</th>\n",
              "      <th>Distance</th>\n",
              "      <th>Engine_capacity(cm3)</th>\n",
              "      <th>Fuel_type</th>\n",
              "      <th>Transmission</th>\n",
              "      <th>Price(euro)</th>\n",
              "      <th>km_year</th>\n",
              "      <th>prestige</th>\n",
              "    </tr>\n",
              "  </thead>\n",
              "  <tbody>\n",
              "    <tr>\n",
              "      <th>0</th>\n",
              "      <td>40</td>\n",
              "      <td>82</td>\n",
              "      <td>4</td>\n",
              "      <td>195000.0</td>\n",
              "      <td>1800.0</td>\n",
              "      <td>2</td>\n",
              "      <td>1</td>\n",
              "      <td>7750.0</td>\n",
              "      <td>17727.272727</td>\n",
              "      <td>2</td>\n",
              "    </tr>\n",
              "    <tr>\n",
              "      <th>1</th>\n",
              "      <td>32</td>\n",
              "      <td>52</td>\n",
              "      <td>11</td>\n",
              "      <td>135000.0</td>\n",
              "      <td>1500.0</td>\n",
              "      <td>0</td>\n",
              "      <td>0</td>\n",
              "      <td>8550.0</td>\n",
              "      <td>16875.000000</td>\n",
              "      <td>2</td>\n",
              "    </tr>\n",
              "    <tr>\n",
              "      <th>2</th>\n",
              "      <td>32</td>\n",
              "      <td>61</td>\n",
              "      <td>11</td>\n",
              "      <td>110000.0</td>\n",
              "      <td>1500.0</td>\n",
              "      <td>0</td>\n",
              "      <td>0</td>\n",
              "      <td>6550.0</td>\n",
              "      <td>11000.000000</td>\n",
              "      <td>3</td>\n",
              "    </tr>\n",
              "    <tr>\n",
              "      <th>3</th>\n",
              "      <td>28</td>\n",
              "      <td>13</td>\n",
              "      <td>11</td>\n",
              "      <td>200000.0</td>\n",
              "      <td>1600.0</td>\n",
              "      <td>3</td>\n",
              "      <td>0</td>\n",
              "      <td>4100.0</td>\n",
              "      <td>12500.000000</td>\n",
              "      <td>3</td>\n",
              "    </tr>\n",
              "    <tr>\n",
              "      <th>4</th>\n",
              "      <td>23</td>\n",
              "      <td>116</td>\n",
              "      <td>5</td>\n",
              "      <td>300000.0</td>\n",
              "      <td>2200.0</td>\n",
              "      <td>0</td>\n",
              "      <td>0</td>\n",
              "      <td>3490.0</td>\n",
              "      <td>13636.363636</td>\n",
              "      <td>4</td>\n",
              "    </tr>\n",
              "  </tbody>\n",
              "</table>\n",
              "</div>\n",
              "      <button class=\"colab-df-convert\" onclick=\"convertToInteractive('df-34625459-e921-44f7-9d9a-2b5ce4e4d43f')\"\n",
              "              title=\"Convert this dataframe to an interactive table.\"\n",
              "              style=\"display:none;\">\n",
              "        \n",
              "  <svg xmlns=\"http://www.w3.org/2000/svg\" height=\"24px\"viewBox=\"0 0 24 24\"\n",
              "       width=\"24px\">\n",
              "    <path d=\"M0 0h24v24H0V0z\" fill=\"none\"/>\n",
              "    <path d=\"M18.56 5.44l.94 2.06.94-2.06 2.06-.94-2.06-.94-.94-2.06-.94 2.06-2.06.94zm-11 1L8.5 8.5l.94-2.06 2.06-.94-2.06-.94L8.5 2.5l-.94 2.06-2.06.94zm10 10l.94 2.06.94-2.06 2.06-.94-2.06-.94-.94-2.06-.94 2.06-2.06.94z\"/><path d=\"M17.41 7.96l-1.37-1.37c-.4-.4-.92-.59-1.43-.59-.52 0-1.04.2-1.43.59L10.3 9.45l-7.72 7.72c-.78.78-.78 2.05 0 2.83L4 21.41c.39.39.9.59 1.41.59.51 0 1.02-.2 1.41-.59l7.78-7.78 2.81-2.81c.8-.78.8-2.07 0-2.86zM5.41 20L4 18.59l7.72-7.72 1.47 1.35L5.41 20z\"/>\n",
              "  </svg>\n",
              "      </button>\n",
              "      \n",
              "  <style>\n",
              "    .colab-df-container {\n",
              "      display:flex;\n",
              "      flex-wrap:wrap;\n",
              "      gap: 12px;\n",
              "    }\n",
              "\n",
              "    .colab-df-convert {\n",
              "      background-color: #E8F0FE;\n",
              "      border: none;\n",
              "      border-radius: 50%;\n",
              "      cursor: pointer;\n",
              "      display: none;\n",
              "      fill: #1967D2;\n",
              "      height: 32px;\n",
              "      padding: 0 0 0 0;\n",
              "      width: 32px;\n",
              "    }\n",
              "\n",
              "    .colab-df-convert:hover {\n",
              "      background-color: #E2EBFA;\n",
              "      box-shadow: 0px 1px 2px rgba(60, 64, 67, 0.3), 0px 1px 3px 1px rgba(60, 64, 67, 0.15);\n",
              "      fill: #174EA6;\n",
              "    }\n",
              "\n",
              "    [theme=dark] .colab-df-convert {\n",
              "      background-color: #3B4455;\n",
              "      fill: #D2E3FC;\n",
              "    }\n",
              "\n",
              "    [theme=dark] .colab-df-convert:hover {\n",
              "      background-color: #434B5C;\n",
              "      box-shadow: 0px 1px 3px 1px rgba(0, 0, 0, 0.15);\n",
              "      filter: drop-shadow(0px 1px 2px rgba(0, 0, 0, 0.3));\n",
              "      fill: #FFFFFF;\n",
              "    }\n",
              "  </style>\n",
              "\n",
              "      <script>\n",
              "        const buttonEl =\n",
              "          document.querySelector('#df-34625459-e921-44f7-9d9a-2b5ce4e4d43f button.colab-df-convert');\n",
              "        buttonEl.style.display =\n",
              "          google.colab.kernel.accessAllowed ? 'block' : 'none';\n",
              "\n",
              "        async function convertToInteractive(key) {\n",
              "          const element = document.querySelector('#df-34625459-e921-44f7-9d9a-2b5ce4e4d43f');\n",
              "          const dataTable =\n",
              "            await google.colab.kernel.invokeFunction('convertToInteractive',\n",
              "                                                     [key], {});\n",
              "          if (!dataTable) return;\n",
              "\n",
              "          const docLinkHtml = 'Like what you see? Visit the ' +\n",
              "            '<a target=\"_blank\" href=https://colab.research.google.com/notebooks/data_table.ipynb>data table notebook</a>'\n",
              "            + ' to learn more about interactive tables.';\n",
              "          element.innerHTML = '';\n",
              "          dataTable['output_type'] = 'display_data';\n",
              "          await google.colab.output.renderOutput(dataTable, element);\n",
              "          const docLink = document.createElement('div');\n",
              "          docLink.innerHTML = docLinkHtml;\n",
              "          element.appendChild(docLink);\n",
              "        }\n",
              "      </script>\n",
              "    </div>\n",
              "  </div>\n",
              "  "
            ]
          },
          "metadata": {},
          "execution_count": 75
        }
      ]
    },
    {
      "cell_type": "code",
      "source": [
        "target = 'Price(euro)'\n",
        "X = df1.drop(target,axis=1)\n",
        "y = df1[target]"
      ],
      "metadata": {
        "id": "P2HWnSVBgQGs"
      },
      "execution_count": 76,
      "outputs": []
    },
    {
      "cell_type": "code",
      "source": [
        "X_train, X_test, y_train, y_test = train_test_split(X, y, test_size=0.2, random_state=42)\n",
        "X_train.shape"
      ],
      "metadata": {
        "colab": {
          "base_uri": "https://localhost:8080/"
        },
        "id": "5SrBH3pegU87",
        "outputId": "e32c6da0-9b56-44ec-8206-d3bd6aa78252"
      },
      "execution_count": 77,
      "outputs": [
        {
          "output_type": "execute_result",
          "data": {
            "text/plain": [
              "(25659, 9)"
            ]
          },
          "metadata": {},
          "execution_count": 77
        }
      ]
    },
    {
      "cell_type": "code",
      "source": [
        "scale=StandardScaler()"
      ],
      "metadata": {
        "id": "0zwEHi-jgsXI"
      },
      "execution_count": 78,
      "outputs": []
    },
    {
      "cell_type": "code",
      "source": [
        "# Run standardization on X variables\n",
        "X_train_scaled, X_test_scaled = scale.fit_transform(X_train), scale.transform(X_test)\n",
        "X_train_scaled"
      ],
      "metadata": {
        "colab": {
          "base_uri": "https://localhost:8080/"
        },
        "id": "pGl-a7Tqgcg9",
        "outputId": "a37ff1d2-cd10-45da-e4ec-6f1b961fe2da"
      },
      "execution_count": 79,
      "outputs": [
        {
          "output_type": "execute_result",
          "data": {
            "text/plain": [
              "array([[ 0.28276997, -1.46913464, -1.10201852, ..., -0.9219349 ,\n",
              "        -2.02618918,  1.33092433],\n",
              "       [ 0.35504044,  0.7445568 ,  0.76178488, ..., -0.9219349 ,\n",
              "        -0.90230544,  1.33092433],\n",
              "       [ 0.57185188,  0.14856295,  1.07241878, ..., -0.9219349 ,\n",
              "        -0.01167168,  0.4407388 ],\n",
              "       ...,\n",
              "       [-0.07858242, -1.24208937,  0.76178488, ..., -0.9219349 ,\n",
              "         0.40700897,  0.4407388 ],\n",
              "       [ 0.71639283,  0.7445568 , -0.48075072, ..., -0.9219349 ,\n",
              "         0.44791818,  0.4407388 ],\n",
              "       [-0.07858242,  0.7445568 ,  0.76178488, ..., -0.9219349 ,\n",
              "        -1.02527263,  1.33092433]])"
            ]
          },
          "metadata": {},
          "execution_count": 79
        }
      ]
    },
    {
      "cell_type": "code",
      "source": [
        "X_test_scaled"
      ],
      "metadata": {
        "colab": {
          "base_uri": "https://localhost:8080/"
        },
        "id": "U7NF98qlpgLI",
        "outputId": "a4a1ca7f-1f36-4ea8-936c-3fe912ef6cff"
      },
      "execution_count": 80,
      "outputs": [
        {
          "output_type": "execute_result",
          "data": {
            "text/plain": [
              "array([[-0.07858242, -0.75961816,  0.76178488, ...,  1.08467529,\n",
              "        -0.57606597,  1.33092433],\n",
              "       [ 0.57185188, -0.10686299, -1.10201852, ..., -0.9219349 ,\n",
              "        -0.15845117, -0.44944672],\n",
              "       [-0.72901671,  0.12018229,  1.07241878, ..., -0.9219349 ,\n",
              "        -0.33595372,  1.33092433],\n",
              "       ...,\n",
              "       [ 0.78866331,  0.29046624,  1.07241878, ..., -0.9219349 ,\n",
              "         0.09680295,  0.4407388 ],\n",
              "       [-0.07858242,  0.82969877,  0.76178488, ...,  1.08467529,\n",
              "        -0.15847944,  0.4407388 ],\n",
              "       [ 0.4995814 ,  0.7445568 ,  0.76178488, ...,  1.08467529,\n",
              "        -0.71779631,  1.33092433]])"
            ]
          },
          "metadata": {},
          "execution_count": 80
        }
      ]
    },
    {
      "cell_type": "code",
      "source": [
        "# Define cross-validation folds\n",
        "from sklearn.model_selection import KFold ,cross_val_score\n",
        "cv = KFold(n_splits=5, shuffle=True, random_state=42)"
      ],
      "metadata": {
        "id": "r9f-WBCLg-YO"
      },
      "execution_count": 81,
      "outputs": []
    },
    {
      "cell_type": "code",
      "source": [
        "lin_reg = LinearRegression().fit(X_train_scaled, y_train)"
      ],
      "metadata": {
        "id": "Qf0NUvpehF9z"
      },
      "execution_count": 82,
      "outputs": []
    },
    {
      "cell_type": "code",
      "source": [
        "# Get R2 score\n",
        "lin_reg.score(X_train_scaled, y_train)"
      ],
      "metadata": {
        "colab": {
          "base_uri": "https://localhost:8080/"
        },
        "id": "BIWM-mFnhJ5n",
        "outputId": "fa4482b0-e431-4685-ec6a-824ad3d51c68"
      },
      "execution_count": 83,
      "outputs": [
        {
          "output_type": "execute_result",
          "data": {
            "text/plain": [
              "0.5908776525631723"
            ]
          },
          "metadata": {},
          "execution_count": 83
        }
      ]
    },
    {
      "cell_type": "markdown",
      "source": [
        "как выше видели"
      ],
      "metadata": {
        "id": "-8iwHoHwhSbd"
      }
    },
    {
      "cell_type": "code",
      "source": [
        "lr_scores =  cross_val_score(lin_reg, \n",
        "                                 X, \n",
        "                                 y, \n",
        "                                 cv=cv, \n",
        "                                 scoring='r2')\n",
        "lr_scores"
      ],
      "metadata": {
        "colab": {
          "base_uri": "https://localhost:8080/"
        },
        "id": "950HRCuchSGj",
        "outputId": "6adff1eb-760e-4a75-a1dc-4c0addb4f301"
      },
      "execution_count": 84,
      "outputs": [
        {
          "output_type": "execute_result",
          "data": {
            "text/plain": [
              "array([0.58417106, 0.58610268, 0.60052996, 0.58068101, 0.5945795 ])"
            ]
          },
          "metadata": {},
          "execution_count": 84
        }
      ]
    },
    {
      "cell_type": "code",
      "source": [
        "lr_score_train = np.mean(lr_scores)\n",
        "lr_score_train"
      ],
      "metadata": {
        "colab": {
          "base_uri": "https://localhost:8080/"
        },
        "id": "be2e0ihYk7sB",
        "outputId": "470aa6b1-33fe-4f4f-8e89-f6342b8a1b06"
      },
      "execution_count": 85,
      "outputs": [
        {
          "output_type": "execute_result",
          "data": {
            "text/plain": [
              "0.5892128414833423"
            ]
          },
          "metadata": {},
          "execution_count": 85
        }
      ]
    },
    {
      "cell_type": "code",
      "source": [
        "y_predicted = lin_reg.predict(X_test_scaled)\n",
        "lr_score_test = r2_score(y_test, y_predicted) \n",
        "lr_score_test"
      ],
      "metadata": {
        "colab": {
          "base_uri": "https://localhost:8080/"
        },
        "id": "h7cPDTYglD5N",
        "outputId": "4859a9b3-2bf4-41dd-8370-560b2d9e93fb"
      },
      "execution_count": 86,
      "outputs": [
        {
          "output_type": "execute_result",
          "data": {
            "text/plain": [
              "0.5841710601589348"
            ]
          },
          "metadata": {},
          "execution_count": 86
        }
      ]
    },
    {
      "cell_type": "markdown",
      "source": [
        "Principal Component Regression "
      ],
      "metadata": {
        "id": "RwpFwrPImUxB"
      }
    },
    {
      "cell_type": "code",
      "source": [
        "lin_reg = LinearRegression()\n",
        "r2_score_list = []"
      ],
      "metadata": {
        "id": "_7-H9RZ7mQ_H"
      },
      "execution_count": 87,
      "outputs": []
    },
    {
      "cell_type": "code",
      "source": [
        "X4=scale.fit_transform(X)"
      ],
      "metadata": {
        "id": "vtiWw1WcC_pL"
      },
      "execution_count": 88,
      "outputs": []
    },
    {
      "cell_type": "code",
      "source": [
        "# First generate all the principal components\n",
        "pca = PCA()\n",
        "X_train_pc = pca.fit_transform(X4)\n",
        "#X_train_pc = pca.fit_transform(X_train_scaled)\n",
        "X_train_pc.shape"
      ],
      "metadata": {
        "colab": {
          "base_uri": "https://localhost:8080/"
        },
        "id": "HfOSWpRimaIp",
        "outputId": "56bd78bc-0774-4e6a-d04d-05e6125b4d77"
      },
      "execution_count": 89,
      "outputs": [
        {
          "output_type": "execute_result",
          "data": {
            "text/plain": [
              "(32074, 9)"
            ]
          },
          "metadata": {},
          "execution_count": 89
        }
      ]
    },
    {
      "cell_type": "code",
      "source": [
        "# View explained variance ratio for each principal component\n",
        "pca.explained_variance_ratio_"
      ],
      "metadata": {
        "colab": {
          "base_uri": "https://localhost:8080/"
        },
        "id": "BIakFB_VmeVG",
        "outputId": "1df0aac3-069f-4681-ab4a-66b48343d745"
      },
      "execution_count": 90,
      "outputs": [
        {
          "output_type": "execute_result",
          "data": {
            "text/plain": [
              "array([0.22812782, 0.18609058, 0.14919482, 0.10519336, 0.10227106,\n",
              "       0.09028775, 0.07497551, 0.04439922, 0.01945988])"
            ]
          },
          "metadata": {},
          "execution_count": 90
        }
      ]
    },
    {
      "cell_type": "code",
      "source": [
        "pca.explained_variance_ratio_.cumsum()"
      ],
      "metadata": {
        "colab": {
          "base_uri": "https://localhost:8080/"
        },
        "id": "SIkA_FSInVv1",
        "outputId": "c00b8937-f17d-4a84-e5d0-8a3ab95da4d7"
      },
      "execution_count": 91,
      "outputs": [
        {
          "output_type": "execute_result",
          "data": {
            "text/plain": [
              "array([0.22812782, 0.4142184 , 0.56341322, 0.66860658, 0.77087765,\n",
              "       0.86116539, 0.93614091, 0.98054012, 1.        ])"
            ]
          },
          "metadata": {},
          "execution_count": 91
        }
      ]
    },
    {
      "cell_type": "code",
      "source": [
        "n_components = get_pca_components(pca, 0.95)\n",
        "n_components"
      ],
      "metadata": {
        "colab": {
          "base_uri": "https://localhost:8080/"
        },
        "id": "h7TGNAav4ma0",
        "outputId": "3b38048b-a043-4220-bda3-79a82291d579"
      },
      "execution_count": 92,
      "outputs": [
        {
          "output_type": "execute_result",
          "data": {
            "text/plain": [
              "8"
            ]
          },
          "metadata": {},
          "execution_count": 92
        }
      ]
    },
    {
      "cell_type": "code",
      "source": [
        "plt.figure(figsize=(20,10))\n",
        "scree_plot(pca)"
      ],
      "metadata": {
        "colab": {
          "base_uri": "https://localhost:8080/",
          "height": 421
        },
        "id": "bi0WkzEZ4r_E",
        "outputId": "c7e2e491-5ddd-4481-a276-03207559e36a"
      },
      "execution_count": 93,
      "outputs": [
        {
          "output_type": "display_data",
          "data": {
            "text/plain": [
              "<Figure size 1440x720 with 0 Axes>"
            ]
          },
          "metadata": {}
        },
        {
          "output_type": "display_data",
          "data": {
            "text/plain": [
              "<Figure size 1440x432 with 1 Axes>"
            ],
            "image/png": "[encoded data removed]"
          },
          "metadata": {
            "needs_background": "light"
          }
        }
      ]
    },
    {
      "cell_type": "code",
      "source": [
        " #X.iloc[:,0:i]"
      ],
      "metadata": {
        "id": "to4EkAg-vMZa"
      },
      "execution_count": 94,
      "outputs": []
    },
    {
      "cell_type": "code",
      "source": [
        "# Loop through different count of principal components for linear regression\n",
        "for i in range(1, X.shape[1]+1):\n",
        "  r2_score =  cross_val_score(lin_reg, \n",
        "                              X.iloc[:,0:i], # Use first k principal components\n",
        "                              y, \n",
        "                              cv=cv, \n",
        "                              scoring='r2').mean()\n",
        "  r2_score_list.append(r2_score)"
      ],
      "metadata": {
        "id": "ePWJxAxCmhXP"
      },
      "execution_count": 95,
      "outputs": []
    },
    {
      "cell_type": "code",
      "source": [
        "r2_score_list"
      ],
      "metadata": {
        "colab": {
          "base_uri": "https://localhost:8080/"
        },
        "id": "IUJFJttTnAHo",
        "outputId": "b257fca5-1c37-479f-ec9c-56e7fe0efeaf"
      },
      "execution_count": 96,
      "outputs": [
        {
          "output_type": "execute_result",
          "data": {
            "text/plain": [
              "[0.01438531777644858,\n",
              " 0.022830477763548806,\n",
              " 0.025152571995474427,\n",
              " 0.14623146118549674,\n",
              " 0.3007645937830101,\n",
              " 0.3140253260544485,\n",
              " 0.39313570221929944,\n",
              " 0.4740134973620903,\n",
              " 0.5892128414833423]"
            ]
          },
          "metadata": {},
          "execution_count": 96
        }
      ]
    },
    {
      "cell_type": "code",
      "source": [
        "# Plot RMSE vs count of principal components used\n",
        "plt.plot(r2_score_list, '-o')\n",
        "plt.xlabel('Number of principal components in regression')\n",
        "plt.ylabel('Cross-Validation R2')\n",
        "plt.title('pca Quality')\n",
        "plt.xlim(xmin=-1);\n",
        "plt.xticks(np.arange(X_train_pc.shape[1]), np.arange(1, X_train_pc.shape[1]+1))\n",
        "plt.axhline(y=lr_score_train, color='g', linestyle='-');"
      ],
      "metadata": {
        "colab": {
          "base_uri": "https://localhost:8080/",
          "height": 295
        },
        "id": "OmC4iG7wnGx9",
        "outputId": "14073f92-e1a6-4a21-caa8-54f15c6cc648"
      },
      "execution_count": 97,
      "outputs": [
        {
          "output_type": "display_data",
          "data": {
            "text/plain": [
              "<Figure size 432x288 with 1 Axes>"
            ],
            "image/png": "[encoded data removed]"
          },
          "metadata": {
            "needs_background": "light"
          }
        }
      ]
    },
    {
      "cell_type": "code",
      "source": [
        "# Visually determine optimal number of principal components\n",
        "best_pc_num = 8"
      ],
      "metadata": {
        "id": "NOYSZKRtrhZZ"
      },
      "execution_count": 98,
      "outputs": []
    },
    {
      "cell_type": "code",
      "source": [
        "# Train model on training set\n",
        "pca = PCA()\n",
        "X_train_pc = pca.fit_transform(X_train_scaled)\n",
        "lin_reg_pc = LinearRegression().fit(X_train_pc[:,:best_pc_num], y_train)"
      ],
      "metadata": {
        "id": "AlNdWu0SrjxB"
      },
      "execution_count": 100,
      "outputs": []
    },
    {
      "cell_type": "code",
      "source": [
        "# Get R2 score\n",
        "lin_reg_pc.score(X_train_pc[:,:best_pc_num], y_train)"
      ],
      "metadata": {
        "colab": {
          "base_uri": "https://localhost:8080/"
        },
        "id": "UwfKnNH1rpmz",
        "outputId": "bf5e210b-ee00-48ad-9414-d93dfba875cd"
      },
      "execution_count": 101,
      "outputs": [
        {
          "output_type": "execute_result",
          "data": {
            "text/plain": [
              "0.5877021802602582"
            ]
          },
          "metadata": {},
          "execution_count": 101
        }
      ]
    },
    {
      "cell_type": "code",
      "source": [
        "r2_score_list = []"
      ],
      "metadata": {
        "id": "sJYVXpkR5Y-o"
      },
      "execution_count": 102,
      "outputs": []
    },
    {
      "cell_type": "code",
      "source": [
        "# Loop through different count of principal components for linear regression\n",
        "for i in range(1, X.shape[1]+1):\n",
        "    r2_score = -1* cross_val_score(lin_reg, \n",
        "                                      X.iloc[:,0:i], # Use first k principal components\n",
        "                                      y, \n",
        "                                      cv=cv, \n",
        "                                      scoring='neg_root_mean_squared_error').mean()\n",
        "    r2_score_list.append(r2_score)"
      ],
      "metadata": {
        "id": "CSm1O4fawl9D"
      },
      "execution_count": 103,
      "outputs": []
    },
    {
      "cell_type": "code",
      "source": [
        "r2_score_list"
      ],
      "metadata": {
        "colab": {
          "base_uri": "https://localhost:8080/"
        },
        "id": "FH0BL23Twxvu",
        "outputId": "8df29605-c99b-44e8-df72-9c63136e0f34"
      },
      "execution_count": 104,
      "outputs": [
        {
          "output_type": "execute_result",
          "data": {
            "text/plain": [
              "[9460.087911164876,\n",
              " 9419.482947839251,\n",
              " 9408.260648196572,\n",
              " 8804.090343565429,\n",
              " 7965.835614143788,\n",
              " 7889.805678762716,\n",
              " 7421.690095179389,\n",
              " 6910.041138559577,\n",
              " 6107.66108196298]"
            ]
          },
          "metadata": {},
          "execution_count": 104
        }
      ]
    },
    {
      "cell_type": "code",
      "source": [
        "plt.plot(r2_score_list, '-o')\n",
        "plt.xlabel('Number of principal components in regression')\n",
        "plt.ylabel('Cross-Validation RMSE')\n",
        "plt.title('pca Quality')\n",
        "plt.xlim(xmin=-1);\n",
        "plt.xticks(np.arange(X_train_pc.shape[1]), np.arange(1, X_train_pc.shape[1]+1))\n",
        "plt.axhline(y=lr_score_train, color='g', linestyle='-');"
      ],
      "metadata": {
        "colab": {
          "base_uri": "https://localhost:8080/",
          "height": 295
        },
        "id": "fP04pnHTw1EF",
        "outputId": "e1ffff2b-ba95-422d-d1ab-88e344fe846a"
      },
      "execution_count": 105,
      "outputs": [
        {
          "output_type": "display_data",
          "data": {
            "text/plain": [
              "<Figure size 432x288 with 1 Axes>"
            ],
            "image/png": "[encoded data removed]"
          },
          "metadata": {
            "needs_background": "light"
          }
        }
      ]
    },
    {
      "cell_type": "code",
      "source": [
        "best_pc_num = 8\n",
        "lin_reg_pc = LinearRegression().fit(X_train_pc[:,:best_pc_num], y_train)\n",
        "lin_reg_pc.score(X_train_pc[:,:best_pc_num], y_train)"
      ],
      "metadata": {
        "colab": {
          "base_uri": "https://localhost:8080/"
        },
        "id": "V7IssPBfxEbp",
        "outputId": "7ce44585-b3b3-4b43-b537-1ac955384350"
      },
      "execution_count": 106,
      "outputs": [
        {
          "output_type": "execute_result",
          "data": {
            "text/plain": [
              "0.5877021802602582"
            ]
          },
          "metadata": {},
          "execution_count": 106
        }
      ]
    },
    {
      "cell_type": "code",
      "source": [
        "best_pc_num = 7\n",
        "lin_reg_pc = LinearRegression().fit(X_train_pc[:,:best_pc_num], y_train)\n",
        "lin_reg_pc.score(X_train_pc[:,:best_pc_num], y_train)"
      ],
      "metadata": {
        "colab": {
          "base_uri": "https://localhost:8080/"
        },
        "id": "A7hJNf2VxVrO",
        "outputId": "d0796f60-c364-4241-f9ea-f020cd3a73d2"
      },
      "execution_count": 107,
      "outputs": [
        {
          "output_type": "execute_result",
          "data": {
            "text/plain": [
              "0.5468211641059293"
            ]
          },
          "metadata": {},
          "execution_count": 107
        }
      ]
    }
  ]
}