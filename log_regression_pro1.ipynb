{
  "nbformat": 4,
  "nbformat_minor": 0,
  "metadata": {
    "colab": {
      "provenance": []
    },
    "kernelspec": {
      "name": "python3",
      "display_name": "Python 3"
    },
    "language_info": {
      "name": "python"
    }
  },
  "cells": [
    {
      "cell_type": "markdown",
      "source": [
        "## Логистическая регрессия"
      ],
      "metadata": {
        "id": "Faqf8pG8itot"
      }
    },
    {
      "cell_type": "markdown",
      "metadata": {
        "id": "VbgNr2MC7c9H"
      },
      "source": [
        "Возьмем и сами нагенирируем себе данные и обучим на них линейную модель."
      ]
    },
    {
      "cell_type": "markdown",
      "source": [
        "данные есть 50 объектов состоящий из двух\n",
        "признаковиз  зафиксировано случайность\n",
        "и  два класса"
      ],
      "metadata": {
        "id": "eGyky1Vr1Vq-"
      }
    },
    {
      "cell_type": "code",
      "source": [
        "from sklearn.datasets import make_blobs\n",
        "\n",
        "X, y = make_blobs(n_samples=50, n_features=2, random_state=12, centers=2)\n",
        "\n",
        "display(X, y)"
      ],
      "metadata": {
        "colab": {
          "base_uri": "https://localhost:8080/",
          "height": 937
        },
        "id": "px8DWvILiEae",
        "outputId": "327aefb7-0cae-40e6-e4a2-f397126ae770"
      },
      "execution_count": 1,
      "outputs": [
        {
          "output_type": "display_data",
          "data": {
            "text/plain": [
              "array([[ -5.2000508 ,   1.03101087],\n",
              "       [ -6.26268518,   1.70399904],\n",
              "       [ -6.09933951,  -0.51965652],\n",
              "       [ -2.90487898,  -0.32621368],\n",
              "       [ -7.51456607,   5.27345092],\n",
              "       [ -7.91394699,   4.08713764],\n",
              "       [ -4.93302704,   0.93256045],\n",
              "       [ -6.27598204,   5.3283266 ],\n",
              "       [ -3.73275694,   0.62337287],\n",
              "       [ -6.88132681,   4.12304857],\n",
              "       [ -5.30551643,   0.07148875],\n",
              "       [ -8.59849966,   3.01289968],\n",
              "       [ -7.2543384 ,   4.21572565],\n",
              "       [ -3.2624657 ,   2.31125078],\n",
              "       [ -3.79012431,   1.03243209],\n",
              "       [ -6.41487085,   4.93984011],\n",
              "       [ -6.16360032,   3.26627259],\n",
              "       [ -7.94627336,   6.01079038],\n",
              "       [ -3.86173157,  -0.77157158],\n",
              "       [ -7.44514747,   4.76178476],\n",
              "       [ -6.7017672 ,   4.41663513],\n",
              "       [ -5.58091181,   5.11965922],\n",
              "       [ -6.82539091,   0.82134757],\n",
              "       [ -6.91161607,   4.68076626],\n",
              "       [ -7.03166309,   7.04281172],\n",
              "       [ -4.83896768,   1.18681003],\n",
              "       [ -5.42257839,   1.47741832],\n",
              "       [ -7.48862421,   4.69513161],\n",
              "       [ -5.90422768,   3.88712478],\n",
              "       [-10.06415967,   5.33612982],\n",
              "       [ -6.07308892,  -1.01486505],\n",
              "       [ -9.1352781 ,   4.15356315],\n",
              "       [ -5.27018096,   0.87270838],\n",
              "       [ -4.68317687,   0.53145045],\n",
              "       [ -5.13157943,  -0.58443565],\n",
              "       [ -4.8171489 ,   1.35259397],\n",
              "       [ -6.68425271,   5.66860588],\n",
              "       [ -4.46130866,  -0.29438863],\n",
              "       [ -5.82078703,   3.58582513],\n",
              "       [ -4.573912  ,  -0.04147572],\n",
              "       [ -3.32597193,  -1.01290846],\n",
              "       [ -5.57438678,   4.67884414],\n",
              "       [ -8.06495587,   6.91533817],\n",
              "       [ -5.89995846,  -0.33477378],\n",
              "       [ -4.71776515,   0.59474441],\n",
              "       [ -4.17763932,   0.89750733],\n",
              "       [ -7.17064723,   4.874246  ],\n",
              "       [ -7.72372503,   7.67281333],\n",
              "       [ -8.07110339,   2.58766045],\n",
              "       [ -5.19509463,   0.4734256 ]])"
            ]
          },
          "metadata": {}
        },
        {
          "output_type": "display_data",
          "data": {
            "text/plain": [
              "array([1, 1, 1, 1, 0, 0, 1, 0, 1, 0, 1, 0, 0, 1, 1, 0, 0, 0, 1, 0, 0, 0,\n",
              "       1, 0, 0, 1, 1, 0, 0, 0, 1, 0, 1, 1, 1, 1, 0, 1, 0, 1, 1, 0, 0, 1,\n",
              "       1, 1, 0, 0, 0, 1])"
            ]
          },
          "metadata": {}
        }
      ]
    },
    {
      "cell_type": "markdown",
      "source": [
        "чтобы данные были введены масштабе поэтому берем стандартизацию"
      ],
      "metadata": {
        "id": "VVGRP8H82Rxm"
      }
    },
    {
      "cell_type": "code",
      "source": [
        "from sklearn.preprocessing import StandardScaler\n",
        "\n",
        "scaler = StandardScaler()\n",
        "X = scaler.fit_transform(X)\n",
        "X.mean(axis=0), X.std(axis=0)"
      ],
      "metadata": {
        "colab": {
          "base_uri": "https://localhost:8080/"
        },
        "id": "XRl_QRpLmOuR",
        "outputId": "214216c4-e5e5-47ed-f543-563109b07dd4"
      },
      "execution_count": 2,
      "outputs": [
        {
          "output_type": "execute_result",
          "data": {
            "text/plain": [
              "(array([-7.77156117e-17, -2.22044605e-16]), array([1., 1.]))"
            ]
          },
          "metadata": {},
          "execution_count": 2
        }
      ]
    },
    {
      "cell_type": "code",
      "source": [
        "X.T[0]"
      ],
      "metadata": {
        "colab": {
          "base_uri": "https://localhost:8080/"
        },
        "id": "7S3XYUJE7DDq",
        "outputId": "ae383fbc-5ae1-4f91-b817-9401e44ac513"
      },
      "execution_count": 3,
      "outputs": [
        {
          "output_type": "execute_result",
          "data": {
            "text/plain": [
              "array([ 0.52224714, -0.15287646, -0.04909804,  1.98043886, -0.94823406,\n",
              "       -1.20197278,  0.69189537, -0.16132436,  1.45446308, -0.5459181 ,\n",
              "        0.45524165, -1.63688969, -0.78290359,  1.75325325,  1.41801586,\n",
              "       -0.2495646 , -0.08992487, -1.22251069,  1.37252161, -0.90413034,\n",
              "       -0.43183848,  0.28027467, -0.51038034, -0.56516179, -0.64143127,\n",
              "        0.7516541 ,  0.38086866, -0.93175242,  0.07486238, -2.5680676 ,\n",
              "       -0.03242025, -1.97792118,  0.47769133,  0.8506327 ,  0.56574906,\n",
              "        0.76551623, -0.420711  ,  0.99159225,  0.12787473,  0.92005196,\n",
              "        1.71290583,  0.28442022, -1.29791326,  0.07757474,  0.82865772,\n",
              "        1.17181591, -0.72973207, -1.08111904, -1.30181897,  0.52539594])"
            ]
          },
          "metadata": {},
          "execution_count": 3
        }
      ]
    },
    {
      "cell_type": "code",
      "source": [
        "X[:, 0]"
      ],
      "metadata": {
        "colab": {
          "base_uri": "https://localhost:8080/"
        },
        "id": "9wz7JxFG7Agz",
        "outputId": "09a86aae-3512-4f0d-f25b-cc0388cbf49f"
      },
      "execution_count": 4,
      "outputs": [
        {
          "output_type": "execute_result",
          "data": {
            "text/plain": [
              "array([ 0.52224714, -0.15287646, -0.04909804,  1.98043886, -0.94823406,\n",
              "       -1.20197278,  0.69189537, -0.16132436,  1.45446308, -0.5459181 ,\n",
              "        0.45524165, -1.63688969, -0.78290359,  1.75325325,  1.41801586,\n",
              "       -0.2495646 , -0.08992487, -1.22251069,  1.37252161, -0.90413034,\n",
              "       -0.43183848,  0.28027467, -0.51038034, -0.56516179, -0.64143127,\n",
              "        0.7516541 ,  0.38086866, -0.93175242,  0.07486238, -2.5680676 ,\n",
              "       -0.03242025, -1.97792118,  0.47769133,  0.8506327 ,  0.56574906,\n",
              "        0.76551623, -0.420711  ,  0.99159225,  0.12787473,  0.92005196,\n",
              "        1.71290583,  0.28442022, -1.29791326,  0.07757474,  0.82865772,\n",
              "        1.17181591, -0.72973207, -1.08111904, -1.30181897,  0.52539594])"
            ]
          },
          "metadata": {},
          "execution_count": 4
        }
      ]
    },
    {
      "cell_type": "code",
      "source": [
        "import matplotlib.pyplot as plt\n",
        "import numpy as np\n",
        "\n",
        "x = np.arange(-3, 4)\n",
        "a = 1\n",
        "b = 0\n",
        "\n",
        "plt.scatter(X[:, 0], X.T[1], c=y)\n",
        "plt.plot(x, a * x + b, label=f'y = {a}x + {b}')\n",
        "plt.ylabel('y');plt.xlabel('x')\n",
        "plt.ylim(-3, 3);plt.xlim(-3, 3)\n",
        "plt.grid()\n",
        "plt.legend();"
      ],
      "metadata": {
        "colab": {
          "base_uri": "https://localhost:8080/",
          "height": 283
        },
        "id": "fGwQbx6hj7Fp",
        "outputId": "3b6388a1-2c84-4c84-9451-d0c7f38f898d"
      },
      "execution_count": 5,
      "outputs": [
        {
          "output_type": "display_data",
          "data": {
            "text/plain": [
              "<Figure size 432x288 with 1 Axes>"
            ],
            "image/png": "[encoded data removed]"
          },
          "metadata": {
            "needs_background": "light"
          }
        }
      ]
    },
    {
      "cell_type": "markdown",
      "source": [
        "# Одномерная логистическая регрессия"
      ],
      "metadata": {
        "id": "wuQyanTXsg4P"
      }
    },
    {
      "cell_type": "markdown",
      "metadata": {
        "id": "RmcjY5KeviKG"
      },
      "source": [
        "## LogisticRegression"
      ]
    },
    {
      "cell_type": "markdown",
      "source": [
        "### Обучение LogisticRegression из sklearn"
      ],
      "metadata": {
        "id": "2MnA-YZHBxzL"
      }
    },
    {
      "cell_type": "code",
      "source": [
        "from sklearn.datasets import make_classification\n",
        "\n",
        "X, y = make_classification(n_samples=25, n_features=1, n_informative=1,\n",
        "                           n_redundant=0, random_state=11, n_clusters_per_class=1,\n",
        "                           class_sep=0.4)\n",
        "\n",
        "display(X, y)"
      ],
      "metadata": {
        "colab": {
          "base_uri": "https://localhost:8080/",
          "height": 486
        },
        "outputId": "1fa2472c-1ad1-4e1d-eefb-d6acda5c7066",
        "id": "hUyglyINrgaZ"
      },
      "execution_count": 6,
      "outputs": [
        {
          "output_type": "display_data",
          "data": {
            "text/plain": [
              "array([[-0.86305361],\n",
              "       [-1.4372011 ],\n",
              "       [ 0.19592225],\n",
              "       [-0.87164985],\n",
              "       [ 0.00982831],\n",
              "       [ 1.30282593],\n",
              "       [ 0.16134434],\n",
              "       [-0.9223264 ],\n",
              "       [-0.10173176],\n",
              "       [ 0.41006497],\n",
              "       [ 0.27129997],\n",
              "       [-0.71111212],\n",
              "       [-2.98259876],\n",
              "       [-0.09300387],\n",
              "       [ 0.82285659],\n",
              "       [ 0.16493473],\n",
              "       [-0.40806382],\n",
              "       [ 0.62136283],\n",
              "       [ 0.76258897],\n",
              "       [-0.11001122],\n",
              "       [-1.26261842],\n",
              "       [ 0.04513441],\n",
              "       [ 0.50026937],\n",
              "       [-0.6784482 ],\n",
              "       [ 0.2182344 ]])"
            ]
          },
          "metadata": {}
        },
        {
          "output_type": "display_data",
          "data": {
            "text/plain": [
              "array([0, 0, 1, 0, 0, 0, 1, 0, 1, 1, 0, 0, 0, 0, 1, 1, 0, 1, 1, 1, 0, 1,\n",
              "       1, 0, 1])"
            ]
          },
          "metadata": {}
        }
      ]
    },
    {
      "cell_type": "code",
      "source": [
        "X.mean(axis=0), X.std(axis=0)"
      ],
      "metadata": {
        "colab": {
          "base_uri": "https://localhost:8080/"
        },
        "id": "9lgV9tzW1ItJ",
        "outputId": "c391e3b4-6f79-48b3-bfc3-263d3d9dbb49"
      },
      "execution_count": 7,
      "outputs": [
        {
          "output_type": "execute_result",
          "data": {
            "text/plain": [
              "(array([-0.19820608]), array([0.87333629]))"
            ]
          },
          "metadata": {},
          "execution_count": 7
        }
      ]
    },
    {
      "cell_type": "code",
      "source": [
        "scaler = StandardScaler()\n",
        "X = scaler.fit_transform(X)\n",
        "X.mean(axis=0), X.std(axis=0)"
      ],
      "metadata": {
        "colab": {
          "base_uri": "https://localhost:8080/"
        },
        "id": "f5CwwIhZt5b4",
        "outputId": "4e1e9177-ee30-491d-d565-2c52d6df9f3b"
      },
      "execution_count": 8,
      "outputs": [
        {
          "output_type": "execute_result",
          "data": {
            "text/plain": [
              "(array([1.77635684e-17]), array([1.]))"
            ]
          },
          "metadata": {},
          "execution_count": 8
        }
      ]
    },
    {
      "cell_type": "code",
      "source": [
        "X.min()"
      ],
      "metadata": {
        "colab": {
          "base_uri": "https://localhost:8080/"
        },
        "id": "2wM1R5lG-JV4",
        "outputId": "dca0003d-4897-4231-c97a-6cfe0185bd73"
      },
      "execution_count": 9,
      "outputs": [
        {
          "output_type": "execute_result",
          "data": {
            "text/plain": [
              "-3.188225104184917"
            ]
          },
          "metadata": {},
          "execution_count": 9
        }
      ]
    },
    {
      "cell_type": "code",
      "source": [
        "plt.figure(figsize=(10, 2))\n",
        "plt.scatter(X, np.zeros(X.shape[0]), c=y, s=100, edgecolors='black') #Y будет везде равен нулю\n",
        "plt.plot([-0.15, -0.15], [-1, 1]) #change just Y axis\n",
        "plt.ylabel('');plt.xlabel('x')\n",
        "#plt.yticks(np.arange(0, 1), [''])\n",
        "plt.ylim(-1, 1);plt.xlim(-3.5, 2);"
      ],
      "metadata": {
        "colab": {
          "base_uri": "https://localhost:8080/",
          "height": 175
        },
        "outputId": "89aa928f-ce1e-4226-ca28-886e3bc2ff7e",
        "id": "bVGtn6iDrgab"
      },
      "execution_count": 10,
      "outputs": [
        {
          "output_type": "display_data",
          "data": {
            "text/plain": [
              "<Figure size 720x144 with 1 Axes>"
            ],
            "image/png": "[encoded data removed]"
          },
          "metadata": {
            "needs_background": "light"
          }
        }
      ]
    },
    {
      "cell_type": "markdown",
      "source": [
        "y = a* x + b<br>\n",
        "**a - ? b - ?**"
      ],
      "metadata": {
        "id": "xVY5GErAuj8v"
      }
    },
    {
      "cell_type": "code",
      "source": [
        "X.shape[0]"
      ],
      "metadata": {
        "colab": {
          "base_uri": "https://localhost:8080/"
        },
        "id": "_zBqkigN8fcS",
        "outputId": "68d44c03-5a31-46d2-9332-04ffd2a5ad2f"
      },
      "execution_count": 11,
      "outputs": [
        {
          "output_type": "execute_result",
          "data": {
            "text/plain": [
              "25"
            ]
          },
          "metadata": {},
          "execution_count": 11
        }
      ]
    },
    {
      "cell_type": "code",
      "source": [
        "np.zeros(X.shape[0])"
      ],
      "metadata": {
        "colab": {
          "base_uri": "https://localhost:8080/"
        },
        "id": "mUm4-Hms8jex",
        "outputId": "dc9fe4de-68a7-45e7-e314-145da020aa8d"
      },
      "execution_count": 12,
      "outputs": [
        {
          "output_type": "execute_result",
          "data": {
            "text/plain": [
              "array([0., 0., 0., 0., 0., 0., 0., 0., 0., 0., 0., 0., 0., 0., 0., 0., 0.,\n",
              "       0., 0., 0., 0., 0., 0., 0., 0.])"
            ]
          },
          "metadata": {},
          "execution_count": 12
        }
      ]
    },
    {
      "cell_type": "code",
      "source": [
        "plt.figure(figsize=(10, 2))\n",
        "plt.scatter(X, np.zeros(X.shape[0]), c=y, s=100, edgecolors='black')\n",
        "\n",
        "x = np.linspace(-3, 3)\n",
        "plt.plot(x, 3*x + 0)\n",
        "plt.ylabel('');plt.xlabel('x')\n",
        "#plt.yticks(np.arange(0, 1), [''])\n",
        "plt.ylim(-1, 1);plt.xlim(-3.5, 2);"
      ],
      "metadata": {
        "colab": {
          "base_uri": "https://localhost:8080/",
          "height": 175
        },
        "id": "FN8mpr0uuuPu",
        "outputId": "f391de4a-5008-4f65-d16a-8f5ee1150a57"
      },
      "execution_count": 13,
      "outputs": [
        {
          "output_type": "display_data",
          "data": {
            "text/plain": [
              "<Figure size 720x144 with 1 Axes>"
            ],
            "image/png": "[encoded data removed]"
          },
          "metadata": {
            "needs_background": "light"
          }
        }
      ]
    },
    {
      "cell_type": "markdown",
      "source": [
        "Возьмем модель `LogisticRegression` из `sklearn` из модуля `linear_model`."
      ],
      "metadata": {
        "id": "uJFYdPE1_TGm"
      }
    },
    {
      "cell_type": "code",
      "source": [
        "from sklearn.linear_model import LogisticRegression\n",
        "\n",
        "model = LogisticRegression()\n",
        "model"
      ],
      "metadata": {
        "colab": {
          "base_uri": "https://localhost:8080/"
        },
        "id": "LsrXG6K5_aLV",
        "outputId": "1339782a-5048-49a7-bf07-e5822f418af1"
      },
      "execution_count": 14,
      "outputs": [
        {
          "output_type": "execute_result",
          "data": {
            "text/plain": [
              "LogisticRegression()"
            ]
          },
          "metadata": {},
          "execution_count": 14
        }
      ]
    },
    {
      "cell_type": "code",
      "source": [
        "model.fit(X, y)"
      ],
      "metadata": {
        "colab": {
          "base_uri": "https://localhost:8080/"
        },
        "id": "h8weuRBk_mHJ",
        "outputId": "62ee0f5b-2fa1-4a67-9817-fae31306afcb"
      },
      "execution_count": 15,
      "outputs": [
        {
          "output_type": "execute_result",
          "data": {
            "text/plain": [
              "LogisticRegression()"
            ]
          },
          "metadata": {},
          "execution_count": 15
        }
      ]
    },
    {
      "cell_type": "code",
      "source": [
        "model.coef_, model.intercept_"
      ],
      "metadata": {
        "colab": {
          "base_uri": "https://localhost:8080/"
        },
        "id": "8RoiC6eN_-8Z",
        "outputId": "22d0a793-aed0-489c-a5f0-1c6a7d9901c3"
      },
      "execution_count": 16,
      "outputs": [
        {
          "output_type": "execute_result",
          "data": {
            "text/plain": [
              "(array([[1.34494091]]), array([-0.19801197]))"
            ]
          },
          "metadata": {},
          "execution_count": 16
        }
      ]
    },
    {
      "cell_type": "code",
      "source": [
        "model_a = model.coef_[0]\n",
        "model_b = model.intercept_"
      ],
      "metadata": {
        "id": "UFJn6GsFBaD7"
      },
      "execution_count": 17,
      "outputs": []
    },
    {
      "cell_type": "code",
      "source": [
        "model_y_sk = model_a * x + model_b\n",
        "\n",
        "plt.figure(figsize=(10, 2))\n",
        "plt.plot(x, model_y_sk, linewidth=2, c='r')\n",
        "plt.scatter(X, np.zeros(X.shape[0]), c=y, s=100, edgecolors='black')\n",
        "plt.ylabel('');plt.xlabel('x')\n",
        "plt.yticks(np.arange(0, 1), [''])\n",
        "plt.ylim(-1, 1);plt.xlim(-3.5, 2);"
      ],
      "metadata": {
        "colab": {
          "base_uri": "https://localhost:8080/",
          "height": 171
        },
        "id": "RuEUmXzTBPDE",
        "outputId": "e41aa3ee-44d2-4af8-c89c-1e29af596a94"
      },
      "execution_count": 18,
      "outputs": [
        {
          "output_type": "display_data",
          "data": {
            "text/plain": [
              "<Figure size 720x144 with 1 Axes>"
            ],
            "image/png": "[encoded data removed]"
          },
          "metadata": {
            "needs_background": "light"
          }
        }
      ]
    },
    {
      "cell_type": "code",
      "source": [
        "model.score(X, y) #получаем долю правильных ответов 0.8 "
      ],
      "metadata": {
        "colab": {
          "base_uri": "https://localhost:8080/"
        },
        "id": "adcHL6QbtoaM",
        "outputId": "ea3645e1-1463-4b81-898c-23730a84f2d4"
      },
      "execution_count": 19,
      "outputs": [
        {
          "output_type": "execute_result",
          "data": {
            "text/plain": [
              "0.8"
            ]
          },
          "metadata": {},
          "execution_count": 19
        }
      ]
    },
    {
      "cell_type": "markdown",
      "source": [
        "Чтобы теперь сделать предсказания этой моделью достаточно вызвать метод `predict` и передать в него данные."
      ],
      "metadata": {
        "id": "0bPamEKfa5rK"
      }
    },
    {
      "cell_type": "code",
      "source": [
        "y_pred_cl = model.predict(X)\n",
        "y_pred_cl[:5]"
      ],
      "metadata": {
        "colab": {
          "base_uri": "https://localhost:8080/"
        },
        "id": "86a7D1DLbIzm",
        "outputId": "655171a2-101e-4ac3-fef4-f42304cce0f0"
      },
      "execution_count": 20,
      "outputs": [
        {
          "output_type": "execute_result",
          "data": {
            "text/plain": [
              "array([0, 0, 1, 0, 1])"
            ]
          },
          "metadata": {},
          "execution_count": 20
        }
      ]
    },
    {
      "cell_type": "markdown",
      "source": [
        "Или же можем можем сделать точно такое же предсказание, если возьмем коэффициент наклона и умножим на значение признака и прибавим к этому коэффициент сдвига. "
      ],
      "metadata": {
        "id": "WPgV0jDvbTci"
      }
    },
    {
      "cell_type": "code",
      "source": [
        "y_pred = model_a * X + model_b\n",
        "y_pred[:5]"
      ],
      "metadata": {
        "colab": {
          "base_uri": "https://localhost:8080/"
        },
        "id": "ssT9MavubmJZ",
        "outputId": "58d19461-ffb7-46bf-e94f-e7fc27306f8b"
      },
      "execution_count": 21,
      "outputs": [
        {
          "output_type": "execute_result",
          "data": {
            "text/plain": [
              "array([[-1.22187946],\n",
              "       [-2.1060686 ],\n",
              "       [ 0.40894703],\n",
              "       [-1.23511771],\n",
              "       [ 0.12236172]])"
            ]
          },
          "metadata": {},
          "execution_count": 21
        }
      ]
    },
    {
      "cell_type": "markdown",
      "source": [
        " предсказание линейной регрессии это не классы "
      ],
      "metadata": {
        "id": "ydkiEE1e593A"
      }
    },
    {
      "cell_type": "code",
      "source": [
        "y_pred_cl = model.predict(X)\n",
        "y_pred_cl[:5]"
      ],
      "metadata": {
        "colab": {
          "base_uri": "https://localhost:8080/"
        },
        "id": "WYjpihJo1o8b",
        "outputId": "5c0bda6a-445c-4d1a-fbd0-8f8c43a06186"
      },
      "execution_count": 22,
      "outputs": [
        {
          "output_type": "execute_result",
          "data": {
            "text/plain": [
              "array([0, 0, 1, 0, 1])"
            ]
          },
          "metadata": {},
          "execution_count": 22
        }
      ]
    },
    {
      "cell_type": "markdown",
      "source": [
        "там где нулевые классы у нас значение линейной регрессии отрицательные а там\n",
        "где положительные классы у нас значение скалярного произведения положительные То есть как будто если у нас скалярное произведение отрицательное это будет\n",
        "нулевой класс и как будто если скалярное произведение положительное это будет\n",
        "первый класс\n"
      ],
      "metadata": {
        "id": "aL8H8N_z6NyH"
      }
    },
    {
      "cell_type": "code",
      "source": [
        "plt.figure(figsize=(10, 2))\n",
        "plt.scatter(X, y_pred_cl, c=y, s=100, edgecolors='black')\n",
        "plt.ylabel('');plt.xlabel('x')\n",
        "plt.yticks(np.arange(0, 2), ['0 class', '1 class'])\n",
        "plt.ylim(-0.1, 1.1);plt.xlim(-3.5, 2)\n",
        "plt.title('Y_pred_class');"
      ],
      "metadata": {
        "colab": {
          "base_uri": "https://localhost:8080/",
          "height": 187
        },
        "id": "OBICjs_qvlrW",
        "outputId": "e46fbbd1-9c7c-450f-cbc6-a0d770efadc1"
      },
      "execution_count": 23,
      "outputs": [
        {
          "output_type": "display_data",
          "data": {
            "text/plain": [
              "<Figure size 720x144 with 1 Axes>"
            ],
            "image/png": "[encoded data removed]"
          },
          "metadata": {
            "needs_background": "light"
          }
        }
      ]
    },
    {
      "cell_type": "code",
      "source": [
        "model_y_sk = model_a * x + model_b\n",
        "\n",
        "plt.figure(figsize=(10, 2))\n",
        "plt.plot(x, model_y_sk, linewidth=2, c='r')\n",
        "plt.scatter(X, np.zeros(X.shape[0]), c=y, s=100)\n",
        "plt.ylabel('pred');plt.xlabel('x')\n",
        "plt.title('Y_pred');"
      ],
      "metadata": {
        "colab": {
          "base_uri": "https://localhost:8080/",
          "height": 187
        },
        "id": "0RVENPN_yepv",
        "outputId": "9d37e8c7-b052-4a98-e159-b9fe9d0b7b82"
      },
      "execution_count": 24,
      "outputs": [
        {
          "output_type": "display_data",
          "data": {
            "text/plain": [
              "<Figure size 720x144 with 1 Axes>"
            ],
            "image/png": "[encoded data removed]"
          },
          "metadata": {
            "needs_background": "light"
          }
        }
      ]
    },
    {
      "cell_type": "code",
      "source": [
        "pred_proba = model.predict_proba(X) #predictions of probability \n",
        "pred_proba[:5] # first column indicates probability of 1 class\n",
        "#sum of raws equal to one !"
      ],
      "metadata": {
        "colab": {
          "base_uri": "https://localhost:8080/"
        },
        "id": "4Jy9Xm-nyzOs",
        "outputId": "30a001e2-7b5d-49c9-ec72-f3d598b557b2"
      },
      "execution_count": 25,
      "outputs": [
        {
          "output_type": "execute_result",
          "data": {
            "text/plain": [
              "array([[0.77239413, 0.22760587],\n",
              "       [0.89149162, 0.10850838],\n",
              "       [0.39916463, 0.60083537],\n",
              "       [0.77471304, 0.22528696],\n",
              "       [0.46944768, 0.53055232]])"
            ]
          },
          "metadata": {},
          "execution_count": 25
        }
      ]
    },
    {
      "cell_type": "code",
      "source": [
        "pred_proba.T[1]"
      ],
      "metadata": {
        "colab": {
          "base_uri": "https://localhost:8080/"
        },
        "id": "is4MBUdVAXpw",
        "outputId": "acd94d47-2399-439f-fb9a-440c4e83dcd1"
      },
      "execution_count": 26,
      "outputs": [
        {
          "output_type": "execute_result",
          "data": {
            "text/plain": [
              "array([0.22760587, 0.10850838, 0.60083537, 0.22528696, 0.53055232,\n",
              "       0.89221634, 0.58799838, 0.21195858, 0.48764223, 0.67671755,\n",
              "       0.62832296, 0.27132923, 0.01114027, 0.49100092, 0.79809464,\n",
              "       0.58933722, 0.37257317, 0.74347843, 0.78272469, 0.48445712,\n",
              "       0.13738152, 0.54406866, 0.70633348, 0.28138812, 0.60904694])"
            ]
          },
          "metadata": {},
          "execution_count": 26
        }
      ]
    },
    {
      "cell_type": "code",
      "source": [
        "pred_proba = pred_proba[:, 1]\n",
        "pred_proba[:5]"
      ],
      "metadata": {
        "colab": {
          "base_uri": "https://localhost:8080/"
        },
        "id": "zkkm5yuiy3gb",
        "outputId": "2670363e-dfe6-4669-de0c-2bd64ea957da"
      },
      "execution_count": 27,
      "outputs": [
        {
          "output_type": "execute_result",
          "data": {
            "text/plain": [
              "array([0.22760587, 0.10850838, 0.60083537, 0.22528696, 0.53055232])"
            ]
          },
          "metadata": {},
          "execution_count": 27
        }
      ]
    },
    {
      "cell_type": "code",
      "source": [
        "plt.figure(figsize=(10, 2))\n",
        "plt.scatter(X, pred_proba, c=y, s=100)\n",
        "plt.ylabel('pred');plt.xlabel('x')\n",
        "plt.title('proba');"
      ],
      "metadata": {
        "colab": {
          "base_uri": "https://localhost:8080/",
          "height": 187
        },
        "id": "CmjiCbsSytYt",
        "outputId": "95b54c7f-e518-4238-8eb2-db5c4e5409c1"
      },
      "execution_count": 28,
      "outputs": [
        {
          "output_type": "display_data",
          "data": {
            "text/plain": [
              "<Figure size 720x144 with 1 Axes>"
            ],
            "image/png": "[encoded data removed]"
          },
          "metadata": {
            "needs_background": "light"
          }
        }
      ]
    },
    {
      "cell_type": "code",
      "source": [
        "def sigmoid(x):\n",
        "    return 1 / (1 + np.exp(-x))"
      ],
      "metadata": {
        "id": "ZgBYqLU632kI"
      },
      "execution_count": 29,
      "outputs": []
    },
    {
      "cell_type": "code",
      "source": [
        "x = np.linspace(-3, 3, num=100)\n",
        "model_y_sk = model_a * x + model_b\n",
        "\n",
        "plt.figure(figsize=(10, 2))\n",
        "plt.plot(x, sigmoid(model_y_sk), linewidth=2, c='r')\n",
        "plt.scatter(X, y_pred_cl, c=y, s=100, edgecolors='black')\n",
        "plt.ylabel('pred');plt.xlabel('x')\n",
        "plt.yticks(np.arange(0, 2), ['0 class', '1 class'])\n",
        "plt.ylim(-0.1, 1.1);plt.xlim(-3.5, 2)\n",
        "plt.title('Sigmoid');"
      ],
      "metadata": {
        "colab": {
          "base_uri": "https://localhost:8080/",
          "height": 187
        },
        "id": "bzN7PIqT3zq6",
        "outputId": "198ddefa-12cf-4fde-fdd3-d5434ae625de"
      },
      "execution_count": 30,
      "outputs": [
        {
          "output_type": "display_data",
          "data": {
            "text/plain": [
              "<Figure size 720x144 with 1 Axes>"
            ],
            "image/png": "[encoded data removed]"
          },
          "metadata": {
            "needs_background": "light"
          }
        }
      ]
    },
    {
      "cell_type": "markdown",
      "source": [
        "видели выше только не видит точек а виде кривой И на самом деле с помощью\n",
        "этой сигмоиды модель линейной регрессии становится логистической регрессией\n",
        "которая уже Создана для сдачи классификации"
      ],
      "metadata": {
        "id": "c73fD44c8I99"
      }
    },
    {
      "cell_type": "markdown",
      "source": [
        "**Logistic Regression = Linear Regression + Sigmoid**"
      ],
      "metadata": {
        "id": "MC-Ir8-W4T6g"
      }
    },
    {
      "cell_type": "markdown",
      "source": [
        "### Сравнение моделей "
      ],
      "metadata": {
        "id": "uKc4lNMiHf8b"
      }
    },
    {
      "cell_type": "code",
      "source": [
        "a = 3\n",
        "b = -2\n",
        "model_y = a * x + b\n",
        "\n",
        "\n",
        "plt.figure(figsize=(10, 2))\n",
        "plt.plot(x, model_y, linewidth=2, c='r')\n",
        "plt.scatter(X, np.zeros(X.shape[0]), c=y, s=100, edgecolors='black')\n",
        "plt.ylabel('');plt.xlabel('x')\n",
        "plt.yticks(np.arange(0, 1), [''])\n",
        "plt.ylim(-1, 1);plt.xlim(-3.5, 2);"
      ],
      "metadata": {
        "colab": {
          "base_uri": "https://localhost:8080/",
          "height": 171
        },
        "id": "ABeC5cTv4Xx7",
        "outputId": "9b4e036d-6f06-4ccf-edae-593e74e6f7aa"
      },
      "execution_count": 31,
      "outputs": [
        {
          "output_type": "display_data",
          "data": {
            "text/plain": [
              "<Figure size 720x144 with 1 Axes>"
            ],
            "image/png": "[encoded data removed]"
          },
          "metadata": {
            "needs_background": "light"
          }
        }
      ]
    },
    {
      "cell_type": "code",
      "source": [
        "plt.figure(figsize=(10, 4))\n",
        "plt.plot(x, sigmoid(model_y_sk), linewidth=2, label='sklearn')\n",
        "plt.plot(x, sigmoid(model_y), linewidth=2, label='my')\n",
        "plt.scatter(X, y_pred_cl, c=y, s=100, edgecolors='black')\n",
        "plt.ylabel('pred');plt.xlabel('x')\n",
        "plt.yticks(np.arange(0, 2), ['0 class', '1 class'])\n",
        "plt.ylim(-0.1, 1.1);plt.xlim(-3.5, 2)\n",
        "plt.title('Sklearn VS My')\n",
        "plt.legend();"
      ],
      "metadata": {
        "colab": {
          "base_uri": "https://localhost:8080/",
          "height": 295
        },
        "id": "NAIV1WXc6F-x",
        "outputId": "a01a8b43-a491-4664-8994-f0e6d1c24fcb"
      },
      "execution_count": 32,
      "outputs": [
        {
          "output_type": "display_data",
          "data": {
            "text/plain": [
              "<Figure size 720x288 with 1 Axes>"
            ],
            "image/png": "[encoded data removed]"
          },
          "metadata": {
            "needs_background": "light"
          }
        }
      ]
    },
    {
      "cell_type": "markdown",
      "source": [
        "Составим все данные в одну таблицу:\n",
        "- `X` - это точки, на которых строим модель\n",
        "- `y` - это настоящая целевая переменная, которую хотим предсказать\n",
        "- `pred_model_good` - это значения на линии по координатам `X` первой модели, имеем предсказания модель `LinearRegression`\n",
        "- и `pred_bad_model` - это значения на линии по координатам `X` второй модели, которая создана вручную, а не силами `sklearn`"
      ],
      "metadata": {
        "id": "PK43OAJOJ9nh"
      }
    },
    {
      "cell_type": "code",
      "source": [
        "np.squeeze(X)"
      ],
      "metadata": {
        "colab": {
          "base_uri": "https://localhost:8080/"
        },
        "id": "tH56kthnA2ce",
        "outputId": "8935ba31-d97d-438e-e337-9135d119a49e"
      },
      "execution_count": 33,
      "outputs": [
        {
          "output_type": "execute_result",
          "data": {
            "text/plain": [
              "array([-0.76127322, -1.41869179,  0.45129046, -0.77111621,  0.23820651,\n",
              "        1.71873313,  0.41169756, -0.82914259,  0.11046641,  0.69649121,\n",
              "        0.53760054, -0.587295  , -3.1882251 ,  0.12046015,  1.16915177,\n",
              "        0.41580869, -0.2402943 ,  0.93843451,  1.10014328,  0.10098614,\n",
              "       -1.21878863,  0.27863321,  0.79977834, -0.54989369,  0.47683863])"
            ]
          },
          "metadata": {},
          "execution_count": 33
        }
      ]
    },
    {
      "cell_type": "code",
      "source": [
        "import pandas as pd\n",
        "\n",
        "df = pd.DataFrame({\n",
        "    'X': np.squeeze(X),\n",
        "    'y': y,\n",
        "    'pred_sk_model': sigmoid(np.squeeze(model_a * X + model_b)),\n",
        "    'pred_my_model': sigmoid(np.squeeze(a * X + b))\n",
        "})\n",
        "\n",
        "\n",
        "df.head()"
      ],
      "metadata": {
        "colab": {
          "base_uri": "https://localhost:8080/",
          "height": 206
        },
        "id": "596LHapcI8Ra",
        "outputId": "304e82b7-e936-40b1-87d1-5d5cf664b299"
      },
      "execution_count": 34,
      "outputs": [
        {
          "output_type": "execute_result",
          "data": {
            "text/plain": [
              "          X  y  pred_sk_model  pred_my_model\n",
              "0 -0.761273  0       0.227606       0.013602\n",
              "1 -1.418692  0       0.108508       0.001915\n",
              "2  0.451290  1       0.600835       0.343862\n",
              "3 -0.771116  0       0.225287       0.013212\n",
              "4  0.238207  0       0.530552       0.216636"
            ],
            "text/html": [
              "\n",
              "  <div id=\"df-d7a5c274-9e68-4ca9-b8c5-c39445f73e93\">\n",
              "    <div class=\"colab-df-container\">\n",
              "      <div>\n",
              "<style scoped>\n",
              "    .dataframe tbody tr th:only-of-type {\n",
              "        vertical-align: middle;\n",
              "    }\n",
              "\n",
              "    .dataframe tbody tr th {\n",
              "        vertical-align: top;\n",
              "    }\n",
              "\n",
              "    .dataframe thead th {\n",
              "        text-align: right;\n",
              "    }\n",
              "</style>\n",
              "<table border=\"1\" class=\"dataframe\">\n",
              "  <thead>\n",
              "    <tr style=\"text-align: right;\">\n",
              "      <th></th>\n",
              "      <th>X</th>\n",
              "      <th>y</th>\n",
              "      <th>pred_sk_model</th>\n",
              "      <th>pred_my_model</th>\n",
              "    </tr>\n",
              "  </thead>\n",
              "  <tbody>\n",
              "    <tr>\n",
              "      <th>0</th>\n",
              "      <td>-0.761273</td>\n",
              "      <td>0</td>\n",
              "      <td>0.227606</td>\n",
              "      <td>0.013602</td>\n",
              "    </tr>\n",
              "    <tr>\n",
              "      <th>1</th>\n",
              "      <td>-1.418692</td>\n",
              "      <td>0</td>\n",
              "      <td>0.108508</td>\n",
              "      <td>0.001915</td>\n",
              "    </tr>\n",
              "    <tr>\n",
              "      <th>2</th>\n",
              "      <td>0.451290</td>\n",
              "      <td>1</td>\n",
              "      <td>0.600835</td>\n",
              "      <td>0.343862</td>\n",
              "    </tr>\n",
              "    <tr>\n",
              "      <th>3</th>\n",
              "      <td>-0.771116</td>\n",
              "      <td>0</td>\n",
              "      <td>0.225287</td>\n",
              "      <td>0.013212</td>\n",
              "    </tr>\n",
              "    <tr>\n",
              "      <th>4</th>\n",
              "      <td>0.238207</td>\n",
              "      <td>0</td>\n",
              "      <td>0.530552</td>\n",
              "      <td>0.216636</td>\n",
              "    </tr>\n",
              "  </tbody>\n",
              "</table>\n",
              "</div>\n",
              "      <button class=\"colab-df-convert\" onclick=\"convertToInteractive('df-d7a5c274-9e68-4ca9-b8c5-c39445f73e93')\"\n",
              "              title=\"Convert this dataframe to an interactive table.\"\n",
              "              style=\"display:none;\">\n",
              "        \n",
              "  <svg xmlns=\"http://www.w3.org/2000/svg\" height=\"24px\"viewBox=\"0 0 24 24\"\n",
              "       width=\"24px\">\n",
              "    <path d=\"M0 0h24v24H0V0z\" fill=\"none\"/>\n",
              "    <path d=\"M18.56 5.44l.94 2.06.94-2.06 2.06-.94-2.06-.94-.94-2.06-.94 2.06-2.06.94zm-11 1L8.5 8.5l.94-2.06 2.06-.94-2.06-.94L8.5 2.5l-.94 2.06-2.06.94zm10 10l.94 2.06.94-2.06 2.06-.94-2.06-.94-.94-2.06-.94 2.06-2.06.94z\"/><path d=\"M17.41 7.96l-1.37-1.37c-.4-.4-.92-.59-1.43-.59-.52 0-1.04.2-1.43.59L10.3 9.45l-7.72 7.72c-.78.78-.78 2.05 0 2.83L4 21.41c.39.39.9.59 1.41.59.51 0 1.02-.2 1.41-.59l7.78-7.78 2.81-2.81c.8-.78.8-2.07 0-2.86zM5.41 20L4 18.59l7.72-7.72 1.47 1.35L5.41 20z\"/>\n",
              "  </svg>\n",
              "      </button>\n",
              "      \n",
              "  <style>\n",
              "    .colab-df-container {\n",
              "      display:flex;\n",
              "      flex-wrap:wrap;\n",
              "      gap: 12px;\n",
              "    }\n",
              "\n",
              "    .colab-df-convert {\n",
              "      background-color: #E8F0FE;\n",
              "      border: none;\n",
              "      border-radius: 50%;\n",
              "      cursor: pointer;\n",
              "      display: none;\n",
              "      fill: #1967D2;\n",
              "      height: 32px;\n",
              "      padding: 0 0 0 0;\n",
              "      width: 32px;\n",
              "    }\n",
              "\n",
              "    .colab-df-convert:hover {\n",
              "      background-color: #E2EBFA;\n",
              "      box-shadow: 0px 1px 2px rgba(60, 64, 67, 0.3), 0px 1px 3px 1px rgba(60, 64, 67, 0.15);\n",
              "      fill: #174EA6;\n",
              "    }\n",
              "\n",
              "    [theme=dark] .colab-df-convert {\n",
              "      background-color: #3B4455;\n",
              "      fill: #D2E3FC;\n",
              "    }\n",
              "\n",
              "    [theme=dark] .colab-df-convert:hover {\n",
              "      background-color: #434B5C;\n",
              "      box-shadow: 0px 1px 3px 1px rgba(0, 0, 0, 0.15);\n",
              "      filter: drop-shadow(0px 1px 2px rgba(0, 0, 0, 0.3));\n",
              "      fill: #FFFFFF;\n",
              "    }\n",
              "  </style>\n",
              "\n",
              "      <script>\n",
              "        const buttonEl =\n",
              "          document.querySelector('#df-d7a5c274-9e68-4ca9-b8c5-c39445f73e93 button.colab-df-convert');\n",
              "        buttonEl.style.display =\n",
              "          google.colab.kernel.accessAllowed ? 'block' : 'none';\n",
              "\n",
              "        async function convertToInteractive(key) {\n",
              "          const element = document.querySelector('#df-d7a5c274-9e68-4ca9-b8c5-c39445f73e93');\n",
              "          const dataTable =\n",
              "            await google.colab.kernel.invokeFunction('convertToInteractive',\n",
              "                                                     [key], {});\n",
              "          if (!dataTable) return;\n",
              "\n",
              "          const docLinkHtml = 'Like what you see? Visit the ' +\n",
              "            '<a target=\"_blank\" href=https://colab.research.google.com/notebooks/data_table.ipynb>data table notebook</a>'\n",
              "            + ' to learn more about interactive tables.';\n",
              "          element.innerHTML = '';\n",
              "          dataTable['output_type'] = 'display_data';\n",
              "          await google.colab.output.renderOutput(dataTable, element);\n",
              "          const docLink = document.createElement('div');\n",
              "          docLink.innerHTML = docLinkHtml;\n",
              "          element.appendChild(docLink);\n",
              "        }\n",
              "      </script>\n",
              "    </div>\n",
              "  </div>\n",
              "  "
            ]
          },
          "metadata": {},
          "execution_count": 34
        }
      ]
    },
    {
      "cell_type": "code",
      "source": [
        "df['sk_class'] = (df['pred_sk_model'] > 0.5).astype('int')\n",
        "df['my_class'] = (df['pred_my_model'] > 0.5).astype('int')\n",
        "df.head()"
      ],
      "metadata": {
        "colab": {
          "base_uri": "https://localhost:8080/",
          "height": 206
        },
        "id": "aJBTUWrq5jRW",
        "outputId": "737d8ce7-6188-4c8b-ea4b-bc96f0305d8e"
      },
      "execution_count": 35,
      "outputs": [
        {
          "output_type": "execute_result",
          "data": {
            "text/plain": [
              "          X  y  pred_sk_model  pred_my_model  sk_class  my_class\n",
              "0 -0.761273  0       0.227606       0.013602         0         0\n",
              "1 -1.418692  0       0.108508       0.001915         0         0\n",
              "2  0.451290  1       0.600835       0.343862         1         0\n",
              "3 -0.771116  0       0.225287       0.013212         0         0\n",
              "4  0.238207  0       0.530552       0.216636         1         0"
            ],
            "text/html": [
              "\n",
              "  <div id=\"df-2b7e7e12-9100-45b2-a72b-727eb98ab70e\">\n",
              "    <div class=\"colab-df-container\">\n",
              "      <div>\n",
              "<style scoped>\n",
              "    .dataframe tbody tr th:only-of-type {\n",
              "        vertical-align: middle;\n",
              "    }\n",
              "\n",
              "    .dataframe tbody tr th {\n",
              "        vertical-align: top;\n",
              "    }\n",
              "\n",
              "    .dataframe thead th {\n",
              "        text-align: right;\n",
              "    }\n",
              "</style>\n",
              "<table border=\"1\" class=\"dataframe\">\n",
              "  <thead>\n",
              "    <tr style=\"text-align: right;\">\n",
              "      <th></th>\n",
              "      <th>X</th>\n",
              "      <th>y</th>\n",
              "      <th>pred_sk_model</th>\n",
              "      <th>pred_my_model</th>\n",
              "      <th>sk_class</th>\n",
              "      <th>my_class</th>\n",
              "    </tr>\n",
              "  </thead>\n",
              "  <tbody>\n",
              "    <tr>\n",
              "      <th>0</th>\n",
              "      <td>-0.761273</td>\n",
              "      <td>0</td>\n",
              "      <td>0.227606</td>\n",
              "      <td>0.013602</td>\n",
              "      <td>0</td>\n",
              "      <td>0</td>\n",
              "    </tr>\n",
              "    <tr>\n",
              "      <th>1</th>\n",
              "      <td>-1.418692</td>\n",
              "      <td>0</td>\n",
              "      <td>0.108508</td>\n",
              "      <td>0.001915</td>\n",
              "      <td>0</td>\n",
              "      <td>0</td>\n",
              "    </tr>\n",
              "    <tr>\n",
              "      <th>2</th>\n",
              "      <td>0.451290</td>\n",
              "      <td>1</td>\n",
              "      <td>0.600835</td>\n",
              "      <td>0.343862</td>\n",
              "      <td>1</td>\n",
              "      <td>0</td>\n",
              "    </tr>\n",
              "    <tr>\n",
              "      <th>3</th>\n",
              "      <td>-0.771116</td>\n",
              "      <td>0</td>\n",
              "      <td>0.225287</td>\n",
              "      <td>0.013212</td>\n",
              "      <td>0</td>\n",
              "      <td>0</td>\n",
              "    </tr>\n",
              "    <tr>\n",
              "      <th>4</th>\n",
              "      <td>0.238207</td>\n",
              "      <td>0</td>\n",
              "      <td>0.530552</td>\n",
              "      <td>0.216636</td>\n",
              "      <td>1</td>\n",
              "      <td>0</td>\n",
              "    </tr>\n",
              "  </tbody>\n",
              "</table>\n",
              "</div>\n",
              "      <button class=\"colab-df-convert\" onclick=\"convertToInteractive('df-2b7e7e12-9100-45b2-a72b-727eb98ab70e')\"\n",
              "              title=\"Convert this dataframe to an interactive table.\"\n",
              "              style=\"display:none;\">\n",
              "        \n",
              "  <svg xmlns=\"http://www.w3.org/2000/svg\" height=\"24px\"viewBox=\"0 0 24 24\"\n",
              "       width=\"24px\">\n",
              "    <path d=\"M0 0h24v24H0V0z\" fill=\"none\"/>\n",
              "    <path d=\"M18.56 5.44l.94 2.06.94-2.06 2.06-.94-2.06-.94-.94-2.06-.94 2.06-2.06.94zm-11 1L8.5 8.5l.94-2.06 2.06-.94-2.06-.94L8.5 2.5l-.94 2.06-2.06.94zm10 10l.94 2.06.94-2.06 2.06-.94-2.06-.94-.94-2.06-.94 2.06-2.06.94z\"/><path d=\"M17.41 7.96l-1.37-1.37c-.4-.4-.92-.59-1.43-.59-.52 0-1.04.2-1.43.59L10.3 9.45l-7.72 7.72c-.78.78-.78 2.05 0 2.83L4 21.41c.39.39.9.59 1.41.59.51 0 1.02-.2 1.41-.59l7.78-7.78 2.81-2.81c.8-.78.8-2.07 0-2.86zM5.41 20L4 18.59l7.72-7.72 1.47 1.35L5.41 20z\"/>\n",
              "  </svg>\n",
              "      </button>\n",
              "      \n",
              "  <style>\n",
              "    .colab-df-container {\n",
              "      display:flex;\n",
              "      flex-wrap:wrap;\n",
              "      gap: 12px;\n",
              "    }\n",
              "\n",
              "    .colab-df-convert {\n",
              "      background-color: #E8F0FE;\n",
              "      border: none;\n",
              "      border-radius: 50%;\n",
              "      cursor: pointer;\n",
              "      display: none;\n",
              "      fill: #1967D2;\n",
              "      height: 32px;\n",
              "      padding: 0 0 0 0;\n",
              "      width: 32px;\n",
              "    }\n",
              "\n",
              "    .colab-df-convert:hover {\n",
              "      background-color: #E2EBFA;\n",
              "      box-shadow: 0px 1px 2px rgba(60, 64, 67, 0.3), 0px 1px 3px 1px rgba(60, 64, 67, 0.15);\n",
              "      fill: #174EA6;\n",
              "    }\n",
              "\n",
              "    [theme=dark] .colab-df-convert {\n",
              "      background-color: #3B4455;\n",
              "      fill: #D2E3FC;\n",
              "    }\n",
              "\n",
              "    [theme=dark] .colab-df-convert:hover {\n",
              "      background-color: #434B5C;\n",
              "      box-shadow: 0px 1px 3px 1px rgba(0, 0, 0, 0.15);\n",
              "      filter: drop-shadow(0px 1px 2px rgba(0, 0, 0, 0.3));\n",
              "      fill: #FFFFFF;\n",
              "    }\n",
              "  </style>\n",
              "\n",
              "      <script>\n",
              "        const buttonEl =\n",
              "          document.querySelector('#df-2b7e7e12-9100-45b2-a72b-727eb98ab70e button.colab-df-convert');\n",
              "        buttonEl.style.display =\n",
              "          google.colab.kernel.accessAllowed ? 'block' : 'none';\n",
              "\n",
              "        async function convertToInteractive(key) {\n",
              "          const element = document.querySelector('#df-2b7e7e12-9100-45b2-a72b-727eb98ab70e');\n",
              "          const dataTable =\n",
              "            await google.colab.kernel.invokeFunction('convertToInteractive',\n",
              "                                                     [key], {});\n",
              "          if (!dataTable) return;\n",
              "\n",
              "          const docLinkHtml = 'Like what you see? Visit the ' +\n",
              "            '<a target=\"_blank\" href=https://colab.research.google.com/notebooks/data_table.ipynb>data table notebook</a>'\n",
              "            + ' to learn more about interactive tables.';\n",
              "          element.innerHTML = '';\n",
              "          dataTable['output_type'] = 'display_data';\n",
              "          await google.colab.output.renderOutput(dataTable, element);\n",
              "          const docLink = document.createElement('div');\n",
              "          docLink.innerHTML = docLinkHtml;\n",
              "          element.appendChild(docLink);\n",
              "        }\n",
              "      </script>\n",
              "    </div>\n",
              "  </div>\n",
              "  "
            ]
          },
          "metadata": {},
          "execution_count": 35
        }
      ]
    },
    {
      "cell_type": "markdown",
      "source": [
        "Посчитаем отклонения предсказаний от истины для каждой модели."
      ],
      "metadata": {
        "id": "Mw9kAfmtK4Pw"
      }
    },
    {
      "cell_type": "code",
      "source": [
        "df.shape[0]"
      ],
      "metadata": {
        "colab": {
          "base_uri": "https://localhost:8080/"
        },
        "id": "PR4OLnSRvD_0",
        "outputId": "1c96603a-e773-478d-c154-4935dccadd41"
      },
      "execution_count": 36,
      "outputs": [
        {
          "output_type": "execute_result",
          "data": {
            "text/plain": [
              "25"
            ]
          },
          "metadata": {},
          "execution_count": 36
        }
      ]
    },
    {
      "cell_type": "code",
      "source": [
        "df[df['sk_class'] != df['y']]"
      ],
      "metadata": {
        "colab": {
          "base_uri": "https://localhost:8080/",
          "height": 206
        },
        "id": "s4eMD4u_vHsP",
        "outputId": "9214a808-2ab7-45e7-e010-a014fadda5ca"
      },
      "execution_count": 37,
      "outputs": [
        {
          "output_type": "execute_result",
          "data": {
            "text/plain": [
              "           X  y  pred_sk_model  pred_my_model  sk_class  my_class\n",
              "4   0.238207  0       0.530552       0.216636         1         0\n",
              "5   1.718733  0       0.892216       0.959152         1         1\n",
              "8   0.110466  1       0.487642       0.158611         0         0\n",
              "10  0.537601  0       0.628323       0.404392         1         0\n",
              "19  0.100986  1       0.484457       0.154852         0         0"
            ],
            "text/html": [
              "\n",
              "  <div id=\"df-b0a15ea6-24ac-4e46-a48d-83ad800fee38\">\n",
              "    <div class=\"colab-df-container\">\n",
              "      <div>\n",
              "<style scoped>\n",
              "    .dataframe tbody tr th:only-of-type {\n",
              "        vertical-align: middle;\n",
              "    }\n",
              "\n",
              "    .dataframe tbody tr th {\n",
              "        vertical-align: top;\n",
              "    }\n",
              "\n",
              "    .dataframe thead th {\n",
              "        text-align: right;\n",
              "    }\n",
              "</style>\n",
              "<table border=\"1\" class=\"dataframe\">\n",
              "  <thead>\n",
              "    <tr style=\"text-align: right;\">\n",
              "      <th></th>\n",
              "      <th>X</th>\n",
              "      <th>y</th>\n",
              "      <th>pred_sk_model</th>\n",
              "      <th>pred_my_model</th>\n",
              "      <th>sk_class</th>\n",
              "      <th>my_class</th>\n",
              "    </tr>\n",
              "  </thead>\n",
              "  <tbody>\n",
              "    <tr>\n",
              "      <th>4</th>\n",
              "      <td>0.238207</td>\n",
              "      <td>0</td>\n",
              "      <td>0.530552</td>\n",
              "      <td>0.216636</td>\n",
              "      <td>1</td>\n",
              "      <td>0</td>\n",
              "    </tr>\n",
              "    <tr>\n",
              "      <th>5</th>\n",
              "      <td>1.718733</td>\n",
              "      <td>0</td>\n",
              "      <td>0.892216</td>\n",
              "      <td>0.959152</td>\n",
              "      <td>1</td>\n",
              "      <td>1</td>\n",
              "    </tr>\n",
              "    <tr>\n",
              "      <th>8</th>\n",
              "      <td>0.110466</td>\n",
              "      <td>1</td>\n",
              "      <td>0.487642</td>\n",
              "      <td>0.158611</td>\n",
              "      <td>0</td>\n",
              "      <td>0</td>\n",
              "    </tr>\n",
              "    <tr>\n",
              "      <th>10</th>\n",
              "      <td>0.537601</td>\n",
              "      <td>0</td>\n",
              "      <td>0.628323</td>\n",
              "      <td>0.404392</td>\n",
              "      <td>1</td>\n",
              "      <td>0</td>\n",
              "    </tr>\n",
              "    <tr>\n",
              "      <th>19</th>\n",
              "      <td>0.100986</td>\n",
              "      <td>1</td>\n",
              "      <td>0.484457</td>\n",
              "      <td>0.154852</td>\n",
              "      <td>0</td>\n",
              "      <td>0</td>\n",
              "    </tr>\n",
              "  </tbody>\n",
              "</table>\n",
              "</div>\n",
              "      <button class=\"colab-df-convert\" onclick=\"convertToInteractive('df-b0a15ea6-24ac-4e46-a48d-83ad800fee38')\"\n",
              "              title=\"Convert this dataframe to an interactive table.\"\n",
              "              style=\"display:none;\">\n",
              "        \n",
              "  <svg xmlns=\"http://www.w3.org/2000/svg\" height=\"24px\"viewBox=\"0 0 24 24\"\n",
              "       width=\"24px\">\n",
              "    <path d=\"M0 0h24v24H0V0z\" fill=\"none\"/>\n",
              "    <path d=\"M18.56 5.44l.94 2.06.94-2.06 2.06-.94-2.06-.94-.94-2.06-.94 2.06-2.06.94zm-11 1L8.5 8.5l.94-2.06 2.06-.94-2.06-.94L8.5 2.5l-.94 2.06-2.06.94zm10 10l.94 2.06.94-2.06 2.06-.94-2.06-.94-.94-2.06-.94 2.06-2.06.94z\"/><path d=\"M17.41 7.96l-1.37-1.37c-.4-.4-.92-.59-1.43-.59-.52 0-1.04.2-1.43.59L10.3 9.45l-7.72 7.72c-.78.78-.78 2.05 0 2.83L4 21.41c.39.39.9.59 1.41.59.51 0 1.02-.2 1.41-.59l7.78-7.78 2.81-2.81c.8-.78.8-2.07 0-2.86zM5.41 20L4 18.59l7.72-7.72 1.47 1.35L5.41 20z\"/>\n",
              "  </svg>\n",
              "      </button>\n",
              "      \n",
              "  <style>\n",
              "    .colab-df-container {\n",
              "      display:flex;\n",
              "      flex-wrap:wrap;\n",
              "      gap: 12px;\n",
              "    }\n",
              "\n",
              "    .colab-df-convert {\n",
              "      background-color: #E8F0FE;\n",
              "      border: none;\n",
              "      border-radius: 50%;\n",
              "      cursor: pointer;\n",
              "      display: none;\n",
              "      fill: #1967D2;\n",
              "      height: 32px;\n",
              "      padding: 0 0 0 0;\n",
              "      width: 32px;\n",
              "    }\n",
              "\n",
              "    .colab-df-convert:hover {\n",
              "      background-color: #E2EBFA;\n",
              "      box-shadow: 0px 1px 2px rgba(60, 64, 67, 0.3), 0px 1px 3px 1px rgba(60, 64, 67, 0.15);\n",
              "      fill: #174EA6;\n",
              "    }\n",
              "\n",
              "    [theme=dark] .colab-df-convert {\n",
              "      background-color: #3B4455;\n",
              "      fill: #D2E3FC;\n",
              "    }\n",
              "\n",
              "    [theme=dark] .colab-df-convert:hover {\n",
              "      background-color: #434B5C;\n",
              "      box-shadow: 0px 1px 3px 1px rgba(0, 0, 0, 0.15);\n",
              "      filter: drop-shadow(0px 1px 2px rgba(0, 0, 0, 0.3));\n",
              "      fill: #FFFFFF;\n",
              "    }\n",
              "  </style>\n",
              "\n",
              "      <script>\n",
              "        const buttonEl =\n",
              "          document.querySelector('#df-b0a15ea6-24ac-4e46-a48d-83ad800fee38 button.colab-df-convert');\n",
              "        buttonEl.style.display =\n",
              "          google.colab.kernel.accessAllowed ? 'block' : 'none';\n",
              "\n",
              "        async function convertToInteractive(key) {\n",
              "          const element = document.querySelector('#df-b0a15ea6-24ac-4e46-a48d-83ad800fee38');\n",
              "          const dataTable =\n",
              "            await google.colab.kernel.invokeFunction('convertToInteractive',\n",
              "                                                     [key], {});\n",
              "          if (!dataTable) return;\n",
              "\n",
              "          const docLinkHtml = 'Like what you see? Visit the ' +\n",
              "            '<a target=\"_blank\" href=https://colab.research.google.com/notebooks/data_table.ipynb>data table notebook</a>'\n",
              "            + ' to learn more about interactive tables.';\n",
              "          element.innerHTML = '';\n",
              "          dataTable['output_type'] = 'display_data';\n",
              "          await google.colab.output.renderOutput(dataTable, element);\n",
              "          const docLink = document.createElement('div');\n",
              "          docLink.innerHTML = docLinkHtml;\n",
              "          element.appendChild(docLink);\n",
              "        }\n",
              "      </script>\n",
              "    </div>\n",
              "  </div>\n",
              "  "
            ]
          },
          "metadata": {},
          "execution_count": 37
        }
      ]
    },
    {
      "cell_type": "code",
      "source": [
        "(df['sk_class'] == df['y']).sum()"
      ],
      "metadata": {
        "colab": {
          "base_uri": "https://localhost:8080/"
        },
        "id": "YeSOjxBjK8I7",
        "outputId": "dba7086b-e111-4bb0-b531-5e7303e1d7ac"
      },
      "execution_count": 38,
      "outputs": [
        {
          "output_type": "execute_result",
          "data": {
            "text/plain": [
              "20"
            ]
          },
          "metadata": {},
          "execution_count": 38
        }
      ]
    },
    {
      "cell_type": "code",
      "source": [
        "(df['my_class'] == df['y']).sum()"
      ],
      "metadata": {
        "colab": {
          "base_uri": "https://localhost:8080/"
        },
        "id": "qdo4MR2U52Vy",
        "outputId": "2c2ac25b-2cb2-46de-bfa5-7caa43be55bb"
      },
      "execution_count": 39,
      "outputs": [
        {
          "output_type": "execute_result",
          "data": {
            "text/plain": [
              "17"
            ]
          },
          "metadata": {},
          "execution_count": 39
        }
      ]
    },
    {
      "cell_type": "markdown",
      "source": [
        "### Правдоподобие\n",
        "\n",
        "\n",
        "https://www.kaggle.com/code/dansbecker/what-is-log-loss\n",
        "\n",
        "Правдоподобие (Likelihood) показывает насколько вероятным, по мнению модели, был наблюдаемый набор результатов.\n",
        "\n",
        "<img src='https://miro.medium.com/max/1200/1*jxZFpWtCbD4jHPV0DdDuMA.gif'>"
      ],
      "metadata": {
        "id": "r4Yy92hrKfHz"
      }
    },
    {
      "cell_type": "code",
      "source": [
        "df.head(3)"
      ],
      "metadata": {
        "colab": {
          "base_uri": "https://localhost:8080/",
          "height": 143
        },
        "id": "YsFy36SuSv7a",
        "outputId": "2016af68-6a42-4f40-8680-b58edcbcf8a2"
      },
      "execution_count": 40,
      "outputs": [
        {
          "output_type": "execute_result",
          "data": {
            "text/plain": [
              "          X  y  pred_sk_model  pred_my_model  sk_class  my_class\n",
              "0 -0.761273  0       0.227606       0.013602         0         0\n",
              "1 -1.418692  0       0.108508       0.001915         0         0\n",
              "2  0.451290  1       0.600835       0.343862         1         0"
            ],
            "text/html": [
              "\n",
              "  <div id=\"df-f3111f2f-8aa3-4404-877b-dca5da824b63\">\n",
              "    <div class=\"colab-df-container\">\n",
              "      <div>\n",
              "<style scoped>\n",
              "    .dataframe tbody tr th:only-of-type {\n",
              "        vertical-align: middle;\n",
              "    }\n",
              "\n",
              "    .dataframe tbody tr th {\n",
              "        vertical-align: top;\n",
              "    }\n",
              "\n",
              "    .dataframe thead th {\n",
              "        text-align: right;\n",
              "    }\n",
              "</style>\n",
              "<table border=\"1\" class=\"dataframe\">\n",
              "  <thead>\n",
              "    <tr style=\"text-align: right;\">\n",
              "      <th></th>\n",
              "      <th>X</th>\n",
              "      <th>y</th>\n",
              "      <th>pred_sk_model</th>\n",
              "      <th>pred_my_model</th>\n",
              "      <th>sk_class</th>\n",
              "      <th>my_class</th>\n",
              "    </tr>\n",
              "  </thead>\n",
              "  <tbody>\n",
              "    <tr>\n",
              "      <th>0</th>\n",
              "      <td>-0.761273</td>\n",
              "      <td>0</td>\n",
              "      <td>0.227606</td>\n",
              "      <td>0.013602</td>\n",
              "      <td>0</td>\n",
              "      <td>0</td>\n",
              "    </tr>\n",
              "    <tr>\n",
              "      <th>1</th>\n",
              "      <td>-1.418692</td>\n",
              "      <td>0</td>\n",
              "      <td>0.108508</td>\n",
              "      <td>0.001915</td>\n",
              "      <td>0</td>\n",
              "      <td>0</td>\n",
              "    </tr>\n",
              "    <tr>\n",
              "      <th>2</th>\n",
              "      <td>0.451290</td>\n",
              "      <td>1</td>\n",
              "      <td>0.600835</td>\n",
              "      <td>0.343862</td>\n",
              "      <td>1</td>\n",
              "      <td>0</td>\n",
              "    </tr>\n",
              "  </tbody>\n",
              "</table>\n",
              "</div>\n",
              "      <button class=\"colab-df-convert\" onclick=\"convertToInteractive('df-f3111f2f-8aa3-4404-877b-dca5da824b63')\"\n",
              "              title=\"Convert this dataframe to an interactive table.\"\n",
              "              style=\"display:none;\">\n",
              "        \n",
              "  <svg xmlns=\"http://www.w3.org/2000/svg\" height=\"24px\"viewBox=\"0 0 24 24\"\n",
              "       width=\"24px\">\n",
              "    <path d=\"M0 0h24v24H0V0z\" fill=\"none\"/>\n",
              "    <path d=\"M18.56 5.44l.94 2.06.94-2.06 2.06-.94-2.06-.94-.94-2.06-.94 2.06-2.06.94zm-11 1L8.5 8.5l.94-2.06 2.06-.94-2.06-.94L8.5 2.5l-.94 2.06-2.06.94zm10 10l.94 2.06.94-2.06 2.06-.94-2.06-.94-.94-2.06-.94 2.06-2.06.94z\"/><path d=\"M17.41 7.96l-1.37-1.37c-.4-.4-.92-.59-1.43-.59-.52 0-1.04.2-1.43.59L10.3 9.45l-7.72 7.72c-.78.78-.78 2.05 0 2.83L4 21.41c.39.39.9.59 1.41.59.51 0 1.02-.2 1.41-.59l7.78-7.78 2.81-2.81c.8-.78.8-2.07 0-2.86zM5.41 20L4 18.59l7.72-7.72 1.47 1.35L5.41 20z\"/>\n",
              "  </svg>\n",
              "      </button>\n",
              "      \n",
              "  <style>\n",
              "    .colab-df-container {\n",
              "      display:flex;\n",
              "      flex-wrap:wrap;\n",
              "      gap: 12px;\n",
              "    }\n",
              "\n",
              "    .colab-df-convert {\n",
              "      background-color: #E8F0FE;\n",
              "      border: none;\n",
              "      border-radius: 50%;\n",
              "      cursor: pointer;\n",
              "      display: none;\n",
              "      fill: #1967D2;\n",
              "      height: 32px;\n",
              "      padding: 0 0 0 0;\n",
              "      width: 32px;\n",
              "    }\n",
              "\n",
              "    .colab-df-convert:hover {\n",
              "      background-color: #E2EBFA;\n",
              "      box-shadow: 0px 1px 2px rgba(60, 64, 67, 0.3), 0px 1px 3px 1px rgba(60, 64, 67, 0.15);\n",
              "      fill: #174EA6;\n",
              "    }\n",
              "\n",
              "    [theme=dark] .colab-df-convert {\n",
              "      background-color: #3B4455;\n",
              "      fill: #D2E3FC;\n",
              "    }\n",
              "\n",
              "    [theme=dark] .colab-df-convert:hover {\n",
              "      background-color: #434B5C;\n",
              "      box-shadow: 0px 1px 3px 1px rgba(0, 0, 0, 0.15);\n",
              "      filter: drop-shadow(0px 1px 2px rgba(0, 0, 0, 0.3));\n",
              "      fill: #FFFFFF;\n",
              "    }\n",
              "  </style>\n",
              "\n",
              "      <script>\n",
              "        const buttonEl =\n",
              "          document.querySelector('#df-f3111f2f-8aa3-4404-877b-dca5da824b63 button.colab-df-convert');\n",
              "        buttonEl.style.display =\n",
              "          google.colab.kernel.accessAllowed ? 'block' : 'none';\n",
              "\n",
              "        async function convertToInteractive(key) {\n",
              "          const element = document.querySelector('#df-f3111f2f-8aa3-4404-877b-dca5da824b63');\n",
              "          const dataTable =\n",
              "            await google.colab.kernel.invokeFunction('convertToInteractive',\n",
              "                                                     [key], {});\n",
              "          if (!dataTable) return;\n",
              "\n",
              "          const docLinkHtml = 'Like what you see? Visit the ' +\n",
              "            '<a target=\"_blank\" href=https://colab.research.google.com/notebooks/data_table.ipynb>data table notebook</a>'\n",
              "            + ' to learn more about interactive tables.';\n",
              "          element.innerHTML = '';\n",
              "          dataTable['output_type'] = 'display_data';\n",
              "          await google.colab.output.renderOutput(dataTable, element);\n",
              "          const docLink = document.createElement('div');\n",
              "          docLink.innerHTML = docLinkHtml;\n",
              "          element.appendChild(docLink);\n",
              "        }\n",
              "      </script>\n",
              "    </div>\n",
              "  </div>\n",
              "  "
            ]
          },
          "metadata": {},
          "execution_count": 40
        }
      ]
    },
    {
      "cell_type": "markdown",
      "source": [
        "Предсказания модели [0.22, 0.10, 0.60]. Первые два имеют 0 класс, а третий 1 класс.\n",
        "\n",
        "Для 3-го объекта модель говорит, что с вероятностью 60% он относится к 1 классу. Значит правдоподобие для одной точки 0.60.\n",
        "\n",
        "\n"
      ],
      "metadata": {
        "id": "DqkyZo1bS0Fj"
      }
    },
    {
      "cell_type": "markdown",
      "source": [
        "Для 2 объекта модель говорит, что с вероятностью $10%$ он относится к 1 классу, получается с вероятностью $90%$ он относится к 0 классу, правдоподобие для этой точки $0.90$ и мы его перемножаем с $0.60$.\n",
        "\n",
        "Тоже самое с 1 объектом, вероятность быть 1 классом - $22%$, значит $78%$, что точка принадлежит 0 классу, перемножаем это на $0.78 \\cdot 0.60 \\cdot 0.90$\n"
      ],
      "metadata": {
        "id": "RiD5rVe7TPW0"
      }
    },
    {
      "cell_type": "code",
      "source": [
        "0.78 * 0.60 * 0.90"
      ],
      "metadata": {
        "colab": {
          "base_uri": "https://localhost:8080/"
        },
        "id": "Od1jVEj2UCoy",
        "outputId": "26a23c57-10ef-4e03-94e3-9db5e09e4cb2"
      },
      "execution_count": 41,
      "outputs": [
        {
          "output_type": "execute_result",
          "data": {
            "text/plain": [
              "0.42119999999999996"
            ]
          },
          "metadata": {},
          "execution_count": 41
        }
      ]
    },
    {
      "cell_type": "markdown",
      "source": [
        "Теперь сделаем для всех точек"
      ],
      "metadata": {
        "id": "rQkL4ANnLul4"
      }
    },
    {
      "cell_type": "code",
      "source": [
        "df[df['y'] == 1]['pred_sk_model']"
      ],
      "metadata": {
        "colab": {
          "base_uri": "https://localhost:8080/"
        },
        "id": "xssLfFgnDMSZ",
        "outputId": "7b8765db-bd5c-4aa0-e6db-68e872e653fd"
      },
      "execution_count": 42,
      "outputs": [
        {
          "output_type": "execute_result",
          "data": {
            "text/plain": [
              "2     0.600835\n",
              "6     0.587998\n",
              "8     0.487642\n",
              "9     0.676718\n",
              "14    0.798095\n",
              "15    0.589337\n",
              "17    0.743478\n",
              "18    0.782725\n",
              "19    0.484457\n",
              "21    0.544069\n",
              "22    0.706333\n",
              "24    0.609047\n",
              "Name: pred_sk_model, dtype: float64"
            ]
          },
          "metadata": {},
          "execution_count": 42
        }
      ]
    },
    {
      "cell_type": "code",
      "source": [
        "likelihood_1 = np.prod(df[df['y'] == 1]['pred_sk_model'])\n",
        "likelihood_1"
      ],
      "metadata": {
        "colab": {
          "base_uri": "https://localhost:8080/"
        },
        "id": "bY96yLqSUghY",
        "outputId": "1f828d75-cd6f-4597-de13-cab399ef6415"
      },
      "execution_count": 43,
      "outputs": [
        {
          "output_type": "execute_result",
          "data": {
            "text/plain": [
              "0.003618308869915949"
            ]
          },
          "metadata": {},
          "execution_count": 43
        }
      ]
    },
    {
      "cell_type": "code",
      "source": [
        "likelihood_0 = np.prod(1 - df[df['y'] == 0]['pred_sk_model'])\n",
        "likelihood_0"
      ],
      "metadata": {
        "colab": {
          "base_uri": "https://localhost:8080/"
        },
        "id": "djpIaErgUkgq",
        "outputId": "620ef198-85af-43d6-b34c-0351b5912c79"
      },
      "execution_count": 44,
      "outputs": [
        {
          "output_type": "execute_result",
          "data": {
            "text/plain": [
              "0.001127745959945556"
            ]
          },
          "metadata": {},
          "execution_count": 44
        }
      ]
    },
    {
      "cell_type": "code",
      "source": [
        "likelihood = likelihood_1 * likelihood_0\n",
        "likelihood"
      ],
      "metadata": {
        "colab": {
          "base_uri": "https://localhost:8080/"
        },
        "id": "FtqnPuVOUsXo",
        "outputId": "10410de2-0221-43b6-f10a-8211ed6a055f"
      },
      "execution_count": 45,
      "outputs": [
        {
          "output_type": "execute_result",
          "data": {
            "text/plain": [
              "4.080533209882882e-06"
            ]
          },
          "metadata": {},
          "execution_count": 45
        }
      ]
    },
    {
      "cell_type": "code",
      "source": [
        "likelihood / df.shape[0]"
      ],
      "metadata": {
        "colab": {
          "base_uri": "https://localhost:8080/"
        },
        "id": "DJb1b6juUyGp",
        "outputId": "830cef3f-3b99-43c1-bb7a-c94f2ec8176f"
      },
      "execution_count": 46,
      "outputs": [
        {
          "output_type": "execute_result",
          "data": {
            "text/plain": [
              "1.6322132839531528e-07"
            ]
          },
          "metadata": {},
          "execution_count": 46
        }
      ]
    },
    {
      "cell_type": "code",
      "source": [
        "- np.log(likelihood) / df.shape[0]"
      ],
      "metadata": {
        "colab": {
          "base_uri": "https://localhost:8080/"
        },
        "id": "-yn-5LsRU-tH",
        "outputId": "17f9e64f-49a2-4dd8-d10c-58072137396f"
      },
      "execution_count": 47,
      "outputs": [
        {
          "output_type": "execute_result",
          "data": {
            "text/plain": [
              "0.49637131557561776"
            ]
          },
          "metadata": {},
          "execution_count": 47
        }
      ]
    },
    {
      "cell_type": "code",
      "source": [
        "from sklearn.metrics import log_loss\n",
        "\n",
        "log_loss(y, df['pred_sk_model'])"
      ],
      "metadata": {
        "colab": {
          "base_uri": "https://localhost:8080/"
        },
        "id": "CM8e8ZxgKtKS",
        "outputId": "d2ce5239-a5b9-4071-f6c2-6cd85f59ce78"
      },
      "execution_count": 48,
      "outputs": [
        {
          "output_type": "execute_result",
          "data": {
            "text/plain": [
              "0.49637131557561776"
            ]
          },
          "metadata": {},
          "execution_count": 48
        }
      ]
    },
    {
      "cell_type": "code",
      "source": [
        "-np.log(np.prod(df[df['y'] == 1]['pred_my_model']) * np.prod(1 - df[df['y'] == 0]['pred_my_model']))  / df.shape[0]"
      ],
      "metadata": {
        "colab": {
          "base_uri": "https://localhost:8080/"
        },
        "id": "2FTuWJN9NIcq",
        "outputId": "7d606c17-d7bc-4e64-d7f6-96fa49a27e73"
      },
      "execution_count": 49,
      "outputs": [
        {
          "output_type": "execute_result",
          "data": {
            "text/plain": [
              "0.6310887863810843"
            ]
          },
          "metadata": {},
          "execution_count": 49
        }
      ]
    },
    {
      "cell_type": "code",
      "source": [
        "log_loss(y, df['pred_my_model'])"
      ],
      "metadata": {
        "colab": {
          "base_uri": "https://localhost:8080/"
        },
        "id": "6RdiodUAAMZr",
        "outputId": "ee387bb3-599f-40ce-cd42-b235cbbe00c3"
      },
      "execution_count": 50,
      "outputs": [
        {
          "output_type": "execute_result",
          "data": {
            "text/plain": [
              "0.6310887863810843"
            ]
          },
          "metadata": {},
          "execution_count": 50
        }
      ]
    },
    {
      "cell_type": "markdown",
      "source": [
        "делаем Вывод что наша найденная Линейная модель\n",
        "не самая лучшая она проигрывает \"pred_sk_model\" версия"
      ],
      "metadata": {
        "id": "DLpxrRSzGJQQ"
      }
    },
    {
      "cell_type": "markdown",
      "source": [
        "### Logloss (cross entropy)"
      ],
      "metadata": {
        "id": "TDTk0v0UZgHR"
      }
    },
    {
      "cell_type": "markdown",
      "source": [
        "$$\\prod p_i^{y_i} (1-p_i)^{1-y_i} → max$$"
      ],
      "metadata": {
        "id": "92SQe7JUWYwK"
      }
    },
    {
      "cell_type": "markdown",
      "source": [
        "\n",
        "$ \\log_a{bc} = \\log_a{b} + \\log_a{c}$\n",
        "\n",
        "$$log loss = \\sum (log(p_i)^{y_i} + log(1 - p_i)^{1-y_i})$$\n",
        "\n"
      ],
      "metadata": {
        "id": "LoGLkLoUX2iH"
      }
    },
    {
      "cell_type": "markdown",
      "source": [
        "$ \\log_a{b^c}= c \\cdot \\log_a{b}$\n",
        "\n",
        "$$log loss = - \\frac{1}{n}\\sum (y_i \\cdot log(p_i) + (1-y_i) \\cdot log(1 - p_i)) → min $$"
      ],
      "metadata": {
        "id": "tYj2Va0uVYd3"
      }
    },
    {
      "cell_type": "code",
      "source": [
        "- (np.sum(np.log(df[df['y'] == 1]['pred_sk_model'])) + np.sum(np.log(1 - df[df['y'] == 0]['pred_sk_model']))) / df.shape[0]"
      ],
      "metadata": {
        "colab": {
          "base_uri": "https://localhost:8080/"
        },
        "id": "7MvOg2ZnVzRY",
        "outputId": "bb988802-23f5-4a20-9372-e9c8732f1bd7"
      },
      "execution_count": 51,
      "outputs": [
        {
          "output_type": "execute_result",
          "data": {
            "text/plain": [
              "0.49637131557561776"
            ]
          },
          "metadata": {},
          "execution_count": 51
        }
      ]
    },
    {
      "cell_type": "code",
      "source": [
        "- (np.sum(np.log(df[df['y'] == 1]['pred_my_model'])) + np.sum(np.log(1 - df[df['y'] == 0]['pred_my_model']))) / df.shape[0]"
      ],
      "metadata": {
        "colab": {
          "base_uri": "https://localhost:8080/"
        },
        "id": "Bw9qVL1-ZSZM",
        "outputId": "11f8b27e-b05c-4e7e-9fc2-d603b6f85d87"
      },
      "execution_count": 52,
      "outputs": [
        {
          "output_type": "execute_result",
          "data": {
            "text/plain": [
              "0.6310887863810843"
            ]
          },
          "metadata": {},
          "execution_count": 52
        }
      ]
    },
    {
      "cell_type": "markdown",
      "source": [
        "функции потерь и обучается модель логистической\n",
        "регрессии собственно и название логистической регрессия происходит от\n",
        "логистической функции потерь"
      ],
      "metadata": {
        "id": "HCFVMwS_G3Uv"
      }
    },
    {
      "cell_type": "markdown",
      "source": [
        "## Как обучается логистическая регрессия"
      ],
      "metadata": {
        "id": "hikZUrXxsqE4"
      }
    },
    {
      "cell_type": "code",
      "source": [
        "from mpl_toolkits.mplot3d.axes3d import Axes3D\n",
        "\n",
        "\n",
        "def logloss(w1, w0):\n",
        "    y_pred = sigmoid(w1 * X + w0)\n",
        "    return log_loss(y, y_pred)\n",
        "\n",
        "\n",
        "coefs_a = np.linspace(0, 5, num=100)\n",
        "coefs_b = np.linspace(-5, 5, num=100)\n",
        "w1, w0 = np.meshgrid(coefs_a, coefs_b)\n",
        "\n",
        "\n",
        "fig = plt.figure(figsize=(15, 10))\n",
        "ax = fig.add_subplot(111, projection='3d')\n",
        "\n",
        "zs = np.array([logloss(i, j) for i, j in zip(np.ravel(w1), np.ravel(w0))])\n",
        "Z = zs.reshape(w1.shape)\n",
        "\n",
        "ax.plot_surface(w1, w0, Z, alpha=.5)\n",
        "ax.scatter(model_a, model_b, logloss(model_a, model_b), c='r', s=5)\n",
        "ax.scatter(a, b, logloss(a, b), c='r', s=5)\n",
        "\n",
        "ax.set_xlabel(r'$w_1$')\n",
        "ax.set_ylabel(r'$w_0$')\n",
        "ax.set_zlabel('Logloss')\n",
        "\n",
        "plt.show()"
      ],
      "metadata": {
        "colab": {
          "base_uri": "https://localhost:8080/",
          "height": 575
        },
        "id": "MYSGND_5NNii",
        "outputId": "1a2ae5ff-36ca-4c29-d741-1061ea56b967"
      },
      "execution_count": 53,
      "outputs": [
        {
          "output_type": "display_data",
          "data": {
            "text/plain": [
              "<Figure size 1080x720 with 1 Axes>"
            ],
            "image/png": "[encoded data removed]"
          },
          "metadata": {
            "needs_background": "light"
          }
        }
      ]
    },
    {
      "cell_type": "markdown",
      "source": [
        "мы можем считать градиенты в любой точке этого\n",
        "логоса и скатываться по направлению антиградиента пока не окажемся самыми\n",
        "минимальной точке"
      ],
      "metadata": {
        "id": "KU3aVGeeHTCH"
      }
    },
    {
      "cell_type": "code",
      "source": [
        "X"
      ],
      "metadata": {
        "colab": {
          "base_uri": "https://localhost:8080/"
        },
        "id": "fkdiEh49E4nh",
        "outputId": "3c8ac070-dc3a-4fb7-a475-f78abfda7b73"
      },
      "execution_count": 54,
      "outputs": [
        {
          "output_type": "execute_result",
          "data": {
            "text/plain": [
              "array([[-0.76127322],\n",
              "       [-1.41869179],\n",
              "       [ 0.45129046],\n",
              "       [-0.77111621],\n",
              "       [ 0.23820651],\n",
              "       [ 1.71873313],\n",
              "       [ 0.41169756],\n",
              "       [-0.82914259],\n",
              "       [ 0.11046641],\n",
              "       [ 0.69649121],\n",
              "       [ 0.53760054],\n",
              "       [-0.587295  ],\n",
              "       [-3.1882251 ],\n",
              "       [ 0.12046015],\n",
              "       [ 1.16915177],\n",
              "       [ 0.41580869],\n",
              "       [-0.2402943 ],\n",
              "       [ 0.93843451],\n",
              "       [ 1.10014328],\n",
              "       [ 0.10098614],\n",
              "       [-1.21878863],\n",
              "       [ 0.27863321],\n",
              "       [ 0.79977834],\n",
              "       [-0.54989369],\n",
              "       [ 0.47683863]])"
            ]
          },
          "metadata": {},
          "execution_count": 54
        }
      ]
    },
    {
      "cell_type": "markdown",
      "source": [
        "создадим константный признак который везде равен единице это\n",
        "у нас будет массив единичек который мы сконцентрируем вместе с исходной таблицей . константные эффективные\n",
        "значащие являются вспомогательным признаком для нашего свободного веса "
      ],
      "metadata": {
        "id": "WXNfOSzlHssa"
      }
    },
    {
      "cell_type": "code",
      "source": [
        "X = np.c_[np.ones_like(X), X]\n",
        "X"
      ],
      "metadata": {
        "colab": {
          "base_uri": "https://localhost:8080/"
        },
        "id": "yRWnKqlQEhc1",
        "outputId": "671f61ca-3d31-4ae4-bdba-c587843c403c"
      },
      "execution_count": 55,
      "outputs": [
        {
          "output_type": "execute_result",
          "data": {
            "text/plain": [
              "array([[ 1.        , -0.76127322],\n",
              "       [ 1.        , -1.41869179],\n",
              "       [ 1.        ,  0.45129046],\n",
              "       [ 1.        , -0.77111621],\n",
              "       [ 1.        ,  0.23820651],\n",
              "       [ 1.        ,  1.71873313],\n",
              "       [ 1.        ,  0.41169756],\n",
              "       [ 1.        , -0.82914259],\n",
              "       [ 1.        ,  0.11046641],\n",
              "       [ 1.        ,  0.69649121],\n",
              "       [ 1.        ,  0.53760054],\n",
              "       [ 1.        , -0.587295  ],\n",
              "       [ 1.        , -3.1882251 ],\n",
              "       [ 1.        ,  0.12046015],\n",
              "       [ 1.        ,  1.16915177],\n",
              "       [ 1.        ,  0.41580869],\n",
              "       [ 1.        , -0.2402943 ],\n",
              "       [ 1.        ,  0.93843451],\n",
              "       [ 1.        ,  1.10014328],\n",
              "       [ 1.        ,  0.10098614],\n",
              "       [ 1.        , -1.21878863],\n",
              "       [ 1.        ,  0.27863321],\n",
              "       [ 1.        ,  0.79977834],\n",
              "       [ 1.        , -0.54989369],\n",
              "       [ 1.        ,  0.47683863]])"
            ]
          },
          "metadata": {},
          "execution_count": 55
        }
      ]
    },
    {
      "cell_type": "markdown",
      "source": [
        "Реализуем функцию:\n",
        "1. logloss - функция логистической функции потерь (cross entropy) $logloss = - \\frac{1}{n}\\sum (y_i \\cdot log(p_i) + (1-y_i) \\cdot log(1 - p_i))$\n",
        "\n",
        "\n",
        "2. gr_logloss - градиент функции logloss записанные в матричном виде. $X^{T}(\\sigma(XW)-Y)$\n"
      ],
      "metadata": {
        "id": "qPe_CIdRvPcI"
      }
    },
    {
      "cell_type": "code",
      "source": [
        "def sigmoid(x):\n",
        "    return 1 / (1 + np.exp(-x))\n",
        "\n",
        "\n",
        "def logloss(y, y_proba):\n",
        "    logloss_1 = np.sum(np.log(y_proba[y == 1] + 1e-30)) #чтобы не оказалось совсем 0 добявлаем 1e-30\n",
        "    logloss_0 = np.sum(np.log(1 - y_proba[y == 0] + 1e-30))\n",
        "    logloss_total = -(logloss_0 + logloss_1) / len(y)\n",
        "    return logloss_total\n",
        "\n",
        "\n",
        "def gr_logloss(X, W, y):\n",
        "    y_proba = sigmoid(X @ W)\n",
        "    grad = X.T @ (y_proba - y)\n",
        "    return grad"
      ],
      "metadata": {
        "id": "fXl31ElsvPcI"
      },
      "execution_count": 56,
      "outputs": []
    },
    {
      "cell_type": "code",
      "source": [
        "test_y     = [1, 0]\n",
        "test_proba = [0, 1]\n",
        "logloss(test_y, test_proba), log_loss(test_y, test_proba)"
      ],
      "metadata": {
        "colab": {
          "base_uri": "https://localhost:8080/"
        },
        "id": "IFyzHgFVH9Ou",
        "outputId": "e345ae31-851f-440d-b05a-ad3ad11f6376"
      },
      "execution_count": 57,
      "outputs": [
        {
          "output_type": "execute_result",
          "data": {
            "text/plain": [
              "(34.538776394910684, 34.53917619362578)"
            ]
          },
          "metadata": {},
          "execution_count": 57
        }
      ]
    },
    {
      "cell_type": "code",
      "source": [
        "# установка минимального значения, на которое должны изменяться веса\n",
        "eps = 0.0001\n",
        "\n",
        "# первоначальное точка\n",
        "np.random.seed(9)\n",
        "W = np.random.randn(X.shape[1])\n",
        "\n",
        "# размер шага (learning rate)\n",
        "learning_rate = 0.001\n",
        "\n",
        "next_W = W\n",
        "\n",
        "# количество итерация \n",
        "n = 250\n",
        "for i in range(n):\n",
        "    cur_W = next_W\n",
        "\n",
        "    # движение в негативную сторону вычисляемого градиента\n",
        "    next_W = cur_W - learning_rate * gr_logloss(X, W, y)\n",
        "\n",
        "    # остановка когда достигнута необходимая степень точности\n",
        "    if np.linalg.norm(cur_W - next_W) <= eps:\n",
        "        break\n",
        "\n",
        "    if i % 80 == 0:\n",
        "        print(f\"Итерация: {i}\")\n",
        "        # print(f\"Текущая точка {cur_W}| Следующая точка {next_W}\")\n",
        "        y_proba = sigmoid(X @ next_W)\n",
        "        y_class = np.where(y_proba >= 0.5, 1, 0)\n",
        "        accuracy = (y_class == y).sum() / len(y)\n",
        "        print(f\"Logloss {logloss(y, y_proba)}\")\n",
        "        print(f\"Accuracy {accuracy}\")\n",
        "        print(\"--------------------------------------------------------\")  \n",
        "\n",
        "        model_grad = next_W @ X.T\n",
        "        plt.figure(figsize=(10, 2))\n",
        "\n",
        "        plt.subplot(121)\n",
        "        plt.plot(X[:, 1], model_grad, linewidth=2, c='r', label='gradient')\n",
        "        plt.scatter(X[:, 1], np.zeros(X.shape[0]), c=y, s=100, edgecolors='black')\n",
        "        plt.ylabel('');plt.xlabel('x')\n",
        "        plt.yticks(np.arange(0, 1), [''])\n",
        "        plt.title(f'Iter {i}')\n",
        "        plt.ylim(-1, 1);plt.xlim(-3.5, 2);  \n",
        "\n",
        "\n",
        "        plt.subplot(122)\n",
        "        x_ones = np.c_[np.ones_like(x), x]\n",
        "        model_pred_x = next_W @ x_ones.T\n",
        "\n",
        "        plt.plot(x, sigmoid(model_pred_x), linewidth=2, c='r')\n",
        "        plt.scatter(X[:, 1], sigmoid(model_grad) >= 0.5, c=y, s=100, edgecolors='black')\n",
        "        plt.ylabel('');plt.xlabel('x')\n",
        "        plt.yticks(np.arange(0, 2), ['0 class', '1 class'])\n",
        "        plt.ylim(-0.1, 1.1);plt.xlim(-3.5, 2)\n",
        "        plt.title('Sigmoid');"
      ],
      "metadata": {
        "colab": {
          "base_uri": "https://localhost:8080/",
          "height": 975
        },
        "id": "qyOwUsWZyCrz",
        "outputId": "b8834fd8-5c38-45fa-905e-7d6aa398ba12"
      },
      "execution_count": 58,
      "outputs": [
        {
          "output_type": "stream",
          "name": "stdout",
          "text": [
            "Итерация: 0\n",
            "Logloss 0.7809352018720266\n",
            "Accuracy 0.16\n",
            "--------------------------------------------------------\n",
            "Итерация: 80\n",
            "Logloss 0.5979220700310761\n",
            "Accuracy 0.84\n",
            "--------------------------------------------------------\n",
            "Итерация: 160\n",
            "Logloss 0.5122672986031042\n",
            "Accuracy 0.84\n",
            "--------------------------------------------------------\n",
            "Итерация: 240\n",
            "Logloss 0.48223175784563155\n",
            "Accuracy 0.84\n",
            "--------------------------------------------------------\n"
          ]
        },
        {
          "output_type": "display_data",
          "data": {
            "text/plain": [
              "<Figure size 720x144 with 2 Axes>"
            ],
            "image/png": "[encoded data removed]"
          },
          "metadata": {
            "needs_background": "light"
          }
        },
        {
          "output_type": "display_data",
          "data": {
            "text/plain": [
              "<Figure size 720x144 with 2 Axes>"
            ],
            "image/png": "[encoded data removed]"
          },
          "metadata": {
            "needs_background": "light"
          }
        },
        {
          "output_type": "display_data",
          "data": {
            "text/plain": [
              "<Figure size 720x144 with 2 Axes>"
            ],
            "image/png": "[encoded data removed]"
          },
          "metadata": {
            "needs_background": "light"
          }
        },
        {
          "output_type": "display_data",
          "data": {
            "text/plain": [
              "<Figure size 720x144 with 2 Axes>"
            ],
            "image/png": "[encoded data removed]"
          },
          "metadata": {
            "needs_background": "light"
          }
        }
      ]
    },
    {
      "cell_type": "code",
      "source": [
        "model_grad = next_W[1] * x + next_W[0]\n",
        "\n",
        "\n",
        "plt.figure(figsize=(10, 2))\n",
        "plt.plot(x, model_grad, linewidth=2, c='r', label='gradient')\n",
        "plt.plot(x, model_y_sk, linewidth=2, c='g', label='sklearn')\n",
        "plt.scatter(X[:, 1], np.zeros(X.shape[0]), c=y, s=100, edgecolors='black')\n",
        "plt.ylabel('');plt.xlabel('x')\n",
        "plt.yticks(np.arange(0, 1), [''])\n",
        "plt.legend()\n",
        "plt.ylim(-1, 1);plt.xlim(-3.5, 2);"
      ],
      "metadata": {
        "colab": {
          "base_uri": "https://localhost:8080/",
          "height": 171
        },
        "id": "qjocHC4CNbWO",
        "outputId": "4ef7daef-85a5-48da-a758-5123e2fb2bae"
      },
      "execution_count": 59,
      "outputs": [
        {
          "output_type": "display_data",
          "data": {
            "text/plain": [
              "<Figure size 720x144 with 1 Axes>"
            ],
            "image/png": "[encoded data removed]"
          },
          "metadata": {
            "needs_background": "light"
          }
        }
      ]
    },
    {
      "cell_type": "code",
      "source": [
        "y_proba = sigmoid(X @ next_W)\n",
        "y_proba"
      ],
      "metadata": {
        "colab": {
          "base_uri": "https://localhost:8080/"
        },
        "id": "lHFQ_Aw1KH8l",
        "outputId": "5d11b954-3e3a-459f-b952-fbf2bf498de7"
      },
      "execution_count": 60,
      "outputs": [
        {
          "output_type": "execute_result",
          "data": {
            "text/plain": [
              "array([0.17397633, 0.05746958, 0.67451307, 0.17132527, 0.58100106,\n",
              "       0.95765024, 0.65791435, 0.15634526, 0.52149209, 0.76692197,\n",
              "       0.70918156, 0.22624161, 0.00216344, 0.52619232, 0.88916558,\n",
              "       0.65965685, 0.36000043, 0.83851398, 0.87567825, 0.51702983,\n",
              "       0.08163167, 0.59943501, 0.79991558, 0.23882479, 0.68499901])"
            ]
          },
          "metadata": {},
          "execution_count": 60
        }
      ]
    },
    {
      "cell_type": "code",
      "source": [
        "np.where(y_proba > 0.5, 1, 0)"
      ],
      "metadata": {
        "id": "FhZGNFbwZbx2",
        "colab": {
          "base_uri": "https://localhost:8080/"
        },
        "outputId": "1ab03b1d-289a-4455-8b32-a090f4c71a6b"
      },
      "execution_count": 61,
      "outputs": [
        {
          "output_type": "execute_result",
          "data": {
            "text/plain": [
              "array([0, 0, 1, 0, 1, 1, 1, 0, 1, 1, 1, 0, 0, 1, 1, 1, 0, 1, 1, 1, 0, 1,\n",
              "       1, 0, 1])"
            ]
          },
          "metadata": {},
          "execution_count": 61
        }
      ]
    },
    {
      "cell_type": "markdown",
      "source": [
        "# Многомерная логистическая регрессия\n",
        "\n",
        "\n"
      ],
      "metadata": {
        "id": "rEmVJTfv_EZ-"
      }
    },
    {
      "cell_type": "code",
      "source": [
        "X, y = make_classification(n_samples=50, n_features=2, \n",
        "                           n_informative=2, n_redundant=0,\n",
        "                           random_state=11)\n",
        "\n",
        "display(X, y)"
      ],
      "metadata": {
        "colab": {
          "base_uri": "https://localhost:8080/",
          "height": 937
        },
        "id": "96dLeOqm_kKq",
        "outputId": "3f1c26d7-043e-4972-eac5-80ff8c6945f6"
      },
      "execution_count": 62,
      "outputs": [
        {
          "output_type": "display_data",
          "data": {
            "text/plain": [
              "array([[-0.58426249, -0.26304715],\n",
              "       [-0.87385157,  0.03334535],\n",
              "       [-0.83376357,  0.56089118],\n",
              "       [-0.36054172,  1.23330648],\n",
              "       [-0.96996002, -0.51336961],\n",
              "       [ 0.87096085, -1.33644586],\n",
              "       [ 0.88714034, -0.49693129],\n",
              "       [-0.97267638,  1.8062936 ],\n",
              "       [-1.56089158,  0.81454957],\n",
              "       [ 1.05054058, -1.36505594],\n",
              "       [ 0.9851866 , -0.87000251],\n",
              "       [ 1.55985218,  2.83593357],\n",
              "       [ 0.93879173, -0.6224016 ],\n",
              "       [ 0.33585538,  0.73504779],\n",
              "       [-0.93897517,  1.18220327],\n",
              "       [-0.88659662, -0.73309719],\n",
              "       [-0.89879515, -1.59444315],\n",
              "       [ 1.09571977,  2.02411724],\n",
              "       [-1.59503021, -0.40847071],\n",
              "       [-1.17747512,  0.84767099],\n",
              "       [-1.21644763, -1.06794308],\n",
              "       [-1.04836107, -0.67305344],\n",
              "       [-0.94654293, -0.87003831],\n",
              "       [-0.79154717, -0.19781098],\n",
              "       [ 0.94786239,  2.68547589],\n",
              "       [ 1.25268747,  0.85946774],\n",
              "       [-1.21287477, -1.06611934],\n",
              "       [ 1.0820104 , -0.72574433],\n",
              "       [ 3.08649247,  0.38307176],\n",
              "       [-0.47859754, -0.32271778],\n",
              "       [ 1.11698842, -0.03117479],\n",
              "       [-0.46683837,  0.59241164],\n",
              "       [ 0.9604573 , -1.00317719],\n",
              "       [-1.26380008,  0.85651631],\n",
              "       [-1.0894631 , -1.57620408],\n",
              "       [-0.66569615,  1.49855864],\n",
              "       [ 1.07584199, -0.4425138 ],\n",
              "       [-0.96542733,  0.85320442],\n",
              "       [ 2.34684284,  1.63986875],\n",
              "       [ 0.95832501, -0.78588688],\n",
              "       [-1.43484007,  1.91490498],\n",
              "       [ 0.40554346,  2.95419577],\n",
              "       [ 0.94984653, -0.80037199],\n",
              "       [-0.97932642, -1.52513322],\n",
              "       [-0.96810387,  1.07440211],\n",
              "       [ 0.83951878, -0.99929105],\n",
              "       [-1.22563289,  0.83324579],\n",
              "       [ 0.09747225,  0.35072039],\n",
              "       [-1.25992209,  1.62651913],\n",
              "       [ 1.01146489, -1.24309996]])"
            ]
          },
          "metadata": {}
        },
        {
          "output_type": "display_data",
          "data": {
            "text/plain": [
              "array([0, 0, 0, 1, 0, 0, 0, 1, 1, 0, 0, 1, 0, 1, 1, 0, 0, 1, 1, 1, 0, 0,\n",
              "       0, 0, 1, 1, 0, 0, 1, 1, 1, 1, 0, 1, 0, 1, 0, 1, 1, 0, 1, 1, 0, 0,\n",
              "       1, 0, 1, 1, 1, 0])"
            ]
          },
          "metadata": {}
        }
      ]
    },
    {
      "cell_type": "code",
      "source": [
        "plt.figure(figsize=(10, 6))\n",
        "plt.scatter(X[:, 0], X[:, 1], c=y);"
      ],
      "metadata": {
        "colab": {
          "base_uri": "https://localhost:8080/",
          "height": 374
        },
        "id": "V7b6DSZqQpEA",
        "outputId": "d435344b-f563-4a9b-e5ea-9adeb00029dd"
      },
      "execution_count": 63,
      "outputs": [
        {
          "output_type": "display_data",
          "data": {
            "text/plain": [
              "<Figure size 720x432 with 1 Axes>"
            ],
            "image/png": "[encoded data removed]"
          },
          "metadata": {
            "needs_background": "light"
          }
        }
      ]
    },
    {
      "cell_type": "markdown",
      "source": [
        "### Из sklearn"
      ],
      "metadata": {
        "id": "L389l2QmCBeI"
      }
    },
    {
      "cell_type": "markdown",
      "source": [
        "Обучим для начала модель из `sklearn`"
      ],
      "metadata": {
        "id": "SQDLd3sv_ubX"
      }
    },
    {
      "cell_type": "code",
      "source": [
        "model = LogisticRegression()\n",
        "model.fit(X, y)"
      ],
      "metadata": {
        "colab": {
          "base_uri": "https://localhost:8080/"
        },
        "outputId": "3e82e197-5b22-4c54-e981-93a851824ba9",
        "id": "3ArQO5TI_qOq"
      },
      "execution_count": 64,
      "outputs": [
        {
          "output_type": "execute_result",
          "data": {
            "text/plain": [
              "LogisticRegression()"
            ]
          },
          "metadata": {},
          "execution_count": 64
        }
      ]
    },
    {
      "cell_type": "code",
      "source": [
        "model.coef_, model.intercept_"
      ],
      "metadata": {
        "colab": {
          "base_uri": "https://localhost:8080/"
        },
        "outputId": "100867d4-551d-45d3-abee-c28d25b24db9",
        "id": "qsgZhUMk_qOs"
      },
      "execution_count": 65,
      "outputs": [
        {
          "output_type": "execute_result",
          "data": {
            "text/plain": [
              "(array([[0.02774742, 2.37815401]]), array([-0.10805746]))"
            ]
          },
          "metadata": {},
          "execution_count": 65
        }
      ]
    },
    {
      "cell_type": "code",
      "source": [
        "model.predict(X[:1])"
      ],
      "metadata": {
        "colab": {
          "base_uri": "https://localhost:8080/"
        },
        "id": "zUGT6x6ucsLj",
        "outputId": "16bd4684-2036-4f5b-be05-ab9b3097662e"
      },
      "execution_count": 66,
      "outputs": [
        {
          "output_type": "execute_result",
          "data": {
            "text/plain": [
              "array([0])"
            ]
          },
          "metadata": {},
          "execution_count": 66
        }
      ]
    },
    {
      "cell_type": "code",
      "source": [
        "np.sum(model.coef_ * X[0]) + model.intercept_"
      ],
      "metadata": {
        "colab": {
          "base_uri": "https://localhost:8080/"
        },
        "id": "h99wvhpTc4Qk",
        "outputId": "5cb86101-ae87-450c-c91a-7f0bbcda329b"
      },
      "execution_count": 67,
      "outputs": [
        {
          "output_type": "execute_result",
          "data": {
            "text/plain": [
              "array([-0.74983587])"
            ]
          },
          "metadata": {},
          "execution_count": 67
        }
      ]
    },
    {
      "cell_type": "code",
      "source": [
        "df = pd.DataFrame(X)\n",
        "df['y'] = y\n",
        "df['pred_cl'] = model.predict(X)\n",
        "df['pred_proba'] = sigmoid(X.dot(model.coef_.T) + model.intercept_)\n",
        "\n",
        "df.head()"
      ],
      "metadata": {
        "colab": {
          "base_uri": "https://localhost:8080/",
          "height": 206
        },
        "id": "lEyoJKCWAUvz",
        "outputId": "b511d35a-3078-4155-a473-ef030304d023"
      },
      "execution_count": 68,
      "outputs": [
        {
          "output_type": "execute_result",
          "data": {
            "text/plain": [
              "          0         1  y  pred_cl  pred_proba\n",
              "0 -0.584262 -0.263047  0        0    0.320857\n",
              "1 -0.873852  0.033345  0        0    0.486752\n",
              "2 -0.833764  0.560891  0        1    0.769004\n",
              "3 -0.360542  1.233306  1        1    0.943477\n",
              "4 -0.969960 -0.513370  0        0    0.204917"
            ],
            "text/html": [
              "\n",
              "  <div id=\"df-e4292cc9-72a8-4f43-abd3-c8082af36f68\">\n",
              "    <div class=\"colab-df-container\">\n",
              "      <div>\n",
              "<style scoped>\n",
              "    .dataframe tbody tr th:only-of-type {\n",
              "        vertical-align: middle;\n",
              "    }\n",
              "\n",
              "    .dataframe tbody tr th {\n",
              "        vertical-align: top;\n",
              "    }\n",
              "\n",
              "    .dataframe thead th {\n",
              "        text-align: right;\n",
              "    }\n",
              "</style>\n",
              "<table border=\"1\" class=\"dataframe\">\n",
              "  <thead>\n",
              "    <tr style=\"text-align: right;\">\n",
              "      <th></th>\n",
              "      <th>0</th>\n",
              "      <th>1</th>\n",
              "      <th>y</th>\n",
              "      <th>pred_cl</th>\n",
              "      <th>pred_proba</th>\n",
              "    </tr>\n",
              "  </thead>\n",
              "  <tbody>\n",
              "    <tr>\n",
              "      <th>0</th>\n",
              "      <td>-0.584262</td>\n",
              "      <td>-0.263047</td>\n",
              "      <td>0</td>\n",
              "      <td>0</td>\n",
              "      <td>0.320857</td>\n",
              "    </tr>\n",
              "    <tr>\n",
              "      <th>1</th>\n",
              "      <td>-0.873852</td>\n",
              "      <td>0.033345</td>\n",
              "      <td>0</td>\n",
              "      <td>0</td>\n",
              "      <td>0.486752</td>\n",
              "    </tr>\n",
              "    <tr>\n",
              "      <th>2</th>\n",
              "      <td>-0.833764</td>\n",
              "      <td>0.560891</td>\n",
              "      <td>0</td>\n",
              "      <td>1</td>\n",
              "      <td>0.769004</td>\n",
              "    </tr>\n",
              "    <tr>\n",
              "      <th>3</th>\n",
              "      <td>-0.360542</td>\n",
              "      <td>1.233306</td>\n",
              "      <td>1</td>\n",
              "      <td>1</td>\n",
              "      <td>0.943477</td>\n",
              "    </tr>\n",
              "    <tr>\n",
              "      <th>4</th>\n",
              "      <td>-0.969960</td>\n",
              "      <td>-0.513370</td>\n",
              "      <td>0</td>\n",
              "      <td>0</td>\n",
              "      <td>0.204917</td>\n",
              "    </tr>\n",
              "  </tbody>\n",
              "</table>\n",
              "</div>\n",
              "      <button class=\"colab-df-convert\" onclick=\"convertToInteractive('df-e4292cc9-72a8-4f43-abd3-c8082af36f68')\"\n",
              "              title=\"Convert this dataframe to an interactive table.\"\n",
              "              style=\"display:none;\">\n",
              "        \n",
              "  <svg xmlns=\"http://www.w3.org/2000/svg\" height=\"24px\"viewBox=\"0 0 24 24\"\n",
              "       width=\"24px\">\n",
              "    <path d=\"M0 0h24v24H0V0z\" fill=\"none\"/>\n",
              "    <path d=\"M18.56 5.44l.94 2.06.94-2.06 2.06-.94-2.06-.94-.94-2.06-.94 2.06-2.06.94zm-11 1L8.5 8.5l.94-2.06 2.06-.94-2.06-.94L8.5 2.5l-.94 2.06-2.06.94zm10 10l.94 2.06.94-2.06 2.06-.94-2.06-.94-.94-2.06-.94 2.06-2.06.94z\"/><path d=\"M17.41 7.96l-1.37-1.37c-.4-.4-.92-.59-1.43-.59-.52 0-1.04.2-1.43.59L10.3 9.45l-7.72 7.72c-.78.78-.78 2.05 0 2.83L4 21.41c.39.39.9.59 1.41.59.51 0 1.02-.2 1.41-.59l7.78-7.78 2.81-2.81c.8-.78.8-2.07 0-2.86zM5.41 20L4 18.59l7.72-7.72 1.47 1.35L5.41 20z\"/>\n",
              "  </svg>\n",
              "      </button>\n",
              "      \n",
              "  <style>\n",
              "    .colab-df-container {\n",
              "      display:flex;\n",
              "      flex-wrap:wrap;\n",
              "      gap: 12px;\n",
              "    }\n",
              "\n",
              "    .colab-df-convert {\n",
              "      background-color: #E8F0FE;\n",
              "      border: none;\n",
              "      border-radius: 50%;\n",
              "      cursor: pointer;\n",
              "      display: none;\n",
              "      fill: #1967D2;\n",
              "      height: 32px;\n",
              "      padding: 0 0 0 0;\n",
              "      width: 32px;\n",
              "    }\n",
              "\n",
              "    .colab-df-convert:hover {\n",
              "      background-color: #E2EBFA;\n",
              "      box-shadow: 0px 1px 2px rgba(60, 64, 67, 0.3), 0px 1px 3px 1px rgba(60, 64, 67, 0.15);\n",
              "      fill: #174EA6;\n",
              "    }\n",
              "\n",
              "    [theme=dark] .colab-df-convert {\n",
              "      background-color: #3B4455;\n",
              "      fill: #D2E3FC;\n",
              "    }\n",
              "\n",
              "    [theme=dark] .colab-df-convert:hover {\n",
              "      background-color: #434B5C;\n",
              "      box-shadow: 0px 1px 3px 1px rgba(0, 0, 0, 0.15);\n",
              "      filter: drop-shadow(0px 1px 2px rgba(0, 0, 0, 0.3));\n",
              "      fill: #FFFFFF;\n",
              "    }\n",
              "  </style>\n",
              "\n",
              "      <script>\n",
              "        const buttonEl =\n",
              "          document.querySelector('#df-e4292cc9-72a8-4f43-abd3-c8082af36f68 button.colab-df-convert');\n",
              "        buttonEl.style.display =\n",
              "          google.colab.kernel.accessAllowed ? 'block' : 'none';\n",
              "\n",
              "        async function convertToInteractive(key) {\n",
              "          const element = document.querySelector('#df-e4292cc9-72a8-4f43-abd3-c8082af36f68');\n",
              "          const dataTable =\n",
              "            await google.colab.kernel.invokeFunction('convertToInteractive',\n",
              "                                                     [key], {});\n",
              "          if (!dataTable) return;\n",
              "\n",
              "          const docLinkHtml = 'Like what you see? Visit the ' +\n",
              "            '<a target=\"_blank\" href=https://colab.research.google.com/notebooks/data_table.ipynb>data table notebook</a>'\n",
              "            + ' to learn more about interactive tables.';\n",
              "          element.innerHTML = '';\n",
              "          dataTable['output_type'] = 'display_data';\n",
              "          await google.colab.output.renderOutput(dataTable, element);\n",
              "          const docLink = document.createElement('div');\n",
              "          docLink.innerHTML = docLinkHtml;\n",
              "          element.appendChild(docLink);\n",
              "        }\n",
              "      </script>\n",
              "    </div>\n",
              "  </div>\n",
              "  "
            ]
          },
          "metadata": {},
          "execution_count": 68
        }
      ]
    },
    {
      "cell_type": "code",
      "source": [
        "(df['y'] == df['pred_cl']).mean()"
      ],
      "metadata": {
        "colab": {
          "base_uri": "https://localhost:8080/"
        },
        "id": "St9k9CTJPzgg",
        "outputId": "0212ff5d-2dd5-4a7f-c742-5c7523e7edc7"
      },
      "execution_count": 69,
      "outputs": [
        {
          "output_type": "execute_result",
          "data": {
            "text/plain": [
              "0.92"
            ]
          },
          "metadata": {},
          "execution_count": 69
        }
      ]
    },
    {
      "cell_type": "code",
      "source": [
        "model.score(X, y)"
      ],
      "metadata": {
        "colab": {
          "base_uri": "https://localhost:8080/"
        },
        "id": "yzZUdyXAP4rv",
        "outputId": "e621b651-524f-4b45-bc2e-fc94dba69ef0"
      },
      "execution_count": 70,
      "outputs": [
        {
          "output_type": "execute_result",
          "data": {
            "text/plain": [
              "0.92"
            ]
          },
          "metadata": {},
          "execution_count": 70
        }
      ]
    },
    {
      "cell_type": "code",
      "source": [
        "x_min, x_max = X[:,0].min() - .5, X[:,0].max() + .5\n",
        "y_min, y_max = X[:,1].min() - .5, X[:,1].max() + .5\n",
        "\n",
        "h = .02\n",
        "xx, yy = np.meshgrid(np.arange(x_min, x_max, h), np.arange(y_min, y_max, h))\n",
        "\n",
        "x_t = np.c_[xx.ravel(),yy.ravel()]\n",
        "\n",
        "Z = model.predict(x_t)\n",
        "Z = Z.reshape(xx.shape)\n",
        "\n",
        "plt.figure(1, figsize=(8,8))\n",
        "plt.pcolormesh(xx,yy,Z,cmap=plt.cm.Paired)\n",
        "\n",
        "plt.scatter(X[y == 0][:, 0], X[y == 0][:, 1], edgecolors='k')\n",
        "plt.scatter(X[y == 1][:, 0], X[y == 1][:, 1], edgecolors='k')\n",
        "\n",
        "plt.xlim(xx.min(), xx.max())\n",
        "plt.ylim(yy.min(), yy.max())\n",
        "plt.xticks()\n",
        "plt.show()"
      ],
      "metadata": {
        "colab": {
          "base_uri": "https://localhost:8080/",
          "height": 483
        },
        "id": "ib4mBfQnRZDm",
        "outputId": "dd9611b6-1b17-4051-dbbd-5e2c4582b338"
      },
      "execution_count": 71,
      "outputs": [
        {
          "output_type": "display_data",
          "data": {
            "text/plain": [
              "<Figure size 576x576 with 1 Axes>"
            ],
            "image/png": "[encoded data removed]"
          },
          "metadata": {
            "needs_background": "light"
          }
        }
      ]
    },
    {
      "cell_type": "markdown",
      "source": [
        "### Своя реализация линейной регрессии"
      ],
      "metadata": {
        "id": "Tfem6RubAMjf"
      }
    },
    {
      "cell_type": "code",
      "source": [
        "X = np.c_[np.ones(len(X)), X]\n",
        "X"
      ],
      "metadata": {
        "colab": {
          "base_uri": "https://localhost:8080/"
        },
        "id": "UfV5WZbFQI09",
        "outputId": "cd80694b-8893-45b1-dd02-82592e2f339d"
      },
      "execution_count": 72,
      "outputs": [
        {
          "output_type": "execute_result",
          "data": {
            "text/plain": [
              "array([[ 1.        , -0.58426249, -0.26304715],\n",
              "       [ 1.        , -0.87385157,  0.03334535],\n",
              "       [ 1.        , -0.83376357,  0.56089118],\n",
              "       [ 1.        , -0.36054172,  1.23330648],\n",
              "       [ 1.        , -0.96996002, -0.51336961],\n",
              "       [ 1.        ,  0.87096085, -1.33644586],\n",
              "       [ 1.        ,  0.88714034, -0.49693129],\n",
              "       [ 1.        , -0.97267638,  1.8062936 ],\n",
              "       [ 1.        , -1.56089158,  0.81454957],\n",
              "       [ 1.        ,  1.05054058, -1.36505594],\n",
              "       [ 1.        ,  0.9851866 , -0.87000251],\n",
              "       [ 1.        ,  1.55985218,  2.83593357],\n",
              "       [ 1.        ,  0.93879173, -0.6224016 ],\n",
              "       [ 1.        ,  0.33585538,  0.73504779],\n",
              "       [ 1.        , -0.93897517,  1.18220327],\n",
              "       [ 1.        , -0.88659662, -0.73309719],\n",
              "       [ 1.        , -0.89879515, -1.59444315],\n",
              "       [ 1.        ,  1.09571977,  2.02411724],\n",
              "       [ 1.        , -1.59503021, -0.40847071],\n",
              "       [ 1.        , -1.17747512,  0.84767099],\n",
              "       [ 1.        , -1.21644763, -1.06794308],\n",
              "       [ 1.        , -1.04836107, -0.67305344],\n",
              "       [ 1.        , -0.94654293, -0.87003831],\n",
              "       [ 1.        , -0.79154717, -0.19781098],\n",
              "       [ 1.        ,  0.94786239,  2.68547589],\n",
              "       [ 1.        ,  1.25268747,  0.85946774],\n",
              "       [ 1.        , -1.21287477, -1.06611934],\n",
              "       [ 1.        ,  1.0820104 , -0.72574433],\n",
              "       [ 1.        ,  3.08649247,  0.38307176],\n",
              "       [ 1.        , -0.47859754, -0.32271778],\n",
              "       [ 1.        ,  1.11698842, -0.03117479],\n",
              "       [ 1.        , -0.46683837,  0.59241164],\n",
              "       [ 1.        ,  0.9604573 , -1.00317719],\n",
              "       [ 1.        , -1.26380008,  0.85651631],\n",
              "       [ 1.        , -1.0894631 , -1.57620408],\n",
              "       [ 1.        , -0.66569615,  1.49855864],\n",
              "       [ 1.        ,  1.07584199, -0.4425138 ],\n",
              "       [ 1.        , -0.96542733,  0.85320442],\n",
              "       [ 1.        ,  2.34684284,  1.63986875],\n",
              "       [ 1.        ,  0.95832501, -0.78588688],\n",
              "       [ 1.        , -1.43484007,  1.91490498],\n",
              "       [ 1.        ,  0.40554346,  2.95419577],\n",
              "       [ 1.        ,  0.94984653, -0.80037199],\n",
              "       [ 1.        , -0.97932642, -1.52513322],\n",
              "       [ 1.        , -0.96810387,  1.07440211],\n",
              "       [ 1.        ,  0.83951878, -0.99929105],\n",
              "       [ 1.        , -1.22563289,  0.83324579],\n",
              "       [ 1.        ,  0.09747225,  0.35072039],\n",
              "       [ 1.        , -1.25992209,  1.62651913],\n",
              "       [ 1.        ,  1.01146489, -1.24309996]])"
            ]
          },
          "metadata": {},
          "execution_count": 72
        }
      ]
    },
    {
      "cell_type": "code",
      "source": [
        "def sigmoid(x):\n",
        "    return 1 / (1 + np.exp(-x))\n",
        "\n",
        "\n",
        "def logloss(y, y_proba):\n",
        "    logloss_1 = np.sum(np.log(y_proba[y == 1] + 1e-30))\n",
        "    logloss_0 = np.sum(np.log(1 - y_proba[y == 0] + 1e-30))\n",
        "    logloss_total = -(logloss_0 + logloss_1) / len(y)\n",
        "    return logloss_total\n",
        "\n",
        "\n",
        "def gr_logloss(X, W, y):\n",
        "    y_proba = sigmoid(X @ W)\n",
        "    grad = X.T @ (y_proba - y)\n",
        "    return grad"
      ],
      "metadata": {
        "id": "_GlN3Fb4CPlC"
      },
      "execution_count": 73,
      "outputs": []
    },
    {
      "cell_type": "code",
      "source": [
        "def visualize(W):\n",
        "    x_t_ones = np.c_[np.ones(x_t.shape[0]), x_t]\n",
        "\n",
        "    y_proba = sigmoid(x_t_ones @ W)\n",
        "    Z = np.where(y_proba >= 0.5, 1, 0)\n",
        "\n",
        "    Z = Z.reshape(xx.shape)\n",
        "\n",
        "    plt.figure(1, figsize=(8,8))\n",
        "    plt.pcolormesh(xx,yy,Z,cmap=plt.cm.Paired)\n",
        "\n",
        "    plt.scatter(X[y == 0][:, 1], X[y == 0][:, 2], edgecolors='k')\n",
        "    plt.scatter(X[y == 1][:, 1], X[y == 1][:, 2], edgecolors='k')\n",
        "\n",
        "    plt.xlim(xx.min(), xx.max())\n",
        "    plt.ylim(yy.min(), yy.max())\n",
        "    plt.xticks()\n",
        "    plt.show()"
      ],
      "metadata": {
        "id": "ZDj1qlgn_gCN"
      },
      "execution_count": 74,
      "outputs": []
    },
    {
      "cell_type": "code",
      "source": [
        "# установка минимального значения, на которое должны изменяться веса\n",
        "eps = 0.0001\n",
        "\n",
        "# первоначальное точка\n",
        "np.random.seed(8)\n",
        "W = np.random.randn(X.shape[1])\n",
        "\n",
        "# размер шага (learning rate)\n",
        "learning_rate = 0.001\n",
        "\n",
        "next_W = W\n",
        "\n",
        "# количество итерация \n",
        "n = 250\n",
        "for i in range(n):\n",
        "    cur_W = next_W\n",
        "\n",
        "    # движение в негативную сторону вычисляемого градиента\n",
        "    next_W = cur_W - learning_rate * gr_logloss(X, W, y)\n",
        "\n",
        "    # остановка когда достигнута необходимая степень точности\n",
        "    if np.linalg.norm(cur_W - next_W) <= eps:\n",
        "        break\n",
        "\n",
        "    if i % 70 == 0:\n",
        "        print(f\"Итерация: {i}\")\n",
        "        # print(f\"Текущая точка {cur_W}| Следующая точка {next_W}\")\n",
        "        y_proba = sigmoid(X @ next_W)\n",
        "        y_class = np.where(y_proba >= 0.5, 1, 0)\n",
        "        accuracy = (y_class == y).sum() / len(y)\n",
        "        print(f\"Logloss {logloss(y, y_proba)}\")\n",
        "        print(f\"Accuracy {accuracy}\")\n",
        "        print(\"--------------------------------------------------------\") \n",
        "\n",
        "        visualize(next_W)   "
      ],
      "metadata": {
        "colab": {
          "base_uri": "https://localhost:8080/",
          "height": 1000
        },
        "id": "hyhZ-Pm_QWTa",
        "outputId": "2ba71367-317b-457e-e636-0c1ac0d4b464"
      },
      "execution_count": 75,
      "outputs": [
        {
          "output_type": "stream",
          "name": "stdout",
          "text": [
            "Итерация: 0\n",
            "Logloss 2.259021790386789\n",
            "Accuracy 0.14\n",
            "--------------------------------------------------------\n"
          ]
        },
        {
          "output_type": "display_data",
          "data": {
            "text/plain": [
              "<Figure size 576x576 with 1 Axes>"
            ],
            "image/png": "[encoded data removed]"
          },
          "metadata": {
            "needs_background": "light"
          }
        },
        {
          "output_type": "stream",
          "name": "stdout",
          "text": [
            "Итерация: 70\n",
            "Logloss 0.3558220178313083\n",
            "Accuracy 0.92\n",
            "--------------------------------------------------------\n"
          ]
        },
        {
          "output_type": "display_data",
          "data": {
            "text/plain": [
              "<Figure size 576x576 with 1 Axes>"
            ],
            "image/png": "[encoded data removed]"
          },
          "metadata": {
            "needs_background": "light"
          }
        },
        {
          "output_type": "stream",
          "name": "stdout",
          "text": [
            "Итерация: 140\n",
            "Logloss 0.20385651072325695\n",
            "Accuracy 0.9\n",
            "--------------------------------------------------------\n"
          ]
        },
        {
          "output_type": "display_data",
          "data": {
            "text/plain": [
              "<Figure size 576x576 with 1 Axes>"
            ],
            "image/png": "[encoded data removed]"
          },
          "metadata": {
            "needs_background": "light"
          }
        },
        {
          "output_type": "stream",
          "name": "stdout",
          "text": [
            "Итерация: 210\n",
            "Logloss 0.27279613823859705\n",
            "Accuracy 0.88\n",
            "--------------------------------------------------------\n"
          ]
        },
        {
          "output_type": "display_data",
          "data": {
            "text/plain": [
              "<Figure size 576x576 with 1 Axes>"
            ],
            "image/png": "[encoded data removed]"
          },
          "metadata": {
            "needs_background": "light"
          }
        }
      ]
    },
    {
      "cell_type": "code",
      "source": [
        "next_W"
      ],
      "metadata": {
        "id": "iSCKcChtUj6D",
        "outputId": "c08a7a98-897e-4e80-e457-d4ffa7557934",
        "colab": {
          "base_uri": "https://localhost:8080/"
        }
      },
      "execution_count": 76,
      "outputs": [
        {
          "output_type": "execute_result",
          "data": {
            "text/plain": [
              "array([ 0.38352166, -1.55677194,  9.11878295])"
            ]
          },
          "metadata": {},
          "execution_count": 76
        }
      ]
    },
    {
      "cell_type": "code",
      "source": [
        "visualize(next_W)"
      ],
      "metadata": {
        "colab": {
          "base_uri": "https://localhost:8080/",
          "height": 483
        },
        "id": "XeOSyySHBnfe",
        "outputId": "bd7d29ec-9f0d-4f36-9581-479d80cf0454"
      },
      "execution_count": 77,
      "outputs": [
        {
          "output_type": "display_data",
          "data": {
            "text/plain": [
              "<Figure size 576x576 with 1 Axes>"
            ],
            "image/png": "[encoded data removed]"
          },
          "metadata": {
            "needs_background": "light"
          }
        }
      ]
    },
    {
      "cell_type": "code",
      "source": [
        "from sklearn.datasets import make_moons\n",
        "\n",
        "n_samples=100\n",
        "\n",
        "X, y = make_moons(n_samples=n_samples, shuffle=False, noise=0.1, random_state=1)\n",
        "\n",
        "# прореживаем, чтобы был дисбаланс\n",
        "i = (y==0) | (np.random.rand(n_samples) > 0.5)\n",
        "X = X[i, :]\n",
        "y = y[i]\n",
        "\n",
        "plt.figure(figsize=(10, 4))\n",
        "plt.scatter(X[:,0], X[:,1], 100, y)\n",
        "pd.DataFrame(X[:5,:])"
      ],
      "metadata": {
        "colab": {
          "base_uri": "https://localhost:8080/",
          "height": 454
        },
        "id": "yd2qG0nrYbn6",
        "outputId": "b345e556-a621-4525-e40b-554a2c8bd8c0"
      },
      "execution_count": 81,
      "outputs": [
        {
          "output_type": "execute_result",
          "data": {
            "text/plain": [
              "          0         1\n",
              "0  1.162435 -0.061176\n",
              "1  0.945128 -0.043227\n",
              "2  1.078331 -0.102277\n",
              "3  1.156040  0.115038\n",
              "4  0.999199  0.228718"
            ],
            "text/html": [
              "\n",
              "  <div id=\"df-2bf43bb9-f205-4af3-ab3c-c8bcecf9408d\">\n",
              "    <div class=\"colab-df-container\">\n",
              "      <div>\n",
              "<style scoped>\n",
              "    .dataframe tbody tr th:only-of-type {\n",
              "        vertical-align: middle;\n",
              "    }\n",
              "\n",
              "    .dataframe tbody tr th {\n",
              "        vertical-align: top;\n",
              "    }\n",
              "\n",
              "    .dataframe thead th {\n",
              "        text-align: right;\n",
              "    }\n",
              "</style>\n",
              "<table border=\"1\" class=\"dataframe\">\n",
              "  <thead>\n",
              "    <tr style=\"text-align: right;\">\n",
              "      <th></th>\n",
              "      <th>0</th>\n",
              "      <th>1</th>\n",
              "    </tr>\n",
              "  </thead>\n",
              "  <tbody>\n",
              "    <tr>\n",
              "      <th>0</th>\n",
              "      <td>1.162435</td>\n",
              "      <td>-0.061176</td>\n",
              "    </tr>\n",
              "    <tr>\n",
              "      <th>1</th>\n",
              "      <td>0.945128</td>\n",
              "      <td>-0.043227</td>\n",
              "    </tr>\n",
              "    <tr>\n",
              "      <th>2</th>\n",
              "      <td>1.078331</td>\n",
              "      <td>-0.102277</td>\n",
              "    </tr>\n",
              "    <tr>\n",
              "      <th>3</th>\n",
              "      <td>1.156040</td>\n",
              "      <td>0.115038</td>\n",
              "    </tr>\n",
              "    <tr>\n",
              "      <th>4</th>\n",
              "      <td>0.999199</td>\n",
              "      <td>0.228718</td>\n",
              "    </tr>\n",
              "  </tbody>\n",
              "</table>\n",
              "</div>\n",
              "      <button class=\"colab-df-convert\" onclick=\"convertToInteractive('df-2bf43bb9-f205-4af3-ab3c-c8bcecf9408d')\"\n",
              "              title=\"Convert this dataframe to an interactive table.\"\n",
              "              style=\"display:none;\">\n",
              "        \n",
              "  <svg xmlns=\"http://www.w3.org/2000/svg\" height=\"24px\"viewBox=\"0 0 24 24\"\n",
              "       width=\"24px\">\n",
              "    <path d=\"M0 0h24v24H0V0z\" fill=\"none\"/>\n",
              "    <path d=\"M18.56 5.44l.94 2.06.94-2.06 2.06-.94-2.06-.94-.94-2.06-.94 2.06-2.06.94zm-11 1L8.5 8.5l.94-2.06 2.06-.94-2.06-.94L8.5 2.5l-.94 2.06-2.06.94zm10 10l.94 2.06.94-2.06 2.06-.94-2.06-.94-.94-2.06-.94 2.06-2.06.94z\"/><path d=\"M17.41 7.96l-1.37-1.37c-.4-.4-.92-.59-1.43-.59-.52 0-1.04.2-1.43.59L10.3 9.45l-7.72 7.72c-.78.78-.78 2.05 0 2.83L4 21.41c.39.39.9.59 1.41.59.51 0 1.02-.2 1.41-.59l7.78-7.78 2.81-2.81c.8-.78.8-2.07 0-2.86zM5.41 20L4 18.59l7.72-7.72 1.47 1.35L5.41 20z\"/>\n",
              "  </svg>\n",
              "      </button>\n",
              "      \n",
              "  <style>\n",
              "    .colab-df-container {\n",
              "      display:flex;\n",
              "      flex-wrap:wrap;\n",
              "      gap: 12px;\n",
              "    }\n",
              "\n",
              "    .colab-df-convert {\n",
              "      background-color: #E8F0FE;\n",
              "      border: none;\n",
              "      border-radius: 50%;\n",
              "      cursor: pointer;\n",
              "      display: none;\n",
              "      fill: #1967D2;\n",
              "      height: 32px;\n",
              "      padding: 0 0 0 0;\n",
              "      width: 32px;\n",
              "    }\n",
              "\n",
              "    .colab-df-convert:hover {\n",
              "      background-color: #E2EBFA;\n",
              "      box-shadow: 0px 1px 2px rgba(60, 64, 67, 0.3), 0px 1px 3px 1px rgba(60, 64, 67, 0.15);\n",
              "      fill: #174EA6;\n",
              "    }\n",
              "\n",
              "    [theme=dark] .colab-df-convert {\n",
              "      background-color: #3B4455;\n",
              "      fill: #D2E3FC;\n",
              "    }\n",
              "\n",
              "    [theme=dark] .colab-df-convert:hover {\n",
              "      background-color: #434B5C;\n",
              "      box-shadow: 0px 1px 3px 1px rgba(0, 0, 0, 0.15);\n",
              "      filter: drop-shadow(0px 1px 2px rgba(0, 0, 0, 0.3));\n",
              "      fill: #FFFFFF;\n",
              "    }\n",
              "  </style>\n",
              "\n",
              "      <script>\n",
              "        const buttonEl =\n",
              "          document.querySelector('#df-2bf43bb9-f205-4af3-ab3c-c8bcecf9408d button.colab-df-convert');\n",
              "        buttonEl.style.display =\n",
              "          google.colab.kernel.accessAllowed ? 'block' : 'none';\n",
              "\n",
              "        async function convertToInteractive(key) {\n",
              "          const element = document.querySelector('#df-2bf43bb9-f205-4af3-ab3c-c8bcecf9408d');\n",
              "          const dataTable =\n",
              "            await google.colab.kernel.invokeFunction('convertToInteractive',\n",
              "                                                     [key], {});\n",
              "          if (!dataTable) return;\n",
              "\n",
              "          const docLinkHtml = 'Like what you see? Visit the ' +\n",
              "            '<a target=\"_blank\" href=https://colab.research.google.com/notebooks/data_table.ipynb>data table notebook</a>'\n",
              "            + ' to learn more about interactive tables.';\n",
              "          element.innerHTML = '';\n",
              "          dataTable['output_type'] = 'display_data';\n",
              "          await google.colab.output.renderOutput(dataTable, element);\n",
              "          const docLink = document.createElement('div');\n",
              "          docLink.innerHTML = docLinkHtml;\n",
              "          element.appendChild(docLink);\n",
              "        }\n",
              "      </script>\n",
              "    </div>\n",
              "  </div>\n",
              "  "
            ]
          },
          "metadata": {},
          "execution_count": 81
        },
        {
          "output_type": "display_data",
          "data": {
            "text/plain": [
              "<Figure size 720x288 with 1 Axes>"
            ],
            "image/png": "[encoded data removed]"
          },
          "metadata": {
            "needs_background": "light"
          }
        }
      ]
    },
    {
      "cell_type": "code",
      "source": [
        "X.shape"
      ],
      "metadata": {
        "colab": {
          "base_uri": "https://localhost:8080/"
        },
        "id": "DVG9S4UoY5V_",
        "outputId": "e2264d04-e41b-4dd9-d7f5-8cb5d649fb95"
      },
      "execution_count": 83,
      "outputs": [
        {
          "output_type": "execute_result",
          "data": {
            "text/plain": [
              "(71, 2)"
            ]
          },
          "metadata": {},
          "execution_count": 83
        }
      ]
    },
    {
      "cell_type": "code",
      "source": [
        "\n",
        "import numpy as np\n",
        "from sklearn.metrics import accuracy_score\n",
        "\n",
        "class SLR(object):\n",
        "    \"\"\"\n",
        "    This is the SLR class\n",
        "    \"\"\"\n",
        "\n",
        "    def __init__(self, learning_rate=10e-3, n_epochs=10_000, cutoff=0.5):\n",
        "        \"\"\"\n",
        "        The __init__ method\n",
        "        Params:\n",
        "            learning_rate\n",
        "            n_epochs\n",
        "            cutoff\n",
        "        \"\"\"\n",
        "        self.learning_rate = learning_rate\n",
        "        self.n_epochs = n_epochs\n",
        "        self.cutoff = cutoff\n",
        "\n",
        "        self.w = None\n",
        "        self.b = 0.0\n",
        "\n",
        "    def __repr__(self):\n",
        "        params = {\n",
        "            'learning_rate': self.learning_rate,\n",
        "            'n_epochs': self.n_epochs,\n",
        "            'cutoff': self.cutoff\n",
        "        }\n",
        "        return \"SLR({0}={3}, {1}={4}, {2}={5})\".format(*params.keys(), *params.values())\n",
        "\n",
        "    def sigmoid(self, z):\n",
        "        \"\"\"\n",
        "        The sigmoid method:\n",
        "        Param:\n",
        "            z\n",
        "        Return:\n",
        "            1.0 / (1.0 + exp(-z))\n",
        "        \"\"\"\n",
        "        return 1.0 / (1.0 + np.exp(-z))\n",
        "\n",
        "    def predict_proba(self, row):\n",
        "        \"\"\"\n",
        "        The predict_proba\n",
        "        Param:\n",
        "            row\n",
        "        Return:\n",
        "            sigmoid(z)\n",
        "        \"\"\"\n",
        "        z = np.dot(row, self.w) + self.b\n",
        "        return self.sigmoid(z)\n",
        "\n",
        "    def predict(self, X):\n",
        "        if not isinstance(X, np.ndarray):\n",
        "            X = X.to_numpy()\n",
        "\n",
        "        self.predict_probas = []\n",
        "        for i in range(X.shape[0]):\n",
        "            ypred = self.predict_proba(X[i])\n",
        "            self.predict_probas.append(ypred)\n",
        "\n",
        "        return (np.array(self.predict_probas) >= self.cutoff) * 1.0\n",
        "\n",
        "    def score(self, X, y):\n",
        "        \"\"\"\n",
        "        The score method\n",
        "        Param\n",
        "            X, y\n",
        "        Return\n",
        "            accuracy_score(y, ypred)\n",
        "        \"\"\"\n",
        "        ypred = self.predict(X)\n",
        "        #y = y.to_numpy()\n",
        "        return accuracy_score(y, ypred)\n",
        "\n",
        "    def fit(self, X, y):\n",
        "        \"\"\"\n",
        "        The fit method implement stochastic gradient descent\n",
        "        Param\n",
        "            X, y\n",
        "        Return\n",
        "            None\n",
        "        \"\"\"\n",
        "        if not isinstance(X, np.ndarray):\n",
        "            X = X.to_numpy()\n",
        "\n",
        "        if not isinstance(y, np.ndarray):\n",
        "            y = y.to_numpy()\n",
        "\n",
        "        self.w = np.zeros(X.shape[1])\n",
        "        self.cost = []\n",
        "\n",
        "        self.m = X.shape[0]\n",
        "        self.log_loss = {}\n",
        "        self.cost = []\n",
        "\n",
        "        for n_epoch in range(1, self.n_epochs + 1):\n",
        "            losses = []\n",
        "            for i in range(self.m):\n",
        "                yhat = self.predict_proba(X[i])\n",
        "                grad_b = yhat - y[i]\n",
        "                grad_w =  X[i] * (yhat - y[i])\n",
        "\n",
        "                self.w -= self.learning_rate * grad_w / self.m\n",
        "                self.b -= self.learning_rate * grad_b / self.m\n",
        "                loss = -1/self.m * (y[i] * np.log(yhat) + (1 - y[i]) * np.log(1 - yhat))\n",
        "                losses.append(loss)\n",
        "\n",
        "            self.cost.append(sum(losses))"
      ],
      "metadata": {
        "id": "dO1mnxbhZA26"
      },
      "execution_count": 101,
      "outputs": []
    },
    {
      "cell_type": "code",
      "source": [
        "import numpy as np\n",
        "import pandas as pd\n",
        "import matplotlib.pyplot as plt\n",
        "from sklearn.pipeline import Pipeline\n",
        "from sklearn.datasets import load_breast_cancer\n",
        "from sklearn.metrics import classification_report\n",
        "from sklearn.model_selection import train_test_split\n",
        "from sklearn.preprocessing import StandardScaler\n",
        "\n",
        "import warnings\n",
        "warnings.filterwarnings('ignore')"
      ],
      "metadata": {
        "id": "3fHb5w8zahPG"
      },
      "execution_count": 102,
      "outputs": []
    },
    {
      "cell_type": "code",
      "source": [
        "\n",
        "from sklearn.model_selection import train_test_split\n",
        "\n",
        "# splits the training and test data set in 80% : 20%\n",
        "# assign random_state to any value.This ensures consistency.\n",
        "X_train, X_test, y_train, y_test = train_test_split(X, y, test_size = 0.2, random_state=42)\n",
        "print(X_train.shape)\n",
        "print(X_test.shape)\n",
        "print(y_train.shape)\n",
        "print(y_test.shape)\n",
        "     "
      ],
      "metadata": {
        "colab": {
          "base_uri": "https://localhost:8080/"
        },
        "id": "UK7yIl2za4gv",
        "outputId": "566567e1-4b9d-4c87-f6d0-7be04112340d"
      },
      "execution_count": 103,
      "outputs": [
        {
          "output_type": "stream",
          "name": "stdout",
          "text": [
            "(56, 2)\n",
            "(15, 2)\n",
            "(56,)\n",
            "(15,)\n"
          ]
        }
      ]
    },
    {
      "cell_type": "code",
      "source": [
        "pipe0 = Pipeline([\n",
        "    ('scaler', StandardScaler()),\n",
        "    ('lr', SLR(learning_rate=1e-2, n_epochs=1000, cutoff=0.5))\n",
        "])"
      ],
      "metadata": {
        "id": "R372JMPgbCz4"
      },
      "execution_count": 104,
      "outputs": []
    },
    {
      "cell_type": "code",
      "source": [
        "pipe0.fit(X_train, y_train)"
      ],
      "metadata": {
        "colab": {
          "base_uri": "https://localhost:8080/"
        },
        "id": "thEfMVj7b0Cy",
        "outputId": "c1113a01-dc72-4bf1-f588-30f3f35f3818"
      },
      "execution_count": 105,
      "outputs": [
        {
          "output_type": "execute_result",
          "data": {
            "text/plain": [
              "Pipeline(steps=[('scaler', StandardScaler()),\n",
              "                ('lr', SLR(learning_rate=0.01, n_epochs=1000, cutoff=0.5))])"
            ]
          },
          "metadata": {},
          "execution_count": 105
        }
      ]
    },
    {
      "cell_type": "code",
      "source": [
        "accuracies = {\n",
        "    'train accuracy': pipe0.score(X_train, y_train),\n",
        "    'test accuracy': pipe0.score(X_test, y_test)\n",
        "}"
      ],
      "metadata": {
        "id": "3VKrkAR_bogp"
      },
      "execution_count": 106,
      "outputs": []
    },
    {
      "cell_type": "code",
      "source": [
        "print(*accuracies.items())"
      ],
      "metadata": {
        "colab": {
          "base_uri": "https://localhost:8080/"
        },
        "id": "AkKLk_Mic2rx",
        "outputId": "24be07a0-2f0e-4cda-edcc-5b7832750393"
      },
      "execution_count": 107,
      "outputs": [
        {
          "output_type": "stream",
          "name": "stdout",
          "text": [
            "('train accuracy', 0.875) ('test accuracy', 0.7333333333333333)\n"
          ]
        }
      ]
    },
    {
      "cell_type": "code",
      "source": [
        "print(classification_report(y_test, pipe0.predict(X_test)))"
      ],
      "metadata": {
        "colab": {
          "base_uri": "https://localhost:8080/"
        },
        "id": "YYtTqxIzdZZa",
        "outputId": "08598400-15e3-4b64-8b47-e2b1071af574"
      },
      "execution_count": 108,
      "outputs": [
        {
          "output_type": "stream",
          "name": "stdout",
          "text": [
            "              precision    recall  f1-score   support\n",
            "\n",
            "           0       0.90      0.75      0.82        12\n",
            "           1       0.40      0.67      0.50         3\n",
            "\n",
            "    accuracy                           0.73        15\n",
            "   macro avg       0.65      0.71      0.66        15\n",
            "weighted avg       0.80      0.73      0.75        15\n",
            "\n"
          ]
        }
      ]
    },
    {
      "cell_type": "code",
      "source": [
        "print(classification_report(y_train, pipe0.predict(X_train)))"
      ],
      "metadata": {
        "colab": {
          "base_uri": "https://localhost:8080/"
        },
        "id": "IKsT_uLSddVA",
        "outputId": "287bfbd6-4a2c-4775-da70-c4ee7e0b2d1b"
      },
      "execution_count": 109,
      "outputs": [
        {
          "output_type": "stream",
          "name": "stdout",
          "text": [
            "              precision    recall  f1-score   support\n",
            "\n",
            "           0       0.92      0.89      0.91        38\n",
            "           1       0.79      0.83      0.81        18\n",
            "\n",
            "    accuracy                           0.88        56\n",
            "   macro avg       0.85      0.86      0.86        56\n",
            "weighted avg       0.88      0.88      0.88        56\n",
            "\n"
          ]
        }
      ]
    },
    {
      "cell_type": "code",
      "source": [
        "import matplotlib\n",
        "matplotlib.rcParams['font.family'] = 'monospace'"
      ],
      "metadata": {
        "id": "-yBna0dfdg48"
      },
      "execution_count": 110,
      "outputs": []
    },
    {
      "cell_type": "code",
      "source": [
        "predictions = pipe0.predict(X_test)\n",
        "predict_probas = pipe0['lr'].predict_probas\n",
        "cutoff = pipe0['lr'].cutoff"
      ],
      "metadata": {
        "id": "iqbOoAPidiMM"
      },
      "execution_count": 111,
      "outputs": []
    },
    {
      "cell_type": "code",
      "source": [
        "fig = plt.figure(figsize=(15, 5), constrained_layout=True)\n",
        "x = range(1, len(predict_probas) + 1)\n",
        "plt.scatter(x, predict_probas, c=predictions, label='predicted probabilities')\n",
        "plt.plot(x, [cutoff] * len(predictions), color='red', label='cutoff=0.5')\n",
        "\n",
        "plt.ylabel('Predicted probabilites', fontsize=12)\n",
        "plt.xlabel('test data', fontsize=12)\n",
        "plt.legend(loc=7);"
      ],
      "metadata": {
        "colab": {
          "base_uri": "https://localhost:8080/",
          "height": 385
        },
        "id": "scOiJ-8odlIp",
        "outputId": "70e41d2c-3fbd-439e-cdfa-e2807d6aaa09"
      },
      "execution_count": 112,
      "outputs": [
        {
          "output_type": "display_data",
          "data": {
            "text/plain": [
              "<Figure size 1080x360 with 1 Axes>"
            ],
            "image/png": "[encoded data removed]"
          },
          "metadata": {
            "needs_background": "light"
          }
        }
      ]
    },
    {
      "cell_type": "code",
      "source": [
        "SLR()"
      ],
      "metadata": {
        "colab": {
          "base_uri": "https://localhost:8080/"
        },
        "id": "b9ogGLSXg4mC",
        "outputId": "aff65aa4-4657-4b38-c440-47ee39c15899"
      },
      "execution_count": 114,
      "outputs": [
        {
          "output_type": "execute_result",
          "data": {
            "text/plain": [
              "SLR(learning_rate=0.01, n_epochs=10000, cutoff=0.5)"
            ]
          },
          "metadata": {},
          "execution_count": 114
        }
      ]
    },
    {
      "cell_type": "code",
      "source": [
        "from mlxtend.plotting import plot_decision_regions\n",
        "\n",
        "fig = plt.figure(figsize=(10, 6))\n",
        "sgd = SLR()\n",
        "sgd.fit(X, y)\n",
        "plot_decision_regions(X, y, sgd)"
      ],
      "metadata": {
        "colab": {
          "base_uri": "https://localhost:8080/",
          "height": 391
        },
        "id": "86Agt3KygVs4",
        "outputId": "c82b2561-3734-4036-a692-05d76a789e2e"
      },
      "execution_count": 116,
      "outputs": [
        {
          "output_type": "execute_result",
          "data": {
            "text/plain": [
              "<matplotlib.axes._subplots.AxesSubplot at 0x7f8fd0483160>"
            ]
          },
          "metadata": {},
          "execution_count": 116
        },
        {
          "output_type": "display_data",
          "data": {
            "text/plain": [
              "<Figure size 720x432 with 1 Axes>"
            ],
            "image/png": "[encoded data removed]"
          },
          "metadata": {
            "needs_background": "light"
          }
        }
      ]
    },
    {
      "cell_type": "code",
      "source": [
        "\n",
        "fig = plt.figure(figsize=(10, 6))\n",
        "sgd = SLR()\n",
        "sgd.fit(X_test, y_test)\n",
        "plot_decision_regions(X_test, y_test, sgd)"
      ],
      "metadata": {
        "colab": {
          "base_uri": "https://localhost:8080/",
          "height": 394
        },
        "id": "0G8cubMvhaA5",
        "outputId": "d26e929e-5ac0-4713-dc9e-2dee4105ef87"
      },
      "execution_count": 118,
      "outputs": [
        {
          "output_type": "execute_result",
          "data": {
            "text/plain": [
              "<matplotlib.axes._subplots.AxesSubplot at 0x7f8fd0602190>"
            ]
          },
          "metadata": {},
          "execution_count": 118
        },
        {
          "output_type": "display_data",
          "data": {
            "text/plain": [
              "<Figure size 720x432 with 1 Axes>"
            ],
            "image/png": "[encoded data removed]"
          },
          "metadata": {
            "needs_background": "light"
          }
        }
      ]
    },
    {
      "cell_type": "code",
      "source": [
        "\n",
        "fig = plt.figure(figsize=(10, 6))\n",
        "sgd = SLR()\n",
        "sgd.fit(X_train, y_train)\n",
        "plot_decision_regions(X_train, y_train, sgd)"
      ],
      "metadata": {
        "colab": {
          "base_uri": "https://localhost:8080/",
          "height": 391
        },
        "id": "5eun07hNh7QK",
        "outputId": "d837493f-5ba3-4541-e449-c5deeb764efe"
      },
      "execution_count": 119,
      "outputs": [
        {
          "output_type": "execute_result",
          "data": {
            "text/plain": [
              "<matplotlib.axes._subplots.AxesSubplot at 0x7f8fcee04370>"
            ]
          },
          "metadata": {},
          "execution_count": 119
        },
        {
          "output_type": "display_data",
          "data": {
            "text/plain": [
              "<Figure size 720x432 with 1 Axes>"
            ],
            "image/png": "[encoded data removed]"
          },
          "metadata": {
            "needs_background": "light"
          }
        }
      ]
    },
    {
      "cell_type": "code",
      "source": [
        "\n",
        "from sklearn.preprocessing import PolynomialFeatures\n",
        "from sklearn.pipeline import Pipeline"
      ],
      "metadata": {
        "id": "yBccpzdHlEyi"
      },
      "execution_count": 120,
      "outputs": []
    },
    {
      "cell_type": "code",
      "source": [
        "degrees = [1, 2, 3, 4, 5,10,11,14,15]\n",
        "\n",
        "for degree in degrees:\n",
        "    pipeline = Pipeline([('poly_features', PolynomialFeatures(degree=degree)),\n",
        "                     ('model', SLR(learning_rate=1e-2, n_epochs=1000, cutoff=0.5))])\n",
        "    pipeline.fit(X_train, y_train)\n",
        "    y_pred = pipeline.predict(X_train)\n",
        "    \n",
        "    accuracies = {\n",
        "    'train accuracy': pipeline.score(X_train, y_train),\n",
        "    'test accuracy': pipeline.score(X_test, y_test)\n",
        "    }\n",
        "    \n",
        "    print(*accuracies.items())\n"
      ],
      "metadata": {
        "colab": {
          "base_uri": "https://localhost:8080/"
        },
        "id": "nTYldIk8la95",
        "outputId": "9b66837b-42c0-4b98-bcd7-948567a0db89"
      },
      "execution_count": 135,
      "outputs": [
        {
          "output_type": "stream",
          "name": "stdout",
          "text": [
            "('train accuracy', 0.8571428571428571) ('test accuracy', 0.7333333333333333)\n",
            "('train accuracy', 0.8571428571428571) ('test accuracy', 0.7333333333333333)\n",
            "('train accuracy', 0.8571428571428571) ('test accuracy', 0.7333333333333333)\n",
            "('train accuracy', 0.875) ('test accuracy', 0.8)\n",
            "('train accuracy', 0.8928571428571429) ('test accuracy', 0.8)\n",
            "('train accuracy', 0.9107142857142857) ('test accuracy', 0.8666666666666667)\n",
            "('train accuracy', 0.9107142857142857) ('test accuracy', 0.8666666666666667)\n",
            "('train accuracy', 0.8214285714285714) ('test accuracy', 0.8)\n",
            "('train accuracy', 0.7857142857142857) ('test accuracy', 0.6666666666666666)\n"
          ]
        }
      ]
    },
    {
      "cell_type": "code",
      "source": [
        "pipe4 = Pipeline([\n",
        "    ('scaler', StandardScaler()),\n",
        "    ('lr', LogisticRegression(penalty='l2', C=1e-1, solver='saga'))\n",
        "])"
      ],
      "metadata": {
        "id": "7ojipXiQps8Z"
      },
      "execution_count": null,
      "outputs": []
    },
    {
      "cell_type": "code",
      "source": [
        "degrees = [10,11,14,15]\n",
        "\n",
        "for degree in degrees:\n",
        "    pipeline = Pipeline([('poly_features', PolynomialFeatures(degree=degree)),\n",
        "                     ('model',LogisticRegression())])\n",
        "    pipeline.fit(X_train, y_train)\n",
        "    y_pred = pipeline.predict(X_train)\n",
        "    \n",
        "    accuracies = {\n",
        "    'train accuracy': pipeline.score(X_train, y_train),\n",
        "    'test accuracy': pipeline.score(X_test, y_test)\n",
        "    }\n",
        "    \n",
        "    print(*accuracies.items())\n"
      ],
      "metadata": {
        "colab": {
          "base_uri": "https://localhost:8080/"
        },
        "id": "UVv4imdupQsu",
        "outputId": "002ce6dc-99eb-4948-fe86-ef80ca4c329a"
      },
      "execution_count": 137,
      "outputs": [
        {
          "output_type": "stream",
          "name": "stdout",
          "text": [
            "('train accuracy', 0.9821428571428571) ('test accuracy', 1.0)\n",
            "('train accuracy', 0.9821428571428571) ('test accuracy', 0.9333333333333333)\n",
            "('train accuracy', 0.9821428571428571) ('test accuracy', 0.9333333333333333)\n",
            "('train accuracy', 0.9821428571428571) ('test accuracy', 0.9333333333333333)\n"
          ]
        }
      ]
    },
    {
      "cell_type": "code",
      "source": [
        "degrees = [1,2,3,4,5,6]\n",
        "\n",
        "for degree in degrees:\n",
        "    pipeline = Pipeline([('poly_features', PolynomialFeatures(degree=degree)),\n",
        "                     ('model',LogisticRegression(penalty='l2', C=1e-1, solver='saga'))])\n",
        "    pipeline.fit(X_train, y_train)\n",
        "    y_pred = pipeline.predict(X_train)\n",
        "    \n",
        "    accuracies = {\n",
        "    'train accuracy': pipeline.score(X_train, y_train),\n",
        "    'test accuracy': pipeline.score(X_test, y_test)\n",
        "    }\n",
        "    \n",
        "    print(*accuracies.items())"
      ],
      "metadata": {
        "colab": {
          "base_uri": "https://localhost:8080/"
        },
        "id": "u3k0YEpFqICq",
        "outputId": "55f87f8c-dd1c-49e1-c8f7-fd9908693bc1"
      },
      "execution_count": 143,
      "outputs": [
        {
          "output_type": "stream",
          "name": "stdout",
          "text": [
            "('train accuracy', 0.8928571428571429) ('test accuracy', 0.8)\n",
            "('train accuracy', 0.8392857142857143) ('test accuracy', 0.8)\n",
            "('train accuracy', 0.875) ('test accuracy', 0.8)\n",
            "('train accuracy', 0.875) ('test accuracy', 0.8)\n",
            "('train accuracy', 0.875) ('test accuracy', 0.8)\n",
            "('train accuracy', 0.8214285714285714) ('test accuracy', 0.7333333333333333)\n"
          ]
        }
      ]
    },
    {
      "cell_type": "code",
      "source": [
        "degrees = [1,4,5,6,7]\n",
        "\n",
        "for degree in degrees:\n",
        "    pipeline = Pipeline([('poly_features', PolynomialFeatures(degree=degree)),\n",
        "                     ('model',LogisticRegression(penalty='l1', C=1e-1, solver='saga'))])\n",
        "    pipeline.fit(X_train, y_train)\n",
        "    y_pred = pipeline.predict(X_train)\n",
        "    \n",
        "    accuracies = {\n",
        "    'train accuracy': pipeline.score(X_train, y_train),\n",
        "    'test accuracy': pipeline.score(X_test, y_test)\n",
        "    }\n",
        "    \n",
        "    print(*accuracies.items())"
      ],
      "metadata": {
        "colab": {
          "base_uri": "https://localhost:8080/"
        },
        "id": "Vs0Sft_TqZjj",
        "outputId": "937ac7a8-c2dc-4801-8f4c-b194cd36e091"
      },
      "execution_count": 147,
      "outputs": [
        {
          "output_type": "stream",
          "name": "stdout",
          "text": [
            "('train accuracy', 0.6785714285714286) ('test accuracy', 0.8)\n",
            "('train accuracy', 0.7857142857142857) ('test accuracy', 0.8)\n",
            "('train accuracy', 0.8214285714285714) ('test accuracy', 0.8)\n",
            "('train accuracy', 0.8392857142857143) ('test accuracy', 0.8)\n",
            "('train accuracy', 0.8214285714285714) ('test accuracy', 0.7333333333333333)\n"
          ]
        }
      ]
    },
    {
      "cell_type": "code",
      "source": [
        "\n",
        "def test_poly_model(degree=5):\n",
        "    poly_model = Pipeline([('poly', PolynomialFeatures(degree=degree)),\n",
        "                       ('model', SLR(learning_rate=1e-2, n_epochs=1000, cutoff=0.5))])\n",
        "    poly_model.fit(X_train, y_train)\n",
        "    poly_y_pred = poly_model.predict(X_test)\n",
        "    \n",
        "    \n",
        "    fig = plt.figure(figsize=(10, 6))\n",
        "    #sgd = SLR()\n",
        "    #sgd.fit(X_train, y_train)\n",
        "    accuracies = {\n",
        "    'test accuracy': poly_model.score(X_test, y_test)\n",
        "    }\n",
        "    \n",
        "    print(*accuracies.items())\n",
        "    plot_decision_regions(X_test, y_test, poly_model)\n",
        "\n",
        "    #plot_decision_regions(X_train, y_train, poly_model)\n",
        "\n",
        "    #plot_decision_regions(y_test, y_test, sgd)"
      ],
      "metadata": {
        "id": "mdgsJRdfq4YA"
      },
      "execution_count": 172,
      "outputs": []
    },
    {
      "cell_type": "code",
      "source": [
        "test_poly_model(degree=5)"
      ],
      "metadata": {
        "colab": {
          "base_uri": "https://localhost:8080/",
          "height": 394
        },
        "id": "HUKrfocYrXr5",
        "outputId": "7016fda9-fbe5-425f-bf9a-ad2a3b2f9159"
      },
      "execution_count": 173,
      "outputs": [
        {
          "output_type": "stream",
          "name": "stdout",
          "text": [
            "('test accuracy', 0.8)\n"
          ]
        },
        {
          "output_type": "display_data",
          "data": {
            "text/plain": [
              "<Figure size 720x432 with 1 Axes>"
            ],
            "image/png": "[encoded data removed]"
          },
          "metadata": {
            "needs_background": "light"
          }
        }
      ]
    },
    {
      "cell_type": "code",
      "source": [
        "test_poly_model(degree=12)"
      ],
      "metadata": {
        "colab": {
          "base_uri": "https://localhost:8080/",
          "height": 394
        },
        "id": "_Z_O7VPvvpAQ",
        "outputId": "22c90d93-eef8-4d7b-d165-e75fbafae8ae"
      },
      "execution_count": 174,
      "outputs": [
        {
          "output_type": "stream",
          "name": "stdout",
          "text": [
            "('test accuracy', 0.8666666666666667)\n"
          ]
        },
        {
          "output_type": "display_data",
          "data": {
            "text/plain": [
              "<Figure size 720x432 with 1 Axes>"
            ],
            "image/png": "[encoded data removed]"
          },
          "metadata": {
            "needs_background": "light"
          }
        }
      ]
    },
    {
      "cell_type": "code",
      "source": [
        "test_poly_model(degree=12)"
      ],
      "metadata": {
        "id": "zSQutV2Jv85L"
      },
      "execution_count": null,
      "outputs": []
    },
    {
      "cell_type": "code",
      "source": [
        "from sklearn.datasets import make_blobs, make_circles"
      ],
      "metadata": {
        "id": "5n3BgQ58yYnO"
      },
      "execution_count": 175,
      "outputs": []
    },
    {
      "cell_type": "code",
      "source": [
        "# Пример кода из книги Дж. Вандер Пласа\n",
        "X, y = make_circles(100, factor=.1, noise=.15)\n",
        "fig = plt.figure(figsize=(10, 6))\n",
        "plt.scatter(X[:, 0], X[:, 1], c=y, s=50, cmap='autumn')\n"
      ],
      "metadata": {
        "colab": {
          "base_uri": "https://localhost:8080/",
          "height": 391
        },
        "id": "5TjJd8HuxhpH",
        "outputId": "594fa346-3a0a-4d8b-9c93-0c14f8e7d5e8"
      },
      "execution_count": 180,
      "outputs": [
        {
          "output_type": "execute_result",
          "data": {
            "text/plain": [
              "<matplotlib.collections.PathCollection at 0x7f8fce191e50>"
            ]
          },
          "metadata": {},
          "execution_count": 180
        },
        {
          "output_type": "display_data",
          "data": {
            "text/plain": [
              "<Figure size 720x432 with 1 Axes>"
            ],
            "image/png": "[encoded data removed]"
          },
          "metadata": {
            "needs_background": "light"
          }
        }
      ]
    },
    {
      "cell_type": "code",
      "source": [
        "\n",
        "from sklearn.model_selection import train_test_split\n",
        "\n",
        "# splits the training and test data set in 80% : 20%\n",
        "# assign random_state to any value.This ensures consistency.\n",
        "X_train, X_test, y_train, y_test = train_test_split(X, y, test_size = 0.2, random_state=42)\n",
        "print(X_train.shape)\n",
        "print(X_test.shape)\n",
        "print(y_train.shape)\n",
        "print(y_test.shape)"
      ],
      "metadata": {
        "colab": {
          "base_uri": "https://localhost:8080/"
        },
        "id": "7oueNJaZytCG",
        "outputId": "04e66827-76d0-42ed-8e4f-6e7c574effe1"
      },
      "execution_count": 181,
      "outputs": [
        {
          "output_type": "stream",
          "name": "stdout",
          "text": [
            "(80, 2)\n",
            "(20, 2)\n",
            "(80,)\n",
            "(20,)\n"
          ]
        }
      ]
    },
    {
      "cell_type": "code",
      "source": [
        "pipe0 = Pipeline([\n",
        "    ('scaler', StandardScaler()),\n",
        "    ('lr', SLR(learning_rate=1e-2, n_epochs=1000, cutoff=0.5))\n",
        "])\n",
        "\n",
        "pipe0.fit(X_train, y_train)\n",
        "\n",
        "accuracies = {\n",
        "    'train accuracy': pipe0.score(X_train, y_train),\n",
        "    'test accuracy': pipe0.score(X_test, y_test)\n",
        "}\n",
        "\n",
        "print(*accuracies.items())"
      ],
      "metadata": {
        "colab": {
          "base_uri": "https://localhost:8080/"
        },
        "id": "u-wn0YGzAvVO",
        "outputId": "bcd845e2-1bfc-4a23-c50f-4a55567cab39"
      },
      "execution_count": 182,
      "outputs": [
        {
          "output_type": "stream",
          "name": "stdout",
          "text": [
            "('train accuracy', 0.6875) ('test accuracy', 0.7)\n"
          ]
        }
      ]
    },
    {
      "cell_type": "code",
      "source": [
        "\n",
        "fig = plt.figure(figsize=(10, 6))\n",
        "sgd = SLR()\n",
        "sgd.fit(X, y)\n",
        "plot_decision_regions(X, y, sgd)"
      ],
      "metadata": {
        "colab": {
          "base_uri": "https://localhost:8080/",
          "height": 391
        },
        "id": "ZGMGDmG6BOao",
        "outputId": "1591b305-ed80-4e8e-d1f6-3913e7fc57a5"
      },
      "execution_count": 183,
      "outputs": [
        {
          "output_type": "execute_result",
          "data": {
            "text/plain": [
              "<matplotlib.axes._subplots.AxesSubplot at 0x7f8fce971c10>"
            ]
          },
          "metadata": {},
          "execution_count": 183
        },
        {
          "output_type": "display_data",
          "data": {
            "text/plain": [
              "<Figure size 720x432 with 1 Axes>"
            ],
            "image/png": "[encoded data removed]"
          },
          "metadata": {
            "needs_background": "light"
          }
        }
      ]
    },
    {
      "cell_type": "code",
      "source": [
        "degrees = [1, 2, 3, 4, 5,10]\n",
        "\n",
        "for degree in degrees:\n",
        "    pipeline = Pipeline([('poly_features', PolynomialFeatures(degree=degree)),\n",
        "                     ('model', SLR(learning_rate=1e-2, n_epochs=1000, cutoff=0.5))])\n",
        "    pipeline.fit(X_train, y_train)\n",
        "    y_pred = pipeline.predict(X_train)\n",
        "    \n",
        "    accuracies = {\n",
        "    'train accuracy': pipeline.score(X_train, y_train),\n",
        "    'test accuracy': pipeline.score(X_test, y_test)\n",
        "    }\n",
        "    \n",
        "    print(*accuracies.items())"
      ],
      "metadata": {
        "colab": {
          "base_uri": "https://localhost:8080/"
        },
        "id": "HV9EOIL_BWBV",
        "outputId": "781335b3-1275-4a25-9d06-1ae676348430"
      },
      "execution_count": 191,
      "outputs": [
        {
          "output_type": "stream",
          "name": "stdout",
          "text": [
            "('train accuracy', 0.65) ('test accuracy', 0.7)\n",
            "('train accuracy', 0.9875) ('test accuracy', 0.95)\n",
            "('train accuracy', 0.9875) ('test accuracy', 0.95)\n",
            "('train accuracy', 0.975) ('test accuracy', 0.95)\n",
            "('train accuracy', 0.975) ('test accuracy', 0.95)\n",
            "('train accuracy', 0.9375) ('test accuracy', 0.95)\n"
          ]
        }
      ]
    },
    {
      "cell_type": "code",
      "source": [
        "test_poly_model(degree=3)"
      ],
      "metadata": {
        "colab": {
          "base_uri": "https://localhost:8080/",
          "height": 391
        },
        "id": "NADFaloGBw5t",
        "outputId": "109f9a09-230a-4f91-dc98-a6abef4cef3e"
      },
      "execution_count": 185,
      "outputs": [
        {
          "output_type": "stream",
          "name": "stdout",
          "text": [
            "('test accuracy', 0.95)\n"
          ]
        },
        {
          "output_type": "display_data",
          "data": {
            "text/plain": [
              "<Figure size 720x432 with 1 Axes>"
            ],
            "image/png": "[encoded data removed]"
          },
          "metadata": {
            "needs_background": "light"
          }
        }
      ]
    },
    {
      "cell_type": "code",
      "source": [
        "test_poly_model(degree=1)"
      ],
      "metadata": {
        "colab": {
          "base_uri": "https://localhost:8080/",
          "height": 391
        },
        "id": "WXlf0P-dB0jm",
        "outputId": "35f0021e-a3c1-4622-df03-5bb197790caa"
      },
      "execution_count": 186,
      "outputs": [
        {
          "output_type": "stream",
          "name": "stdout",
          "text": [
            "('test accuracy', 0.7)\n"
          ]
        },
        {
          "output_type": "display_data",
          "data": {
            "text/plain": [
              "<Figure size 720x432 with 1 Axes>"
            ],
            "image/png": "[encoded data removed]"
          },
          "metadata": {
            "needs_background": "light"
          }
        }
      ]
    },
    {
      "cell_type": "code",
      "source": [
        "from sklearn.metrics import confusion_matrix\n",
        "import seaborn as sns\n",
        "\n",
        "y_predicted = pipe0.predict(X_test) > 0.5\n",
        "mat = confusion_matrix(y_test, y_predicted)\n",
        "labels = ['malignant', 'benign']\n",
        "\n",
        "fig = plt.figure(figsize=(10, 6))\n",
        "\n",
        "sns.heatmap(mat, square=True, annot=True, fmt='d', cbar=False, cmap='Blues',\n",
        "            xticklabels=labels, yticklabels=labels)\n",
        "\n",
        "plt.xlabel('Predicted label')\n",
        "plt.ylabel('Actual label')"
      ],
      "metadata": {
        "colab": {
          "base_uri": "https://localhost:8080/",
          "height": 405
        },
        "id": "TThRvXnvB6MX",
        "outputId": "9dfefd0a-5a1f-4281-92d5-2d82dd7bf364"
      },
      "execution_count": 190,
      "outputs": [
        {
          "output_type": "execute_result",
          "data": {
            "text/plain": [
              "Text(184.92000000000002, 0.5, 'Actual label')"
            ]
          },
          "metadata": {},
          "execution_count": 190
        },
        {
          "output_type": "display_data",
          "data": {
            "text/plain": [
              "<Figure size 720x432 with 1 Axes>"
            ],
            "image/png": "[encoded data removed]"
          },
          "metadata": {
            "needs_background": "light"
          }
        }
      ]
    },
    {
      "cell_type": "code",
      "source": [
        "predictions=pipe0.predict(X_test)\n",
        "\n",
        "cm = confusion_matrix(y_test, predictions)\n",
        "\n",
        "TN, FP, FN, TP = confusion_matrix(y_test, predictions).ravel()\n",
        "\n",
        "print('True Positive(TP)  = ', TP)\n",
        "print('False Positive(FP) = ', FP)\n",
        "print('True Negative(TN)  = ', TN)\n",
        "print('False Negative(FN) = ', FN)"
      ],
      "metadata": {
        "colab": {
          "base_uri": "https://localhost:8080/"
        },
        "id": "Or-goDswFNPo",
        "outputId": "95214833-cb63-40d9-edd5-3c101dfd462b"
      },
      "execution_count": 204,
      "outputs": [
        {
          "output_type": "stream",
          "name": "stdout",
          "text": [
            "True Positive(TP)  =  9\n",
            "False Positive(FP) =  6\n",
            "True Negative(TN)  =  5\n",
            "False Negative(FN) =  0\n"
          ]
        }
      ]
    },
    {
      "cell_type": "code",
      "source": [
        "accuracy =  (TP + TN) / (TP + FP + TN + FN)\n",
        "\n",
        "print('Accuracy of the binary classifier = {:0.3f}'.format(accuracy))"
      ],
      "metadata": {
        "colab": {
          "base_uri": "https://localhost:8080/"
        },
        "id": "ZAwaw52UF2cP",
        "outputId": "f7d8f003-0838-47cd-ed24-c07dc691b2e0"
      },
      "execution_count": 205,
      "outputs": [
        {
          "output_type": "stream",
          "name": "stdout",
          "text": [
            "Accuracy of the binary classifier = 0.700\n"
          ]
        }
      ]
    },
    {
      "cell_type": "code",
      "source": [
        "pipe1 = Pipeline([('poly_features', PolynomialFeatures(degree=2)),\n",
        "                     ('model', SLR(learning_rate=1e-2, n_epochs=1000, cutoff=0.5))])"
      ],
      "metadata": {
        "id": "Wk_AeF7hEYYj"
      },
      "execution_count": 195,
      "outputs": []
    },
    {
      "cell_type": "code",
      "source": [
        "models = {}\n",
        "\n",
        "# Logistic Regression\n",
        "from sklearn.linear_model import LogisticRegression\n",
        "models['Logistic Regression'] = LogisticRegression()\n",
        "\n",
        "models['Logistic Regression function']=pipe0\n",
        "\n",
        "models['Logistic Regression polynom']=pipe1\n",
        "\n",
        "from sklearn.metrics import accuracy_score, precision_score, recall_score\n",
        "\n",
        "accuracy, precision, recall = {}, {}, {}\n",
        "\n",
        "for key in models.keys():\n",
        "    \n",
        "    # Fit the classifier model\n",
        "    models[key].fit(X_train, y_train)\n",
        "    \n",
        "    # Prediction \n",
        "    predictions = models[key].predict(X_test)\n",
        "    \n",
        "    # Calculate Accuracy, Precision and Recall Metrics\n",
        "    accuracy[key] = accuracy_score(predictions, y_test)\n",
        "    precision[key] = precision_score(predictions, y_test)\n",
        "    recall[key] = recall_score(predictions, y_test)"
      ],
      "metadata": {
        "id": "aF1JQtxOCe9g"
      },
      "execution_count": 198,
      "outputs": []
    },
    {
      "cell_type": "code",
      "source": [
        "import pandas as pd\n",
        "\n",
        "df_model = pd.DataFrame(index=models.keys(), columns=['Accuracy', 'Precision', 'Recall'])\n",
        "df_model['Accuracy'] = accuracy.values()\n",
        "df_model['Precision'] = precision.values()\n",
        "df_model['Recall'] = recall.values()\n",
        "\n",
        "df_model"
      ],
      "metadata": {
        "colab": {
          "base_uri": "https://localhost:8080/",
          "height": 143
        },
        "id": "iuRjBVuJEDoO",
        "outputId": "1efec2f2-d087-4200-e7f0-b2a3cd0dd2af"
      },
      "execution_count": 199,
      "outputs": [
        {
          "output_type": "execute_result",
          "data": {
            "text/plain": [
              "                              Accuracy  Precision  Recall\n",
              "Logistic Regression               0.70        1.0     0.6\n",
              "Logistic Regression function      0.70        1.0     0.6\n",
              "Logistic Regression polynom       0.95        1.0     0.9"
            ],
            "text/html": [
              "\n",
              "  <div id=\"df-4f74acb3-4bde-4ff6-bec1-8226579ddb24\">\n",
              "    <div class=\"colab-df-container\">\n",
              "      <div>\n",
              "<style scoped>\n",
              "    .dataframe tbody tr th:only-of-type {\n",
              "        vertical-align: middle;\n",
              "    }\n",
              "\n",
              "    .dataframe tbody tr th {\n",
              "        vertical-align: top;\n",
              "    }\n",
              "\n",
              "    .dataframe thead th {\n",
              "        text-align: right;\n",
              "    }\n",
              "</style>\n",
              "<table border=\"1\" class=\"dataframe\">\n",
              "  <thead>\n",
              "    <tr style=\"text-align: right;\">\n",
              "      <th></th>\n",
              "      <th>Accuracy</th>\n",
              "      <th>Precision</th>\n",
              "      <th>Recall</th>\n",
              "    </tr>\n",
              "  </thead>\n",
              "  <tbody>\n",
              "    <tr>\n",
              "      <th>Logistic Regression</th>\n",
              "      <td>0.70</td>\n",
              "      <td>1.0</td>\n",
              "      <td>0.6</td>\n",
              "    </tr>\n",
              "    <tr>\n",
              "      <th>Logistic Regression function</th>\n",
              "      <td>0.70</td>\n",
              "      <td>1.0</td>\n",
              "      <td>0.6</td>\n",
              "    </tr>\n",
              "    <tr>\n",
              "      <th>Logistic Regression polynom</th>\n",
              "      <td>0.95</td>\n",
              "      <td>1.0</td>\n",
              "      <td>0.9</td>\n",
              "    </tr>\n",
              "  </tbody>\n",
              "</table>\n",
              "</div>\n",
              "      <button class=\"colab-df-convert\" onclick=\"convertToInteractive('df-4f74acb3-4bde-4ff6-bec1-8226579ddb24')\"\n",
              "              title=\"Convert this dataframe to an interactive table.\"\n",
              "              style=\"display:none;\">\n",
              "        \n",
              "  <svg xmlns=\"http://www.w3.org/2000/svg\" height=\"24px\"viewBox=\"0 0 24 24\"\n",
              "       width=\"24px\">\n",
              "    <path d=\"M0 0h24v24H0V0z\" fill=\"none\"/>\n",
              "    <path d=\"M18.56 5.44l.94 2.06.94-2.06 2.06-.94-2.06-.94-.94-2.06-.94 2.06-2.06.94zm-11 1L8.5 8.5l.94-2.06 2.06-.94-2.06-.94L8.5 2.5l-.94 2.06-2.06.94zm10 10l.94 2.06.94-2.06 2.06-.94-2.06-.94-.94-2.06-.94 2.06-2.06.94z\"/><path d=\"M17.41 7.96l-1.37-1.37c-.4-.4-.92-.59-1.43-.59-.52 0-1.04.2-1.43.59L10.3 9.45l-7.72 7.72c-.78.78-.78 2.05 0 2.83L4 21.41c.39.39.9.59 1.41.59.51 0 1.02-.2 1.41-.59l7.78-7.78 2.81-2.81c.8-.78.8-2.07 0-2.86zM5.41 20L4 18.59l7.72-7.72 1.47 1.35L5.41 20z\"/>\n",
              "  </svg>\n",
              "      </button>\n",
              "      \n",
              "  <style>\n",
              "    .colab-df-container {\n",
              "      display:flex;\n",
              "      flex-wrap:wrap;\n",
              "      gap: 12px;\n",
              "    }\n",
              "\n",
              "    .colab-df-convert {\n",
              "      background-color: #E8F0FE;\n",
              "      border: none;\n",
              "      border-radius: 50%;\n",
              "      cursor: pointer;\n",
              "      display: none;\n",
              "      fill: #1967D2;\n",
              "      height: 32px;\n",
              "      padding: 0 0 0 0;\n",
              "      width: 32px;\n",
              "    }\n",
              "\n",
              "    .colab-df-convert:hover {\n",
              "      background-color: #E2EBFA;\n",
              "      box-shadow: 0px 1px 2px rgba(60, 64, 67, 0.3), 0px 1px 3px 1px rgba(60, 64, 67, 0.15);\n",
              "      fill: #174EA6;\n",
              "    }\n",
              "\n",
              "    [theme=dark] .colab-df-convert {\n",
              "      background-color: #3B4455;\n",
              "      fill: #D2E3FC;\n",
              "    }\n",
              "\n",
              "    [theme=dark] .colab-df-convert:hover {\n",
              "      background-color: #434B5C;\n",
              "      box-shadow: 0px 1px 3px 1px rgba(0, 0, 0, 0.15);\n",
              "      filter: drop-shadow(0px 1px 2px rgba(0, 0, 0, 0.3));\n",
              "      fill: #FFFFFF;\n",
              "    }\n",
              "  </style>\n",
              "\n",
              "      <script>\n",
              "        const buttonEl =\n",
              "          document.querySelector('#df-4f74acb3-4bde-4ff6-bec1-8226579ddb24 button.colab-df-convert');\n",
              "        buttonEl.style.display =\n",
              "          google.colab.kernel.accessAllowed ? 'block' : 'none';\n",
              "\n",
              "        async function convertToInteractive(key) {\n",
              "          const element = document.querySelector('#df-4f74acb3-4bde-4ff6-bec1-8226579ddb24');\n",
              "          const dataTable =\n",
              "            await google.colab.kernel.invokeFunction('convertToInteractive',\n",
              "                                                     [key], {});\n",
              "          if (!dataTable) return;\n",
              "\n",
              "          const docLinkHtml = 'Like what you see? Visit the ' +\n",
              "            '<a target=\"_blank\" href=https://colab.research.google.com/notebooks/data_table.ipynb>data table notebook</a>'\n",
              "            + ' to learn more about interactive tables.';\n",
              "          element.innerHTML = '';\n",
              "          dataTable['output_type'] = 'display_data';\n",
              "          await google.colab.output.renderOutput(dataTable, element);\n",
              "          const docLink = document.createElement('div');\n",
              "          docLink.innerHTML = docLinkHtml;\n",
              "          element.appendChild(docLink);\n",
              "        }\n",
              "      </script>\n",
              "    </div>\n",
              "  </div>\n",
              "  "
            ]
          },
          "metadata": {},
          "execution_count": 199
        }
      ]
    },
    {
      "cell_type": "code",
      "source": [
        "ax  = df_model.plot.bar(rot=45)\n",
        "ax.legend(ncol= len(models.keys()), bbox_to_anchor=(0, 1), loc='lower left', prop={'size': 14})\n",
        "plt.tight_layout()"
      ],
      "metadata": {
        "colab": {
          "base_uri": "https://localhost:8080/",
          "height": 297
        },
        "id": "Vf9Nr9A9EQW3",
        "outputId": "13bdebf1-23f5-402b-80a6-0e7eab940d74"
      },
      "execution_count": 200,
      "outputs": [
        {
          "output_type": "display_data",
          "data": {
            "text/plain": [
              "<Figure size 432x288 with 1 Axes>"
            ],
            "image/png": "[encoded data removed]"
          },
          "metadata": {
            "needs_background": "light"
          }
        }
      ]
    }
  ]
}