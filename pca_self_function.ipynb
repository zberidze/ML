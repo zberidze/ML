{
  "nbformat": 4,
  "nbformat_minor": 0,
  "metadata": {
    "colab": {
      "provenance": []
    },
    "kernelspec": {
      "name": "python3",
      "display_name": "Python 3"
    },
    "language_info": {
      "name": "python"
    }
  },
  "cells": [
    {
      "cell_type": "code",
      "source": [
        "%matplotlib inline\n",
        "import numpy as np\n",
        "import matplotlib.pyplot as plt"
      ],
      "metadata": {
        "id": "wQzj73MjjEXY"
      },
      "execution_count": null,
      "outputs": []
    },
    {
      "cell_type": "code",
      "execution_count": null,
      "metadata": {
        "id": "Th0KJDw8OEf_",
        "colab": {
          "base_uri": "https://localhost:8080/",
          "height": 282
        },
        "outputId": "b47cc08d-b176-4e76-cd93-29f478542b48"
      },
      "outputs": [
        {
          "output_type": "execute_result",
          "data": {
            "text/plain": [
              "<matplotlib.collections.PathCollection at 0x7f5ee4108cd0>"
            ]
          },
          "metadata": {},
          "execution_count": 3
        },
        {
          "output_type": "display_data",
          "data": {
            "text/plain": [
              "<Figure size 432x288 with 1 Axes>"
            ],
            "image/png": "[encoded data removed]"
          },
          "metadata": {
            "needs_background": "light"
          }
        }
      ],
      "source": [
        "x = np.arange(1,11)\n",
        "y = 2 * x + np.random.randn(10)*2\n",
        "X = np.vstack((x,y))\n",
        "\n",
        "plt.scatter(X[0],X[1])"
      ]
    },
    {
      "cell_type": "code",
      "source": [
        "import pandas as pd\n",
        "pd.DataFrame(X)"
      ],
      "metadata": {
        "colab": {
          "base_uri": "https://localhost:8080/",
          "height": 112
        },
        "id": "SmLNt-PCjjbR",
        "outputId": "a447089f-bc00-4618-f3bc-f3fc0e01bfaf"
      },
      "execution_count": null,
      "outputs": [
        {
          "output_type": "execute_result",
          "data": {
            "text/plain": [
              "          0         1         2         3         4          5          6  \\\n",
              "0  1.000000  2.000000  3.000000  4.000000  5.000000   6.000000   7.000000   \n",
              "1  1.364161  3.120165  6.136756  6.549182  6.213906  10.675874  13.945237   \n",
              "\n",
              "           7          8          9  \n",
              "0   8.000000   9.000000  10.000000  \n",
              "1  13.104844  19.053338  18.407782  "
            ],
            "text/html": [
              "\n",
              "  <div id=\"df-891975a8-554d-4fc7-aac1-2dc6f0f629a2\">\n",
              "    <div class=\"colab-df-container\">\n",
              "      <div>\n",
              "<style scoped>\n",
              "    .dataframe tbody tr th:only-of-type {\n",
              "        vertical-align: middle;\n",
              "    }\n",
              "\n",
              "    .dataframe tbody tr th {\n",
              "        vertical-align: top;\n",
              "    }\n",
              "\n",
              "    .dataframe thead th {\n",
              "        text-align: right;\n",
              "    }\n",
              "</style>\n",
              "<table border=\"1\" class=\"dataframe\">\n",
              "  <thead>\n",
              "    <tr style=\"text-align: right;\">\n",
              "      <th></th>\n",
              "      <th>0</th>\n",
              "      <th>1</th>\n",
              "      <th>2</th>\n",
              "      <th>3</th>\n",
              "      <th>4</th>\n",
              "      <th>5</th>\n",
              "      <th>6</th>\n",
              "      <th>7</th>\n",
              "      <th>8</th>\n",
              "      <th>9</th>\n",
              "    </tr>\n",
              "  </thead>\n",
              "  <tbody>\n",
              "    <tr>\n",
              "      <th>0</th>\n",
              "      <td>1.000000</td>\n",
              "      <td>2.000000</td>\n",
              "      <td>3.000000</td>\n",
              "      <td>4.000000</td>\n",
              "      <td>5.000000</td>\n",
              "      <td>6.000000</td>\n",
              "      <td>7.000000</td>\n",
              "      <td>8.000000</td>\n",
              "      <td>9.000000</td>\n",
              "      <td>10.000000</td>\n",
              "    </tr>\n",
              "    <tr>\n",
              "      <th>1</th>\n",
              "      <td>1.364161</td>\n",
              "      <td>3.120165</td>\n",
              "      <td>6.136756</td>\n",
              "      <td>6.549182</td>\n",
              "      <td>6.213906</td>\n",
              "      <td>10.675874</td>\n",
              "      <td>13.945237</td>\n",
              "      <td>13.104844</td>\n",
              "      <td>19.053338</td>\n",
              "      <td>18.407782</td>\n",
              "    </tr>\n",
              "  </tbody>\n",
              "</table>\n",
              "</div>\n",
              "      <button class=\"colab-df-convert\" onclick=\"convertToInteractive('df-891975a8-554d-4fc7-aac1-2dc6f0f629a2')\"\n",
              "              title=\"Convert this dataframe to an interactive table.\"\n",
              "              style=\"display:none;\">\n",
              "        \n",
              "  <svg xmlns=\"http://www.w3.org/2000/svg\" height=\"24px\"viewBox=\"0 0 24 24\"\n",
              "       width=\"24px\">\n",
              "    <path d=\"M0 0h24v24H0V0z\" fill=\"none\"/>\n",
              "    <path d=\"M18.56 5.44l.94 2.06.94-2.06 2.06-.94-2.06-.94-.94-2.06-.94 2.06-2.06.94zm-11 1L8.5 8.5l.94-2.06 2.06-.94-2.06-.94L8.5 2.5l-.94 2.06-2.06.94zm10 10l.94 2.06.94-2.06 2.06-.94-2.06-.94-.94-2.06-.94 2.06-2.06.94z\"/><path d=\"M17.41 7.96l-1.37-1.37c-.4-.4-.92-.59-1.43-.59-.52 0-1.04.2-1.43.59L10.3 9.45l-7.72 7.72c-.78.78-.78 2.05 0 2.83L4 21.41c.39.39.9.59 1.41.59.51 0 1.02-.2 1.41-.59l7.78-7.78 2.81-2.81c.8-.78.8-2.07 0-2.86zM5.41 20L4 18.59l7.72-7.72 1.47 1.35L5.41 20z\"/>\n",
              "  </svg>\n",
              "      </button>\n",
              "      \n",
              "  <style>\n",
              "    .colab-df-container {\n",
              "      display:flex;\n",
              "      flex-wrap:wrap;\n",
              "      gap: 12px;\n",
              "    }\n",
              "\n",
              "    .colab-df-convert {\n",
              "      background-color: #E8F0FE;\n",
              "      border: none;\n",
              "      border-radius: 50%;\n",
              "      cursor: pointer;\n",
              "      display: none;\n",
              "      fill: #1967D2;\n",
              "      height: 32px;\n",
              "      padding: 0 0 0 0;\n",
              "      width: 32px;\n",
              "    }\n",
              "\n",
              "    .colab-df-convert:hover {\n",
              "      background-color: #E2EBFA;\n",
              "      box-shadow: 0px 1px 2px rgba(60, 64, 67, 0.3), 0px 1px 3px 1px rgba(60, 64, 67, 0.15);\n",
              "      fill: #174EA6;\n",
              "    }\n",
              "\n",
              "    [theme=dark] .colab-df-convert {\n",
              "      background-color: #3B4455;\n",
              "      fill: #D2E3FC;\n",
              "    }\n",
              "\n",
              "    [theme=dark] .colab-df-convert:hover {\n",
              "      background-color: #434B5C;\n",
              "      box-shadow: 0px 1px 3px 1px rgba(0, 0, 0, 0.15);\n",
              "      filter: drop-shadow(0px 1px 2px rgba(0, 0, 0, 0.3));\n",
              "      fill: #FFFFFF;\n",
              "    }\n",
              "  </style>\n",
              "\n",
              "      <script>\n",
              "        const buttonEl =\n",
              "          document.querySelector('#df-891975a8-554d-4fc7-aac1-2dc6f0f629a2 button.colab-df-convert');\n",
              "        buttonEl.style.display =\n",
              "          google.colab.kernel.accessAllowed ? 'block' : 'none';\n",
              "\n",
              "        async function convertToInteractive(key) {\n",
              "          const element = document.querySelector('#df-891975a8-554d-4fc7-aac1-2dc6f0f629a2');\n",
              "          const dataTable =\n",
              "            await google.colab.kernel.invokeFunction('convertToInteractive',\n",
              "                                                     [key], {});\n",
              "          if (!dataTable) return;\n",
              "\n",
              "          const docLinkHtml = 'Like what you see? Visit the ' +\n",
              "            '<a target=\"_blank\" href=https://colab.research.google.com/notebooks/data_table.ipynb>data table notebook</a>'\n",
              "            + ' to learn more about interactive tables.';\n",
              "          element.innerHTML = '';\n",
              "          dataTable['output_type'] = 'display_data';\n",
              "          await google.colab.output.renderOutput(dataTable, element);\n",
              "          const docLink = document.createElement('div');\n",
              "          docLink.innerHTML = docLinkHtml;\n",
              "          element.appendChild(docLink);\n",
              "        }\n",
              "      </script>\n",
              "    </div>\n",
              "  </div>\n",
              "  "
            ]
          },
          "metadata": {},
          "execution_count": 8
        }
      ]
    },
    {
      "cell_type": "code",
      "source": [
        "X.shape"
      ],
      "metadata": {
        "colab": {
          "base_uri": "https://localhost:8080/"
        },
        "id": "Jnb0ZEZnjc4B",
        "outputId": "3c85cf1b-6891-430e-9dd9-d14bbdfc0f1a"
      },
      "execution_count": null,
      "outputs": [
        {
          "output_type": "execute_result",
          "data": {
            "text/plain": [
              "(2, 10)"
            ]
          },
          "metadata": {},
          "execution_count": 5
        }
      ]
    },
    {
      "cell_type": "code",
      "source": [
        "#Find m - mean vector, and Xcentered - X-mean\n",
        "#Your code is here\n",
        "Xcentered = X - X.mean(axis=1, keepdims=True)\n",
        "m = np.mean(X, axis=1)\n",
        "\n",
        "print(\"Mean vector: \", m)\n",
        "print(Xcentered)\n",
        "\n",
        "plt.scatter(Xcentered[0],Xcentered[1])"
      ],
      "metadata": {
        "colab": {
          "base_uri": "https://localhost:8080/",
          "height": 372
        },
        "id": "5DG4KbJKjXtA",
        "outputId": "e0dbf187-b105-4ded-f825-1994fdf1f068"
      },
      "execution_count": null,
      "outputs": [
        {
          "output_type": "stream",
          "name": "stdout",
          "text": [
            "Mean vector:  [5.5        9.85712455]\n",
            "[[-4.5        -3.5        -2.5        -1.5        -0.5         0.5\n",
            "   1.5         2.5         3.5         4.5       ]\n",
            " [-8.49296375 -6.73695908 -3.72036833 -3.30794281 -3.643219    0.81874932\n",
            "   4.08811273  3.24771992  9.19621374  8.55065728]]\n"
          ]
        },
        {
          "output_type": "execute_result",
          "data": {
            "text/plain": [
              "<matplotlib.collections.PathCollection at 0x7f5ee40a0490>"
            ]
          },
          "metadata": {},
          "execution_count": 4
        },
        {
          "output_type": "display_data",
          "data": {
            "text/plain": [
              "<Figure size 432x288 with 1 Axes>"
            ],
            "image/png": "[encoded data removed]"
          },
          "metadata": {
            "needs_background": "light"
          }
        }
      ]
    },
    {
      "cell_type": "code",
      "source": [
        "Xcentered.shape"
      ],
      "metadata": {
        "colab": {
          "base_uri": "https://localhost:8080/"
        },
        "id": "lcSbZM2ij8Ka",
        "outputId": "75da31d6-7919-424d-e913-902ad9e006d2"
      },
      "execution_count": null,
      "outputs": [
        {
          "output_type": "execute_result",
          "data": {
            "text/plain": [
              "(2, 10)"
            ]
          },
          "metadata": {},
          "execution_count": 11
        }
      ]
    },
    {
      "cell_type": "code",
      "source": [
        "import pandas as pd\n",
        "pd.DataFrame(Xcentered)"
      ],
      "metadata": {
        "colab": {
          "base_uri": "https://localhost:8080/",
          "height": 112
        },
        "id": "oddjKLQdj1Jx",
        "outputId": "5716087a-cecc-4a32-87a9-65c1a8c504d4"
      },
      "execution_count": null,
      "outputs": [
        {
          "output_type": "execute_result",
          "data": {
            "text/plain": [
              "          0         1         2         3         4         5         6  \\\n",
              "0 -4.500000 -3.500000 -2.500000 -1.500000 -0.500000  0.500000  1.500000   \n",
              "1 -8.492964 -6.736959 -3.720368 -3.307943 -3.643219  0.818749  4.088113   \n",
              "\n",
              "         7         8         9  \n",
              "0  2.50000  3.500000  4.500000  \n",
              "1  3.24772  9.196214  8.550657  "
            ],
            "text/html": [
              "\n",
              "  <div id=\"df-828afb0a-c88b-41cc-9971-4fe50ed5dc00\">\n",
              "    <div class=\"colab-df-container\">\n",
              "      <div>\n",
              "<style scoped>\n",
              "    .dataframe tbody tr th:only-of-type {\n",
              "        vertical-align: middle;\n",
              "    }\n",
              "\n",
              "    .dataframe tbody tr th {\n",
              "        vertical-align: top;\n",
              "    }\n",
              "\n",
              "    .dataframe thead th {\n",
              "        text-align: right;\n",
              "    }\n",
              "</style>\n",
              "<table border=\"1\" class=\"dataframe\">\n",
              "  <thead>\n",
              "    <tr style=\"text-align: right;\">\n",
              "      <th></th>\n",
              "      <th>0</th>\n",
              "      <th>1</th>\n",
              "      <th>2</th>\n",
              "      <th>3</th>\n",
              "      <th>4</th>\n",
              "      <th>5</th>\n",
              "      <th>6</th>\n",
              "      <th>7</th>\n",
              "      <th>8</th>\n",
              "      <th>9</th>\n",
              "    </tr>\n",
              "  </thead>\n",
              "  <tbody>\n",
              "    <tr>\n",
              "      <th>0</th>\n",
              "      <td>-4.500000</td>\n",
              "      <td>-3.500000</td>\n",
              "      <td>-2.500000</td>\n",
              "      <td>-1.500000</td>\n",
              "      <td>-0.500000</td>\n",
              "      <td>0.500000</td>\n",
              "      <td>1.500000</td>\n",
              "      <td>2.50000</td>\n",
              "      <td>3.500000</td>\n",
              "      <td>4.500000</td>\n",
              "    </tr>\n",
              "    <tr>\n",
              "      <th>1</th>\n",
              "      <td>-8.492964</td>\n",
              "      <td>-6.736959</td>\n",
              "      <td>-3.720368</td>\n",
              "      <td>-3.307943</td>\n",
              "      <td>-3.643219</td>\n",
              "      <td>0.818749</td>\n",
              "      <td>4.088113</td>\n",
              "      <td>3.24772</td>\n",
              "      <td>9.196214</td>\n",
              "      <td>8.550657</td>\n",
              "    </tr>\n",
              "  </tbody>\n",
              "</table>\n",
              "</div>\n",
              "      <button class=\"colab-df-convert\" onclick=\"convertToInteractive('df-828afb0a-c88b-41cc-9971-4fe50ed5dc00')\"\n",
              "              title=\"Convert this dataframe to an interactive table.\"\n",
              "              style=\"display:none;\">\n",
              "        \n",
              "  <svg xmlns=\"http://www.w3.org/2000/svg\" height=\"24px\"viewBox=\"0 0 24 24\"\n",
              "       width=\"24px\">\n",
              "    <path d=\"M0 0h24v24H0V0z\" fill=\"none\"/>\n",
              "    <path d=\"M18.56 5.44l.94 2.06.94-2.06 2.06-.94-2.06-.94-.94-2.06-.94 2.06-2.06.94zm-11 1L8.5 8.5l.94-2.06 2.06-.94-2.06-.94L8.5 2.5l-.94 2.06-2.06.94zm10 10l.94 2.06.94-2.06 2.06-.94-2.06-.94-.94-2.06-.94 2.06-2.06.94z\"/><path d=\"M17.41 7.96l-1.37-1.37c-.4-.4-.92-.59-1.43-.59-.52 0-1.04.2-1.43.59L10.3 9.45l-7.72 7.72c-.78.78-.78 2.05 0 2.83L4 21.41c.39.39.9.59 1.41.59.51 0 1.02-.2 1.41-.59l7.78-7.78 2.81-2.81c.8-.78.8-2.07 0-2.86zM5.41 20L4 18.59l7.72-7.72 1.47 1.35L5.41 20z\"/>\n",
              "  </svg>\n",
              "      </button>\n",
              "      \n",
              "  <style>\n",
              "    .colab-df-container {\n",
              "      display:flex;\n",
              "      flex-wrap:wrap;\n",
              "      gap: 12px;\n",
              "    }\n",
              "\n",
              "    .colab-df-convert {\n",
              "      background-color: #E8F0FE;\n",
              "      border: none;\n",
              "      border-radius: 50%;\n",
              "      cursor: pointer;\n",
              "      display: none;\n",
              "      fill: #1967D2;\n",
              "      height: 32px;\n",
              "      padding: 0 0 0 0;\n",
              "      width: 32px;\n",
              "    }\n",
              "\n",
              "    .colab-df-convert:hover {\n",
              "      background-color: #E2EBFA;\n",
              "      box-shadow: 0px 1px 2px rgba(60, 64, 67, 0.3), 0px 1px 3px 1px rgba(60, 64, 67, 0.15);\n",
              "      fill: #174EA6;\n",
              "    }\n",
              "\n",
              "    [theme=dark] .colab-df-convert {\n",
              "      background-color: #3B4455;\n",
              "      fill: #D2E3FC;\n",
              "    }\n",
              "\n",
              "    [theme=dark] .colab-df-convert:hover {\n",
              "      background-color: #434B5C;\n",
              "      box-shadow: 0px 1px 3px 1px rgba(0, 0, 0, 0.15);\n",
              "      filter: drop-shadow(0px 1px 2px rgba(0, 0, 0, 0.3));\n",
              "      fill: #FFFFFF;\n",
              "    }\n",
              "  </style>\n",
              "\n",
              "      <script>\n",
              "        const buttonEl =\n",
              "          document.querySelector('#df-828afb0a-c88b-41cc-9971-4fe50ed5dc00 button.colab-df-convert');\n",
              "        buttonEl.style.display =\n",
              "          google.colab.kernel.accessAllowed ? 'block' : 'none';\n",
              "\n",
              "        async function convertToInteractive(key) {\n",
              "          const element = document.querySelector('#df-828afb0a-c88b-41cc-9971-4fe50ed5dc00');\n",
              "          const dataTable =\n",
              "            await google.colab.kernel.invokeFunction('convertToInteractive',\n",
              "                                                     [key], {});\n",
              "          if (!dataTable) return;\n",
              "\n",
              "          const docLinkHtml = 'Like what you see? Visit the ' +\n",
              "            '<a target=\"_blank\" href=https://colab.research.google.com/notebooks/data_table.ipynb>data table notebook</a>'\n",
              "            + ' to learn more about interactive tables.';\n",
              "          element.innerHTML = '';\n",
              "          dataTable['output_type'] = 'display_data';\n",
              "          await google.colab.output.renderOutput(dataTable, element);\n",
              "          const docLink = document.createElement('div');\n",
              "          docLink.innerHTML = docLinkHtml;\n",
              "          element.appendChild(docLink);\n",
              "        }\n",
              "      </script>\n",
              "    </div>\n",
              "  </div>\n",
              "  "
            ]
          },
          "metadata": {},
          "execution_count": 10
        }
      ]
    },
    {
      "cell_type": "code",
      "source": [
        "covmat = np.cov(Xcentered)\n",
        "np.cov(Xcentered)"
      ],
      "metadata": {
        "colab": {
          "base_uri": "https://localhost:8080/"
        },
        "id": "cRSHPT_OkGx5",
        "outputId": "a2435c2f-442e-4c89-e0e4-2588424b8126"
      },
      "execution_count": null,
      "outputs": [
        {
          "output_type": "execute_result",
          "data": {
            "text/plain": [
              "array([[ 9.16666667, 18.13418751],\n",
              "       [18.13418751, 37.90983442]])"
            ]
          },
          "metadata": {},
          "execution_count": 14
        }
      ]
    },
    {
      "cell_type": "code",
      "source": [
        "np.cov(Xcentered)[0,0]"
      ],
      "metadata": {
        "colab": {
          "base_uri": "https://localhost:8080/"
        },
        "id": "ql7J9C2JkPFi",
        "outputId": "0b7b779a-d2af-46e3-9736-6af2471996ea"
      },
      "execution_count": null,
      "outputs": [
        {
          "output_type": "execute_result",
          "data": {
            "text/plain": [
              "9.166666666666666"
            ]
          },
          "metadata": {},
          "execution_count": 16
        }
      ]
    },
    {
      "cell_type": "code",
      "source": [
        "covmat = np.cov(Xcentered)\n",
        "print(covmat, \"\\n\")\n",
        "print(\"Variance of X: \", np.cov(Xcentered)[0,0])\n",
        "print(\"Variance of Y: \", np.cov(Xcentered)[1,1])\n",
        "print(\"Covariance X and Y: \", np.cov(Xcentered)[0,1])"
      ],
      "metadata": {
        "colab": {
          "base_uri": "https://localhost:8080/"
        },
        "id": "URPfhlK0j3KJ",
        "outputId": "665ecb28-bab5-449a-d77b-dba331974d4c"
      },
      "execution_count": null,
      "outputs": [
        {
          "output_type": "stream",
          "name": "stdout",
          "text": [
            "[[ 9.16666667 18.13418751]\n",
            " [18.13418751 37.90983442]] \n",
            "\n",
            "Variance of X:  9.166666666666666\n",
            "Variance of Y:  37.90983441954132\n",
            "Covariance X and Y:  18.134187514655196\n"
          ]
        }
      ]
    },
    {
      "cell_type": "markdown",
      "source": [
        "Находим собственные векторы матрицы ковариаций и проецируем на самый большой вектор (с самым большим собственным значением) все точки"
      ],
      "metadata": {
        "id": "BZtT1yWsknEJ"
      }
    },
    {
      "cell_type": "code",
      "source": [
        "eignums, vecs = np.linalg.eig(covmat)\n",
        "v = vecs[:,np.argmax(eignums)]\n",
        "Xnew = np.dot(v,Xcentered)\n",
        "print(Xnew)"
      ],
      "metadata": {
        "colab": {
          "base_uri": "https://localhost:8080/"
        },
        "id": "uIoQwKf_kng7",
        "outputId": "7340fe2b-8af2-444e-e801-479c16c5fc1a"
      },
      "execution_count": null,
      "outputs": [
        {
          "output_type": "stream",
          "name": "stdout",
          "text": [
            "[ 9.60492303  7.58872475  4.43761013  3.63104755  3.49764716 -0.95475315\n",
            " -4.33344114 -4.01208075 -9.80281257 -9.656865  ]\n"
          ]
        }
      ]
    },
    {
      "cell_type": "code",
      "source": [
        "eignums"
      ],
      "metadata": {
        "colab": {
          "base_uri": "https://localhost:8080/"
        },
        "id": "YxOjlv6qkrFB",
        "outputId": "3986d3d2-9adb-41ce-bff4-9c8d46b37845"
      },
      "execution_count": null,
      "outputs": [
        {
          "output_type": "execute_result",
          "data": {
            "text/plain": [
              "array([ 0.39972898, 46.6767721 ])"
            ]
          },
          "metadata": {},
          "execution_count": 18
        }
      ]
    },
    {
      "cell_type": "code",
      "source": [
        "vecs"
      ],
      "metadata": {
        "colab": {
          "base_uri": "https://localhost:8080/"
        },
        "id": "IVNU163IktV3",
        "outputId": "d0e5f77e-6ee0-4081-a32c-095d66dea300"
      },
      "execution_count": null,
      "outputs": [
        {
          "output_type": "execute_result",
          "data": {
            "text/plain": [
              "array([[-0.90030848, -0.43525238],\n",
              "       [ 0.43525238, -0.90030848]])"
            ]
          },
          "metadata": {},
          "execution_count": 19
        }
      ]
    },
    {
      "cell_type": "code",
      "source": [
        "vecs[:,0]"
      ],
      "metadata": {
        "colab": {
          "base_uri": "https://localhost:8080/"
        },
        "id": "iM1BHQsHofKL",
        "outputId": "228416d2-55d3-47b8-9738-a4505b943d63"
      },
      "execution_count": null,
      "outputs": [
        {
          "output_type": "execute_result",
          "data": {
            "text/plain": [
              "array([-0.90030848,  0.43525238])"
            ]
          },
          "metadata": {},
          "execution_count": 37
        }
      ]
    },
    {
      "cell_type": "code",
      "source": [
        "vecs[:,1]"
      ],
      "metadata": {
        "colab": {
          "base_uri": "https://localhost:8080/"
        },
        "id": "jA2Uiw00olK0",
        "outputId": "a067de40-1d44-4ff5-9331-0b102fd6dc39"
      },
      "execution_count": null,
      "outputs": [
        {
          "output_type": "execute_result",
          "data": {
            "text/plain": [
              "array([-0.43525238, -0.90030848])"
            ]
          },
          "metadata": {},
          "execution_count": 38
        }
      ]
    },
    {
      "cell_type": "code",
      "source": [
        "np.argmax(eignums)"
      ],
      "metadata": {
        "colab": {
          "base_uri": "https://localhost:8080/"
        },
        "id": "t9_BK57OlGHp",
        "outputId": "7c414686-5325-42a3-cb26-1af7010583cf"
      },
      "execution_count": null,
      "outputs": [
        {
          "output_type": "execute_result",
          "data": {
            "text/plain": [
              "1"
            ]
          },
          "metadata": {},
          "execution_count": 21
        }
      ]
    },
    {
      "cell_type": "code",
      "source": [
        "v"
      ],
      "metadata": {
        "colab": {
          "base_uri": "https://localhost:8080/"
        },
        "id": "XPWb9qIQkynw",
        "outputId": "e8342044-b63f-436f-b5c5-283d2c7e472f"
      },
      "execution_count": null,
      "outputs": [
        {
          "output_type": "execute_result",
          "data": {
            "text/plain": [
              "array([-0.43525238, -0.90030848])"
            ]
          },
          "metadata": {},
          "execution_count": 20
        }
      ]
    },
    {
      "cell_type": "code",
      "source": [
        "n = 3 #номер элемента случайной величины\n",
        "Xrestored = np.dot(Xnew[n],v) + m\n",
        "print('Restored: ', Xrestored)\n",
        "print('Original: ', X[:,n])"
      ],
      "metadata": {
        "colab": {
          "base_uri": "https://localhost:8080/"
        },
        "id": "u6KqJrmhlq7W",
        "outputId": "ee2af7bc-e94b-4373-dea1-19b1d314ffc7"
      },
      "execution_count": null,
      "outputs": [
        {
          "output_type": "stream",
          "name": "stdout",
          "text": [
            "Restored:  [3.9195779  6.58806164]\n",
            "Original:  [4.         6.54918173]\n"
          ]
        }
      ]
    },
    {
      "cell_type": "code",
      "source": [
        "k= v[1]/v[0]\n",
        "\n",
        "x1 = np.arange(-6,7,0.1)\n",
        "y1 = [k*elem for elem in x1]\n",
        "plt.scatter(Xcentered[0],Xcentered[1])\n",
        "plt.scatter(x1,y1,color='red',s=5)\n",
        "plt.show()"
      ],
      "metadata": {
        "colab": {
          "base_uri": "https://localhost:8080/",
          "height": 265
        },
        "id": "l_OoO_kFnKPZ",
        "outputId": "2ef77c5f-8b21-4845-e24d-8fe6d11925d3"
      },
      "execution_count": null,
      "outputs": [
        {
          "output_type": "display_data",
          "data": {
            "text/plain": [
              "<Figure size 432x288 with 1 Axes>"
            ],
            "image/png": "[encoded data removed]"
          },
          "metadata": {
            "needs_background": "light"
          }
        }
      ]
    },
    {
      "cell_type": "code",
      "source": [
        "100 * max(eignums)/sum(eignums)"
      ],
      "metadata": {
        "colab": {
          "base_uri": "https://localhost:8080/"
        },
        "id": "P2mhdvUBnUC1",
        "outputId": "c3e1a22d-56ed-4cca-f3dd-6423ad4a7c22"
      },
      "execution_count": null,
      "outputs": [
        {
          "output_type": "execute_result",
          "data": {
            "text/plain": [
              "99.15089487339209"
            ]
          },
          "metadata": {},
          "execution_count": 33
        }
      ]
    },
    {
      "cell_type": "code",
      "source": [
        "from sklearn.decomposition import PCA\n",
        "\n",
        "#Apply PCA with n_components=1 to transposed Xcentered\n",
        "#Your code is here\n",
        "pca = PCA(n_components=1)\n",
        "X_pca = pca.fit_transform(Xcentered.T)"
      ],
      "metadata": {
        "id": "NlbWDZSMnaIS"
      },
      "execution_count": null,
      "outputs": []
    },
    {
      "cell_type": "code",
      "source": [
        "print(v)\n",
        "print(pca.components_)"
      ],
      "metadata": {
        "colab": {
          "base_uri": "https://localhost:8080/"
        },
        "id": "ENDXDev2np9e",
        "outputId": "52f1eee0-0d98-4029-eab6-518ac2f12465"
      },
      "execution_count": null,
      "outputs": [
        {
          "output_type": "stream",
          "name": "stdout",
          "text": [
            "[-0.43525238 -0.90030848]\n",
            "[[0.43525238 0.90030848]]\n"
          ]
        }
      ]
    },
    {
      "cell_type": "code",
      "source": [
        "pca.explained_variance_"
      ],
      "metadata": {
        "colab": {
          "base_uri": "https://localhost:8080/"
        },
        "id": "9zXr5xSZoumC",
        "outputId": "3ab9ebd0-7e83-4373-fcae-2a04e8757306"
      },
      "execution_count": null,
      "outputs": [
        {
          "output_type": "execute_result",
          "data": {
            "text/plain": [
              "array([46.6767721])"
            ]
          },
          "metadata": {},
          "execution_count": 42
        }
      ]
    },
    {
      "cell_type": "code",
      "source": [
        "max(eignums)"
      ],
      "metadata": {
        "colab": {
          "base_uri": "https://localhost:8080/"
        },
        "id": "V75QSMNqo68w",
        "outputId": "f5983566-7080-4c93-94e1-f45bfc51070c"
      },
      "execution_count": null,
      "outputs": [
        {
          "output_type": "execute_result",
          "data": {
            "text/plain": [
              "46.676772102057356"
            ]
          },
          "metadata": {},
          "execution_count": 43
        }
      ]
    },
    {
      "cell_type": "code",
      "source": [
        "pca.explained_variance_ratio_[0] * 100"
      ],
      "metadata": {
        "colab": {
          "base_uri": "https://localhost:8080/"
        },
        "id": "PUxLjTX1oAlD",
        "outputId": "ae46ccd6-d939-413b-f4ea-82e3dcce2438"
      },
      "execution_count": null,
      "outputs": [
        {
          "output_type": "execute_result",
          "data": {
            "text/plain": [
              "99.15089487339208"
            ]
          },
          "metadata": {},
          "execution_count": 39
        }
      ]
    },
    {
      "cell_type": "code",
      "source": [
        "###"
      ],
      "metadata": {
        "id": "DVF6nNpKuPYO"
      },
      "execution_count": null,
      "outputs": []
    },
    {
      "cell_type": "code",
      "source": [
        "def pca_np_1(x):\n",
        "\n",
        "#centering data\n",
        "  m = np.mean(x, axis =0)\n",
        "  x_centered = x - m\n",
        "#calculating covariance matrix\n",
        "  x_cov=np.cov(x_centered.T)\n",
        "#eigendecomposition\n",
        "  eigenvals, eigenvecs = np.linalg.eig(x_cov)\n",
        "#sorting\n",
        "  i= np.argsort(eigenvals)[::-1]\n",
        "  eigenvecs = eigenvecs[:,i]\n",
        "  eigenvals= eigenvals[i]\n",
        "  total_egnvalues = sum(eigenvals)\n",
        "  var_exp = [(i/total_egnvalues) for i in sorted(eigenvals, reverse=True)]\n",
        "  var_exp_ratio=round(sum(var_exp)*100, 1)\n",
        "\n",
        "  return(eigenvals, eigenvecs, m,var_exp,var_exp_ratio)"
      ],
      "metadata": {
        "id": "orJtIB-ete1s"
      },
      "execution_count": null,
      "outputs": []
    },
    {
      "cell_type": "code",
      "source": [
        "\n",
        "data_evals, data_evecs,data_mean,data_exp,data_exp_ration = pca_np_1(X.T)\n",
        "print(\"eigenvalues:\", iris_evals)\n",
        "print(\"eigenvectors:\", iris_evecs)"
      ],
      "metadata": {
        "colab": {
          "base_uri": "https://localhost:8080/"
        },
        "id": "DjB_J2HHtkoX",
        "outputId": "3b55a1b6-a1c0-4408-d0f8-6c9d8329829d"
      },
      "execution_count": null,
      "outputs": [
        {
          "output_type": "stream",
          "name": "stdout",
          "text": [
            "eigenvalues: [46.6767721   0.39972898]\n",
            "eigenvectors: [[-0.43525238 -0.90030848]\n",
            " [-0.90030848  0.43525238]]\n"
          ]
        }
      ]
    },
    {
      "cell_type": "code",
      "source": [
        "print(\"exp_ratio:\", iris_exp)\n",
        "print(\"exp_ratio:\", iris_exp_ration)"
      ],
      "metadata": {
        "colab": {
          "base_uri": "https://localhost:8080/"
        },
        "id": "ZMrpK9DMtotL",
        "outputId": "81f65288-5618-4930-f5d7-8e98dcbef202"
      },
      "execution_count": null,
      "outputs": [
        {
          "output_type": "stream",
          "name": "stdout",
          "text": [
            "exp_ratio: [0.9915089487339209, 0.008491051266079096]\n",
            "exp_ratio: 100.0\n"
          ]
        }
      ]
    },
    {
      "cell_type": "code",
      "source": [
        "class convers_pca():\n",
        "    def __init__(self, no_of_components):\n",
        "        self.no_of_components = no_of_components\n",
        "        self.eigen_values = None\n",
        "        self.eigen_vectors = None\n",
        "        \n",
        "    def transform(self, x):\n",
        "        return np.dot(x - self.mean, self.projection_matrix.T)\n",
        " \n",
        "    def inverse_transform(self, x):\n",
        "        return np.dot(x, self.projection_matrix) + self.mean\n",
        "\n",
        "    def fit(self, x):\n",
        "        self.no_of_components = x.shape[1] if self.no_of_components is None else self.no_of_components\n",
        "        self.mean = np.mean(x, axis=0)\n",
        "        \n",
        "        cov_matrix = np.cov(x - self.mean, rowvar=False)\n",
        "        \n",
        "        self.eigen_values, self.eigen_vectors = np.linalg.eig(cov_matrix)\n",
        "        self.eigen_vectors = self.eigen_vectors.T\n",
        "        \n",
        "        self.sorted_components = np.argsort(self.eigen_values)[::-1]\n",
        "        #self.sorted_components = self.eigen_values.argsort()[::-1]\n",
        "        \n",
        "        #self.projection_matrix = self.eigen_vectors[:,self.sorted_components][:,:self.no_of_components]\n",
        "        self.projection_matrix = self.eigen_vectors[self.sorted_components[:self.no_of_components]]\n",
        "        self.explained_variance =self.eigen_values[self.sorted_components[:self.no_of_components]]\n",
        "        self.explained_variance_ratio = self.explained_variance / self.eigen_values.sum()\n",
        "        return self  "
      ],
      "metadata": {
        "id": "aZCdg-A4vTnj"
      },
      "execution_count": null,
      "outputs": []
    },
    {
      "cell_type": "code",
      "source": [
        "pca=convers_pca(no_of_components=1)\n",
        "pca.fit(X.T)"
      ],
      "metadata": {
        "colab": {
          "base_uri": "https://localhost:8080/"
        },
        "id": "itdVyAiwwCKx",
        "outputId": "3686248c-682f-44ea-8157-bf3267139497"
      },
      "execution_count": null,
      "outputs": [
        {
          "output_type": "execute_result",
          "data": {
            "text/plain": [
              "<__main__.convers_pca at 0x7f5ea61aa700>"
            ]
          },
          "metadata": {},
          "execution_count": 136
        }
      ]
    },
    {
      "cell_type": "code",
      "source": [
        "print(pca.eigen_values)\n",
        "print(pca.eigen_vectors)\n",
        "print(pca.sorted_components)\n"
      ],
      "metadata": {
        "colab": {
          "base_uri": "https://localhost:8080/"
        },
        "id": "DzQTYZX-wEu_",
        "outputId": "a434607d-fab9-45d0-fbfe-bda3d9434d22"
      },
      "execution_count": null,
      "outputs": [
        {
          "output_type": "stream",
          "name": "stdout",
          "text": [
            "[ 0.39972898 46.6767721 ]\n",
            "[[-0.90030848  0.43525238]\n",
            " [-0.43525238 -0.90030848]]\n",
            "[1 0]\n"
          ]
        }
      ]
    },
    {
      "cell_type": "code",
      "source": [
        "print(pca.projection_matrix)\n",
        "print(pca.explained_variance)\n",
        "print(pca.explained_variance_ratio)"
      ],
      "metadata": {
        "colab": {
          "base_uri": "https://localhost:8080/"
        },
        "id": "FGgYV2lUwGuy",
        "outputId": "7d232467-76c3-46dc-9281-1a7348b0ffbd"
      },
      "execution_count": null,
      "outputs": [
        {
          "output_type": "stream",
          "name": "stdout",
          "text": [
            "[[-0.43525238 -0.90030848]]\n",
            "[46.6767721]\n",
            "[0.99150895]\n"
          ]
        }
      ]
    },
    {
      "cell_type": "code",
      "source": [
        "pca=convers_pca(no_of_components=2)\n",
        "pca.fit(Xcentered.T)"
      ],
      "metadata": {
        "colab": {
          "base_uri": "https://localhost:8080/"
        },
        "id": "MJOF-2cM9bIf",
        "outputId": "9e1e5a34-55d2-4fdc-927d-8a842bbd2635"
      },
      "execution_count": null,
      "outputs": [
        {
          "output_type": "execute_result",
          "data": {
            "text/plain": [
              "<__main__.convers_pca at 0x7f5ea61aaf70>"
            ]
          },
          "metadata": {},
          "execution_count": 142
        }
      ]
    },
    {
      "cell_type": "code",
      "source": [
        "print(pca.eigen_values)\n",
        "print(pca.eigen_vectors)\n",
        "print(pca.sorted_components)"
      ],
      "metadata": {
        "colab": {
          "base_uri": "https://localhost:8080/"
        },
        "id": "vPDukr4X9trU",
        "outputId": "a278aec4-d9e7-43e9-bcd5-6622cce0aba5"
      },
      "execution_count": null,
      "outputs": [
        {
          "output_type": "stream",
          "name": "stdout",
          "text": [
            "[ 0.39972898 46.6767721 ]\n",
            "[[-0.90030848  0.43525238]\n",
            " [-0.43525238 -0.90030848]]\n",
            "[1 0]\n"
          ]
        }
      ]
    },
    {
      "cell_type": "code",
      "source": [
        "print(pca.projection_matrix)\n",
        "print(pca.explained_variance)\n",
        "print(pca.explained_variance_ratio)"
      ],
      "metadata": {
        "colab": {
          "base_uri": "https://localhost:8080/"
        },
        "id": "RWh87VKQ9ylH",
        "outputId": "99e79afc-7240-453c-e0ff-24175c7f71d6"
      },
      "execution_count": null,
      "outputs": [
        {
          "output_type": "stream",
          "name": "stdout",
          "text": [
            "[[-0.43525238 -0.90030848]\n",
            " [-0.90030848  0.43525238]]\n",
            "[46.6767721   0.39972898]\n",
            "[0.99150895 0.00849105]\n"
          ]
        }
      ]
    },
    {
      "cell_type": "code",
      "source": [
        "from sklearn.decomposition import PCA\n",
        "\n",
        "#Apply PCA with n_components=1 to transposed Xcentered\n",
        "#Your code is here\n",
        "pca = PCA(n_components=2)\n",
        "X_pca = pca.fit_transform(Xcentered.T)"
      ],
      "metadata": {
        "id": "WP-BGiwN-hYo"
      },
      "execution_count": null,
      "outputs": []
    },
    {
      "cell_type": "code",
      "source": [
        "pca.explained_variance_ratio_"
      ],
      "metadata": {
        "colab": {
          "base_uri": "https://localhost:8080/"
        },
        "id": "ub9Wp4dQ-kGj",
        "outputId": "7bb4d03a-54db-425a-a4de-d3fa2e9207f7"
      },
      "execution_count": null,
      "outputs": [
        {
          "output_type": "execute_result",
          "data": {
            "text/plain": [
              "array([0.99150895, 0.00849105])"
            ]
          },
          "metadata": {},
          "execution_count": 148
        }
      ]
    },
    {
      "cell_type": "code",
      "source": [
        "pca = PCA(n_components=2)\n",
        "X_pca = pca.fit_transform(X.T)"
      ],
      "metadata": {
        "id": "Kmn7Vobv-pJ-"
      },
      "execution_count": null,
      "outputs": []
    },
    {
      "cell_type": "code",
      "source": [
        "pca.explained_variance_ratio_"
      ],
      "metadata": {
        "colab": {
          "base_uri": "https://localhost:8080/"
        },
        "id": "Q0GzxL6T-94p",
        "outputId": "ca882db6-2526-4671-ed4e-df9d2dc90d96"
      },
      "execution_count": null,
      "outputs": [
        {
          "output_type": "execute_result",
          "data": {
            "text/plain": [
              "array([0.99150895, 0.00849105])"
            ]
          },
          "metadata": {},
          "execution_count": 153
        }
      ]
    }
  ]
}