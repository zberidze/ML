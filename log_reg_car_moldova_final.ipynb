{
  "nbformat": 4,
  "nbformat_minor": 0,
  "metadata": {
    "colab": {
      "provenance": []
    },
    "kernelspec": {
      "name": "python3",
      "display_name": "Python 3"
    },
    "language_info": {
      "name": "python"
    }
  },
  "cells": [
    {
      "cell_type": "code",
      "source": [
        "\n",
        "import warnings\n",
        "warnings.filterwarnings('ignore')"
      ],
      "metadata": {
        "id": "PPoK6FN9OsNT"
      },
      "execution_count": null,
      "outputs": []
    },
    {
      "cell_type": "code",
      "execution_count": null,
      "metadata": {
        "id": "CbklQL9eN2oe"
      },
      "outputs": [],
      "source": [
        "import pandas as pd\n",
        "import numpy as np\n",
        "import seaborn as sns\n",
        "import matplotlib.pyplot as plt\n",
        "from sklearn.linear_model import LogisticRegression\n",
        "from sklearn.pipeline import Pipeline\n",
        "from sklearn.preprocessing import PolynomialFeatures\n",
        "from sklearn.preprocessing import StandardScaler\n",
        "from sklearn.metrics import classification_report\n",
        "from sklearn.model_selection import train_test_split\n",
        "from sklearn.model_selection import GridSearchCV\n",
        "from sklearn.multiclass import OneVsRestClassifier\n",
        "from sklearn.metrics import classification_report\n",
        "from sklearn.model_selection import StratifiedKFold\n",
        "from sklearn.metrics import confusion_matrix\n",
        "from sklearn.metrics import accuracy_score as acc\n",
        "from sklearn.metrics import f1_score as f1"
      ]
    },
    {
      "cell_type": "code",
      "source": [
        "!pip install category_encoders\n",
        "from category_encoders.ordinal import OrdinalEncoder\n",
        "from category_encoders.one_hot import OneHotEncoder\n",
        "from category_encoders.target_encoder import TargetEncoder\n"
      ],
      "metadata": {
        "colab": {
          "base_uri": "https://localhost:8080/"
        },
        "id": "0T1MmSlCWKfE",
        "outputId": "8498e4da-85f1-45d8-fad5-8fee2db798c0"
      },
      "execution_count": null,
      "outputs": [
        {
          "output_type": "stream",
          "name": "stdout",
          "text": [
            "Looking in indexes: https://pypi.org/simple, https://us-python.pkg.dev/colab-wheels/public/simple/\n",
            "Requirement already satisfied: category_encoders in /usr/local/lib/python3.8/dist-packages (2.6.0)\n",
            "Requirement already satisfied: patsy>=0.5.1 in /usr/local/lib/python3.8/dist-packages (from category_encoders) (0.5.3)\n",
            "Requirement already satisfied: scipy>=1.0.0 in /usr/local/lib/python3.8/dist-packages (from category_encoders) (1.7.3)\n",
            "Requirement already satisfied: statsmodels>=0.9.0 in /usr/local/lib/python3.8/dist-packages (from category_encoders) (0.12.2)\n",
            "Requirement already satisfied: scikit-learn>=0.20.0 in /usr/local/lib/python3.8/dist-packages (from category_encoders) (1.0.2)\n",
            "Requirement already satisfied: numpy>=1.14.0 in /usr/local/lib/python3.8/dist-packages (from category_encoders) (1.21.6)\n",
            "Requirement already satisfied: pandas>=1.0.5 in /usr/local/lib/python3.8/dist-packages (from category_encoders) (1.3.5)\n",
            "Requirement already satisfied: pytz>=2017.3 in /usr/local/lib/python3.8/dist-packages (from pandas>=1.0.5->category_encoders) (2022.7)\n",
            "Requirement already satisfied: python-dateutil>=2.7.3 in /usr/local/lib/python3.8/dist-packages (from pandas>=1.0.5->category_encoders) (2.8.2)\n",
            "Requirement already satisfied: six in /usr/local/lib/python3.8/dist-packages (from patsy>=0.5.1->category_encoders) (1.15.0)\n",
            "Requirement already satisfied: joblib>=0.11 in /usr/local/lib/python3.8/dist-packages (from scikit-learn>=0.20.0->category_encoders) (1.2.0)\n",
            "Requirement already satisfied: threadpoolctl>=2.0.0 in /usr/local/lib/python3.8/dist-packages (from scikit-learn>=0.20.0->category_encoders) (3.1.0)\n"
          ]
        }
      ]
    },
    {
      "cell_type": "code",
      "source": [
        "df = pd.read_csv('/content/df2.csv', delimiter = ',')\n",
        "df.head()"
      ],
      "metadata": {
        "colab": {
          "base_uri": "https://localhost:8080/",
          "height": 206
        },
        "id": "dENkCQNTQZYN",
        "outputId": "919015ea-7b17-4ad3-afa9-1237f165490c"
      },
      "execution_count": null,
      "outputs": [
        {
          "output_type": "execute_result",
          "data": {
            "text/plain": [
              "       Make         Model      Style  Distance  Engine_capacity(cm3)  \\\n",
              "0    Toyota         Prius  Hatchback  195000.0                1800.0   \n",
              "1   Renault  Grand Scenic  Universal  135000.0                1500.0   \n",
              "2   Renault        Laguna  Universal  110000.0                1500.0   \n",
              "3      Opel         Astra  Universal  200000.0                1600.0   \n",
              "4  Mercedes          Vito   Microvan  300000.0                2200.0   \n",
              "\n",
              "      Fuel_type Transmission  Price(euro)  Age       km_year  class  prestige  \n",
              "0        Hybrid    Automatic       7750.0   11  17727.272727      4         2  \n",
              "1        Diesel       Manual       8550.0    8  16875.000000      4         2  \n",
              "2        Diesel       Manual       6550.0   10  11000.000000      3         3  \n",
              "3  Metan/Propan       Manual       4100.0   16  12500.000000      3         3  \n",
              "4        Diesel       Manual       3490.0   22  13636.363636      3         4  "
            ],
            "text/html": [
              "\n",
              "  <div id=\"df-ac55bb97-8073-4665-b667-146dc76106fa\">\n",
              "    <div class=\"colab-df-container\">\n",
              "      <div>\n",
              "<style scoped>\n",
              "    .dataframe tbody tr th:only-of-type {\n",
              "        vertical-align: middle;\n",
              "    }\n",
              "\n",
              "    .dataframe tbody tr th {\n",
              "        vertical-align: top;\n",
              "    }\n",
              "\n",
              "    .dataframe thead th {\n",
              "        text-align: right;\n",
              "    }\n",
              "</style>\n",
              "<table border=\"1\" class=\"dataframe\">\n",
              "  <thead>\n",
              "    <tr style=\"text-align: right;\">\n",
              "      <th></th>\n",
              "      <th>Make</th>\n",
              "      <th>Model</th>\n",
              "      <th>Style</th>\n",
              "      <th>Distance</th>\n",
              "      <th>Engine_capacity(cm3)</th>\n",
              "      <th>Fuel_type</th>\n",
              "      <th>Transmission</th>\n",
              "      <th>Price(euro)</th>\n",
              "      <th>Age</th>\n",
              "      <th>km_year</th>\n",
              "      <th>class</th>\n",
              "      <th>prestige</th>\n",
              "    </tr>\n",
              "  </thead>\n",
              "  <tbody>\n",
              "    <tr>\n",
              "      <th>0</th>\n",
              "      <td>Toyota</td>\n",
              "      <td>Prius</td>\n",
              "      <td>Hatchback</td>\n",
              "      <td>195000.0</td>\n",
              "      <td>1800.0</td>\n",
              "      <td>Hybrid</td>\n",
              "      <td>Automatic</td>\n",
              "      <td>7750.0</td>\n",
              "      <td>11</td>\n",
              "      <td>17727.272727</td>\n",
              "      <td>4</td>\n",
              "      <td>2</td>\n",
              "    </tr>\n",
              "    <tr>\n",
              "      <th>1</th>\n",
              "      <td>Renault</td>\n",
              "      <td>Grand Scenic</td>\n",
              "      <td>Universal</td>\n",
              "      <td>135000.0</td>\n",
              "      <td>1500.0</td>\n",
              "      <td>Diesel</td>\n",
              "      <td>Manual</td>\n",
              "      <td>8550.0</td>\n",
              "      <td>8</td>\n",
              "      <td>16875.000000</td>\n",
              "      <td>4</td>\n",
              "      <td>2</td>\n",
              "    </tr>\n",
              "    <tr>\n",
              "      <th>2</th>\n",
              "      <td>Renault</td>\n",
              "      <td>Laguna</td>\n",
              "      <td>Universal</td>\n",
              "      <td>110000.0</td>\n",
              "      <td>1500.0</td>\n",
              "      <td>Diesel</td>\n",
              "      <td>Manual</td>\n",
              "      <td>6550.0</td>\n",
              "      <td>10</td>\n",
              "      <td>11000.000000</td>\n",
              "      <td>3</td>\n",
              "      <td>3</td>\n",
              "    </tr>\n",
              "    <tr>\n",
              "      <th>3</th>\n",
              "      <td>Opel</td>\n",
              "      <td>Astra</td>\n",
              "      <td>Universal</td>\n",
              "      <td>200000.0</td>\n",
              "      <td>1600.0</td>\n",
              "      <td>Metan/Propan</td>\n",
              "      <td>Manual</td>\n",
              "      <td>4100.0</td>\n",
              "      <td>16</td>\n",
              "      <td>12500.000000</td>\n",
              "      <td>3</td>\n",
              "      <td>3</td>\n",
              "    </tr>\n",
              "    <tr>\n",
              "      <th>4</th>\n",
              "      <td>Mercedes</td>\n",
              "      <td>Vito</td>\n",
              "      <td>Microvan</td>\n",
              "      <td>300000.0</td>\n",
              "      <td>2200.0</td>\n",
              "      <td>Diesel</td>\n",
              "      <td>Manual</td>\n",
              "      <td>3490.0</td>\n",
              "      <td>22</td>\n",
              "      <td>13636.363636</td>\n",
              "      <td>3</td>\n",
              "      <td>4</td>\n",
              "    </tr>\n",
              "  </tbody>\n",
              "</table>\n",
              "</div>\n",
              "      <button class=\"colab-df-convert\" onclick=\"convertToInteractive('df-ac55bb97-8073-4665-b667-146dc76106fa')\"\n",
              "              title=\"Convert this dataframe to an interactive table.\"\n",
              "              style=\"display:none;\">\n",
              "        \n",
              "  <svg xmlns=\"http://www.w3.org/2000/svg\" height=\"24px\"viewBox=\"0 0 24 24\"\n",
              "       width=\"24px\">\n",
              "    <path d=\"M0 0h24v24H0V0z\" fill=\"none\"/>\n",
              "    <path d=\"M18.56 5.44l.94 2.06.94-2.06 2.06-.94-2.06-.94-.94-2.06-.94 2.06-2.06.94zm-11 1L8.5 8.5l.94-2.06 2.06-.94-2.06-.94L8.5 2.5l-.94 2.06-2.06.94zm10 10l.94 2.06.94-2.06 2.06-.94-2.06-.94-.94-2.06-.94 2.06-2.06.94z\"/><path d=\"M17.41 7.96l-1.37-1.37c-.4-.4-.92-.59-1.43-.59-.52 0-1.04.2-1.43.59L10.3 9.45l-7.72 7.72c-.78.78-.78 2.05 0 2.83L4 21.41c.39.39.9.59 1.41.59.51 0 1.02-.2 1.41-.59l7.78-7.78 2.81-2.81c.8-.78.8-2.07 0-2.86zM5.41 20L4 18.59l7.72-7.72 1.47 1.35L5.41 20z\"/>\n",
              "  </svg>\n",
              "      </button>\n",
              "      \n",
              "  <style>\n",
              "    .colab-df-container {\n",
              "      display:flex;\n",
              "      flex-wrap:wrap;\n",
              "      gap: 12px;\n",
              "    }\n",
              "\n",
              "    .colab-df-convert {\n",
              "      background-color: #E8F0FE;\n",
              "      border: none;\n",
              "      border-radius: 50%;\n",
              "      cursor: pointer;\n",
              "      display: none;\n",
              "      fill: #1967D2;\n",
              "      height: 32px;\n",
              "      padding: 0 0 0 0;\n",
              "      width: 32px;\n",
              "    }\n",
              "\n",
              "    .colab-df-convert:hover {\n",
              "      background-color: #E2EBFA;\n",
              "      box-shadow: 0px 1px 2px rgba(60, 64, 67, 0.3), 0px 1px 3px 1px rgba(60, 64, 67, 0.15);\n",
              "      fill: #174EA6;\n",
              "    }\n",
              "\n",
              "    [theme=dark] .colab-df-convert {\n",
              "      background-color: #3B4455;\n",
              "      fill: #D2E3FC;\n",
              "    }\n",
              "\n",
              "    [theme=dark] .colab-df-convert:hover {\n",
              "      background-color: #434B5C;\n",
              "      box-shadow: 0px 1px 3px 1px rgba(0, 0, 0, 0.15);\n",
              "      filter: drop-shadow(0px 1px 2px rgba(0, 0, 0, 0.3));\n",
              "      fill: #FFFFFF;\n",
              "    }\n",
              "  </style>\n",
              "\n",
              "      <script>\n",
              "        const buttonEl =\n",
              "          document.querySelector('#df-ac55bb97-8073-4665-b667-146dc76106fa button.colab-df-convert');\n",
              "        buttonEl.style.display =\n",
              "          google.colab.kernel.accessAllowed ? 'block' : 'none';\n",
              "\n",
              "        async function convertToInteractive(key) {\n",
              "          const element = document.querySelector('#df-ac55bb97-8073-4665-b667-146dc76106fa');\n",
              "          const dataTable =\n",
              "            await google.colab.kernel.invokeFunction('convertToInteractive',\n",
              "                                                     [key], {});\n",
              "          if (!dataTable) return;\n",
              "\n",
              "          const docLinkHtml = 'Like what you see? Visit the ' +\n",
              "            '<a target=\"_blank\" href=https://colab.research.google.com/notebooks/data_table.ipynb>data table notebook</a>'\n",
              "            + ' to learn more about interactive tables.';\n",
              "          element.innerHTML = '';\n",
              "          dataTable['output_type'] = 'display_data';\n",
              "          await google.colab.output.renderOutput(dataTable, element);\n",
              "          const docLink = document.createElement('div');\n",
              "          docLink.innerHTML = docLinkHtml;\n",
              "          element.appendChild(docLink);\n",
              "        }\n",
              "      </script>\n",
              "    </div>\n",
              "  </div>\n",
              "  "
            ]
          },
          "metadata": {},
          "execution_count": 4
        }
      ]
    },
    {
      "cell_type": "code",
      "source": [
        "df=df.drop(\"class\",axis=1)\n"
      ],
      "metadata": {
        "id": "biKcl2hyRI7p"
      },
      "execution_count": null,
      "outputs": []
    },
    {
      "cell_type": "code",
      "source": [
        "df.Transmission.unique()"
      ],
      "metadata": {
        "colab": {
          "base_uri": "https://localhost:8080/"
        },
        "id": "A50jl3h1RNO0",
        "outputId": "c5cee519-d3bd-4a08-9aeb-5fc016bdaae3"
      },
      "execution_count": null,
      "outputs": [
        {
          "output_type": "execute_result",
          "data": {
            "text/plain": [
              "array(['Automatic', 'Manual'], dtype=object)"
            ]
          },
          "metadata": {},
          "execution_count": 6
        }
      ]
    },
    {
      "cell_type": "code",
      "source": [
        "X = df.drop('Transmission', axis=1)\n",
        "y = df[\"Transmission\"] \n",
        "y.value_counts(normalize=True)"
      ],
      "metadata": {
        "colab": {
          "base_uri": "https://localhost:8080/"
        },
        "id": "Km_f1AdlVnc3",
        "outputId": "fea17f83-f69b-48b7-cca5-6fd0a6fecf6a"
      },
      "execution_count": null,
      "outputs": [
        {
          "output_type": "execute_result",
          "data": {
            "text/plain": [
              "Manual       0.54234\n",
              "Automatic    0.45766\n",
              "Name: Transmission, dtype: float64"
            ]
          },
          "metadata": {},
          "execution_count": 7
        }
      ]
    },
    {
      "cell_type": "code",
      "source": [
        "num_cols =X.select_dtypes(include=np.number).columns\n",
        "cat_cols = X.columns[X.dtypes == 'object']\n",
        "\n",
        "print(f\"We have {len(num_cols)} numeric columns: {', '.join(num_cols)}\")\n",
        "print(f\"And {len(cat_cols)} categorical columns: {', '.join(cat_cols)}\")"
      ],
      "metadata": {
        "colab": {
          "base_uri": "https://localhost:8080/"
        },
        "id": "lXKZnedtRZEE",
        "outputId": "5a3fd715-b334-4b98-adf4-607509bba93b"
      },
      "execution_count": null,
      "outputs": [
        {
          "output_type": "stream",
          "name": "stdout",
          "text": [
            "We have 6 numeric columns: Distance, Engine_capacity(cm3), Price(euro), Age, km_year, prestige\n",
            "And 4 categorical columns: Make, Model, Style, Fuel_type\n"
          ]
        }
      ]
    },
    {
      "cell_type": "code",
      "source": [
        "binary_cols = cat_cols[X[cat_cols].nunique() == 2].tolist()\n",
        "cat_cols = cat_cols.difference(binary_cols).tolist()"
      ],
      "metadata": {
        "id": "AMlbBPr7Tfsw"
      },
      "execution_count": null,
      "outputs": []
    },
    {
      "cell_type": "code",
      "source": [
        "display(cat_cols, binary_cols)"
      ],
      "metadata": {
        "colab": {
          "base_uri": "https://localhost:8080/",
          "height": 52
        },
        "id": "3Mud08tMWB7N",
        "outputId": "7da56ae7-cad9-4555-b1a2-bdeed97e9cda"
      },
      "execution_count": null,
      "outputs": [
        {
          "output_type": "display_data",
          "data": {
            "text/plain": [
              "['Make', 'Model', 'Style', 'Fuel_type']"
            ]
          },
          "metadata": {}
        },
        {
          "output_type": "display_data",
          "data": {
            "text/plain": [
              "[]"
            ]
          },
          "metadata": {}
        }
      ]
    },
    {
      "cell_type": "code",
      "source": [
        "from sklearn.base import TransformerMixin\n",
        "# нет удобной реализации - напишем сами \n",
        "class CustomScaler(TransformerMixin):\n",
        "    def __init__(self, cols, scaler=None):\n",
        "        self.cols = cols\n",
        "        self.scaler = scaler or StandardScaler()\n",
        "        \n",
        "    def fit(self, X, y=None):\n",
        "        num_cols = X.copy()[self.cols]\n",
        "        self.scaler.fit(num_cols)\n",
        "        return self\n",
        "    def transform(self, X, y=None):\n",
        "        X_res = X.copy()\n",
        "        num_cols_tr = self.scaler.transform(X_res[self.cols])\n",
        "        for i, col in enumerate(self.cols):\n",
        "            X_res[col] = num_cols_tr[:,i]\n",
        "        return X_res"
      ],
      "metadata": {
        "id": "KDuBFLWAWTXD"
      },
      "execution_count": null,
      "outputs": []
    },
    {
      "cell_type": "code",
      "source": [
        "sc = CustomScaler(num_cols)\n",
        "X2 = sc.fit_transform(X[num_cols])\n",
        "X2.head()"
      ],
      "metadata": {
        "colab": {
          "base_uri": "https://localhost:8080/",
          "height": 206
        },
        "id": "RzXygOTSfjAc",
        "outputId": "ab8aa878-a9ac-46d1-9ee1-44102aec31d4"
      },
      "execution_count": null,
      "outputs": [
        {
          "output_type": "execute_result",
          "data": {
            "text/plain": [
              "   Distance  Engine_capacity(cm3)  Price(euro)       Age   km_year  prestige\n",
              "0  0.162384             -0.112381    -0.181420 -0.371928  0.392292 -0.450773\n",
              "1 -0.500306             -0.604333    -0.097487 -0.790766  0.274765 -0.450773\n",
              "2 -0.776426             -0.604333    -0.307320 -0.511541 -0.535391  0.440272\n",
              "3  0.217608             -0.440349    -0.564365  0.326136 -0.328543  0.440272\n",
              "4  1.322091              0.543555    -0.628364  1.163813 -0.171839  1.331318"
            ],
            "text/html": [
              "\n",
              "  <div id=\"df-6aed3e49-3159-4a50-a133-28d59a41cf6b\">\n",
              "    <div class=\"colab-df-container\">\n",
              "      <div>\n",
              "<style scoped>\n",
              "    .dataframe tbody tr th:only-of-type {\n",
              "        vertical-align: middle;\n",
              "    }\n",
              "\n",
              "    .dataframe tbody tr th {\n",
              "        vertical-align: top;\n",
              "    }\n",
              "\n",
              "    .dataframe thead th {\n",
              "        text-align: right;\n",
              "    }\n",
              "</style>\n",
              "<table border=\"1\" class=\"dataframe\">\n",
              "  <thead>\n",
              "    <tr style=\"text-align: right;\">\n",
              "      <th></th>\n",
              "      <th>Distance</th>\n",
              "      <th>Engine_capacity(cm3)</th>\n",
              "      <th>Price(euro)</th>\n",
              "      <th>Age</th>\n",
              "      <th>km_year</th>\n",
              "      <th>prestige</th>\n",
              "    </tr>\n",
              "  </thead>\n",
              "  <tbody>\n",
              "    <tr>\n",
              "      <th>0</th>\n",
              "      <td>0.162384</td>\n",
              "      <td>-0.112381</td>\n",
              "      <td>-0.181420</td>\n",
              "      <td>-0.371928</td>\n",
              "      <td>0.392292</td>\n",
              "      <td>-0.450773</td>\n",
              "    </tr>\n",
              "    <tr>\n",
              "      <th>1</th>\n",
              "      <td>-0.500306</td>\n",
              "      <td>-0.604333</td>\n",
              "      <td>-0.097487</td>\n",
              "      <td>-0.790766</td>\n",
              "      <td>0.274765</td>\n",
              "      <td>-0.450773</td>\n",
              "    </tr>\n",
              "    <tr>\n",
              "      <th>2</th>\n",
              "      <td>-0.776426</td>\n",
              "      <td>-0.604333</td>\n",
              "      <td>-0.307320</td>\n",
              "      <td>-0.511541</td>\n",
              "      <td>-0.535391</td>\n",
              "      <td>0.440272</td>\n",
              "    </tr>\n",
              "    <tr>\n",
              "      <th>3</th>\n",
              "      <td>0.217608</td>\n",
              "      <td>-0.440349</td>\n",
              "      <td>-0.564365</td>\n",
              "      <td>0.326136</td>\n",
              "      <td>-0.328543</td>\n",
              "      <td>0.440272</td>\n",
              "    </tr>\n",
              "    <tr>\n",
              "      <th>4</th>\n",
              "      <td>1.322091</td>\n",
              "      <td>0.543555</td>\n",
              "      <td>-0.628364</td>\n",
              "      <td>1.163813</td>\n",
              "      <td>-0.171839</td>\n",
              "      <td>1.331318</td>\n",
              "    </tr>\n",
              "  </tbody>\n",
              "</table>\n",
              "</div>\n",
              "      <button class=\"colab-df-convert\" onclick=\"convertToInteractive('df-6aed3e49-3159-4a50-a133-28d59a41cf6b')\"\n",
              "              title=\"Convert this dataframe to an interactive table.\"\n",
              "              style=\"display:none;\">\n",
              "        \n",
              "  <svg xmlns=\"http://www.w3.org/2000/svg\" height=\"24px\"viewBox=\"0 0 24 24\"\n",
              "       width=\"24px\">\n",
              "    <path d=\"M0 0h24v24H0V0z\" fill=\"none\"/>\n",
              "    <path d=\"M18.56 5.44l.94 2.06.94-2.06 2.06-.94-2.06-.94-.94-2.06-.94 2.06-2.06.94zm-11 1L8.5 8.5l.94-2.06 2.06-.94-2.06-.94L8.5 2.5l-.94 2.06-2.06.94zm10 10l.94 2.06.94-2.06 2.06-.94-2.06-.94-.94-2.06-.94 2.06-2.06.94z\"/><path d=\"M17.41 7.96l-1.37-1.37c-.4-.4-.92-.59-1.43-.59-.52 0-1.04.2-1.43.59L10.3 9.45l-7.72 7.72c-.78.78-.78 2.05 0 2.83L4 21.41c.39.39.9.59 1.41.59.51 0 1.02-.2 1.41-.59l7.78-7.78 2.81-2.81c.8-.78.8-2.07 0-2.86zM5.41 20L4 18.59l7.72-7.72 1.47 1.35L5.41 20z\"/>\n",
              "  </svg>\n",
              "      </button>\n",
              "      \n",
              "  <style>\n",
              "    .colab-df-container {\n",
              "      display:flex;\n",
              "      flex-wrap:wrap;\n",
              "      gap: 12px;\n",
              "    }\n",
              "\n",
              "    .colab-df-convert {\n",
              "      background-color: #E8F0FE;\n",
              "      border: none;\n",
              "      border-radius: 50%;\n",
              "      cursor: pointer;\n",
              "      display: none;\n",
              "      fill: #1967D2;\n",
              "      height: 32px;\n",
              "      padding: 0 0 0 0;\n",
              "      width: 32px;\n",
              "    }\n",
              "\n",
              "    .colab-df-convert:hover {\n",
              "      background-color: #E2EBFA;\n",
              "      box-shadow: 0px 1px 2px rgba(60, 64, 67, 0.3), 0px 1px 3px 1px rgba(60, 64, 67, 0.15);\n",
              "      fill: #174EA6;\n",
              "    }\n",
              "\n",
              "    [theme=dark] .colab-df-convert {\n",
              "      background-color: #3B4455;\n",
              "      fill: #D2E3FC;\n",
              "    }\n",
              "\n",
              "    [theme=dark] .colab-df-convert:hover {\n",
              "      background-color: #434B5C;\n",
              "      box-shadow: 0px 1px 3px 1px rgba(0, 0, 0, 0.15);\n",
              "      filter: drop-shadow(0px 1px 2px rgba(0, 0, 0, 0.3));\n",
              "      fill: #FFFFFF;\n",
              "    }\n",
              "  </style>\n",
              "\n",
              "      <script>\n",
              "        const buttonEl =\n",
              "          document.querySelector('#df-6aed3e49-3159-4a50-a133-28d59a41cf6b button.colab-df-convert');\n",
              "        buttonEl.style.display =\n",
              "          google.colab.kernel.accessAllowed ? 'block' : 'none';\n",
              "\n",
              "        async function convertToInteractive(key) {\n",
              "          const element = document.querySelector('#df-6aed3e49-3159-4a50-a133-28d59a41cf6b');\n",
              "          const dataTable =\n",
              "            await google.colab.kernel.invokeFunction('convertToInteractive',\n",
              "                                                     [key], {});\n",
              "          if (!dataTable) return;\n",
              "\n",
              "          const docLinkHtml = 'Like what you see? Visit the ' +\n",
              "            '<a target=\"_blank\" href=https://colab.research.google.com/notebooks/data_table.ipynb>data table notebook</a>'\n",
              "            + ' to learn more about interactive tables.';\n",
              "          element.innerHTML = '';\n",
              "          dataTable['output_type'] = 'display_data';\n",
              "          await google.colab.output.renderOutput(dataTable, element);\n",
              "          const docLink = document.createElement('div');\n",
              "          docLink.innerHTML = docLinkHtml;\n",
              "          element.appendChild(docLink);\n",
              "        }\n",
              "      </script>\n",
              "    </div>\n",
              "  </div>\n",
              "  "
            ]
          },
          "metadata": {},
          "execution_count": 12
        }
      ]
    },
    {
      "cell_type": "markdown",
      "source": [
        "числовые столбцы"
      ],
      "metadata": {
        "id": "WzyY4EMiX1mD"
      }
    },
    {
      "cell_type": "code",
      "source": [
        "from sklearn.compose import ColumnTransformer\n",
        "\n",
        "p1 = Pipeline([\n",
        "    (\"selector\", ColumnTransformer([\n",
        "        (\"selector\", \"passthrough\", num_cols)\n",
        "    ], remainder=\"drop\")),\n",
        "    ('model_', LogisticRegression())\n",
        "    ])\n",
        "p1"
      ],
      "metadata": {
        "colab": {
          "base_uri": "https://localhost:8080/"
        },
        "id": "ddE7FKrNXlhe",
        "outputId": "22b74dbf-8fa8-4fed-8bbf-85a408bfed37"
      },
      "execution_count": null,
      "outputs": [
        {
          "output_type": "execute_result",
          "data": {
            "text/plain": [
              "Pipeline(steps=[('selector',\n",
              "                 ColumnTransformer(transformers=[('selector', 'passthrough',\n",
              "                                                  Index(['Distance', 'Engine_capacity(cm3)', 'Price(euro)', 'Age', 'km_year',\n",
              "       'prestige'],\n",
              "      dtype='object'))])),\n",
              "                ('model_', LogisticRegression())])"
            ]
          },
          "metadata": {},
          "execution_count": 13
        }
      ]
    },
    {
      "cell_type": "code",
      "source": [
        "X_train, X_test, y_train, y_test = train_test_split(X, y)"
      ],
      "metadata": {
        "id": "BF_95FyTchXP"
      },
      "execution_count": null,
      "outputs": []
    },
    {
      "cell_type": "code",
      "source": [
        "\n",
        "\n",
        "p1.fit(X_train, y_train)\n",
        "\n",
        "y_pred = p1.predict(X_test)\n",
        "\n",
        "print(acc(y_test, y_pred))"
      ],
      "metadata": {
        "colab": {
          "base_uri": "https://localhost:8080/"
        },
        "id": "Of2z2R01X8zd",
        "outputId": "eac8dcf0-cad4-4b3a-ec9a-4e72d268ee1a"
      },
      "execution_count": null,
      "outputs": [
        {
          "output_type": "stream",
          "name": "stdout",
          "text": [
            "0.8039655817433595\n"
          ]
        }
      ]
    },
    {
      "cell_type": "markdown",
      "source": [
        "\n",
        "\n",
        "нормализированные числовые столбцы"
      ],
      "metadata": {
        "id": "dQ4GSIg9XgVo"
      }
    },
    {
      "cell_type": "code",
      "source": [
        "p2 = Pipeline([\n",
        "    (\"selector\", ColumnTransformer([\n",
        "        (\"selector\", \"passthrough\", num_cols)\n",
        "    ], remainder=\"drop\")),\n",
        "    #('scaler_', CustomScaler(list(num_cols))),\n",
        "    ('scaler_', StandardScaler()),\n",
        "    ('model_', LogisticRegression())\n",
        "    ])\n"
      ],
      "metadata": {
        "id": "24ubLEaheml-"
      },
      "execution_count": null,
      "outputs": []
    },
    {
      "cell_type": "code",
      "source": [
        "p2.fit(X_train, y_train)\n",
        "\n",
        "y_pred = p2.predict(X_test)\n",
        "\n",
        "print(acc(y_test, y_pred))"
      ],
      "metadata": {
        "colab": {
          "base_uri": "https://localhost:8080/"
        },
        "id": "qLNaF6o6fCce",
        "outputId": "c9e68608-816b-42ac-8cec-b7d85ceb6bb9"
      },
      "execution_count": null,
      "outputs": [
        {
          "output_type": "stream",
          "name": "stdout",
          "text": [
            "0.8141912956727771\n"
          ]
        }
      ]
    },
    {
      "cell_type": "markdown",
      "source": [
        " pipelines"
      ],
      "metadata": {
        "id": "4Bd4ikvcYGuy"
      }
    },
    {
      "cell_type": "code",
      "source": [
        "# числовые и категориальные столбцы\n",
        "p3 = Pipeline([\n",
        "    ('one_hot_encoder_', OneHotEncoder(cols=binary_cols+cat_cols)),\n",
        "    #('scaler_', CustomScaler(list(num_cols))),\n",
        "    #('scaler_', StandardScaler()),\n",
        "    ('model_', LogisticRegression())\n",
        "    ])\n",
        "#нормализированные числовые и категориальные столбцы\n",
        "p4 = Pipeline([\n",
        "    ('one_hot_encoder_', OneHotEncoder(cols=binary_cols+cat_cols)),\n",
        "    #('scaler_', CustomScaler(list(num_cols))),\n",
        "    ('scaler_', StandardScaler()),\n",
        "    ('model_', LogisticRegression())\n",
        "    ])\n",
        "p5 = Pipeline([\n",
        "    ('one_hot_encoder_', OneHotEncoder(cols=binary_cols+cat_cols)),\n",
        "    #('scaler_', CustomScaler(list(num_cols))),\n",
        "    ('scaler_', StandardScaler()),\n",
        "    ('model_', LogisticRegression(penalty='l1', C=1e-1, solver='saga'))\n",
        "    ])\n",
        "p6 = Pipeline([\n",
        "    ('one_hot_encoder_', OneHotEncoder(cols=binary_cols+cat_cols)),\n",
        "    #('scaler_', CustomScaler(list(num_cols))),\n",
        "    ('scaler_', StandardScaler()),\n",
        "    ('model_', LogisticRegression(penalty='l2', C=1e-1, solver='saga'))\n",
        "    ])"
      ],
      "metadata": {
        "id": "OWG0YFanhv9Y"
      },
      "execution_count": null,
      "outputs": []
    },
    {
      "cell_type": "code",
      "source": [
        "from sklearn.model_selection import cross_validate\n",
        "for i, pipe in enumerate([p1, p2, p3, p4, p5,p6]):\n",
        "    cv_res = cross_validate(pipe,\n",
        "                            X,\n",
        "                            y,\n",
        "                            cv=5,\n",
        "                            scoring='accuracy'\n",
        "                           )\n",
        "    print(f\"Pipeline {i + 1}: mean cv accuracy = {cv_res['test_score'].mean()}\")"
      ],
      "metadata": {
        "colab": {
          "base_uri": "https://localhost:8080/"
        },
        "id": "AujV-XDEjKpA",
        "outputId": "083a94dd-9231-49e1-ec22-223376d9759d"
      },
      "execution_count": null,
      "outputs": [
        {
          "output_type": "stream",
          "name": "stdout",
          "text": [
            "Pipeline 1: mean cv accuracy = 0.7736467698655101\n",
            "Pipeline 2: mean cv accuracy = 0.8089728310124411\n",
            "Pipeline 3: mean cv accuracy = 0.7740832468725249\n",
            "Pipeline 4: mean cv accuracy = 0.8527154332360937\n",
            "Pipeline 5: mean cv accuracy = 0.8522789222037433\n",
            "Pipeline 6: mean cv accuracy = 0.8527778016765254\n"
          ]
        }
      ]
    },
    {
      "cell_type": "code",
      "source": [
        "#нормализированные числовые столбцы  и категориальные столбцы\n",
        "p7 = Pipeline([\n",
        "    ('one_hot_encoder_', OneHotEncoder(cols=binary_cols+cat_cols)),\n",
        "    ('scaler_', CustomScaler(list(num_cols))),\n",
        "    #('scaler_', StandardScaler()),\n",
        "    ('model_', LogisticRegression())\n",
        "    ])\n",
        "p8 = Pipeline([\n",
        "    ('one_hot_encoder_', OneHotEncoder(cols=binary_cols+cat_cols)),\n",
        "    ('scaler_', CustomScaler(list(num_cols))),\n",
        "    #('scaler_', StandardScaler()),\n",
        "    ('model_', LogisticRegression(penalty='l1', C=1e-1, solver='saga'))\n",
        "    ])\n",
        "\n",
        "p9 = Pipeline([\n",
        "    ('one_hot_encoder_', OneHotEncoder(cols=binary_cols+cat_cols)),\n",
        "    ('scaler_', CustomScaler(list(num_cols))),\n",
        "    #('scaler_', StandardScaler()),\n",
        "    ('model_', LogisticRegression(penalty='l2', C=1e-1, solver='saga'))\n",
        "    ])\n",
        "\n"
      ],
      "metadata": {
        "id": "LnTsSFTYlPbx"
      },
      "execution_count": null,
      "outputs": []
    },
    {
      "cell_type": "code",
      "source": [
        "p7.fit(X_train, y_train)\n",
        "\n",
        "y_pred = p7.predict(X_test)\n",
        "\n",
        "print(acc(y_test, y_pred))"
      ],
      "metadata": {
        "colab": {
          "base_uri": "https://localhost:8080/"
        },
        "id": "ZWLiRWd3nKWX",
        "outputId": "8c09a0c0-50b6-4c53-ca97-f2869c09b070"
      },
      "execution_count": null,
      "outputs": [
        {
          "output_type": "stream",
          "name": "stdout",
          "text": [
            "0.8572141164733758\n"
          ]
        }
      ]
    },
    {
      "cell_type": "code",
      "source": [
        "for i, pipe in enumerate([p7, p8, p9]):\n",
        "    cv_res = cross_validate(pipe,\n",
        "                            X,\n",
        "                            y,\n",
        "                            cv=5,\n",
        "                            scoring='accuracy'\n",
        "                           )\n",
        "    print(f\"Pipeline {i + 1}: mean cv accuracy = {cv_res['test_score'].mean()}\")"
      ],
      "metadata": {
        "colab": {
          "base_uri": "https://localhost:8080/"
        },
        "id": "_LWsDHVGpIKm",
        "outputId": "8927f1a3-4133-44f5-c881-be5d92b33cfd"
      },
      "execution_count": null,
      "outputs": [
        {
          "output_type": "stream",
          "name": "stdout",
          "text": [
            "Pipeline 1: mean cv accuracy = 0.8520295067711634\n",
            "Pipeline 2: mean cv accuracy = 0.8480386654193952\n",
            "Pipeline 3: mean cv accuracy = 0.8500964253711374\n"
          ]
        }
      ]
    },
    {
      "cell_type": "code",
      "source": [
        "p9"
      ],
      "metadata": {
        "colab": {
          "base_uri": "https://localhost:8080/"
        },
        "id": "bdDfZSNuNkW4",
        "outputId": "49aa3557-8267-4893-dbfa-db82025ef188"
      },
      "execution_count": null,
      "outputs": [
        {
          "output_type": "execute_result",
          "data": {
            "text/plain": [
              "Pipeline(steps=[('one_hot_encoder_',\n",
              "                 OneHotEncoder(cols=['Make', 'Model', 'Style', 'Fuel_type'])),\n",
              "                ('scaler_', <__main__.CustomScaler object at 0x7f2cd18ee220>),\n",
              "                ('model_', LogisticRegression(C=0.1, solver='saga'))])"
            ]
          },
          "metadata": {},
          "execution_count": 23
        }
      ]
    },
    {
      "cell_type": "code",
      "source": [
        "#(нормализированные числовые столбцы и категориальные столбцы ) (pol degree=2)\n",
        "p10=Pipeline([\n",
        "    #('poly_features', PolynomialFeatures(degree=2)),\n",
        "    ('one_hot_encoder_', OneHotEncoder(cols=binary_cols+cat_cols)),\n",
        "    ('scaler_', CustomScaler(list(num_cols))),\n",
        "    ('poly_features', PolynomialFeatures(degree=2)),\n",
        "    #('scaler_', StandardScaler()),\n",
        "    ('model_', LogisticRegression())\n",
        "    ])\n"
      ],
      "metadata": {
        "id": "PM_PBW8d020g"
      },
      "execution_count": null,
      "outputs": []
    },
    {
      "cell_type": "code",
      "source": [
        "\n",
        "p10.fit(X_train, y_train)\n",
        "\n",
        "y_pred = p10.predict(X_test)\n",
        "\n",
        "print(acc(y_test, y_pred))"
      ],
      "metadata": {
        "colab": {
          "base_uri": "https://localhost:8080/"
        },
        "id": "asyGi4_pRQA5",
        "outputId": "1d295c2f-b04d-4fc2-c54d-a17d30925665"
      },
      "execution_count": null,
      "outputs": [
        {
          "output_type": "stream",
          "name": "stdout",
          "text": [
            "0.8655692729766804\n"
          ]
        }
      ]
    },
    {
      "cell_type": "code",
      "source": [
        "p10"
      ],
      "metadata": {
        "colab": {
          "base_uri": "https://localhost:8080/"
        },
        "id": "kMXGWYxBi6iK",
        "outputId": "3176d2b3-c61c-4aa8-a0b5-26c87eb3b89c"
      },
      "execution_count": null,
      "outputs": [
        {
          "output_type": "execute_result",
          "data": {
            "text/plain": [
              "Pipeline(steps=[('one_hot_encoder_',\n",
              "                 OneHotEncoder(cols=['Make', 'Model', 'Style', 'Fuel_type'])),\n",
              "                ('scaler_', <__main__.CustomScaler object at 0x7f2cd4187c70>),\n",
              "                ('poly_features', PolynomialFeatures()),\n",
              "                ('model_', LogisticRegression())])"
            ]
          },
          "metadata": {},
          "execution_count": 26
        }
      ]
    },
    {
      "cell_type": "code",
      "source": [
        "#(нормализированные числовые столбцы(pol degree=1,2,3,4,5) и категориальные столбцы ) \n",
        "degrees=[1,2,3,4,5]\n",
        "for deg in degrees:\n",
        "  numerical_transformer = Pipeline([('scaler',CustomScaler(list(num_cols)) ),\n",
        "                                  ('polynom', PolynomialFeatures(deg))\n",
        "    \n",
        "  ])\n",
        "  # Apply the numerical transformer only on the numerical columns.\n",
        "  # Spearately, apply the OneHotEncoder.\n",
        "  ct = ColumnTransformer([('num_transformer', numerical_transformer, num_cols),\n",
        "                          ('encoder', OneHotEncoder(), cat_cols)])\n",
        "  # Main pipeline for fitting.\n",
        "  pipeline = Pipeline([\n",
        "                     ('column_transformer', ct),\n",
        "                     ('linear_regression', LogisticRegression() )\n",
        "  ])\n",
        "\n",
        "  pipeline.fit(X_train, y_train)\n",
        "  y_pred = pipeline.predict(X_test)\n",
        "  print(f\"Pipeline {deg + 1}: accuracy = {acc(y_test, y_pred)}\")\n",
        "  #print(acc(y_test, y_pred))\n"
      ],
      "metadata": {
        "colab": {
          "base_uri": "https://localhost:8080/"
        },
        "id": "lFSw8bh2b59E",
        "outputId": "e3180f94-c546-4b76-e39a-1f4a2a4f4fae"
      },
      "execution_count": null,
      "outputs": [
        {
          "output_type": "stream",
          "name": "stdout",
          "text": [
            "Pipeline 2: accuracy = 0.8573388203017832\n",
            "Pipeline 3: accuracy = 0.8617034542960469\n",
            "Pipeline 4: accuracy = 0.858211747100636\n",
            "Pipeline 5: accuracy = 0.8441202144905848\n",
            "Pipeline 6: accuracy = 0.7972315750093528\n"
          ]
        }
      ]
    },
    {
      "cell_type": "markdown",
      "source": [
        "Pipeline 3: accuracy = 0.8617034542960469"
      ],
      "metadata": {
        "id": "uEgI1LhpZ3U1"
      }
    },
    {
      "cell_type": "code",
      "source": [
        "pipeline"
      ],
      "metadata": {
        "colab": {
          "base_uri": "https://localhost:8080/"
        },
        "id": "3ZopujWlg-Ca",
        "outputId": "c0fadf3e-c867-4f60-b9c1-129185b702bc"
      },
      "execution_count": null,
      "outputs": [
        {
          "output_type": "execute_result",
          "data": {
            "text/plain": [
              "Pipeline(steps=[('column_transformer',\n",
              "                 ColumnTransformer(transformers=[('num_transformer',\n",
              "                                                  Pipeline(steps=[('scaler',\n",
              "                                                                   <__main__.CustomScaler object at 0x7f2cd18eecd0>),\n",
              "                                                                  ('polynom',\n",
              "                                                                   PolynomialFeatures(degree=5))]),\n",
              "                                                  Index(['Distance', 'Engine_capacity(cm3)', 'Price(euro)', 'Age', 'km_year',\n",
              "       'prestige'],\n",
              "      dtype='object')),\n",
              "                                                 ('encoder', OneHotEncoder(),\n",
              "                                                  ['Make', 'Model', 'Style',\n",
              "                                                   'Fuel_type'])])),\n",
              "                ('linear_regression', LogisticRegression())])"
            ]
          },
          "metadata": {},
          "execution_count": 28
        }
      ]
    },
    {
      "cell_type": "code",
      "source": [
        "X = df.drop('Transmission', axis=1)\n",
        "y = df[\"Transmission\"] \n",
        "y.value_counts(normalize=True)"
      ],
      "metadata": {
        "colab": {
          "base_uri": "https://localhost:8080/"
        },
        "id": "xiNGEheJoSqK",
        "outputId": "12166231-6eca-4978-974c-0bb1dd509ed5"
      },
      "execution_count": null,
      "outputs": [
        {
          "output_type": "execute_result",
          "data": {
            "text/plain": [
              "Manual       0.54234\n",
              "Automatic    0.45766\n",
              "Name: Transmission, dtype: float64"
            ]
          },
          "metadata": {},
          "execution_count": 30
        }
      ]
    },
    {
      "cell_type": "code",
      "source": [
        "y=y.map({\"Automatic\":1,\"Manual\":0}).astype(int)\n",
        "y.value_counts(normalize=True)"
      ],
      "metadata": {
        "colab": {
          "base_uri": "https://localhost:8080/"
        },
        "id": "cVtg3cXBrNxZ",
        "outputId": "ff1b4295-2fda-4428-b486-c14389dba6a7"
      },
      "execution_count": null,
      "outputs": [
        {
          "output_type": "execute_result",
          "data": {
            "text/plain": [
              "0    0.54234\n",
              "1    0.45766\n",
              "Name: Transmission, dtype: float64"
            ]
          },
          "metadata": {},
          "execution_count": 31
        }
      ]
    },
    {
      "cell_type": "code",
      "source": [
        "y.value_counts(normalize=True)"
      ],
      "metadata": {
        "colab": {
          "base_uri": "https://localhost:8080/"
        },
        "id": "viSKOSsRrPgW",
        "outputId": "51b506e0-84eb-4f40-8572-988c7b7ebf0a"
      },
      "execution_count": null,
      "outputs": [
        {
          "output_type": "execute_result",
          "data": {
            "text/plain": [
              "0    0.54234\n",
              "1    0.45766\n",
              "Name: Transmission, dtype: float64"
            ]
          },
          "metadata": {},
          "execution_count": 32
        }
      ]
    },
    {
      "cell_type": "code",
      "source": [
        "X_train, X_test, y_train, y_test = train_test_split(X, y)"
      ],
      "metadata": {
        "id": "J4GeUotSsGpx"
      },
      "execution_count": null,
      "outputs": []
    },
    {
      "cell_type": "code",
      "source": [
        "p13 = Pipeline([\n",
        "    ('one_hot_encoder_', OrdinalEncoder(cols=binary_cols+cat_cols)),\n",
        "    ('scaler_', CustomScaler(list(num_cols))),\n",
        "    #('scaler_', StandardScaler()),\n",
        "    ('model_', LogisticRegression())\n",
        "    ])"
      ],
      "metadata": {
        "id": "TvY5i7vAsWdV"
      },
      "execution_count": null,
      "outputs": []
    },
    {
      "cell_type": "code",
      "source": [
        "p13.fit(X_train, y_train)"
      ],
      "metadata": {
        "colab": {
          "base_uri": "https://localhost:8080/"
        },
        "id": "REhVk11dtdiA",
        "outputId": "a8f27ba4-2afd-4f4c-86e0-756abcb99afc"
      },
      "execution_count": null,
      "outputs": [
        {
          "output_type": "execute_result",
          "data": {
            "text/plain": [
              "Pipeline(steps=[('one_hot_encoder_',\n",
              "                 OrdinalEncoder(cols=['Make', 'Model', 'Style', 'Fuel_type'],\n",
              "                                mapping=[{'col': 'Make',\n",
              "                                          'data_type': dtype('O'),\n",
              "                                          'mapping': Mercedes           1\n",
              "Vaz                2\n",
              "Hyundai            3\n",
              "Toyota             4\n",
              "Renault            5\n",
              "Audi               6\n",
              "Honda              7\n",
              "Skoda              8\n",
              "Dacia              9\n",
              "Volkswagen        10\n",
              "Nissan            11\n",
              "Chrysler          12\n",
              "BMW               13\n",
              "Infiniti          14\n",
              "Opel              15\n",
              "Land Rover        16\n",
              "Jaguar            17\n",
              "Mini              18\n",
              "Fiat              19\n",
              "Mazda             20\n",
              "Lexus             21\n",
              "Porsche           22\n",
              "Rover             23\n",
              "Ford              24\n",
              "Volvo             25\n",
              "Seat              26\n",
              "Chevrolet         27...\n",
              "                                          'data_type': dtype('O'),\n",
              "                                          'mapping': Sedan         1\n",
              "Universal     2\n",
              "Minivan       3\n",
              "Crossover     4\n",
              "Hatchback     5\n",
              "Combi         6\n",
              "SUV           7\n",
              "Cabriolet     8\n",
              "Coupe         9\n",
              "Microvan     10\n",
              "Pickup       11\n",
              "Roadster     12\n",
              "NaN          -2\n",
              "dtype: int64},\n",
              "                                         {'col': 'Fuel_type',\n",
              "                                          'data_type': dtype('O'),\n",
              "                                          'mapping': Diesel            1\n",
              "Petrol            2\n",
              "Hybrid            3\n",
              "Metan/Propan      4\n",
              "Plug-in Hybrid    5\n",
              "Electric          6\n",
              "NaN              -2\n",
              "dtype: int64}])),\n",
              "                ('scaler_', <__main__.CustomScaler object at 0x7f2cd17ec760>),\n",
              "                ('model_', LogisticRegression())])"
            ]
          },
          "metadata": {},
          "execution_count": 35
        }
      ]
    },
    {
      "cell_type": "code",
      "source": [
        "accuracies4 = {\n",
        "    'train accuracy': p13.score(X_train, y_train),\n",
        "    'test accuracy': p13.score(X_test, y_test)\n",
        "}\n",
        "\n",
        "print(*accuracies4.items())"
      ],
      "metadata": {
        "colab": {
          "base_uri": "https://localhost:8080/"
        },
        "id": "uGAu08Hyt1Bz",
        "outputId": "e3349ec1-f64b-4f19-8ff8-3167e6a306e9"
      },
      "execution_count": null,
      "outputs": [
        {
          "output_type": "stream",
          "name": "stdout",
          "text": [
            "('train accuracy', 0.8192059862814384) ('test accuracy', 0.8259134555430852)\n"
          ]
        }
      ]
    },
    {
      "cell_type": "code",
      "source": [
        "p13['model_'].coef_[0]"
      ],
      "metadata": {
        "colab": {
          "base_uri": "https://localhost:8080/"
        },
        "id": "dpZlGiU5ucA1",
        "outputId": "d4655dfd-8da2-4690-ae3e-6c020730604b"
      },
      "execution_count": null,
      "outputs": [
        {
          "output_type": "execute_result",
          "data": {
            "text/plain": [
              "array([-2.87673992e-03,  2.86362553e-04, -3.70242586e-02,  2.04490062e-01,\n",
              "        1.09571363e+00,  5.09054709e-01,  1.29768490e+00, -7.98824444e-01,\n",
              "       -2.91570926e-01, -4.36316652e-01])"
            ]
          },
          "metadata": {},
          "execution_count": 37
        }
      ]
    },
    {
      "cell_type": "code",
      "source": [
        "df_coefficients=pd.DataFrame(\n",
        "    {\n",
        "        'feature': X_train.columns,\n",
        "        'coefficient': p13['model_'].coef_[0]*10\n",
        "    }\n",
        ").sort_values(by=['coefficient'])\n",
        "df_coefficients"
      ],
      "metadata": {
        "colab": {
          "base_uri": "https://localhost:8080/",
          "height": 363
        },
        "id": "wiI-F3TAuD5t",
        "outputId": "62c03b63-a25a-43be-b48e-b3cfabfc6f81"
      },
      "execution_count": null,
      "outputs": [
        {
          "output_type": "execute_result",
          "data": {
            "text/plain": [
              "                feature  coefficient\n",
              "7                   Age    -7.988244\n",
              "9              prestige    -4.363167\n",
              "8               km_year    -2.915709\n",
              "2                 Style    -0.370243\n",
              "0                  Make    -0.028767\n",
              "1                 Model     0.002864\n",
              "3              Distance     2.044901\n",
              "5             Fuel_type     5.090547\n",
              "4  Engine_capacity(cm3)    10.957136\n",
              "6           Price(euro)    12.976849"
            ],
            "text/html": [
              "\n",
              "  <div id=\"df-346e8f55-5304-46f4-99f6-f9d692ae6f44\">\n",
              "    <div class=\"colab-df-container\">\n",
              "      <div>\n",
              "<style scoped>\n",
              "    .dataframe tbody tr th:only-of-type {\n",
              "        vertical-align: middle;\n",
              "    }\n",
              "\n",
              "    .dataframe tbody tr th {\n",
              "        vertical-align: top;\n",
              "    }\n",
              "\n",
              "    .dataframe thead th {\n",
              "        text-align: right;\n",
              "    }\n",
              "</style>\n",
              "<table border=\"1\" class=\"dataframe\">\n",
              "  <thead>\n",
              "    <tr style=\"text-align: right;\">\n",
              "      <th></th>\n",
              "      <th>feature</th>\n",
              "      <th>coefficient</th>\n",
              "    </tr>\n",
              "  </thead>\n",
              "  <tbody>\n",
              "    <tr>\n",
              "      <th>7</th>\n",
              "      <td>Age</td>\n",
              "      <td>-7.988244</td>\n",
              "    </tr>\n",
              "    <tr>\n",
              "      <th>9</th>\n",
              "      <td>prestige</td>\n",
              "      <td>-4.363167</td>\n",
              "    </tr>\n",
              "    <tr>\n",
              "      <th>8</th>\n",
              "      <td>km_year</td>\n",
              "      <td>-2.915709</td>\n",
              "    </tr>\n",
              "    <tr>\n",
              "      <th>2</th>\n",
              "      <td>Style</td>\n",
              "      <td>-0.370243</td>\n",
              "    </tr>\n",
              "    <tr>\n",
              "      <th>0</th>\n",
              "      <td>Make</td>\n",
              "      <td>-0.028767</td>\n",
              "    </tr>\n",
              "    <tr>\n",
              "      <th>1</th>\n",
              "      <td>Model</td>\n",
              "      <td>0.002864</td>\n",
              "    </tr>\n",
              "    <tr>\n",
              "      <th>3</th>\n",
              "      <td>Distance</td>\n",
              "      <td>2.044901</td>\n",
              "    </tr>\n",
              "    <tr>\n",
              "      <th>5</th>\n",
              "      <td>Fuel_type</td>\n",
              "      <td>5.090547</td>\n",
              "    </tr>\n",
              "    <tr>\n",
              "      <th>4</th>\n",
              "      <td>Engine_capacity(cm3)</td>\n",
              "      <td>10.957136</td>\n",
              "    </tr>\n",
              "    <tr>\n",
              "      <th>6</th>\n",
              "      <td>Price(euro)</td>\n",
              "      <td>12.976849</td>\n",
              "    </tr>\n",
              "  </tbody>\n",
              "</table>\n",
              "</div>\n",
              "      <button class=\"colab-df-convert\" onclick=\"convertToInteractive('df-346e8f55-5304-46f4-99f6-f9d692ae6f44')\"\n",
              "              title=\"Convert this dataframe to an interactive table.\"\n",
              "              style=\"display:none;\">\n",
              "        \n",
              "  <svg xmlns=\"http://www.w3.org/2000/svg\" height=\"24px\"viewBox=\"0 0 24 24\"\n",
              "       width=\"24px\">\n",
              "    <path d=\"M0 0h24v24H0V0z\" fill=\"none\"/>\n",
              "    <path d=\"M18.56 5.44l.94 2.06.94-2.06 2.06-.94-2.06-.94-.94-2.06-.94 2.06-2.06.94zm-11 1L8.5 8.5l.94-2.06 2.06-.94-2.06-.94L8.5 2.5l-.94 2.06-2.06.94zm10 10l.94 2.06.94-2.06 2.06-.94-2.06-.94-.94-2.06-.94 2.06-2.06.94z\"/><path d=\"M17.41 7.96l-1.37-1.37c-.4-.4-.92-.59-1.43-.59-.52 0-1.04.2-1.43.59L10.3 9.45l-7.72 7.72c-.78.78-.78 2.05 0 2.83L4 21.41c.39.39.9.59 1.41.59.51 0 1.02-.2 1.41-.59l7.78-7.78 2.81-2.81c.8-.78.8-2.07 0-2.86zM5.41 20L4 18.59l7.72-7.72 1.47 1.35L5.41 20z\"/>\n",
              "  </svg>\n",
              "      </button>\n",
              "      \n",
              "  <style>\n",
              "    .colab-df-container {\n",
              "      display:flex;\n",
              "      flex-wrap:wrap;\n",
              "      gap: 12px;\n",
              "    }\n",
              "\n",
              "    .colab-df-convert {\n",
              "      background-color: #E8F0FE;\n",
              "      border: none;\n",
              "      border-radius: 50%;\n",
              "      cursor: pointer;\n",
              "      display: none;\n",
              "      fill: #1967D2;\n",
              "      height: 32px;\n",
              "      padding: 0 0 0 0;\n",
              "      width: 32px;\n",
              "    }\n",
              "\n",
              "    .colab-df-convert:hover {\n",
              "      background-color: #E2EBFA;\n",
              "      box-shadow: 0px 1px 2px rgba(60, 64, 67, 0.3), 0px 1px 3px 1px rgba(60, 64, 67, 0.15);\n",
              "      fill: #174EA6;\n",
              "    }\n",
              "\n",
              "    [theme=dark] .colab-df-convert {\n",
              "      background-color: #3B4455;\n",
              "      fill: #D2E3FC;\n",
              "    }\n",
              "\n",
              "    [theme=dark] .colab-df-convert:hover {\n",
              "      background-color: #434B5C;\n",
              "      box-shadow: 0px 1px 3px 1px rgba(0, 0, 0, 0.15);\n",
              "      filter: drop-shadow(0px 1px 2px rgba(0, 0, 0, 0.3));\n",
              "      fill: #FFFFFF;\n",
              "    }\n",
              "  </style>\n",
              "\n",
              "      <script>\n",
              "        const buttonEl =\n",
              "          document.querySelector('#df-346e8f55-5304-46f4-99f6-f9d692ae6f44 button.colab-df-convert');\n",
              "        buttonEl.style.display =\n",
              "          google.colab.kernel.accessAllowed ? 'block' : 'none';\n",
              "\n",
              "        async function convertToInteractive(key) {\n",
              "          const element = document.querySelector('#df-346e8f55-5304-46f4-99f6-f9d692ae6f44');\n",
              "          const dataTable =\n",
              "            await google.colab.kernel.invokeFunction('convertToInteractive',\n",
              "                                                     [key], {});\n",
              "          if (!dataTable) return;\n",
              "\n",
              "          const docLinkHtml = 'Like what you see? Visit the ' +\n",
              "            '<a target=\"_blank\" href=https://colab.research.google.com/notebooks/data_table.ipynb>data table notebook</a>'\n",
              "            + ' to learn more about interactive tables.';\n",
              "          element.innerHTML = '';\n",
              "          dataTable['output_type'] = 'display_data';\n",
              "          await google.colab.output.renderOutput(dataTable, element);\n",
              "          const docLink = document.createElement('div');\n",
              "          docLink.innerHTML = docLinkHtml;\n",
              "          element.appendChild(docLink);\n",
              "        }\n",
              "      </script>\n",
              "    </div>\n",
              "  </div>\n",
              "  "
            ]
          },
          "metadata": {},
          "execution_count": 38
        }
      ]
    },
    {
      "cell_type": "markdown",
      "source": [
        "теперь выбираем самый оптимальный вариант\n",
        "\n",
        "---\n",
        "\n"
      ],
      "metadata": {
        "id": "pOSj1PUxaMop"
      }
    },
    {
      "cell_type": "code",
      "source": [
        "p14 = Pipeline([\n",
        "    ('one_hot_encoder_', OneHotEncoder(cols=binary_cols+cat_cols)),\n",
        "    ('scaler_', CustomScaler(list(num_cols))),\n",
        "    #('scaler_', StandardScaler()),\n",
        "    ('mult_lr', LogisticRegression(solver='saga'))\n",
        "    ])"
      ],
      "metadata": {
        "id": "gRGpZlHwzLUB"
      },
      "execution_count": null,
      "outputs": []
    },
    {
      "cell_type": "code",
      "source": [
        "p14.fit(X_train, y_train)\n",
        "accuracies5 = {\n",
        "    'train accuracy': p14.score(X_train, y_train),\n",
        "    'test accuracy': p14.score(X_test, y_test)\n",
        "}\n",
        "\n",
        "print(*accuracies5.items())"
      ],
      "metadata": {
        "colab": {
          "base_uri": "https://localhost:8080/"
        },
        "id": "aAKtKuq50zUp",
        "outputId": "7c88e78f-1485-4625-a688-7df70b328436"
      },
      "execution_count": null,
      "outputs": [
        {
          "output_type": "stream",
          "name": "stdout",
          "text": [
            "('train accuracy', 0.8552899605071711) ('test accuracy', 0.8590846738994887)\n"
          ]
        }
      ]
    },
    {
      "cell_type": "code",
      "source": [
        "params = {\n",
        "    'mult_lr__C': [1.0, 1e-1, 1e-2, 1e-3],\n",
        "    'mult_lr__penalty': ['l1', 'l2'],\n",
        "    'mult_lr__l1_ratio': [0.10, 0.25, 0.5, 0.75]\n",
        "}"
      ],
      "metadata": {
        "id": "d3jPJHFDzfVX"
      },
      "execution_count": null,
      "outputs": []
    },
    {
      "cell_type": "code",
      "source": [
        "from sklearn.model_selection import GridSearchCV"
      ],
      "metadata": {
        "id": "JoVcVJ0u1jH4"
      },
      "execution_count": null,
      "outputs": []
    },
    {
      "cell_type": "code",
      "source": [
        "grid_mult_pipe0 = GridSearchCV(\n",
        "    p14,\n",
        "    params,\n",
        "    cv=3\n",
        ")\n",
        "\n",
        "grid_mult_pipe0.fit(X_train, y_train)"
      ],
      "metadata": {
        "colab": {
          "base_uri": "https://localhost:8080/"
        },
        "id": "x-gKsMJSzl8k",
        "outputId": "c40b53eb-cc4c-4583-d062-445f83495afd"
      },
      "execution_count": null,
      "outputs": [
        {
          "output_type": "execute_result",
          "data": {
            "text/plain": [
              "GridSearchCV(cv=3,\n",
              "             estimator=Pipeline(steps=[('one_hot_encoder_',\n",
              "                                        OneHotEncoder(cols=['Make', 'Model',\n",
              "                                                            'Style',\n",
              "                                                            'Fuel_type'])),\n",
              "                                       ('scaler_',\n",
              "                                        <__main__.CustomScaler object at 0x7f2cd17f4ca0>),\n",
              "                                       ('mult_lr',\n",
              "                                        LogisticRegression(solver='saga'))]),\n",
              "             param_grid={'mult_lr__C': [1.0, 0.1, 0.01, 0.001],\n",
              "                         'mult_lr__l1_ratio': [0.1, 0.25, 0.5, 0.75],\n",
              "                         'mult_lr__penalty': ['l1', 'l2']})"
            ]
          },
          "metadata": {},
          "execution_count": 44
        }
      ]
    },
    {
      "cell_type": "markdown",
      "source": [
        "самые оптимальные параметры"
      ],
      "metadata": {
        "id": "rCupP94Cahf4"
      }
    },
    {
      "cell_type": "code",
      "source": [
        "print(grid_mult_pipe0.best_params_)"
      ],
      "metadata": {
        "colab": {
          "base_uri": "https://localhost:8080/"
        },
        "id": "D8fUwOwm7Z65",
        "outputId": "d2346eff-1eb0-42a0-9f14-f239e7a12597"
      },
      "execution_count": null,
      "outputs": [
        {
          "output_type": "stream",
          "name": "stdout",
          "text": [
            "{'mult_lr__C': 1.0, 'mult_lr__l1_ratio': 0.1, 'mult_lr__penalty': 'l1'}\n"
          ]
        }
      ]
    },
    {
      "cell_type": "code",
      "source": [
        "print(grid_mult_pipe0.best_estimator_)"
      ],
      "metadata": {
        "colab": {
          "base_uri": "https://localhost:8080/"
        },
        "id": "SKGSAhqg7jr-",
        "outputId": "d158c627-df9d-4cac-dea1-66b134349b3c"
      },
      "execution_count": null,
      "outputs": [
        {
          "output_type": "stream",
          "name": "stdout",
          "text": [
            "Pipeline(steps=[('one_hot_encoder_',\n",
            "                 OneHotEncoder(cols=['Make', 'Model', 'Style', 'Fuel_type'])),\n",
            "                ('scaler_', <__main__.CustomScaler object at 0x7f2cd19156a0>),\n",
            "                ('mult_lr',\n",
            "                 LogisticRegression(l1_ratio=0.1, penalty='l1',\n",
            "                                    solver='saga'))])\n"
          ]
        }
      ]
    },
    {
      "cell_type": "code",
      "source": [
        "grid_mult_pipe0.best_estimator_.get_params()"
      ],
      "metadata": {
        "colab": {
          "base_uri": "https://localhost:8080/"
        },
        "id": "zr2InIAV7r7h",
        "outputId": "b30f8893-fb92-4e95-849d-4e449969986c"
      },
      "execution_count": null,
      "outputs": [
        {
          "output_type": "execute_result",
          "data": {
            "text/plain": [
              "{'memory': None,\n",
              " 'steps': [('one_hot_encoder_',\n",
              "   OneHotEncoder(cols=['Make', 'Model', 'Style', 'Fuel_type'])),\n",
              "  ('scaler_', <__main__.CustomScaler at 0x7f2cd19156a0>),\n",
              "  ('mult_lr', LogisticRegression(l1_ratio=0.1, penalty='l1', solver='saga'))],\n",
              " 'verbose': False,\n",
              " 'one_hot_encoder_': OneHotEncoder(cols=['Make', 'Model', 'Style', 'Fuel_type']),\n",
              " 'scaler_': <__main__.CustomScaler at 0x7f2cd19156a0>,\n",
              " 'mult_lr': LogisticRegression(l1_ratio=0.1, penalty='l1', solver='saga'),\n",
              " 'one_hot_encoder___cols': ['Make', 'Model', 'Style', 'Fuel_type'],\n",
              " 'one_hot_encoder___drop_invariant': False,\n",
              " 'one_hot_encoder___handle_missing': 'value',\n",
              " 'one_hot_encoder___handle_unknown': 'value',\n",
              " 'one_hot_encoder___return_df': True,\n",
              " 'one_hot_encoder___use_cat_names': False,\n",
              " 'one_hot_encoder___verbose': 0,\n",
              " 'mult_lr__C': 1.0,\n",
              " 'mult_lr__class_weight': None,\n",
              " 'mult_lr__dual': False,\n",
              " 'mult_lr__fit_intercept': True,\n",
              " 'mult_lr__intercept_scaling': 1,\n",
              " 'mult_lr__l1_ratio': 0.1,\n",
              " 'mult_lr__max_iter': 100,\n",
              " 'mult_lr__multi_class': 'auto',\n",
              " 'mult_lr__n_jobs': None,\n",
              " 'mult_lr__penalty': 'l1',\n",
              " 'mult_lr__random_state': None,\n",
              " 'mult_lr__solver': 'saga',\n",
              " 'mult_lr__tol': 0.0001,\n",
              " 'mult_lr__verbose': 0,\n",
              " 'mult_lr__warm_start': False}"
            ]
          },
          "metadata": {},
          "execution_count": 48
        }
      ]
    },
    {
      "cell_type": "code",
      "source": [
        "accuracies6 = {\n",
        "    'train accuracy': grid_mult_pipe0.score(X_train, y_train),\n",
        "    'test accuracy': grid_mult_pipe0.score(X_test, y_test)\n",
        "}\n",
        "\n",
        "print(*accuracies6.items())"
      ],
      "metadata": {
        "colab": {
          "base_uri": "https://localhost:8080/"
        },
        "id": "JIXK7ipM71h2",
        "outputId": "56a44f51-0c74-4804-9d02-1da769f6a623"
      },
      "execution_count": null,
      "outputs": [
        {
          "output_type": "stream",
          "name": "stdout",
          "text": [
            "('train accuracy', 0.8552483891082935) ('test accuracy', 0.8584611547574511)\n"
          ]
        }
      ]
    },
    {
      "cell_type": "code",
      "source": [
        "y0_train = (y_train == 0)\n",
        "y1_train = (y_train == 1)"
      ],
      "metadata": {
        "id": "ZOg8P9kq8HMy"
      },
      "execution_count": null,
      "outputs": []
    },
    {
      "cell_type": "code",
      "source": [
        "def onevsall3(X_train, y_train, X_test, y_test):\n",
        "\n",
        "    y0_train = (y_train == 0)\n",
        "    y1_train = (y_train == 1)\n",
        "    \n",
        "\n",
        "    mult_pipe0 = Pipeline([\n",
        "    ('one_hot_encoder_', OneHotEncoder(cols=binary_cols+cat_cols)),\n",
        "    ('scaler_', CustomScaler(list(num_cols))),\n",
        "    #('scaler_', StandardScaler()),\n",
        "    ('mult_lr', LogisticRegression(solver='saga'))\n",
        "    ])\n",
        "\n",
        "    params = {\n",
        "        'mult_lr__C': [1.0, 1e-1, 1e-2, 1e-3],\n",
        "        'mult_lr__penalty': ['l1', 'l2'],\n",
        "        'mult_lr__l1_ratio': [0.10, 0.25, 0.5, 0.75]\n",
        "    }\n",
        "\n",
        "    grid_mult_pipe0 = GridSearchCV(\n",
        "        mult_pipe0,\n",
        "        params,\n",
        "        cv=3\n",
        "    )\n",
        "\n",
        "    mult_pipe1 = Pipeline([\n",
        "    ('one_hot_encoder_', OneHotEncoder(cols=binary_cols+cat_cols)),\n",
        "    ('scaler_', CustomScaler(list(num_cols))),\n",
        "    #('scaler_', StandardScaler()),\n",
        "    ('mult_lr', LogisticRegression(solver='saga'))\n",
        "    ])\n",
        "\n",
        "    grid_mult_pipe1 = GridSearchCV(\n",
        "        mult_pipe1,\n",
        "        params,\n",
        "        cv=3\n",
        "    )\n",
        "\n",
        "\n",
        "    grid_mult_pipe0.fit(X_train, y0_train)\n",
        "    grid_mult_pipe1.fit(X_train, y1_train)\n",
        "    \n",
        "\n",
        "    predict_proba_pipe0 = grid_mult_pipe0.best_estimator_.predict_proba(X_test)\n",
        "    predict_proba_pipe1 = grid_mult_pipe1.best_estimator_.predict_proba(X_test)\n",
        "    \n",
        "    df_result_proba_test = pd.DataFrame(\n",
        "    {\n",
        "        'class_0': predict_proba_pipe0[:, 1],\n",
        "        'class_1': predict_proba_pipe1[:, 1]\n",
        "    })\n",
        "\n",
        "    return (\n",
        "            df_result_proba_test.idxmax(axis=1)\n",
        "            .replace({\n",
        "                'class_0': 0,\n",
        "                'class_1': 1\n",
        "                \n",
        "            }))"
      ],
      "metadata": {
        "id": "biFVwULY8MUp"
      },
      "execution_count": null,
      "outputs": []
    },
    {
      "cell_type": "code",
      "source": [
        "test_predict_onevsall = onevsall3(X_train, y_train, X_test, y_test)"
      ],
      "metadata": {
        "id": "wAPBFgfP8wHy"
      },
      "execution_count": null,
      "outputs": []
    },
    {
      "cell_type": "code",
      "source": [
        "print(classification_report(y_test, test_predict_onevsall))"
      ],
      "metadata": {
        "colab": {
          "base_uri": "https://localhost:8080/"
        },
        "id": "7RUsWbvjB1eu",
        "outputId": "286e1848-72ac-411a-9ca7-d78ee55a5b25"
      },
      "execution_count": null,
      "outputs": [
        {
          "output_type": "stream",
          "name": "stdout",
          "text": [
            "              precision    recall  f1-score   support\n",
            "\n",
            "           0       0.85      0.90      0.87      4374\n",
            "           1       0.87      0.81      0.84      3645\n",
            "\n",
            "    accuracy                           0.86      8019\n",
            "   macro avg       0.86      0.85      0.86      8019\n",
            "weighted avg       0.86      0.86      0.86      8019\n",
            "\n"
          ]
        }
      ]
    },
    {
      "cell_type": "code",
      "source": [],
      "metadata": {
        "id": "0PKjL6HMCStH"
      },
      "execution_count": null,
      "outputs": []
    }
  ]
}