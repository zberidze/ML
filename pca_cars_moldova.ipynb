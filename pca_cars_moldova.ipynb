{
  "nbformat": 4,
  "nbformat_minor": 0,
  "metadata": {
    "colab": {
      "provenance": []
    },
    "kernelspec": {
      "name": "python3",
      "display_name": "Python 3"
    },
    "language_info": {
      "name": "python"
    }
  },
  "cells": [
    {
      "cell_type": "code",
      "source": [
        "\n",
        "import pandas as pd\n",
        "import numpy as np\n",
        "import seaborn as sns\n",
        "import matplotlib.pyplot as plt\n",
        "%matplotlib inline \n",
        "\n",
        "from sklearn.pipeline import Pipeline\n",
        "from sklearn.preprocessing import PolynomialFeatures\n",
        "from sklearn.preprocessing import StandardScaler\n",
        "from sklearn.model_selection import train_test_split\n",
        "from sklearn.decomposition import PCA\n",
        "from sklearn import linear_model\n",
        "from sklearn import metrics\n",
        "\n",
        "from sklearn.linear_model import LogisticRegression\n",
        "from sklearn.metrics import classification_report\n",
        "from sklearn.model_selection import train_test_split\n",
        "from sklearn.model_selection import GridSearchCV\n",
        "from sklearn.multiclass import OneVsRestClassifier\n",
        "from sklearn.metrics import classification_report\n",
        "#from sklearn.model_selection import StratifiedKFold\n",
        "from sklearn.metrics import confusion_matrix\n",
        "from sklearn.metrics import accuracy_score as acc\n",
        "from sklearn.metrics import f1_score as f1\n",
        "from sklearn.impute import SimpleImputer\n",
        "from sklearn.compose import ColumnTransformer\n",
        "\n",
        "from sklearn.ensemble import GradientBoostingRegressor\n",
        "from sklearn.linear_model import LinearRegression\n",
        "from sklearn.linear_model import SGDRegressor\n",
        "\n",
        "from sklearn.metrics import mean_absolute_error, mean_squared_error, r2_score \n",
        "import scipy.stats as stats\n",
        "     "
      ],
      "metadata": {
        "id": "8jYdJPE0YBjR"
      },
      "execution_count": 1,
      "outputs": []
    },
    {
      "cell_type": "code",
      "source": [
        "\n",
        "!pip install category_encoders\n",
        "from category_encoders.ordinal import OrdinalEncoder\n",
        "from category_encoders.one_hot import OneHotEncoder\n",
        "from category_encoders.target_encoder import TargetEncoder"
      ],
      "metadata": {
        "colab": {
          "base_uri": "https://localhost:8080/"
        },
        "id": "HPQkkJBKYSsS",
        "outputId": "0b1df9d9-dd11-4a5a-8d32-74ac777e02e8"
      },
      "execution_count": 2,
      "outputs": [
        {
          "output_type": "stream",
          "name": "stdout",
          "text": [
            "Looking in indexes: https://pypi.org/simple, https://us-python.pkg.dev/colab-wheels/public/simple/\n",
            "Requirement already satisfied: category_encoders in /usr/local/lib/python3.8/dist-packages (2.6.0)\n",
            "Requirement already satisfied: numpy>=1.14.0 in /usr/local/lib/python3.8/dist-packages (from category_encoders) (1.21.6)\n",
            "Requirement already satisfied: patsy>=0.5.1 in /usr/local/lib/python3.8/dist-packages (from category_encoders) (0.5.3)\n",
            "Requirement already satisfied: pandas>=1.0.5 in /usr/local/lib/python3.8/dist-packages (from category_encoders) (1.3.5)\n",
            "Requirement already satisfied: scikit-learn>=0.20.0 in /usr/local/lib/python3.8/dist-packages (from category_encoders) (1.0.2)\n",
            "Requirement already satisfied: statsmodels>=0.9.0 in /usr/local/lib/python3.8/dist-packages (from category_encoders) (0.12.2)\n",
            "Requirement already satisfied: scipy>=1.0.0 in /usr/local/lib/python3.8/dist-packages (from category_encoders) (1.7.3)\n",
            "Requirement already satisfied: pytz>=2017.3 in /usr/local/lib/python3.8/dist-packages (from pandas>=1.0.5->category_encoders) (2022.7.1)\n",
            "Requirement already satisfied: python-dateutil>=2.7.3 in /usr/local/lib/python3.8/dist-packages (from pandas>=1.0.5->category_encoders) (2.8.2)\n",
            "Requirement already satisfied: six in /usr/local/lib/python3.8/dist-packages (from patsy>=0.5.1->category_encoders) (1.15.0)\n",
            "Requirement already satisfied: threadpoolctl>=2.0.0 in /usr/local/lib/python3.8/dist-packages (from scikit-learn>=0.20.0->category_encoders) (3.1.0)\n",
            "Requirement already satisfied: joblib>=0.11 in /usr/local/lib/python3.8/dist-packages (from scikit-learn>=0.20.0->category_encoders) (1.2.0)\n"
          ]
        }
      ]
    },
    {
      "cell_type": "code",
      "source": [
        "\n",
        "df = pd.read_csv('/content/df2.csv', delimiter = ',')\n",
        "df=df.drop(\"class\",axis=1)\n",
        "df.head()"
      ],
      "metadata": {
        "colab": {
          "base_uri": "https://localhost:8080/",
          "height": 206
        },
        "id": "TDg-KEHhYT7K",
        "outputId": "ba6ad11f-ae6c-4fa3-8884-1372fe0b83ef"
      },
      "execution_count": 3,
      "outputs": [
        {
          "output_type": "execute_result",
          "data": {
            "text/plain": [
              "       Make         Model      Style  Distance  Engine_capacity(cm3)  \\\n",
              "0    Toyota         Prius  Hatchback  195000.0                1800.0   \n",
              "1   Renault  Grand Scenic  Universal  135000.0                1500.0   \n",
              "2   Renault        Laguna  Universal  110000.0                1500.0   \n",
              "3      Opel         Astra  Universal  200000.0                1600.0   \n",
              "4  Mercedes          Vito   Microvan  300000.0                2200.0   \n",
              "\n",
              "      Fuel_type Transmission  Price(euro)  Age       km_year  prestige  \n",
              "0        Hybrid    Automatic       7750.0   11  17727.272727         2  \n",
              "1        Diesel       Manual       8550.0    8  16875.000000         2  \n",
              "2        Diesel       Manual       6550.0   10  11000.000000         3  \n",
              "3  Metan/Propan       Manual       4100.0   16  12500.000000         3  \n",
              "4        Diesel       Manual       3490.0   22  13636.363636         4  "
            ],
            "text/html": [
              "\n",
              "  <div id=\"df-79a54389-1812-476e-8a2d-7b04fb1fe598\">\n",
              "    <div class=\"colab-df-container\">\n",
              "      <div>\n",
              "<style scoped>\n",
              "    .dataframe tbody tr th:only-of-type {\n",
              "        vertical-align: middle;\n",
              "    }\n",
              "\n",
              "    .dataframe tbody tr th {\n",
              "        vertical-align: top;\n",
              "    }\n",
              "\n",
              "    .dataframe thead th {\n",
              "        text-align: right;\n",
              "    }\n",
              "</style>\n",
              "<table border=\"1\" class=\"dataframe\">\n",
              "  <thead>\n",
              "    <tr style=\"text-align: right;\">\n",
              "      <th></th>\n",
              "      <th>Make</th>\n",
              "      <th>Model</th>\n",
              "      <th>Style</th>\n",
              "      <th>Distance</th>\n",
              "      <th>Engine_capacity(cm3)</th>\n",
              "      <th>Fuel_type</th>\n",
              "      <th>Transmission</th>\n",
              "      <th>Price(euro)</th>\n",
              "      <th>Age</th>\n",
              "      <th>km_year</th>\n",
              "      <th>prestige</th>\n",
              "    </tr>\n",
              "  </thead>\n",
              "  <tbody>\n",
              "    <tr>\n",
              "      <th>0</th>\n",
              "      <td>Toyota</td>\n",
              "      <td>Prius</td>\n",
              "      <td>Hatchback</td>\n",
              "      <td>195000.0</td>\n",
              "      <td>1800.0</td>\n",
              "      <td>Hybrid</td>\n",
              "      <td>Automatic</td>\n",
              "      <td>7750.0</td>\n",
              "      <td>11</td>\n",
              "      <td>17727.272727</td>\n",
              "      <td>2</td>\n",
              "    </tr>\n",
              "    <tr>\n",
              "      <th>1</th>\n",
              "      <td>Renault</td>\n",
              "      <td>Grand Scenic</td>\n",
              "      <td>Universal</td>\n",
              "      <td>135000.0</td>\n",
              "      <td>1500.0</td>\n",
              "      <td>Diesel</td>\n",
              "      <td>Manual</td>\n",
              "      <td>8550.0</td>\n",
              "      <td>8</td>\n",
              "      <td>16875.000000</td>\n",
              "      <td>2</td>\n",
              "    </tr>\n",
              "    <tr>\n",
              "      <th>2</th>\n",
              "      <td>Renault</td>\n",
              "      <td>Laguna</td>\n",
              "      <td>Universal</td>\n",
              "      <td>110000.0</td>\n",
              "      <td>1500.0</td>\n",
              "      <td>Diesel</td>\n",
              "      <td>Manual</td>\n",
              "      <td>6550.0</td>\n",
              "      <td>10</td>\n",
              "      <td>11000.000000</td>\n",
              "      <td>3</td>\n",
              "    </tr>\n",
              "    <tr>\n",
              "      <th>3</th>\n",
              "      <td>Opel</td>\n",
              "      <td>Astra</td>\n",
              "      <td>Universal</td>\n",
              "      <td>200000.0</td>\n",
              "      <td>1600.0</td>\n",
              "      <td>Metan/Propan</td>\n",
              "      <td>Manual</td>\n",
              "      <td>4100.0</td>\n",
              "      <td>16</td>\n",
              "      <td>12500.000000</td>\n",
              "      <td>3</td>\n",
              "    </tr>\n",
              "    <tr>\n",
              "      <th>4</th>\n",
              "      <td>Mercedes</td>\n",
              "      <td>Vito</td>\n",
              "      <td>Microvan</td>\n",
              "      <td>300000.0</td>\n",
              "      <td>2200.0</td>\n",
              "      <td>Diesel</td>\n",
              "      <td>Manual</td>\n",
              "      <td>3490.0</td>\n",
              "      <td>22</td>\n",
              "      <td>13636.363636</td>\n",
              "      <td>4</td>\n",
              "    </tr>\n",
              "  </tbody>\n",
              "</table>\n",
              "</div>\n",
              "      <button class=\"colab-df-convert\" onclick=\"convertToInteractive('df-79a54389-1812-476e-8a2d-7b04fb1fe598')\"\n",
              "              title=\"Convert this dataframe to an interactive table.\"\n",
              "              style=\"display:none;\">\n",
              "        \n",
              "  <svg xmlns=\"http://www.w3.org/2000/svg\" height=\"24px\"viewBox=\"0 0 24 24\"\n",
              "       width=\"24px\">\n",
              "    <path d=\"M0 0h24v24H0V0z\" fill=\"none\"/>\n",
              "    <path d=\"M18.56 5.44l.94 2.06.94-2.06 2.06-.94-2.06-.94-.94-2.06-.94 2.06-2.06.94zm-11 1L8.5 8.5l.94-2.06 2.06-.94-2.06-.94L8.5 2.5l-.94 2.06-2.06.94zm10 10l.94 2.06.94-2.06 2.06-.94-2.06-.94-.94-2.06-.94 2.06-2.06.94z\"/><path d=\"M17.41 7.96l-1.37-1.37c-.4-.4-.92-.59-1.43-.59-.52 0-1.04.2-1.43.59L10.3 9.45l-7.72 7.72c-.78.78-.78 2.05 0 2.83L4 21.41c.39.39.9.59 1.41.59.51 0 1.02-.2 1.41-.59l7.78-7.78 2.81-2.81c.8-.78.8-2.07 0-2.86zM5.41 20L4 18.59l7.72-7.72 1.47 1.35L5.41 20z\"/>\n",
              "  </svg>\n",
              "      </button>\n",
              "      \n",
              "  <style>\n",
              "    .colab-df-container {\n",
              "      display:flex;\n",
              "      flex-wrap:wrap;\n",
              "      gap: 12px;\n",
              "    }\n",
              "\n",
              "    .colab-df-convert {\n",
              "      background-color: #E8F0FE;\n",
              "      border: none;\n",
              "      border-radius: 50%;\n",
              "      cursor: pointer;\n",
              "      display: none;\n",
              "      fill: #1967D2;\n",
              "      height: 32px;\n",
              "      padding: 0 0 0 0;\n",
              "      width: 32px;\n",
              "    }\n",
              "\n",
              "    .colab-df-convert:hover {\n",
              "      background-color: #E2EBFA;\n",
              "      box-shadow: 0px 1px 2px rgba(60, 64, 67, 0.3), 0px 1px 3px 1px rgba(60, 64, 67, 0.15);\n",
              "      fill: #174EA6;\n",
              "    }\n",
              "\n",
              "    [theme=dark] .colab-df-convert {\n",
              "      background-color: #3B4455;\n",
              "      fill: #D2E3FC;\n",
              "    }\n",
              "\n",
              "    [theme=dark] .colab-df-convert:hover {\n",
              "      background-color: #434B5C;\n",
              "      box-shadow: 0px 1px 3px 1px rgba(0, 0, 0, 0.15);\n",
              "      filter: drop-shadow(0px 1px 2px rgba(0, 0, 0, 0.3));\n",
              "      fill: #FFFFFF;\n",
              "    }\n",
              "  </style>\n",
              "\n",
              "      <script>\n",
              "        const buttonEl =\n",
              "          document.querySelector('#df-79a54389-1812-476e-8a2d-7b04fb1fe598 button.colab-df-convert');\n",
              "        buttonEl.style.display =\n",
              "          google.colab.kernel.accessAllowed ? 'block' : 'none';\n",
              "\n",
              "        async function convertToInteractive(key) {\n",
              "          const element = document.querySelector('#df-79a54389-1812-476e-8a2d-7b04fb1fe598');\n",
              "          const dataTable =\n",
              "            await google.colab.kernel.invokeFunction('convertToInteractive',\n",
              "                                                     [key], {});\n",
              "          if (!dataTable) return;\n",
              "\n",
              "          const docLinkHtml = 'Like what you see? Visit the ' +\n",
              "            '<a target=\"_blank\" href=https://colab.research.google.com/notebooks/data_table.ipynb>data table notebook</a>'\n",
              "            + ' to learn more about interactive tables.';\n",
              "          element.innerHTML = '';\n",
              "          dataTable['output_type'] = 'display_data';\n",
              "          await google.colab.output.renderOutput(dataTable, element);\n",
              "          const docLink = document.createElement('div');\n",
              "          docLink.innerHTML = docLinkHtml;\n",
              "          element.appendChild(docLink);\n",
              "        }\n",
              "      </script>\n",
              "    </div>\n",
              "  </div>\n",
              "  "
            ]
          },
          "metadata": {},
          "execution_count": 3
        }
      ]
    },
    {
      "cell_type": "code",
      "source": [
        "\n",
        "X = df.drop('Price(euro)', axis=1)\n",
        "y = df[\"Price(euro)\"] \n"
      ],
      "metadata": {
        "id": "jVli00dtohyg"
      },
      "execution_count": 4,
      "outputs": []
    },
    {
      "cell_type": "code",
      "source": [
        "numerical_features = X.select_dtypes(include=['int64', 'float64']).columns.tolist()\n",
        "categorical_features = X.select_dtypes(include=['object']).columns.tolist()"
      ],
      "metadata": {
        "id": "N4lchGDAZBPc"
      },
      "execution_count": 5,
      "outputs": []
    },
    {
      "cell_type": "code",
      "source": [
        "display(categorical_features)\n",
        "display(numerical_features)"
      ],
      "metadata": {
        "colab": {
          "base_uri": "https://localhost:8080/",
          "height": 52
        },
        "id": "MVxnq1bsZPfk",
        "outputId": "7680b5d4-16af-4430-9822-6e0977e2a139"
      },
      "execution_count": 6,
      "outputs": [
        {
          "output_type": "display_data",
          "data": {
            "text/plain": [
              "['Make', 'Model', 'Style', 'Fuel_type', 'Transmission']"
            ]
          },
          "metadata": {}
        },
        {
          "output_type": "display_data",
          "data": {
            "text/plain": [
              "['Distance', 'Engine_capacity(cm3)', 'Age', 'km_year', 'prestige']"
            ]
          },
          "metadata": {}
        }
      ]
    },
    {
      "cell_type": "code",
      "source": [
        "numerical_transformer = Pipeline([('scaler',StandardScaler())])\n",
        "\n",
        "ct = ColumnTransformer([('num_transformer', numerical_transformer, numerical_features),\n",
        "                          ('encoder', OrdinalEncoder(), categorical_features)\n",
        "                         ])\n",
        "  # Main pipeline for fitting.\n",
        "pipeline = Pipeline([('column_transformer', ct)])"
      ],
      "metadata": {
        "id": "UxR1ZmNAmyp5"
      },
      "execution_count": 7,
      "outputs": []
    },
    {
      "cell_type": "code",
      "source": [
        "numerical_transformer = Pipeline([('poly_features', PolynomialFeatures(degree=2)),\n",
        "                                  ('scaler',StandardScaler()) ])\n",
        "categorical_transformer = Pipeline(steps=[ ('onehot', OrdinalEncoder(handle_unknown='ignore'))])\n",
        "\n",
        "preprocessor_pipeline = ColumnTransformer(transformers=[\n",
        "    ('num', numerical_transformer, numerical_features),\n",
        "    ('cat', categorical_transformer, categorical_features)\n",
        "])\n",
        "\n",
        "\n"
      ],
      "metadata": {
        "id": "yMU7seikpD82"
      },
      "execution_count": 8,
      "outputs": []
    },
    {
      "cell_type": "code",
      "source": [
        "def fit_lineer_regersion(X, y, print_output=True):\n",
        "\n",
        "  X_train, X_test, y_train, y_test = train_test_split(X, y, test_size=0.25, random_state=42)\n",
        "\n",
        "  X_train=pipeline.fit_transform(X_train)\n",
        "  X_test=pipeline.transform(X_test)\n",
        "\n",
        "  regr = LinearRegression()\n",
        "  regr.fit(X_train, y_train)\n",
        "\n",
        "  y_preds = regr.predict(X_test)\n",
        "  R2=r2_score(y_test, y_preds)\n",
        "    \n",
        "  return R2"
      ],
      "metadata": {
        "id": "9gCdQpcDv5mF"
      },
      "execution_count": 10,
      "outputs": []
    },
    {
      "cell_type": "code",
      "source": [
        "fit_lineer_regersion(X,y)"
      ],
      "metadata": {
        "colab": {
          "base_uri": "https://localhost:8080/"
        },
        "id": "RABEcWvMN8EF",
        "outputId": "766724fa-f9bc-44f0-f63b-4af77d22a748"
      },
      "execution_count": 11,
      "outputs": [
        {
          "output_type": "execute_result",
          "data": {
            "text/plain": [
              "0.5889841541981506"
            ]
          },
          "metadata": {},
          "execution_count": 11
        }
      ]
    },
    {
      "cell_type": "code",
      "source": [
        "def Polynom_lineer_regersion(X, y, print_output=True):\n",
        "\n",
        "  X_train, X_test, y_train, y_test = train_test_split(X, y, test_size=0.25, random_state=42)\n",
        "\n",
        "  X_train=preprocessor_pipeline.fit_transform(X_train)\n",
        "  X_test=preprocessor_pipeline.transform(X_test)\n",
        "\n",
        "  regr = LinearRegression()\n",
        "  regr.fit(X_train, y_train)\n",
        "\n",
        "  y_preds = regr.predict(X_test)\n",
        "  R2=r2_score(y_test, y_preds)\n",
        "    \n",
        "  return R2"
      ],
      "metadata": {
        "id": "fKlSYGJRPUae"
      },
      "execution_count": 12,
      "outputs": []
    },
    {
      "cell_type": "code",
      "source": [
        "Polynom_lineer_regersion(X,y)"
      ],
      "metadata": {
        "colab": {
          "base_uri": "https://localhost:8080/"
        },
        "id": "1ubP9WeFRXkZ",
        "outputId": "d696e0bb-2a86-47d4-fb5e-a557efbed343"
      },
      "execution_count": 13,
      "outputs": [
        {
          "output_type": "execute_result",
          "data": {
            "text/plain": [
              "0.7458317695804152"
            ]
          },
          "metadata": {},
          "execution_count": 13
        }
      ]
    },
    {
      "cell_type": "code",
      "source": [
        "X.shape[1]"
      ],
      "metadata": {
        "colab": {
          "base_uri": "https://localhost:8080/"
        },
        "id": "2uNIw6DHTWyB",
        "outputId": "f81f5ca7-548d-4743-b4b0-f28719234b79"
      },
      "execution_count": 14,
      "outputs": [
        {
          "output_type": "execute_result",
          "data": {
            "text/plain": [
              "10"
            ]
          },
          "metadata": {},
          "execution_count": 14
        }
      ]
    },
    {
      "cell_type": "code",
      "source": [
        "transformed=pipeline.fit_transform(X)\n"
      ],
      "metadata": {
        "id": "pgm7vgqlTr0a"
      },
      "execution_count": 15,
      "outputs": []
    },
    {
      "cell_type": "code",
      "source": [
        "pca=PCA(n_components=10)\n",
        "pca.fit(transformed)"
      ],
      "metadata": {
        "colab": {
          "base_uri": "https://localhost:8080/"
        },
        "id": "WdcxKuXXTNML",
        "outputId": "5f16f63e-6541-4566-f519-fffadbb9f9fb"
      },
      "execution_count": 16,
      "outputs": [
        {
          "output_type": "execute_result",
          "data": {
            "text/plain": [
              "PCA(n_components=10)"
            ]
          },
          "metadata": {},
          "execution_count": 16
        }
      ]
    },
    {
      "cell_type": "code",
      "source": [
        "pca.explained_variance_ratio_.cumsum()"
      ],
      "metadata": {
        "colab": {
          "base_uri": "https://localhost:8080/"
        },
        "id": "LIjuTrre6lvn",
        "outputId": "0231ba73-bb16-43e9-a0d0-78a38eb3c2f8"
      },
      "execution_count": 17,
      "outputs": [
        {
          "output_type": "execute_result",
          "data": {
            "text/plain": [
              "array([0.91215727, 0.9899669 , 0.9948182 , 0.9966624 , 0.9979812 ,\n",
              "       0.99885175, 0.99958714, 0.99978591, 0.99990332, 1.        ])"
            ]
          },
          "metadata": {},
          "execution_count": 17
        }
      ]
    },
    {
      "cell_type": "code",
      "source": [
        "def scree_plot(pca):\n",
        "    num_components = len(pca.explained_variance_ratio_)\n",
        "    ind = np.arange(num_components)\n",
        "    vals = pca.explained_variance_ratio_\n",
        " \n",
        "    plt.figure(figsize=(20, 6))\n",
        "    ax = plt.subplot(111)\n",
        "    cumvals = np.cumsum(vals)\n",
        "    ax.bar(ind, vals)\n",
        "    ax.plot(ind, cumvals)\n",
        "    for i in range(num_components):\n",
        "        ax.annotate(r\"%s%%\" % ((str(round(vals[i]*100,1))[:3])), (ind[i]+0.2, vals[i]), \n",
        "                    va=\"bottom\", \n",
        "                    ha=\"center\", \n",
        "                    fontsize=12)\n",
        " \n",
        "    ax.xaxis.set_tick_params(width=0)\n",
        "    ax.yaxis.set_tick_params(width=1, length=6)\n",
        " \n",
        "    ax.set_xlabel(\"Principal Component\")\n",
        "    ax.set_ylabel(\"Variance Explained (%)\")\n",
        "    plt.title('Explained Variance Per Principal Component')\n",
        "scree_plot(pca)"
      ],
      "metadata": {
        "colab": {
          "base_uri": "https://localhost:8080/",
          "height": 404
        },
        "id": "aiT3GRwdS1mr",
        "outputId": "719cc1ac-d7c1-42ec-b5f3-1c05f899e431"
      },
      "execution_count": 18,
      "outputs": [
        {
          "output_type": "display_data",
          "data": {
            "text/plain": [
              "<Figure size 1440x432 with 1 Axes>"
            ],
            "image/png": "[encoded data removed]"
          },
          "metadata": {
            "needs_background": "light"
          }
        }
      ]
    },
    {
      "cell_type": "code",
      "source": [
        "cum_exp_var = []\n",
        "var_exp = 0\n",
        "for i in pca.explained_variance_ratio_:\n",
        "    var_exp += i\n",
        "    cum_exp_var.append(var_exp)\n",
        "\n",
        "# Plot cumulative explained variance for all PCs\n",
        "\n",
        "fig, ax = plt.subplots(figsize=(8,6))\n",
        "ax.bar(range(1,11), cum_exp_var)\n",
        "ax.set_xlabel('# Principal Components')\n",
        "ax.set_ylabel('% Cumulative Variance Explained');"
      ],
      "metadata": {
        "colab": {
          "base_uri": "https://localhost:8080/",
          "height": 388
        },
        "id": "B1r-Jt8BUoRw",
        "outputId": "620d66dd-7cad-4695-828a-0f67165f3cfc"
      },
      "execution_count": 19,
      "outputs": [
        {
          "output_type": "display_data",
          "data": {
            "text/plain": [
              "<Figure size 576x432 with 1 Axes>"
            ],
            "image/png": "[encoded data removed]"
          },
          "metadata": {
            "needs_background": "light"
          }
        }
      ]
    },
    {
      "cell_type": "code",
      "source": [
        "#Selecting the Right Number of Dimensions\n",
        "def get_pca_components(pca, var):\n",
        "    cumm_var = pca.explained_variance_ratio_\n",
        "    total_var = 0.\n",
        "    N_COMPONENTS = 0\n",
        "    for i in cumm_var:\n",
        "        N_COMPONENTS += 1\n",
        "        total_var += i\n",
        "        if total_var >= var:\n",
        "            break\n",
        "    return N_COMPONENTS"
      ],
      "metadata": {
        "id": "mRU0_wWsU5BX"
      },
      "execution_count": 20,
      "outputs": []
    },
    {
      "cell_type": "code",
      "source": [
        "pca = PCA().fit(transformed)\n",
        "n_components = get_pca_components(pca, 0.95)"
      ],
      "metadata": {
        "id": "04NG7niRU9Vk"
      },
      "execution_count": 21,
      "outputs": []
    },
    {
      "cell_type": "code",
      "source": [
        "n_components"
      ],
      "metadata": {
        "colab": {
          "base_uri": "https://localhost:8080/"
        },
        "id": "P9-Gsy_aSu9X",
        "outputId": "7a3d84ed-f693-4b95-dcd6-aac743552411"
      },
      "execution_count": 22,
      "outputs": [
        {
          "output_type": "execute_result",
          "data": {
            "text/plain": [
              "2"
            ]
          },
          "metadata": {},
          "execution_count": 22
        }
      ]
    },
    {
      "cell_type": "code",
      "source": [
        "pca = PCA(n_components=n_components)\n",
        "X_d = pca.fit_transform(transformed)"
      ],
      "metadata": {
        "id": "qfTT2-JEVH3S"
      },
      "execution_count": 23,
      "outputs": []
    },
    {
      "cell_type": "code",
      "source": [
        "transformed.shape"
      ],
      "metadata": {
        "colab": {
          "base_uri": "https://localhost:8080/"
        },
        "id": "KHqWAo7iVVGF",
        "outputId": "e4f87398-1960-4d07-a554-e8b9a17934db"
      },
      "execution_count": 24,
      "outputs": [
        {
          "output_type": "execute_result",
          "data": {
            "text/plain": [
              "(32074, 10)"
            ]
          },
          "metadata": {},
          "execution_count": 24
        }
      ]
    },
    {
      "cell_type": "code",
      "source": [
        "X_d.shape"
      ],
      "metadata": {
        "colab": {
          "base_uri": "https://localhost:8080/"
        },
        "id": "CNRvIo2pVN8-",
        "outputId": "e8912f71-e9e9-44ca-a1bb-549a6b32d8cf"
      },
      "execution_count": 25,
      "outputs": [
        {
          "output_type": "execute_result",
          "data": {
            "text/plain": [
              "(32074, 2)"
            ]
          },
          "metadata": {},
          "execution_count": 25
        }
      ]
    },
    {
      "cell_type": "code",
      "source": [
        "pca.explained_variance_ratio_"
      ],
      "metadata": {
        "colab": {
          "base_uri": "https://localhost:8080/"
        },
        "id": "RpZYnZo0ewJl",
        "outputId": "05d8acdf-6efa-4f32-c240-6dbaa17dd1cb"
      },
      "execution_count": 26,
      "outputs": [
        {
          "output_type": "execute_result",
          "data": {
            "text/plain": [
              "array([0.91215727, 0.07780964])"
            ]
          },
          "metadata": {},
          "execution_count": 26
        }
      ]
    },
    {
      "cell_type": "code",
      "source": [
        " \n",
        "pca_df = pd.DataFrame(\n",
        "    data=X_d, \n",
        "    columns=['PC1', 'PC2'])\n",
        "pca_df['target'] = y\n",
        "pca_df['target'] = pca_df['target']\n",
        " \n",
        "pca_df"
      ],
      "metadata": {
        "colab": {
          "base_uri": "https://localhost:8080/",
          "height": 424
        },
        "id": "INmd67eNbzov",
        "outputId": "432da464-53ed-4055-91c5-e6a2368acb98"
      },
      "execution_count": 27,
      "outputs": [
        {
          "output_type": "execute_result",
          "data": {
            "text/plain": [
              "             PC1        PC2   target\n",
              "0     -35.802299  -9.529742   7750.0\n",
              "1     -34.778922  -8.504196   8550.0\n",
              "2     -33.783782  -8.500987   6550.0\n",
              "3     -32.774897  -7.512393   4100.0\n",
              "4     -31.759470  -6.559245   3490.0\n",
              "...          ...        ...      ...\n",
              "32069 -30.710133  -5.505361  11500.0\n",
              "32070  17.640148  16.717640   4400.0\n",
              "32071  64.439817   4.954394   7000.0\n",
              "32072 -25.407006  12.347814   4000.0\n",
              "32073 -34.747480  -8.489942   4000.0\n",
              "\n",
              "[32074 rows x 3 columns]"
            ],
            "text/html": [
              "\n",
              "  <div id=\"df-9a6fcfaa-e466-448c-8aff-43ccad548e55\">\n",
              "    <div class=\"colab-df-container\">\n",
              "      <div>\n",
              "<style scoped>\n",
              "    .dataframe tbody tr th:only-of-type {\n",
              "        vertical-align: middle;\n",
              "    }\n",
              "\n",
              "    .dataframe tbody tr th {\n",
              "        vertical-align: top;\n",
              "    }\n",
              "\n",
              "    .dataframe thead th {\n",
              "        text-align: right;\n",
              "    }\n",
              "</style>\n",
              "<table border=\"1\" class=\"dataframe\">\n",
              "  <thead>\n",
              "    <tr style=\"text-align: right;\">\n",
              "      <th></th>\n",
              "      <th>PC1</th>\n",
              "      <th>PC2</th>\n",
              "      <th>target</th>\n",
              "    </tr>\n",
              "  </thead>\n",
              "  <tbody>\n",
              "    <tr>\n",
              "      <th>0</th>\n",
              "      <td>-35.802299</td>\n",
              "      <td>-9.529742</td>\n",
              "      <td>7750.0</td>\n",
              "    </tr>\n",
              "    <tr>\n",
              "      <th>1</th>\n",
              "      <td>-34.778922</td>\n",
              "      <td>-8.504196</td>\n",
              "      <td>8550.0</td>\n",
              "    </tr>\n",
              "    <tr>\n",
              "      <th>2</th>\n",
              "      <td>-33.783782</td>\n",
              "      <td>-8.500987</td>\n",
              "      <td>6550.0</td>\n",
              "    </tr>\n",
              "    <tr>\n",
              "      <th>3</th>\n",
              "      <td>-32.774897</td>\n",
              "      <td>-7.512393</td>\n",
              "      <td>4100.0</td>\n",
              "    </tr>\n",
              "    <tr>\n",
              "      <th>4</th>\n",
              "      <td>-31.759470</td>\n",
              "      <td>-6.559245</td>\n",
              "      <td>3490.0</td>\n",
              "    </tr>\n",
              "    <tr>\n",
              "      <th>...</th>\n",
              "      <td>...</td>\n",
              "      <td>...</td>\n",
              "      <td>...</td>\n",
              "    </tr>\n",
              "    <tr>\n",
              "      <th>32069</th>\n",
              "      <td>-30.710133</td>\n",
              "      <td>-5.505361</td>\n",
              "      <td>11500.0</td>\n",
              "    </tr>\n",
              "    <tr>\n",
              "      <th>32070</th>\n",
              "      <td>17.640148</td>\n",
              "      <td>16.717640</td>\n",
              "      <td>4400.0</td>\n",
              "    </tr>\n",
              "    <tr>\n",
              "      <th>32071</th>\n",
              "      <td>64.439817</td>\n",
              "      <td>4.954394</td>\n",
              "      <td>7000.0</td>\n",
              "    </tr>\n",
              "    <tr>\n",
              "      <th>32072</th>\n",
              "      <td>-25.407006</td>\n",
              "      <td>12.347814</td>\n",
              "      <td>4000.0</td>\n",
              "    </tr>\n",
              "    <tr>\n",
              "      <th>32073</th>\n",
              "      <td>-34.747480</td>\n",
              "      <td>-8.489942</td>\n",
              "      <td>4000.0</td>\n",
              "    </tr>\n",
              "  </tbody>\n",
              "</table>\n",
              "<p>32074 rows × 3 columns</p>\n",
              "</div>\n",
              "      <button class=\"colab-df-convert\" onclick=\"convertToInteractive('df-9a6fcfaa-e466-448c-8aff-43ccad548e55')\"\n",
              "              title=\"Convert this dataframe to an interactive table.\"\n",
              "              style=\"display:none;\">\n",
              "        \n",
              "  <svg xmlns=\"http://www.w3.org/2000/svg\" height=\"24px\"viewBox=\"0 0 24 24\"\n",
              "       width=\"24px\">\n",
              "    <path d=\"M0 0h24v24H0V0z\" fill=\"none\"/>\n",
              "    <path d=\"M18.56 5.44l.94 2.06.94-2.06 2.06-.94-2.06-.94-.94-2.06-.94 2.06-2.06.94zm-11 1L8.5 8.5l.94-2.06 2.06-.94-2.06-.94L8.5 2.5l-.94 2.06-2.06.94zm10 10l.94 2.06.94-2.06 2.06-.94-2.06-.94-.94-2.06-.94 2.06-2.06.94z\"/><path d=\"M17.41 7.96l-1.37-1.37c-.4-.4-.92-.59-1.43-.59-.52 0-1.04.2-1.43.59L10.3 9.45l-7.72 7.72c-.78.78-.78 2.05 0 2.83L4 21.41c.39.39.9.59 1.41.59.51 0 1.02-.2 1.41-.59l7.78-7.78 2.81-2.81c.8-.78.8-2.07 0-2.86zM5.41 20L4 18.59l7.72-7.72 1.47 1.35L5.41 20z\"/>\n",
              "  </svg>\n",
              "      </button>\n",
              "      \n",
              "  <style>\n",
              "    .colab-df-container {\n",
              "      display:flex;\n",
              "      flex-wrap:wrap;\n",
              "      gap: 12px;\n",
              "    }\n",
              "\n",
              "    .colab-df-convert {\n",
              "      background-color: #E8F0FE;\n",
              "      border: none;\n",
              "      border-radius: 50%;\n",
              "      cursor: pointer;\n",
              "      display: none;\n",
              "      fill: #1967D2;\n",
              "      height: 32px;\n",
              "      padding: 0 0 0 0;\n",
              "      width: 32px;\n",
              "    }\n",
              "\n",
              "    .colab-df-convert:hover {\n",
              "      background-color: #E2EBFA;\n",
              "      box-shadow: 0px 1px 2px rgba(60, 64, 67, 0.3), 0px 1px 3px 1px rgba(60, 64, 67, 0.15);\n",
              "      fill: #174EA6;\n",
              "    }\n",
              "\n",
              "    [theme=dark] .colab-df-convert {\n",
              "      background-color: #3B4455;\n",
              "      fill: #D2E3FC;\n",
              "    }\n",
              "\n",
              "    [theme=dark] .colab-df-convert:hover {\n",
              "      background-color: #434B5C;\n",
              "      box-shadow: 0px 1px 3px 1px rgba(0, 0, 0, 0.15);\n",
              "      filter: drop-shadow(0px 1px 2px rgba(0, 0, 0, 0.3));\n",
              "      fill: #FFFFFF;\n",
              "    }\n",
              "  </style>\n",
              "\n",
              "      <script>\n",
              "        const buttonEl =\n",
              "          document.querySelector('#df-9a6fcfaa-e466-448c-8aff-43ccad548e55 button.colab-df-convert');\n",
              "        buttonEl.style.display =\n",
              "          google.colab.kernel.accessAllowed ? 'block' : 'none';\n",
              "\n",
              "        async function convertToInteractive(key) {\n",
              "          const element = document.querySelector('#df-9a6fcfaa-e466-448c-8aff-43ccad548e55');\n",
              "          const dataTable =\n",
              "            await google.colab.kernel.invokeFunction('convertToInteractive',\n",
              "                                                     [key], {});\n",
              "          if (!dataTable) return;\n",
              "\n",
              "          const docLinkHtml = 'Like what you see? Visit the ' +\n",
              "            '<a target=\"_blank\" href=https://colab.research.google.com/notebooks/data_table.ipynb>data table notebook</a>'\n",
              "            + ' to learn more about interactive tables.';\n",
              "          element.innerHTML = '';\n",
              "          dataTable['output_type'] = 'display_data';\n",
              "          await google.colab.output.renderOutput(dataTable, element);\n",
              "          const docLink = document.createElement('div');\n",
              "          docLink.innerHTML = docLinkHtml;\n",
              "          element.appendChild(docLink);\n",
              "        }\n",
              "      </script>\n",
              "    </div>\n",
              "  </div>\n",
              "  "
            ]
          },
          "metadata": {},
          "execution_count": 27
        }
      ]
    },
    {
      "cell_type": "code",
      "source": [
        "\n",
        "plt.figure(figsize=(10,4))\n",
        "plt.scatter(X_d[:,0],X_d[:,1],c=y,cmap=\"plasma\")\n"
      ],
      "metadata": {
        "colab": {
          "base_uri": "https://localhost:8080/",
          "height": 282
        },
        "id": "XkXnbB6cbKPu",
        "outputId": "44c2bfc3-e72b-4a51-a61a-c6f7f30f8c17"
      },
      "execution_count": 28,
      "outputs": [
        {
          "output_type": "execute_result",
          "data": {
            "text/plain": [
              "<matplotlib.collections.PathCollection at 0x7f552d70bac0>"
            ]
          },
          "metadata": {},
          "execution_count": 28
        },
        {
          "output_type": "display_data",
          "data": {
            "text/plain": [
              "<Figure size 720x288 with 1 Axes>"
            ],
            "image/png": "[encoded data removed]"
          },
          "metadata": {
            "needs_background": "light"
          }
        }
      ]
    },
    {
      "cell_type": "code",
      "source": [
        "# Principal components correlation coefficients\n",
        "loadings = pca.components_\n",
        " \n",
        "# Number of features before PCA\n",
        "n_features = pca.n_features_\n",
        " \n",
        "# Feature names before PCA\n",
        "feature_names = X.columns\n",
        " \n",
        "# PC names\n",
        "pc_list = [f'PC{i}' for i in list(range(1, n_features + 1))]\n",
        " \n",
        "# Match PC names to loadings\n",
        "pc_loadings = dict(zip(pc_list, loadings))\n",
        " \n",
        "# Matrix of corr coefs between feature names and PCs\n",
        "loadings_df = pd.DataFrame.from_dict(pc_loadings)\n",
        "loadings_df['feature_names'] = feature_names\n",
        "loadings_df = loadings_df.set_index('feature_names')\n",
        "loadings_df"
      ],
      "metadata": {
        "colab": {
          "base_uri": "https://localhost:8080/",
          "height": 394
        },
        "id": "QaZwdpHGeD1r",
        "outputId": "c51f3748-f7c3-41d4-93b2-760ef8bae291"
      },
      "execution_count": 29,
      "outputs": [
        {
          "output_type": "execute_result",
          "data": {
            "text/plain": [
              "                           PC1       PC2\n",
              "feature_names                           \n",
              "Make                 -0.002225 -0.012656\n",
              "Model                 0.000673 -0.006307\n",
              "Style                -0.004311 -0.000182\n",
              "Distance              0.001230 -0.010955\n",
              "Engine_capacity(cm3) -0.003486  0.007302\n",
              "Fuel_type             0.015621  0.999456\n",
              "Transmission          0.999832 -0.015616\n",
              "Age                   0.007183  0.005641\n",
              "km_year              -0.001111  0.020788\n",
              "prestige             -0.000954  0.002423"
            ],
            "text/html": [
              "\n",
              "  <div id=\"df-cdb218ce-fa08-419f-a22c-6abfa6f65bb3\">\n",
              "    <div class=\"colab-df-container\">\n",
              "      <div>\n",
              "<style scoped>\n",
              "    .dataframe tbody tr th:only-of-type {\n",
              "        vertical-align: middle;\n",
              "    }\n",
              "\n",
              "    .dataframe tbody tr th {\n",
              "        vertical-align: top;\n",
              "    }\n",
              "\n",
              "    .dataframe thead th {\n",
              "        text-align: right;\n",
              "    }\n",
              "</style>\n",
              "<table border=\"1\" class=\"dataframe\">\n",
              "  <thead>\n",
              "    <tr style=\"text-align: right;\">\n",
              "      <th></th>\n",
              "      <th>PC1</th>\n",
              "      <th>PC2</th>\n",
              "    </tr>\n",
              "    <tr>\n",
              "      <th>feature_names</th>\n",
              "      <th></th>\n",
              "      <th></th>\n",
              "    </tr>\n",
              "  </thead>\n",
              "  <tbody>\n",
              "    <tr>\n",
              "      <th>Make</th>\n",
              "      <td>-0.002225</td>\n",
              "      <td>-0.012656</td>\n",
              "    </tr>\n",
              "    <tr>\n",
              "      <th>Model</th>\n",
              "      <td>0.000673</td>\n",
              "      <td>-0.006307</td>\n",
              "    </tr>\n",
              "    <tr>\n",
              "      <th>Style</th>\n",
              "      <td>-0.004311</td>\n",
              "      <td>-0.000182</td>\n",
              "    </tr>\n",
              "    <tr>\n",
              "      <th>Distance</th>\n",
              "      <td>0.001230</td>\n",
              "      <td>-0.010955</td>\n",
              "    </tr>\n",
              "    <tr>\n",
              "      <th>Engine_capacity(cm3)</th>\n",
              "      <td>-0.003486</td>\n",
              "      <td>0.007302</td>\n",
              "    </tr>\n",
              "    <tr>\n",
              "      <th>Fuel_type</th>\n",
              "      <td>0.015621</td>\n",
              "      <td>0.999456</td>\n",
              "    </tr>\n",
              "    <tr>\n",
              "      <th>Transmission</th>\n",
              "      <td>0.999832</td>\n",
              "      <td>-0.015616</td>\n",
              "    </tr>\n",
              "    <tr>\n",
              "      <th>Age</th>\n",
              "      <td>0.007183</td>\n",
              "      <td>0.005641</td>\n",
              "    </tr>\n",
              "    <tr>\n",
              "      <th>km_year</th>\n",
              "      <td>-0.001111</td>\n",
              "      <td>0.020788</td>\n",
              "    </tr>\n",
              "    <tr>\n",
              "      <th>prestige</th>\n",
              "      <td>-0.000954</td>\n",
              "      <td>0.002423</td>\n",
              "    </tr>\n",
              "  </tbody>\n",
              "</table>\n",
              "</div>\n",
              "      <button class=\"colab-df-convert\" onclick=\"convertToInteractive('df-cdb218ce-fa08-419f-a22c-6abfa6f65bb3')\"\n",
              "              title=\"Convert this dataframe to an interactive table.\"\n",
              "              style=\"display:none;\">\n",
              "        \n",
              "  <svg xmlns=\"http://www.w3.org/2000/svg\" height=\"24px\"viewBox=\"0 0 24 24\"\n",
              "       width=\"24px\">\n",
              "    <path d=\"M0 0h24v24H0V0z\" fill=\"none\"/>\n",
              "    <path d=\"M18.56 5.44l.94 2.06.94-2.06 2.06-.94-2.06-.94-.94-2.06-.94 2.06-2.06.94zm-11 1L8.5 8.5l.94-2.06 2.06-.94-2.06-.94L8.5 2.5l-.94 2.06-2.06.94zm10 10l.94 2.06.94-2.06 2.06-.94-2.06-.94-.94-2.06-.94 2.06-2.06.94z\"/><path d=\"M17.41 7.96l-1.37-1.37c-.4-.4-.92-.59-1.43-.59-.52 0-1.04.2-1.43.59L10.3 9.45l-7.72 7.72c-.78.78-.78 2.05 0 2.83L4 21.41c.39.39.9.59 1.41.59.51 0 1.02-.2 1.41-.59l7.78-7.78 2.81-2.81c.8-.78.8-2.07 0-2.86zM5.41 20L4 18.59l7.72-7.72 1.47 1.35L5.41 20z\"/>\n",
              "  </svg>\n",
              "      </button>\n",
              "      \n",
              "  <style>\n",
              "    .colab-df-container {\n",
              "      display:flex;\n",
              "      flex-wrap:wrap;\n",
              "      gap: 12px;\n",
              "    }\n",
              "\n",
              "    .colab-df-convert {\n",
              "      background-color: #E8F0FE;\n",
              "      border: none;\n",
              "      border-radius: 50%;\n",
              "      cursor: pointer;\n",
              "      display: none;\n",
              "      fill: #1967D2;\n",
              "      height: 32px;\n",
              "      padding: 0 0 0 0;\n",
              "      width: 32px;\n",
              "    }\n",
              "\n",
              "    .colab-df-convert:hover {\n",
              "      background-color: #E2EBFA;\n",
              "      box-shadow: 0px 1px 2px rgba(60, 64, 67, 0.3), 0px 1px 3px 1px rgba(60, 64, 67, 0.15);\n",
              "      fill: #174EA6;\n",
              "    }\n",
              "\n",
              "    [theme=dark] .colab-df-convert {\n",
              "      background-color: #3B4455;\n",
              "      fill: #D2E3FC;\n",
              "    }\n",
              "\n",
              "    [theme=dark] .colab-df-convert:hover {\n",
              "      background-color: #434B5C;\n",
              "      box-shadow: 0px 1px 3px 1px rgba(0, 0, 0, 0.15);\n",
              "      filter: drop-shadow(0px 1px 2px rgba(0, 0, 0, 0.3));\n",
              "      fill: #FFFFFF;\n",
              "    }\n",
              "  </style>\n",
              "\n",
              "      <script>\n",
              "        const buttonEl =\n",
              "          document.querySelector('#df-cdb218ce-fa08-419f-a22c-6abfa6f65bb3 button.colab-df-convert');\n",
              "        buttonEl.style.display =\n",
              "          google.colab.kernel.accessAllowed ? 'block' : 'none';\n",
              "\n",
              "        async function convertToInteractive(key) {\n",
              "          const element = document.querySelector('#df-cdb218ce-fa08-419f-a22c-6abfa6f65bb3');\n",
              "          const dataTable =\n",
              "            await google.colab.kernel.invokeFunction('convertToInteractive',\n",
              "                                                     [key], {});\n",
              "          if (!dataTable) return;\n",
              "\n",
              "          const docLinkHtml = 'Like what you see? Visit the ' +\n",
              "            '<a target=\"_blank\" href=https://colab.research.google.com/notebooks/data_table.ipynb>data table notebook</a>'\n",
              "            + ' to learn more about interactive tables.';\n",
              "          element.innerHTML = '';\n",
              "          dataTable['output_type'] = 'display_data';\n",
              "          await google.colab.output.renderOutput(dataTable, element);\n",
              "          const docLink = document.createElement('div');\n",
              "          docLink.innerHTML = docLinkHtml;\n",
              "          element.appendChild(docLink);\n",
              "        }\n",
              "      </script>\n",
              "    </div>\n",
              "  </div>\n",
              "  "
            ]
          },
          "metadata": {},
          "execution_count": 29
        }
      ]
    },
    {
      "cell_type": "code",
      "source": [
        "pca.components_.shape"
      ],
      "metadata": {
        "colab": {
          "base_uri": "https://localhost:8080/"
        },
        "id": "ZSXPxCt3avau",
        "outputId": "2eff752f-2de3-4532-d99b-e8277d32086f"
      },
      "execution_count": 30,
      "outputs": [
        {
          "output_type": "execute_result",
          "data": {
            "text/plain": [
              "(2, 10)"
            ]
          },
          "metadata": {},
          "execution_count": 30
        }
      ]
    },
    {
      "cell_type": "code",
      "source": [
        "pca_data=pd.DataFrame(pca.components_,columns=feature_names)\n",
        "plt.figure(figsize=(10,4))\n",
        "sns.heatmap(pca_data,cmap='plasma')"
      ],
      "metadata": {
        "colab": {
          "base_uri": "https://localhost:8080/",
          "height": 383
        },
        "id": "ITfFg6CgYk3o",
        "outputId": "a1d726de-55c7-4a24-d290-7754a1d7944c"
      },
      "execution_count": 29,
      "outputs": [
        {
          "output_type": "execute_result",
          "data": {
            "text/plain": [
              "<matplotlib.axes._subplots.AxesSubplot at 0x7f3da9c7ceb0>"
            ]
          },
          "metadata": {},
          "execution_count": 29
        },
        {
          "output_type": "display_data",
          "data": {
            "text/plain": [
              "<Figure size 720x288 with 2 Axes>"
            ],
            "image/png": "[encoded data removed]"
          },
          "metadata": {
            "needs_background": "light"
          }
        }
      ]
    },
    {
      "cell_type": "code",
      "source": [
        "def lineer_regersion(X, y, print_output=True):\n",
        "\n",
        "  X_train, X_test, y_train, y_test = train_test_split(X, y, test_size=0.25, random_state=42)\n",
        "\n",
        "  pca = PCA(n_components=2)\n",
        "\n",
        "  X_train=pipeline.fit_transform(X_train)\n",
        "  X_test=pipeline.transform(X_test)\n",
        "\n",
        "  pc_X_train = pca.fit_transform(X_train)\n",
        "  pc_X_test = pca.transform(X_test)\n",
        "\n",
        "  regr = LinearRegression()\n",
        "  regr.fit(X_train, y_train)\n",
        "\n",
        "  y_preds = regr.predict(X_test)\n",
        "  R2=r2_score(y_test, y_preds)\n",
        "    \n",
        "  return R2"
      ],
      "metadata": {
        "id": "kWF-ua8CgHkn"
      },
      "execution_count": 31,
      "outputs": []
    },
    {
      "cell_type": "code",
      "source": [
        "lineer_regersion(X,y)"
      ],
      "metadata": {
        "colab": {
          "base_uri": "https://localhost:8080/"
        },
        "id": "xttI3E1GVfjI",
        "outputId": "58da9f84-05ef-4e11-bf72-b590ff3de8d3"
      },
      "execution_count": 32,
      "outputs": [
        {
          "output_type": "execute_result",
          "data": {
            "text/plain": [
              "0.5889841541981506"
            ]
          },
          "metadata": {},
          "execution_count": 32
        }
      ]
    },
    {
      "cell_type": "code",
      "source": [
        "import warnings\n",
        "warnings.filterwarnings('ignore')\n",
        "from sklearn.model_selection import cross_validate\n",
        "n_components = 2\n",
        "pipe_pca = Pipeline([\n",
        "    ('cat_encoder_', OrdinalEncoder(cols=categorical_features)),\n",
        "    ('poly_featurizer_', PolynomialFeatures(degree=1)),\n",
        "     ('scaler_', StandardScaler()),\n",
        "    ('selector_', PCA(n_components=n_components)), \n",
        "    ('model_', LinearRegression() )])\n",
        "\n",
        "cv_res5 = cross_validate(pipe_pca, X, y, cv=5, scoring='r2', return_train_score=True)\n",
        "cv_res5"
      ],
      "metadata": {
        "colab": {
          "base_uri": "https://localhost:8080/"
        },
        "id": "1MQDzhJOhzHX",
        "outputId": "354e6854-6e54-434d-82e8-8aa956af5c33"
      },
      "execution_count": 33,
      "outputs": [
        {
          "output_type": "execute_result",
          "data": {
            "text/plain": [
              "{'fit_time': array([0.2611897 , 0.23327398, 0.22434402, 0.20944667, 0.24686933]),\n",
              " 'score_time': array([0.03614068, 0.02993584, 0.05674338, 0.02967906, 0.06384492]),\n",
              " 'test_score': array([0.57405383, 0.49395271, 0.53282743, 0.49912256, 0.52459527]),\n",
              " 'train_score': array([0.52819348, 0.53802818, 0.53281677, 0.53796063, 0.53173387])}"
            ]
          },
          "metadata": {},
          "execution_count": 33
        }
      ]
    },
    {
      "cell_type": "code",
      "source": [
        "cv_res5['test_score'].mean()"
      ],
      "metadata": {
        "colab": {
          "base_uri": "https://localhost:8080/"
        },
        "id": "DsYVG_tsjWk6",
        "outputId": "8e4f55f5-5a85-4110-e1c7-019d53c17567"
      },
      "execution_count": 34,
      "outputs": [
        {
          "output_type": "execute_result",
          "data": {
            "text/plain": [
              "0.5249103577367578"
            ]
          },
          "metadata": {},
          "execution_count": 34
        }
      ]
    },
    {
      "cell_type": "markdown",
      "source": [
        "Для простых моделей тренировочная и валидационная ошибка находятся где-то рядом, и они велики. Это говорит о том, что модель недообучилась: то есть она не имеет достаточное кол-во параметров."
      ],
      "metadata": {
        "id": "xnH5grf2oRtI"
      }
    },
    {
      "cell_type": "markdown",
      "source": [
        " для небольшого объема данных ошибки на обучающей выборке и в процессе кросс-валидации довольно сильно отличаются, что указывает на переобучение. Для той же модели, но с большим объемом данных ошибки \"сходятся\", что указывается на недообучение."
      ],
      "metadata": {
        "id": "IZtUVQaGoQUI"
      }
    },
    {
      "cell_type": "code",
      "source": [
        "def Polynom_regersion(X, y, n,print_output=True):\n",
        "\n",
        "  X_train, X_test, y_train, y_test = train_test_split(X, y, test_size=0.25, random_state=42)\n",
        "\n",
        "  pca = PCA(n_components=n)\n",
        "\n",
        "  X_train=preprocessor_pipeline.fit_transform(X_train)\n",
        "  X_test=preprocessor_pipeline.transform(X_test)\n",
        "\n",
        "  pc_X_train = pca.fit_transform(X_train)\n",
        "  pc_X_test = pca.transform(X_test)\n",
        "\n",
        "  regr = LinearRegression()\n",
        "  regr.fit(X_train, y_train)\n",
        "\n",
        "  y_preds = regr.predict(X_test)\n",
        "  R2=r2_score(y_test, y_preds)\n",
        "    \n",
        "  return R2"
      ],
      "metadata": {
        "id": "Ut8p3z5Ruhl-"
      },
      "execution_count": 35,
      "outputs": []
    },
    {
      "cell_type": "code",
      "source": [
        "numerical_transformer = Pipeline([('scaler',StandardScaler()),\n",
        "                                  ('poly_featurizer_', PolynomialFeatures(degree=2))])\n",
        "\n",
        "ct = ColumnTransformer([('num_transformer', numerical_transformer, numerical_features),\n",
        "                          ('encoder', OrdinalEncoder(), categorical_features)\n",
        "                         ])\n",
        "pipeline=Pipeline([('column_transformer', ct)])"
      ],
      "metadata": {
        "id": "c0Z-AB9M0TGN"
      },
      "execution_count": 36,
      "outputs": []
    },
    {
      "cell_type": "code",
      "source": [
        "X_new=pipeline.fit_transform(X)\n",
        "X_new.shape"
      ],
      "metadata": {
        "colab": {
          "base_uri": "https://localhost:8080/"
        },
        "id": "QaH10v0G2ERT",
        "outputId": "c153690c-fff8-4024-8100-59c06b8d10ab"
      },
      "execution_count": 37,
      "outputs": [
        {
          "output_type": "execute_result",
          "data": {
            "text/plain": [
              "(32074, 26)"
            ]
          },
          "metadata": {},
          "execution_count": 37
        }
      ]
    },
    {
      "cell_type": "code",
      "source": [
        "X_new=pipeline.fit_transform(X)\n",
        "pca=PCA(n_components=26)\n",
        "pca.fit(X_new)\n",
        "scree_plot(pca)"
      ],
      "metadata": {
        "colab": {
          "base_uri": "https://localhost:8080/",
          "height": 404
        },
        "id": "nwTClhoy1wdH",
        "outputId": "164fa6c0-9b14-4f25-fcd1-04950f333774"
      },
      "execution_count": 38,
      "outputs": [
        {
          "output_type": "display_data",
          "data": {
            "text/plain": [
              "<Figure size 1440x432 with 1 Axes>"
            ],
            "image/png": "[encoded data removed]"
          },
          "metadata": {
            "needs_background": "light"
          }
        }
      ]
    },
    {
      "cell_type": "code",
      "source": [
        "pca = PCA().fit(X_new)\n",
        "n_components = get_pca_components(pca, 0.95)"
      ],
      "metadata": {
        "id": "phycKbpQ4XBg"
      },
      "execution_count": 39,
      "outputs": []
    },
    {
      "cell_type": "code",
      "source": [
        "n_components"
      ],
      "metadata": {
        "colab": {
          "base_uri": "https://localhost:8080/"
        },
        "id": "VmvVP5A2DJcG",
        "outputId": "36bf8356-b9f4-4aab-f1d7-f49298e6299d"
      },
      "execution_count": 40,
      "outputs": [
        {
          "output_type": "execute_result",
          "data": {
            "text/plain": [
              "2"
            ]
          },
          "metadata": {},
          "execution_count": 40
        }
      ]
    },
    {
      "cell_type": "code",
      "source": [
        "Polynom_regersion(X,y,2)"
      ],
      "metadata": {
        "colab": {
          "base_uri": "https://localhost:8080/"
        },
        "id": "eVuEeeDs4Pww",
        "outputId": "79d71af0-6092-4b8d-8902-c9f8e9a37ae8"
      },
      "execution_count": 41,
      "outputs": [
        {
          "output_type": "execute_result",
          "data": {
            "text/plain": [
              "0.7458317695804152"
            ]
          },
          "metadata": {},
          "execution_count": 41
        }
      ]
    },
    {
      "cell_type": "code",
      "source": [
        "n_components = 2\n",
        "pipe_pca = Pipeline([('column_transformer', ct),\n",
        "                     ('selector_', PCA(n_components=n_components)),\n",
        "                     ('linear_regression', LinearRegression() ) \n",
        "     ])\n",
        "\n",
        "cv_res5 = cross_validate(pipe_pca, X, y, cv=5, scoring='r2', return_train_score=True)\n",
        "cv_res5"
      ],
      "metadata": {
        "colab": {
          "base_uri": "https://localhost:8080/"
        },
        "id": "Kq50GQKkvjT6",
        "outputId": "5c78befc-f7be-430b-abeb-b3a17ea46a31"
      },
      "execution_count": 42,
      "outputs": [
        {
          "output_type": "execute_result",
          "data": {
            "text/plain": [
              "{'fit_time': array([0.23453021, 0.34929371, 0.32319236, 0.27783346, 0.28522134]),\n",
              " 'score_time': array([0.03453207, 0.07092714, 0.07157135, 0.05826092, 0.03556371]),\n",
              " 'test_score': array([-0.01849939, -0.03772789,  0.00464732, -0.02323078, -0.01826108]),\n",
              " 'train_score': array([0.01207137, 0.01008185, 0.00954747, 0.01120135, 0.00809332])}"
            ]
          },
          "metadata": {},
          "execution_count": 42
        }
      ]
    },
    {
      "cell_type": "code",
      "source": [
        "cv_res5['test_score'].mean()"
      ],
      "metadata": {
        "colab": {
          "base_uri": "https://localhost:8080/"
        },
        "id": "1QLBuPTAwbBP",
        "outputId": "53af5052-4981-47f8-c1bc-86ea0678218b"
      },
      "execution_count": 43,
      "outputs": [
        {
          "output_type": "execute_result",
          "data": {
            "text/plain": [
              "-0.018614365078603833"
            ]
          },
          "metadata": {},
          "execution_count": 43
        }
      ]
    },
    {
      "cell_type": "code",
      "source": [
        "\n",
        "n_component = [2,4,6,9,12,15,18]\n",
        "\n",
        "r2_score1=[]\n",
        "for num in n_component:\n",
        "  degree=num\n",
        "  pipe_pca = Pipeline([('column_transformer', ct),\n",
        "                     ('selector_', PCA(n_components=degree)),\n",
        "                     ('linear_regression', LinearRegression() ) \n",
        "     ])\n",
        "  cv_res5 = cross_validate(pipe_pca, X, y, cv=5, scoring='r2', return_train_score=True)\n",
        "  r2_score1.append(cv_res5[\"test_score\"].mean())"
      ],
      "metadata": {
        "id": "kv4SRdy1EQN7"
      },
      "execution_count": 44,
      "outputs": []
    },
    {
      "cell_type": "code",
      "source": [
        "r2_score1"
      ],
      "metadata": {
        "colab": {
          "base_uri": "https://localhost:8080/"
        },
        "id": "an2LCOxPFlJ7",
        "outputId": "deeae284-89bf-4886-ccb5-284c755cb770"
      },
      "execution_count": 45,
      "outputs": [
        {
          "output_type": "execute_result",
          "data": {
            "text/plain": [
              "[-0.018614365078603767,\n",
              " 0.10684681069069639,\n",
              " 0.12575688451633832,\n",
              " 0.5530258136410902,\n",
              " 0.6841858291284015,\n",
              " 0.7197063751845565,\n",
              " 0.7199888057600313]"
            ]
          },
          "metadata": {},
          "execution_count": 45
        }
      ]
    },
    {
      "cell_type": "code",
      "source": [
        "plt.scatter(n_component,r2_score1, color=\"green\")\n",
        "plt.plot(n_component,r2_score1, color=\"red\") \n",
        "plt.title('R_score',fontsize=20)\n",
        "plt.show()\n",
        "     "
      ],
      "metadata": {
        "colab": {
          "base_uri": "https://localhost:8080/",
          "height": 285
        },
        "id": "dchgJ4QOwf6p",
        "outputId": "0aa8b7fa-9d3e-492b-b211-dcd44aa92259"
      },
      "execution_count": 46,
      "outputs": [
        {
          "output_type": "display_data",
          "data": {
            "text/plain": [
              "<Figure size 432x288 with 1 Axes>"
            ],
            "image/png": "[encoded data removed]"
          },
          "metadata": {
            "needs_background": "light"
          }
        }
      ]
    },
    {
      "cell_type": "code",
      "source": [
        "Polynom_regersion(X,y,16)"
      ],
      "metadata": {
        "colab": {
          "base_uri": "https://localhost:8080/"
        },
        "id": "zMc8lQxxKOdV",
        "outputId": "d92cd177-58fb-43cb-f1ce-299118b65198"
      },
      "execution_count": 47,
      "outputs": [
        {
          "output_type": "execute_result",
          "data": {
            "text/plain": [
              "0.7458317695804152"
            ]
          },
          "metadata": {},
          "execution_count": 47
        }
      ]
    },
    {
      "cell_type": "code",
      "source": [
        "numerical_transformer = Pipeline([('scaler',StandardScaler()),\n",
        "                                  ('poly_featurizer_', PolynomialFeatures(degree=4))])\n",
        "\n",
        "ct = ColumnTransformer([('num_transformer', numerical_transformer, numerical_features),\n",
        "                          ('encoder', OrdinalEncoder(), categorical_features)\n",
        "                         ])\n",
        "pipeline=Pipeline([('column_transformer', ct)])"
      ],
      "metadata": {
        "id": "1kYERKd1YMPu"
      },
      "execution_count": 53,
      "outputs": []
    },
    {
      "cell_type": "code",
      "source": [
        "def Polynom_regersion(X, y, n,print_output=True):\n",
        "\n",
        "  X_train, X_test, y_train, y_test = train_test_split(X, y, test_size=0.25, random_state=42)\n",
        "\n",
        "  pca = PCA(n_components=n)\n",
        "\n",
        "  X_train=pipeline.fit_transform(X_train)\n",
        "  X_test=pipeline.transform(X_test)\n",
        "\n",
        "  pc_X_train = pca.fit_transform(X_train)\n",
        "  pc_X_test = pca.transform(X_test)\n",
        "\n",
        "  regr = LinearRegression()\n",
        "  regr.fit(X_train, y_train)\n",
        "\n",
        "  y_preds = regr.predict(X_test)\n",
        "  R2=r2_score(y_test, y_preds)\n",
        "    \n",
        "  return R2"
      ],
      "metadata": {
        "id": "dkmPj-YmX8y8"
      },
      "execution_count": 54,
      "outputs": []
    },
    {
      "cell_type": "code",
      "source": [
        "\n",
        "X_new=pipeline.fit_transform(X)\n",
        "display(X_new.shape)\n"
      ],
      "metadata": {
        "colab": {
          "base_uri": "https://localhost:8080/",
          "height": 34
        },
        "id": "SMZYhmA2KTBj",
        "outputId": "fef0faf3-b14c-471b-b00d-0b0ad2dd301a"
      },
      "execution_count": 55,
      "outputs": [
        {
          "output_type": "display_data",
          "data": {
            "text/plain": [
              "(32074, 131)"
            ]
          },
          "metadata": {}
        }
      ]
    },
    {
      "cell_type": "code",
      "source": [
        "X_new=pipeline.fit_transform(X)\n",
        "pca=PCA(n_components=131)\n",
        "pca.fit(X_new)\n",
        "plt.figure(figsize=(20,10))\n",
        "scree_plot(pca)"
      ],
      "metadata": {
        "colab": {
          "base_uri": "https://localhost:8080/",
          "height": 421
        },
        "id": "aIXidor7Kl9n",
        "outputId": "c8458f5d-f4e7-4e38-a540-401adc222bf6"
      },
      "execution_count": 56,
      "outputs": [
        {
          "output_type": "display_data",
          "data": {
            "text/plain": [
              "<Figure size 1440x720 with 0 Axes>"
            ]
          },
          "metadata": {}
        },
        {
          "output_type": "display_data",
          "data": {
            "text/plain": [
              "<Figure size 1440x432 with 1 Axes>"
            ],
            "image/png": "[encoded data removed]"
          },
          "metadata": {
            "needs_background": "light"
          }
        }
      ]
    },
    {
      "cell_type": "code",
      "source": [
        "pca = PCA().fit(X_new)\n",
        "n_components = get_pca_components(pca, 0.95)"
      ],
      "metadata": {
        "id": "Xxl8HWlUKqks"
      },
      "execution_count": 57,
      "outputs": []
    },
    {
      "cell_type": "code",
      "source": [
        "n_components"
      ],
      "metadata": {
        "colab": {
          "base_uri": "https://localhost:8080/"
        },
        "id": "U-fd7eV0KudV",
        "outputId": "98480416-c35d-4a13-d711-f43fdd1e2b2f"
      },
      "execution_count": 58,
      "outputs": [
        {
          "output_type": "execute_result",
          "data": {
            "text/plain": [
              "16"
            ]
          },
          "metadata": {},
          "execution_count": 58
        }
      ]
    },
    {
      "cell_type": "code",
      "source": [
        "Polynom_regersion(X,y,16)"
      ],
      "metadata": {
        "colab": {
          "base_uri": "https://localhost:8080/"
        },
        "id": "aqI5g2j2K0Ol",
        "outputId": "caf8e3b6-91d7-4fae-f74a-c81ad8308ce8"
      },
      "execution_count": 59,
      "outputs": [
        {
          "output_type": "execute_result",
          "data": {
            "text/plain": [
              "0.8019709189643669"
            ]
          },
          "metadata": {},
          "execution_count": 59
        }
      ]
    },
    {
      "cell_type": "code",
      "source": [
        "\n",
        "n_component = [16,18,23,27,30,35,40,45,50,55,60]\n",
        "\n",
        "r2_score1=[]\n",
        "for num in n_component:\n",
        "  degree=num\n",
        "  pipe_pca = Pipeline([('column_transformer', ct),\n",
        "                     ('selector_', PCA(n_components=degree)),\n",
        "                     ('linear_regression', LinearRegression() ) \n",
        "     ])\n",
        "  cv_res5 = cross_validate(pipe_pca, X, y, cv=5, scoring='r2', return_train_score=True)\n",
        "  r2_score1.append(cv_res5[\"test_score\"].mean())"
      ],
      "metadata": {
        "id": "ShtUMkfNK49p"
      },
      "execution_count": 60,
      "outputs": []
    },
    {
      "cell_type": "code",
      "source": [
        "plt.scatter(n_component,r2_score1, color=\"green\")\n",
        "plt.plot(n_component,r2_score1, color=\"red\") \n",
        "plt.title('R_score',fontsize=20)\n",
        "plt.show()\n",
        "     "
      ],
      "metadata": {
        "colab": {
          "base_uri": "https://localhost:8080/",
          "height": 285
        },
        "id": "TScLGM_HLHE0",
        "outputId": "656e525c-9907-48de-ec90-270a060f84d6"
      },
      "execution_count": 61,
      "outputs": [
        {
          "output_type": "display_data",
          "data": {
            "text/plain": [
              "<Figure size 432x288 with 1 Axes>"
            ],
            "image/png": "[encoded data removed]"
          },
          "metadata": {
            "needs_background": "light"
          }
        }
      ]
    },
    {
      "cell_type": "code",
      "source": [
        "Polynom_regersion(X,y,60)"
      ],
      "metadata": {
        "colab": {
          "base_uri": "https://localhost:8080/"
        },
        "id": "LpI59NrdL2PN",
        "outputId": "3f1e7371-f388-45f5-8eaa-7d7efa17257b"
      },
      "execution_count": 62,
      "outputs": [
        {
          "output_type": "execute_result",
          "data": {
            "text/plain": [
              "0.8019709189643669"
            ]
          },
          "metadata": {},
          "execution_count": 62
        }
      ]
    },
    {
      "cell_type": "code",
      "source": [],
      "metadata": {
        "id": "68yFsyU2Owtg"
      },
      "execution_count": null,
      "outputs": []
    }
  ]
}